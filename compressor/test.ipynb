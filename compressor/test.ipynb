{
 "cells": [
  {
   "cell_type": "code",
   "execution_count": 7,
   "metadata": {},
   "outputs": [],
   "source": [
    "import json\n",
    "import numpy as np\n",
    "from Bio import SeqIO\n",
    "import math\n",
    "import random\n",
    "\n",
    "# Load dictionary that maps k-mer to their corresponding index.\n",
    "# A k-mer and its reverse complement are mapped to the same index.\n",
    "\n",
    "\n",
    "with open(\"/home/zhenhao/bucket-map/seed_selection/index/9-mers.json\", 'r') as dict_file:\n",
    "    canonical_kmer_dict = json.load(dict_file)\n",
    "\n",
    "# We define a utility function here that turns sequences to their 9-mer profiles.\n",
    "\n",
    "def sequence_to_kmer_profile(sequence : str, k : int = 9, dtype=bool):\n",
    "    \"\"\"\n",
    "    Return the k-mer profile of the input sequence (string)\n",
    "    \"\"\"\n",
    "    res = np.zeros(len(set(canonical_kmer_dict.values())), dtype=dtype)\n",
    "    for i in range(len(sequence) - k + 1):\n",
    "        k_mer = sequence[i:i + k]\n",
    "        if k_mer in canonical_kmer_dict:\n",
    "            res[canonical_kmer_dict[k_mer]] = 1\n",
    "\n",
    "    return res\n",
    "\n",
    "def read_buckets_from_file(sequence_file_name : str, bucket_len : int, overlap_len : int):\n",
    "    \"\"\"\n",
    "    Read the DNA sequence and store the sequences in buckets.\n",
    "    \"\"\"\n",
    "    res = []\n",
    "\n",
    "    for record in SeqIO.parse(sequence_file_name, \"fasta\"):\n",
    "        record_sequence = str(record.seq)\n",
    "\n",
    "        # Split the sequences into buckets\n",
    "        num_buckets = math.ceil(len(record_sequence) / bucket_len)\n",
    "        for i in range(num_buckets):\n",
    "            bucket_sequence = record_sequence[i*bucket_len : (i+1)*bucket_len + overlap_len]\n",
    "            res.append(sequence_to_kmer_profile(bucket_sequence))\n",
    "\n",
    "    return res\n",
    "\n"
   ]
  },
  {
   "cell_type": "code",
   "execution_count": 8,
   "metadata": {},
   "outputs": [],
   "source": [
    "bucket_len = 65536\n",
    "overlap_len = 300\n",
    "\n",
    "buckets_1 = read_buckets_from_file(\"../data/485870.fna\", bucket_len, overlap_len)\n",
    "buckets_2 = read_buckets_from_file(\"../data/2745495.fna\", bucket_len, overlap_len)"
   ]
  },
  {
   "cell_type": "code",
   "execution_count": 19,
   "metadata": {},
   "outputs": [],
   "source": [
    "sim = []\n",
    "for i in range(len(buckets_1)):\n",
    "    for j in range(len(buckets_2)):\n",
    "        sim.append((buckets_1[i] & buckets_2[j]).sum())"
   ]
  },
  {
   "cell_type": "code",
   "execution_count": 21,
   "metadata": {},
   "outputs": [
    {
     "data": {
      "text/plain": [
       "27257"
      ]
     },
     "execution_count": 21,
     "metadata": {},
     "output_type": "execute_result"
    }
   ],
   "source": [
    "max(sim)"
   ]
  },
  {
   "cell_type": "code",
   "execution_count": 22,
   "metadata": {},
   "outputs": [
    {
     "data": {
      "text/plain": [
       "{'whiskers': [<matplotlib.lines.Line2D at 0x7efbf5b20070>,\n",
       "  <matplotlib.lines.Line2D at 0x7efbf5b20310>],\n",
       " 'caps': [<matplotlib.lines.Line2D at 0x7efbf5b205b0>,\n",
       "  <matplotlib.lines.Line2D at 0x7efbf5b20850>],\n",
       " 'boxes': [<matplotlib.lines.Line2D at 0x7efbf5acbd90>],\n",
       " 'medians': [<matplotlib.lines.Line2D at 0x7efbf5b20af0>],\n",
       " 'fliers': [<matplotlib.lines.Line2D at 0x7efbf5b20d90>],\n",
       " 'means': []}"
      ]
     },
     "execution_count": 22,
     "metadata": {},
     "output_type": "execute_result"
    },
    {
     "data": {
      "image/png": "[encoded data removed]",
      "text/plain": [
       "<Figure size 640x480 with 1 Axes>"
      ]
     },
     "metadata": {},
     "output_type": "display_data"
    }
   ],
   "source": [
    "import matplotlib.pyplot as plt\n",
    "\n",
    "plt.boxplot(sim)"
   ]
  },
  {
   "cell_type": "code",
   "execution_count": null,
   "metadata": {},
   "outputs": [],
   "source": [
    "cluster1 = []\n",
    "\n",
    "\n",
    "with open(\"../data/clusters.out\") as c:\n",
    "    mummers = c.readlines()\n",
    "    for m in mummers:\n",
    "        if m[0] == '#':\n",
    "            # New cluster"
   ]
  }
 ],
 "metadata": {
  "kernelspec": {
   "display_name": "Python 3",
   "language": "python",
   "name": "python3"
  },
  "language_info": {
   "codemirror_mode": {
    "name": "ipython",
    "version": 3
   },
   "file_extension": ".py",
   "mimetype": "text/x-python",
   "name": "python",
   "nbconvert_exporter": "python",
   "pygments_lexer": "ipython3",
   "version": "3.10.12"
  }
 },
 "nbformat": 4,
 "nbformat_minor": 2
}
