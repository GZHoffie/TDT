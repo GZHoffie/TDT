{
 "cells": [
  {
   "cell_type": "code",
   "execution_count": 18,
   "metadata": {},
   "outputs": [],
   "source": [
    "import sys\n",
    "\n",
    "sys.path.append(\"/home/zhenhao/TDT\")"
   ]
  },
  {
   "cell_type": "code",
   "execution_count": 19,
   "metadata": {},
   "outputs": [],
   "source": [
    "import compressor.utils"
   ]
  },
  {
   "cell_type": "code",
   "execution_count": 20,
   "metadata": {},
   "outputs": [
    {
     "name": "stdout",
     "output_type": "stream",
     "text": [
      "[INFO]\t\tSeed length set to 12, estimated vocabulary size 8388608.\n"
     ]
    }
   ],
   "source": [
    "import glob\n",
    "\n",
    "def fracMinHash(kmer_hash):\n",
    "    hash = (976369 * kmer_hash + 1982627) % 10000\n",
    "    if hash <= 500:\n",
    "        return True\n",
    "    else:\n",
    "        return False\n",
    "        \n",
    "sg = compressor.utils.FMHSignature(fracMinHash, 12, 12, \"/home/zhenhao/TDT/12-mer.pkl\")\n",
    "#signature, storage = sg._find_consensus_in_genus(glob.glob(\"/home/zhenhao/TDT/data/escherichia/*.fna\"))"
   ]
  },
  {
   "cell_type": "code",
   "execution_count": 11,
   "metadata": {},
   "outputs": [],
   "source": [
    "import numpy as np\n",
    "\n",
    "pairwise_ANI = np.zeros((len(storage), len(storage)))\n",
    "\n",
    "for i in range(len(storage)):\n",
    "    for j in range(i, len(storage)):\n",
    "        jaccard_index = (storage[i] & storage[j]).sum() / (storage[i] | storage[j]).sum()\n",
    "        pairwise_ANI[i][j] = pairwise_ANI[j][i] = jaccard_index"
   ]
  },
  {
   "cell_type": "code",
   "execution_count": 15,
   "metadata": {},
   "outputs": [
    {
     "data": {
      "text/plain": [
       "(array([  730.,   394., 19646.,  3618.,  2870.,  1652.,  2280.,  2354.,\n",
       "          226.,   455.]),\n",
       " array([0.26702465, 0.34032219, 0.41361972, 0.48691726, 0.56021479,\n",
       "        0.63351233, 0.70680986, 0.7801074 , 0.85340493, 0.92670247,\n",
       "        1.        ]),\n",
       " <BarContainer object of 10 artists>)"
      ]
     },
     "execution_count": 15,
     "metadata": {},
     "output_type": "execute_result"
    },
    {
     "data": {
      "image/png": "[encoded data removed]",
      "text/plain": [
       "<Figure size 640x480 with 1 Axes>"
      ]
     },
     "metadata": {},
     "output_type": "display_data"
    }
   ],
   "source": [
    "plt.hist(pairwise_ANI.flatten())"
   ]
  },
  {
   "cell_type": "code",
   "execution_count": 23,
   "metadata": {},
   "outputs": [
    {
     "data": {
      "text/plain": [
       "185"
      ]
     },
     "execution_count": 23,
     "metadata": {},
     "output_type": "execute_result"
    }
   ],
   "source": [
    "len(storage)"
   ]
  },
  {
   "cell_type": "code",
   "execution_count": 17,
   "metadata": {},
   "outputs": [
    {
     "data": {
      "text/plain": [
       "0.41859629747937094"
      ]
     },
     "execution_count": 17,
     "metadata": {},
     "output_type": "execute_result"
    }
   ],
   "source": [
    "import matplotlib.pyplot as plt\n",
    "\n",
    "plt.hist(signature)"
   ]
  },
  {
   "cell_type": "code",
   "execution_count": 22,
   "metadata": {},
   "outputs": [
    {
     "data": {
      "text/plain": [
       "3289"
      ]
     },
     "execution_count": 22,
     "metadata": {},
     "output_type": "execute_result"
    }
   ],
   "source": [
    "(signature > 80).sum()"
   ]
  },
  {
   "cell_type": "code",
   "execution_count": 25,
   "metadata": {},
   "outputs": [],
   "source": [
    "genus_signature = (signature > 80)"
   ]
  },
  {
   "cell_type": "code",
   "execution_count": 24,
   "metadata": {},
   "outputs": [],
   "source": [
    "import pickle\n",
    "with open(\"escherichia.pkl\", \"wb\") as f:\n",
    "    pickle.dump(storage, f)"
   ]
  },
  {
   "cell_type": "code",
   "execution_count": 26,
   "metadata": {},
   "outputs": [],
   "source": [
    "coverage = []\n",
    "\n",
    "for i in storage:\n",
    "    coverage.append((i & genus_signature).sum() / genus_signature.sum())"
   ]
  },
  {
   "cell_type": "code",
   "execution_count": 28,
   "metadata": {},
   "outputs": [
    {
     "data": {
      "text/plain": [
       "{'whiskers': [<matplotlib.lines.Line2D at 0x7fd0e24715a0>,\n",
       "  <matplotlib.lines.Line2D at 0x7fd0e2471840>],\n",
       " 'caps': [<matplotlib.lines.Line2D at 0x7fd0e2471ae0>,\n",
       "  <matplotlib.lines.Line2D at 0x7fd0e2471d80>],\n",
       " 'boxes': [<matplotlib.lines.Line2D at 0x7fd0e2471300>],\n",
       " 'medians': [<matplotlib.lines.Line2D at 0x7fd0e2472020>],\n",
       " 'fliers': [<matplotlib.lines.Line2D at 0x7fd0e24722c0>],\n",
       " 'means': []}"
      ]
     },
     "execution_count": 28,
     "metadata": {},
     "output_type": "execute_result"
    },
    {
     "data": {
      "image/png": "[encoded data removed]",
      "text/plain": [
       "<Figure size 640x480 with 1 Axes>"
      ]
     },
     "metadata": {},
     "output_type": "display_data"
    }
   ],
   "source": [
    "plt.boxplot(coverage)"
   ]
  },
  {
   "cell_type": "code",
   "execution_count": 29,
   "metadata": {},
   "outputs": [
    {
     "name": "stderr",
     "output_type": "stream",
     "text": [
      "  1%|          | 1/98 [00:01<02:48,  1.74s/it]"
     ]
    },
    {
     "name": "stdout",
     "output_type": "stream",
     "text": [
      "[0 0 1 ... 1 1 1] 1940\n"
     ]
    },
    {
     "name": "stderr",
     "output_type": "stream",
     "text": [
      "  2%|▏         | 2/98 [00:03<02:47,  1.75s/it]"
     ]
    },
    {
     "name": "stdout",
     "output_type": "stream",
     "text": [
      "[0 1 1 ... 1 1 1] 1971\n"
     ]
    },
    {
     "name": "stderr",
     "output_type": "stream",
     "text": [
      "  3%|▎         | 3/98 [00:05<02:43,  1.72s/it]"
     ]
    },
    {
     "name": "stdout",
     "output_type": "stream",
     "text": [
      "[0 1 0 ... 0 0 1] 1686\n"
     ]
    },
    {
     "name": "stderr",
     "output_type": "stream",
     "text": [
      "  4%|▍         | 4/98 [00:07<02:59,  1.91s/it]"
     ]
    },
    {
     "name": "stdout",
     "output_type": "stream",
     "text": [
      "[1 1 0 ... 1 1 1] 1871\n"
     ]
    },
    {
     "name": "stderr",
     "output_type": "stream",
     "text": [
      "  5%|▌         | 5/98 [00:09<02:54,  1.87s/it]"
     ]
    },
    {
     "name": "stdout",
     "output_type": "stream",
     "text": [
      "[0 1 1 ... 0 1 1] 1830\n"
     ]
    },
    {
     "name": "stderr",
     "output_type": "stream",
     "text": [
      "  6%|▌         | 6/98 [00:10<02:46,  1.81s/it]"
     ]
    },
    {
     "name": "stdout",
     "output_type": "stream",
     "text": [
      "[0 1 0 ... 1 1 1] 1670\n"
     ]
    },
    {
     "name": "stderr",
     "output_type": "stream",
     "text": [
      "  7%|▋         | 7/98 [00:12<02:44,  1.81s/it]"
     ]
    },
    {
     "name": "stdout",
     "output_type": "stream",
     "text": [
      "[0 1 0 ... 1 0 1] 1879\n"
     ]
    },
    {
     "name": "stderr",
     "output_type": "stream",
     "text": [
      "  8%|▊         | 8/98 [00:14<02:39,  1.77s/it]"
     ]
    },
    {
     "name": "stdout",
     "output_type": "stream",
     "text": [
      "[0 1 0 ... 1 0 1] 1720\n"
     ]
    },
    {
     "name": "stderr",
     "output_type": "stream",
     "text": [
      "  9%|▉         | 9/98 [00:16<02:42,  1.83s/it]"
     ]
    },
    {
     "name": "stdout",
     "output_type": "stream",
     "text": [
      "[0 1 1 ... 1 1 1] 1822\n"
     ]
    },
    {
     "name": "stderr",
     "output_type": "stream",
     "text": [
      " 10%|█         | 10/98 [00:18<03:00,  2.05s/it]"
     ]
    },
    {
     "name": "stdout",
     "output_type": "stream",
     "text": [
      "[0 1 0 ... 1 0 1] 1858\n"
     ]
    },
    {
     "name": "stderr",
     "output_type": "stream",
     "text": [
      " 11%|█         | 11/98 [00:20<02:59,  2.07s/it]"
     ]
    },
    {
     "name": "stdout",
     "output_type": "stream",
     "text": [
      "[0 1 0 ... 1 1 1] 1829\n"
     ]
    },
    {
     "name": "stderr",
     "output_type": "stream",
     "text": [
      " 12%|█▏        | 12/98 [00:23<03:02,  2.12s/it]"
     ]
    },
    {
     "name": "stdout",
     "output_type": "stream",
     "text": [
      "[0 0 1 ... 1 0 1] 1872\n"
     ]
    },
    {
     "name": "stderr",
     "output_type": "stream",
     "text": [
      " 13%|█▎        | 13/98 [00:25<03:02,  2.14s/it]"
     ]
    },
    {
     "name": "stdout",
     "output_type": "stream",
     "text": [
      "[1 0 0 ... 0 1 0] 1850\n"
     ]
    },
    {
     "name": "stderr",
     "output_type": "stream",
     "text": [
      " 14%|█▍        | 14/98 [00:27<03:07,  2.23s/it]"
     ]
    },
    {
     "name": "stdout",
     "output_type": "stream",
     "text": [
      "[0 0 1 ... 1 1 0] 1653\n"
     ]
    },
    {
     "name": "stderr",
     "output_type": "stream",
     "text": [
      " 15%|█▌        | 15/98 [00:30<03:07,  2.26s/it]"
     ]
    },
    {
     "name": "stdout",
     "output_type": "stream",
     "text": [
      "[0 1 0 ... 1 0 1] 1881\n"
     ]
    },
    {
     "name": "stderr",
     "output_type": "stream",
     "text": [
      " 16%|█▋        | 16/98 [00:32<03:02,  2.23s/it]"
     ]
    },
    {
     "name": "stdout",
     "output_type": "stream",
     "text": [
      "[0 0 1 ... 1 0 1] 1977\n"
     ]
    },
    {
     "name": "stderr",
     "output_type": "stream",
     "text": [
      " 17%|█▋        | 17/98 [00:34<02:58,  2.21s/it]"
     ]
    },
    {
     "name": "stdout",
     "output_type": "stream",
     "text": [
      "[0 0 0 ... 1 0 1] 1804\n"
     ]
    },
    {
     "name": "stderr",
     "output_type": "stream",
     "text": [
      " 18%|█▊        | 18/98 [00:36<02:46,  2.08s/it]"
     ]
    },
    {
     "name": "stdout",
     "output_type": "stream",
     "text": [
      "[0 1 0 ... 0 1 1] 1550\n"
     ]
    },
    {
     "name": "stderr",
     "output_type": "stream",
     "text": [
      " 19%|█▉        | 19/98 [00:38<02:45,  2.09s/it]"
     ]
    },
    {
     "name": "stdout",
     "output_type": "stream",
     "text": [
      "[0 0 0 ... 1 0 1] 1735\n"
     ]
    },
    {
     "name": "stderr",
     "output_type": "stream",
     "text": [
      " 20%|██        | 20/98 [00:40<02:43,  2.09s/it]"
     ]
    },
    {
     "name": "stdout",
     "output_type": "stream",
     "text": [
      "[0 1 0 ... 0 0 1] 1844\n"
     ]
    },
    {
     "name": "stderr",
     "output_type": "stream",
     "text": [
      " 21%|██▏       | 21/98 [00:42<02:42,  2.11s/it]"
     ]
    },
    {
     "name": "stdout",
     "output_type": "stream",
     "text": [
      "[0 1 0 ... 1 1 1] 1869\n"
     ]
    },
    {
     "name": "stderr",
     "output_type": "stream",
     "text": [
      " 22%|██▏       | 22/98 [00:45<02:50,  2.24s/it]"
     ]
    },
    {
     "name": "stdout",
     "output_type": "stream",
     "text": [
      "[1 1 1 ... 1 0 1] 1929\n"
     ]
    },
    {
     "name": "stderr",
     "output_type": "stream",
     "text": [
      " 23%|██▎       | 23/98 [00:46<02:35,  2.07s/it]"
     ]
    },
    {
     "name": "stdout",
     "output_type": "stream",
     "text": [
      "[0 1 0 ... 1 0 1] 1704\n"
     ]
    },
    {
     "name": "stderr",
     "output_type": "stream",
     "text": [
      " 24%|██▍       | 24/98 [00:48<02:32,  2.06s/it]"
     ]
    },
    {
     "name": "stdout",
     "output_type": "stream",
     "text": [
      "[0 1 1 ... 1 0 1] 1829\n"
     ]
    },
    {
     "name": "stderr",
     "output_type": "stream",
     "text": [
      " 26%|██▌       | 25/98 [00:50<02:27,  2.02s/it]"
     ]
    },
    {
     "name": "stdout",
     "output_type": "stream",
     "text": [
      "[0 1 0 ... 0 0 1] 1830\n"
     ]
    },
    {
     "name": "stderr",
     "output_type": "stream",
     "text": [
      " 27%|██▋       | 26/98 [00:52<02:28,  2.06s/it]"
     ]
    },
    {
     "name": "stdout",
     "output_type": "stream",
     "text": [
      "[0 0 1 ... 1 0 1] 1954\n"
     ]
    },
    {
     "name": "stderr",
     "output_type": "stream",
     "text": [
      " 28%|██▊       | 27/98 [00:54<02:23,  2.02s/it]"
     ]
    },
    {
     "name": "stdout",
     "output_type": "stream",
     "text": [
      "[0 0 0 ... 0 1 1] 1930\n"
     ]
    },
    {
     "name": "stderr",
     "output_type": "stream",
     "text": [
      " 29%|██▊       | 28/98 [00:56<02:04,  1.78s/it]"
     ]
    },
    {
     "name": "stdout",
     "output_type": "stream",
     "text": [
      "[0 1 0 ... 0 1 1] 1251\n"
     ]
    },
    {
     "name": "stderr",
     "output_type": "stream",
     "text": [
      " 30%|██▉       | 29/98 [00:58<02:07,  1.84s/it]"
     ]
    },
    {
     "name": "stdout",
     "output_type": "stream",
     "text": [
      "[0 1 0 ... 1 0 1] 1757\n"
     ]
    },
    {
     "name": "stderr",
     "output_type": "stream",
     "text": [
      " 31%|███       | 30/98 [01:00<02:08,  1.89s/it]"
     ]
    },
    {
     "name": "stdout",
     "output_type": "stream",
     "text": [
      "[0 1 1 ... 0 1 1] 1783\n"
     ]
    },
    {
     "name": "stderr",
     "output_type": "stream",
     "text": [
      " 32%|███▏      | 31/98 [01:02<02:16,  2.04s/it]"
     ]
    },
    {
     "name": "stdout",
     "output_type": "stream",
     "text": [
      "[0 0 0 ... 1 1 1] 1722\n"
     ]
    },
    {
     "name": "stderr",
     "output_type": "stream",
     "text": [
      " 33%|███▎      | 32/98 [01:04<02:14,  2.04s/it]"
     ]
    },
    {
     "name": "stdout",
     "output_type": "stream",
     "text": [
      "[0 1 1 ... 0 1 1] 1764\n"
     ]
    },
    {
     "name": "stderr",
     "output_type": "stream",
     "text": [
      " 34%|███▎      | 33/98 [01:07<02:22,  2.19s/it]"
     ]
    },
    {
     "name": "stdout",
     "output_type": "stream",
     "text": [
      "[1 0 0 ... 0 1 0] 1645\n"
     ]
    },
    {
     "name": "stderr",
     "output_type": "stream",
     "text": [
      " 35%|███▍      | 34/98 [01:09<02:27,  2.30s/it]"
     ]
    },
    {
     "name": "stdout",
     "output_type": "stream",
     "text": [
      "[0 1 1 ... 0 1 1] 1924\n"
     ]
    },
    {
     "name": "stderr",
     "output_type": "stream",
     "text": [
      " 36%|███▌      | 35/98 [01:12<02:27,  2.34s/it]"
     ]
    },
    {
     "name": "stdout",
     "output_type": "stream",
     "text": [
      "[0 1 1 ... 1 1 1] 1989\n"
     ]
    },
    {
     "name": "stderr",
     "output_type": "stream",
     "text": [
      " 37%|███▋      | 36/98 [01:14<02:18,  2.23s/it]"
     ]
    },
    {
     "name": "stdout",
     "output_type": "stream",
     "text": [
      "[0 0 0 ... 1 1 1] 1792\n"
     ]
    },
    {
     "name": "stderr",
     "output_type": "stream",
     "text": [
      " 38%|███▊      | 37/98 [01:16<02:17,  2.25s/it]"
     ]
    },
    {
     "name": "stdout",
     "output_type": "stream",
     "text": [
      "[1 0 1 ... 1 1 1] 1930\n"
     ]
    },
    {
     "name": "stderr",
     "output_type": "stream",
     "text": [
      " 39%|███▉      | 38/98 [01:18<02:12,  2.20s/it]"
     ]
    },
    {
     "name": "stdout",
     "output_type": "stream",
     "text": [
      "[0 1 1 ... 0 1 1] 1826\n"
     ]
    },
    {
     "name": "stderr",
     "output_type": "stream",
     "text": [
      " 40%|███▉      | 39/98 [01:20<02:07,  2.17s/it]"
     ]
    },
    {
     "name": "stdout",
     "output_type": "stream",
     "text": [
      "[0 1 0 ... 1 0 1] 1728\n"
     ]
    },
    {
     "name": "stderr",
     "output_type": "stream",
     "text": [
      " 41%|████      | 40/98 [01:22<02:02,  2.12s/it]"
     ]
    },
    {
     "name": "stdout",
     "output_type": "stream",
     "text": [
      "[0 0 1 ... 0 1 1] 1906\n"
     ]
    },
    {
     "name": "stderr",
     "output_type": "stream",
     "text": [
      " 42%|████▏     | 41/98 [01:24<02:02,  2.14s/it]"
     ]
    },
    {
     "name": "stdout",
     "output_type": "stream",
     "text": [
      "[0 1 0 ... 1 1 1] 1862\n"
     ]
    },
    {
     "name": "stderr",
     "output_type": "stream",
     "text": [
      " 43%|████▎     | 42/98 [01:26<01:58,  2.12s/it]"
     ]
    },
    {
     "name": "stdout",
     "output_type": "stream",
     "text": [
      "[0 1 1 ... 0 1 1] 1807\n"
     ]
    },
    {
     "name": "stderr",
     "output_type": "stream",
     "text": [
      " 44%|████▍     | 43/98 [01:28<01:51,  2.03s/it]"
     ]
    },
    {
     "name": "stdout",
     "output_type": "stream",
     "text": [
      "[1 1 0 ... 1 1 1] 1508\n"
     ]
    },
    {
     "name": "stderr",
     "output_type": "stream",
     "text": [
      " 45%|████▍     | 44/98 [01:30<01:50,  2.04s/it]"
     ]
    },
    {
     "name": "stdout",
     "output_type": "stream",
     "text": [
      "[0 1 1 ... 0 1 1] 1812\n"
     ]
    },
    {
     "name": "stderr",
     "output_type": "stream",
     "text": [
      " 46%|████▌     | 45/98 [01:32<01:49,  2.06s/it]"
     ]
    },
    {
     "name": "stdout",
     "output_type": "stream",
     "text": [
      "[0 1 0 ... 0 1 0] 1863\n"
     ]
    },
    {
     "name": "stderr",
     "output_type": "stream",
     "text": [
      " 47%|████▋     | 46/98 [01:35<01:52,  2.16s/it]"
     ]
    },
    {
     "name": "stdout",
     "output_type": "stream",
     "text": [
      "[0 1 0 ... 1 0 1] 1881\n"
     ]
    },
    {
     "name": "stderr",
     "output_type": "stream",
     "text": [
      " 48%|████▊     | 47/98 [01:37<01:51,  2.19s/it]"
     ]
    },
    {
     "name": "stdout",
     "output_type": "stream",
     "text": [
      "[0 0 1 ... 1 1 1] 1853\n"
     ]
    },
    {
     "name": "stderr",
     "output_type": "stream",
     "text": [
      " 49%|████▉     | 48/98 [01:40<01:55,  2.32s/it]"
     ]
    },
    {
     "name": "stdout",
     "output_type": "stream",
     "text": [
      "[0 0 0 ... 1 0 1] 1836\n"
     ]
    },
    {
     "name": "stderr",
     "output_type": "stream",
     "text": [
      " 50%|█████     | 49/98 [01:42<01:56,  2.38s/it]"
     ]
    },
    {
     "name": "stdout",
     "output_type": "stream",
     "text": [
      "[0 1 1 ... 0 1 1] 1813\n"
     ]
    },
    {
     "name": "stderr",
     "output_type": "stream",
     "text": [
      " 51%|█████     | 50/98 [01:44<01:48,  2.25s/it]"
     ]
    },
    {
     "name": "stdout",
     "output_type": "stream",
     "text": [
      "[0 0 0 ... 1 1 1] 1714\n"
     ]
    },
    {
     "name": "stderr",
     "output_type": "stream",
     "text": [
      " 52%|█████▏    | 51/98 [01:46<01:46,  2.26s/it]"
     ]
    },
    {
     "name": "stdout",
     "output_type": "stream",
     "text": [
      "[0 1 1 ... 1 1 0] 1919\n"
     ]
    },
    {
     "name": "stderr",
     "output_type": "stream",
     "text": [
      " 53%|█████▎    | 52/98 [01:49<01:43,  2.25s/it]"
     ]
    },
    {
     "name": "stdout",
     "output_type": "stream",
     "text": [
      "[0 1 1 ... 0 1 1] 1823\n"
     ]
    },
    {
     "name": "stderr",
     "output_type": "stream",
     "text": [
      " 54%|█████▍    | 53/98 [01:51<01:44,  2.32s/it]"
     ]
    },
    {
     "name": "stdout",
     "output_type": "stream",
     "text": [
      "[0 1 1 ... 0 1 1] 1832\n"
     ]
    },
    {
     "name": "stderr",
     "output_type": "stream",
     "text": [
      " 55%|█████▌    | 54/98 [01:53<01:41,  2.31s/it]"
     ]
    },
    {
     "name": "stdout",
     "output_type": "stream",
     "text": [
      "[0 1 0 ... 1 0 1] 1720\n"
     ]
    },
    {
     "name": "stderr",
     "output_type": "stream",
     "text": [
      " 56%|█████▌    | 55/98 [01:56<01:41,  2.36s/it]"
     ]
    },
    {
     "name": "stdout",
     "output_type": "stream",
     "text": [
      "[0 0 1 ... 1 0 1] 1932\n"
     ]
    },
    {
     "name": "stderr",
     "output_type": "stream",
     "text": [
      " 57%|█████▋    | 56/98 [01:58<01:39,  2.36s/it]"
     ]
    },
    {
     "name": "stdout",
     "output_type": "stream",
     "text": [
      "[0 1 1 ... 1 1 1] 1900\n"
     ]
    },
    {
     "name": "stderr",
     "output_type": "stream",
     "text": [
      " 58%|█████▊    | 57/98 [02:01<01:39,  2.43s/it]"
     ]
    },
    {
     "name": "stdout",
     "output_type": "stream",
     "text": [
      "[0 1 0 ... 1 0 1] 1916\n"
     ]
    },
    {
     "name": "stderr",
     "output_type": "stream",
     "text": [
      " 59%|█████▉    | 58/98 [02:03<01:32,  2.31s/it]"
     ]
    },
    {
     "name": "stdout",
     "output_type": "stream",
     "text": [
      "[0 0 1 ... 1 1 1] 1761\n"
     ]
    },
    {
     "name": "stderr",
     "output_type": "stream",
     "text": [
      " 60%|██████    | 59/98 [02:05<01:33,  2.39s/it]"
     ]
    },
    {
     "name": "stdout",
     "output_type": "stream",
     "text": [
      "[1 1 1 ... 1 0 1] 1932\n"
     ]
    },
    {
     "name": "stderr",
     "output_type": "stream",
     "text": [
      " 61%|██████    | 60/98 [02:07<01:26,  2.28s/it]"
     ]
    },
    {
     "name": "stdout",
     "output_type": "stream",
     "text": [
      "[0 0 1 ... 1 1 0] 1649\n"
     ]
    },
    {
     "name": "stderr",
     "output_type": "stream",
     "text": [
      " 62%|██████▏   | 61/98 [02:09<01:21,  2.21s/it]"
     ]
    },
    {
     "name": "stdout",
     "output_type": "stream",
     "text": [
      "[0 1 0 ... 1 0 1] 1740\n"
     ]
    },
    {
     "name": "stderr",
     "output_type": "stream",
     "text": [
      " 63%|██████▎   | 62/98 [02:12<01:18,  2.19s/it]"
     ]
    },
    {
     "name": "stdout",
     "output_type": "stream",
     "text": [
      "[0 1 1 ... 0 1 1] 1759\n"
     ]
    },
    {
     "name": "stderr",
     "output_type": "stream",
     "text": [
      " 64%|██████▍   | 63/98 [02:13<01:09,  2.00s/it]"
     ]
    },
    {
     "name": "stdout",
     "output_type": "stream",
     "text": [
      "[0 0 1 ... 0 1 1] 1122\n"
     ]
    },
    {
     "name": "stderr",
     "output_type": "stream",
     "text": [
      " 65%|██████▌   | 64/98 [02:16<01:12,  2.14s/it]"
     ]
    },
    {
     "name": "stdout",
     "output_type": "stream",
     "text": [
      "[0 1 0 ... 1 0 1] 1810\n"
     ]
    },
    {
     "name": "stderr",
     "output_type": "stream",
     "text": [
      " 66%|██████▋   | 65/98 [02:18<01:11,  2.17s/it]"
     ]
    },
    {
     "name": "stdout",
     "output_type": "stream",
     "text": [
      "[0 0 0 ... 1 0 1] 2020\n"
     ]
    },
    {
     "name": "stderr",
     "output_type": "stream",
     "text": [
      " 67%|██████▋   | 66/98 [02:20<01:11,  2.23s/it]"
     ]
    },
    {
     "name": "stdout",
     "output_type": "stream",
     "text": [
      "[0 0 1 ... 0 1 1] 1927\n"
     ]
    },
    {
     "name": "stderr",
     "output_type": "stream",
     "text": [
      " 68%|██████▊   | 67/98 [02:22<01:05,  2.10s/it]"
     ]
    },
    {
     "name": "stdout",
     "output_type": "stream",
     "text": [
      "[0 0 0 ... 1 1 1] 1544\n"
     ]
    },
    {
     "name": "stderr",
     "output_type": "stream",
     "text": [
      " 69%|██████▉   | 68/98 [02:24<01:04,  2.14s/it]"
     ]
    },
    {
     "name": "stdout",
     "output_type": "stream",
     "text": [
      "[0 1 0 ... 1 1 1] 1671\n"
     ]
    },
    {
     "name": "stderr",
     "output_type": "stream",
     "text": [
      " 70%|███████   | 69/98 [02:26<01:03,  2.18s/it]"
     ]
    },
    {
     "name": "stdout",
     "output_type": "stream",
     "text": [
      "[0 1 1 ... 1 0 1] 1831\n"
     ]
    },
    {
     "name": "stderr",
     "output_type": "stream",
     "text": [
      " 71%|███████▏  | 70/98 [02:28<00:58,  2.11s/it]"
     ]
    },
    {
     "name": "stdout",
     "output_type": "stream",
     "text": [
      "[0 0 1 ... 1 1 1] 1821\n"
     ]
    },
    {
     "name": "stderr",
     "output_type": "stream",
     "text": [
      " 72%|███████▏  | 71/98 [02:31<00:59,  2.19s/it]"
     ]
    },
    {
     "name": "stdout",
     "output_type": "stream",
     "text": [
      "[0 1 0 ... 1 1 1] 1944\n"
     ]
    },
    {
     "name": "stderr",
     "output_type": "stream",
     "text": [
      " 73%|███████▎  | 72/98 [02:33<00:57,  2.20s/it]"
     ]
    },
    {
     "name": "stdout",
     "output_type": "stream",
     "text": [
      "[0 0 1 ... 0 0 1] 1981\n"
     ]
    },
    {
     "name": "stderr",
     "output_type": "stream",
     "text": [
      " 74%|███████▍  | 73/98 [02:35<00:54,  2.17s/it]"
     ]
    },
    {
     "name": "stdout",
     "output_type": "stream",
     "text": [
      "[0 0 1 ... 1 1 0] 1656\n"
     ]
    },
    {
     "name": "stderr",
     "output_type": "stream",
     "text": [
      " 76%|███████▌  | 74/98 [02:37<00:52,  2.20s/it]"
     ]
    },
    {
     "name": "stdout",
     "output_type": "stream",
     "text": [
      "[1 1 1 ... 1 0 1] 1845\n"
     ]
    },
    {
     "name": "stderr",
     "output_type": "stream",
     "text": [
      " 77%|███████▋  | 75/98 [02:39<00:48,  2.12s/it]"
     ]
    },
    {
     "name": "stdout",
     "output_type": "stream",
     "text": [
      "[0 0 0 ... 1 1 1] 1716\n"
     ]
    },
    {
     "name": "stderr",
     "output_type": "stream",
     "text": [
      " 78%|███████▊  | 76/98 [02:42<00:48,  2.22s/it]"
     ]
    },
    {
     "name": "stdout",
     "output_type": "stream",
     "text": [
      "[1 0 0 ... 0 1 1] 1828\n"
     ]
    },
    {
     "name": "stderr",
     "output_type": "stream",
     "text": [
      " 79%|███████▊  | 77/98 [02:44<00:43,  2.07s/it]"
     ]
    },
    {
     "name": "stdout",
     "output_type": "stream",
     "text": [
      "[0 1 1 ... 1 1 1] 1519\n"
     ]
    },
    {
     "name": "stderr",
     "output_type": "stream",
     "text": [
      " 80%|███████▉  | 78/98 [02:46<00:44,  2.23s/it]"
     ]
    },
    {
     "name": "stdout",
     "output_type": "stream",
     "text": [
      "[0 1 1 ... 1 0 1] 1941\n"
     ]
    },
    {
     "name": "stderr",
     "output_type": "stream",
     "text": [
      " 81%|████████  | 79/98 [02:48<00:41,  2.19s/it]"
     ]
    },
    {
     "name": "stdout",
     "output_type": "stream",
     "text": [
      "[0 0 1 ... 1 1 0] 1629\n"
     ]
    },
    {
     "name": "stderr",
     "output_type": "stream",
     "text": [
      " 82%|████████▏ | 80/98 [02:50<00:38,  2.14s/it]"
     ]
    },
    {
     "name": "stdout",
     "output_type": "stream",
     "text": [
      "[0 1 1 ... 0 1 1] 1785\n"
     ]
    },
    {
     "name": "stderr",
     "output_type": "stream",
     "text": [
      " 83%|████████▎ | 81/98 [02:52<00:35,  2.09s/it]"
     ]
    },
    {
     "name": "stdout",
     "output_type": "stream",
     "text": [
      "[0 1 0 ... 1 0 1] 1699\n"
     ]
    },
    {
     "name": "stderr",
     "output_type": "stream",
     "text": [
      " 84%|████████▎ | 82/98 [02:54<00:33,  2.07s/it]"
     ]
    },
    {
     "name": "stdout",
     "output_type": "stream",
     "text": [
      "[0 0 1 ... 0 1 1] 1943\n"
     ]
    },
    {
     "name": "stderr",
     "output_type": "stream",
     "text": [
      " 85%|████████▍ | 83/98 [02:57<00:33,  2.22s/it]"
     ]
    },
    {
     "name": "stdout",
     "output_type": "stream",
     "text": [
      "[0 1 0 ... 1 0 1] 1825\n"
     ]
    },
    {
     "name": "stderr",
     "output_type": "stream",
     "text": [
      " 86%|████████▌ | 84/98 [02:59<00:30,  2.17s/it]"
     ]
    },
    {
     "name": "stdout",
     "output_type": "stream",
     "text": [
      "[0 0 0 ... 1 0 1] 1805\n"
     ]
    },
    {
     "name": "stderr",
     "output_type": "stream",
     "text": [
      " 87%|████████▋ | 85/98 [03:01<00:27,  2.10s/it]"
     ]
    },
    {
     "name": "stdout",
     "output_type": "stream",
     "text": [
      "[0 1 0 ... 1 1 1] 1722\n"
     ]
    },
    {
     "name": "stderr",
     "output_type": "stream",
     "text": [
      " 88%|████████▊ | 86/98 [03:03<00:26,  2.18s/it]"
     ]
    },
    {
     "name": "stdout",
     "output_type": "stream",
     "text": [
      "[0 0 1 ... 0 1 1] 2121\n"
     ]
    },
    {
     "name": "stderr",
     "output_type": "stream",
     "text": [
      " 89%|████████▉ | 87/98 [03:06<00:25,  2.30s/it]"
     ]
    },
    {
     "name": "stdout",
     "output_type": "stream",
     "text": [
      "[0 1 1 ... 1 0 1] 1958\n"
     ]
    },
    {
     "name": "stderr",
     "output_type": "stream",
     "text": [
      " 90%|████████▉ | 88/98 [03:08<00:22,  2.25s/it]"
     ]
    },
    {
     "name": "stdout",
     "output_type": "stream",
     "text": [
      "[0 1 0 ... 0 0 1] 1676\n"
     ]
    },
    {
     "name": "stderr",
     "output_type": "stream",
     "text": [
      " 91%|█████████ | 89/98 [03:10<00:20,  2.22s/it]"
     ]
    },
    {
     "name": "stdout",
     "output_type": "stream",
     "text": [
      "[0 0 0 ... 1 1 1] 1802\n"
     ]
    },
    {
     "name": "stderr",
     "output_type": "stream",
     "text": [
      " 92%|█████████▏| 90/98 [03:12<00:17,  2.14s/it]"
     ]
    },
    {
     "name": "stdout",
     "output_type": "stream",
     "text": [
      "[0 1 0 ... 0 1 1] 1765\n"
     ]
    },
    {
     "name": "stderr",
     "output_type": "stream",
     "text": [
      " 93%|█████████▎| 91/98 [03:14<00:14,  2.04s/it]"
     ]
    },
    {
     "name": "stdout",
     "output_type": "stream",
     "text": [
      "[0 0 0 ... 0 1 1] 1572\n"
     ]
    },
    {
     "name": "stderr",
     "output_type": "stream",
     "text": [
      " 94%|█████████▍| 92/98 [03:16<00:12,  2.07s/it]"
     ]
    },
    {
     "name": "stdout",
     "output_type": "stream",
     "text": [
      "[0 0 0 ... 1 0 1] 1852\n"
     ]
    },
    {
     "name": "stderr",
     "output_type": "stream",
     "text": [
      " 95%|█████████▍| 93/98 [03:18<00:11,  2.22s/it]"
     ]
    },
    {
     "name": "stdout",
     "output_type": "stream",
     "text": [
      "[0 1 1 ... 0 1 0] 1937\n"
     ]
    },
    {
     "name": "stderr",
     "output_type": "stream",
     "text": [
      " 96%|█████████▌| 94/98 [03:20<00:08,  2.11s/it]"
     ]
    },
    {
     "name": "stdout",
     "output_type": "stream",
     "text": [
      "[0 0 1 ... 1 1 0] 1775\n"
     ]
    },
    {
     "name": "stderr",
     "output_type": "stream",
     "text": [
      " 97%|█████████▋| 95/98 [03:23<00:06,  2.17s/it]"
     ]
    },
    {
     "name": "stdout",
     "output_type": "stream",
     "text": [
      "[0 1 0 ... 1 1 1] 1969\n"
     ]
    },
    {
     "name": "stderr",
     "output_type": "stream",
     "text": [
      " 98%|█████████▊| 96/98 [03:25<00:04,  2.14s/it]"
     ]
    },
    {
     "name": "stdout",
     "output_type": "stream",
     "text": [
      "[0 1 0 ... 0 0 1] 1756\n"
     ]
    },
    {
     "name": "stderr",
     "output_type": "stream",
     "text": [
      " 99%|█████████▉| 97/98 [03:27<00:02,  2.18s/it]"
     ]
    },
    {
     "name": "stdout",
     "output_type": "stream",
     "text": [
      "[0 1 1 ... 1 1 0] 1912\n"
     ]
    },
    {
     "name": "stderr",
     "output_type": "stream",
     "text": [
      "100%|██████████| 98/98 [03:29<00:00,  2.14s/it]"
     ]
    },
    {
     "name": "stdout",
     "output_type": "stream",
     "text": [
      "[1 1 0 ... 0 1 1] 1773\n"
     ]
    },
    {
     "name": "stderr",
     "output_type": "stream",
     "text": [
      "\n"
     ]
    }
   ],
   "source": [
    "signature, storage = sg._find_consensus_in_genus(glob.glob(\"/home/zhenhao/TDT/data/staphylococcus/*.fna\"))"
   ]
  },
  {
   "cell_type": "code",
   "execution_count": 60,
   "metadata": {},
   "outputs": [],
   "source": [
    "staphylococcus_signature = (signature >= 20)"
   ]
  },
  {
   "cell_type": "code",
   "execution_count": 61,
   "metadata": {},
   "outputs": [
    {
     "data": {
      "text/plain": [
       "3083"
      ]
     },
     "execution_count": 61,
     "metadata": {},
     "output_type": "execute_result"
    }
   ],
   "source": [
    "staphylococcus_signature.sum()"
   ]
  },
  {
   "cell_type": "code",
   "execution_count": 34,
   "metadata": {},
   "outputs": [],
   "source": [
    "with open(\"escherichia.pkl\", \"rb\") as f:\n",
    "    es_storage = pickle.load(f)"
   ]
  },
  {
   "cell_type": "code",
   "execution_count": 38,
   "metadata": {},
   "outputs": [],
   "source": [
    "escherichia_signature = np.zeros(len(es_storage[0]), dtype=np.int16)\n",
    "for i in es_storage:\n",
    "    escherichia_signature += i\n",
    "\n",
    "escherichia_signature = (escherichia_signature > 80)"
   ]
  },
  {
   "cell_type": "code",
   "execution_count": 62,
   "metadata": {},
   "outputs": [
    {
     "data": {
      "text/plain": [
       "1440"
      ]
     },
     "execution_count": 62,
     "metadata": {},
     "output_type": "execute_result"
    }
   ],
   "source": [
    "(escherichia_signature & staphylococcus_signature).sum()"
   ]
  },
  {
   "cell_type": "code",
   "execution_count": 63,
   "metadata": {},
   "outputs": [
    {
     "data": {
      "text/plain": [
       "3083"
      ]
     },
     "execution_count": 63,
     "metadata": {},
     "output_type": "execute_result"
    }
   ],
   "source": [
    "staphylococcus_signature.sum()"
   ]
  },
  {
   "cell_type": "code",
   "execution_count": 43,
   "metadata": {},
   "outputs": [
    {
     "data": {
      "text/plain": [
       "3289"
      ]
     },
     "execution_count": 43,
     "metadata": {},
     "output_type": "execute_result"
    }
   ],
   "source": [
    "escherichia_signature.sum()"
   ]
  },
  {
   "cell_type": "code",
   "execution_count": 69,
   "metadata": {},
   "outputs": [],
   "source": [
    "coverage = []\n",
    "\n",
    "for i in range(len(storage)):\n",
    "    coverage.append((storage[i] & staphylococcus_signature).sum() / storage[i].sum())"
   ]
  },
  {
   "cell_type": "code",
   "execution_count": 70,
   "metadata": {},
   "outputs": [
    {
     "data": {
      "text/plain": [
       "{'whiskers': [<matplotlib.lines.Line2D at 0x7fd0e23cbfa0>,\n",
       "  <matplotlib.lines.Line2D at 0x7fd0e23b8280>],\n",
       " 'caps': [<matplotlib.lines.Line2D at 0x7fd0e23b8520>,\n",
       "  <matplotlib.lines.Line2D at 0x7fd0e23b87c0>],\n",
       " 'boxes': [<matplotlib.lines.Line2D at 0x7fd0e23cbd00>],\n",
       " 'medians': [<matplotlib.lines.Line2D at 0x7fd0e23b8a60>],\n",
       " 'fliers': [<matplotlib.lines.Line2D at 0x7fd0e23b8d00>],\n",
       " 'means': []}"
      ]
     },
     "execution_count": 70,
     "metadata": {},
     "output_type": "execute_result"
    },
    {
     "data": {
      "image/png": "[encoded data removed]",
      "text/plain": [
       "<Figure size 640x480 with 1 Axes>"
      ]
     },
     "metadata": {},
     "output_type": "display_data"
    }
   ],
   "source": [
    "plt.boxplot(coverage)"
   ]
  },
  {
   "cell_type": "code",
   "execution_count": 46,
   "metadata": {},
   "outputs": [
    {
     "data": {
      "text/plain": [
       "1017"
      ]
     },
     "execution_count": 46,
     "metadata": {},
     "output_type": "execute_result"
    }
   ],
   "source": [
    "(es_storage[0] & staphylococcus_signature).sum()"
   ]
  },
  {
   "cell_type": "code",
   "execution_count": 71,
   "metadata": {},
   "outputs": [
    {
     "name": "stdout",
     "output_type": "stream",
     "text": [
      "1393\n",
      "2799\n"
     ]
    }
   ],
   "source": [
    "print((es_storage[10] & staphylococcus_signature).sum())\n",
    "print((es_storage[10] & escherichia_signature).sum())"
   ]
  },
  {
   "cell_type": "code",
   "execution_count": 72,
   "metadata": {},
   "outputs": [
    {
     "name": "stdout",
     "output_type": "stream",
     "text": [
      "1334\n",
      "858\n"
     ]
    }
   ],
   "source": [
    "print((storage[10] & staphylococcus_signature).sum())\n",
    "print((storage[10] & escherichia_signature).sum())"
   ]
  },
  {
   "cell_type": "code",
   "execution_count": null,
   "metadata": {},
   "outputs": [],
   "source": []
  },
  {
   "cell_type": "markdown",
   "metadata": {},
   "source": [
    "## Try doing classification"
   ]
  },
  {
   "cell_type": "code",
   "execution_count": 1,
   "metadata": {},
   "outputs": [],
   "source": [
    "import pickle\n",
    "\n",
    "with open(\"/home/zhenhao/TDT/signature.pkl\", \"rb\") as f:\n",
    "    signatures = pickle.load(f)"
   ]
  },
  {
   "cell_type": "code",
   "execution_count": 2,
   "metadata": {},
   "outputs": [
    {
     "data": {
      "text/plain": [
       "[(84107.0, array([0, 1, 1, ..., 4, 7, 4], dtype=int16)),\n",
       " (1300.0, array([ 9, 10,  3, ..., 27, 28, 25], dtype=int16)),\n",
       " (2005525.0, array([ 5, 17,  9, ..., 29, 24, 26], dtype=int16)),\n",
       " (171550.0, array([ 3,  7,  5, ..., 20, 22, 17], dtype=int16)),\n",
       " (1843491.0, array([ 6,  9,  8, ..., 37, 36, 39], dtype=int16)),\n",
       " (2810280.0, array([17, 21, 21, ..., 45, 56, 45], dtype=int16)),\n",
       " (2810281.0, array([ 6,  4,  3, ...,  4, 10,  8], dtype=int16)),\n",
       " (815.0, array([11, 34,  9, ..., 41, 38, 35], dtype=int16)),\n",
       " (1853231.0, array([29, 25,  6, ..., 32, 32, 32], dtype=int16)),\n",
       " (1643824.0, array([ 0,  0,  0, ...,  5, 25,  7], dtype=int16)),\n",
       " (1643826.0, array([ 1,  0, 12, ..., 10, 15, 11], dtype=int16)),\n",
       " (186803.0, array([15, 21,  8, ..., 75, 75, 66], dtype=int16)),\n",
       " (186804.0, array([ 7,  7,  3, ..., 13, 14, 13], dtype=int16)),\n",
       " (128827.0, array([13, 19, 14, ..., 49, 51, 39], dtype=int16)),\n",
       " (31953.0, array([3, 1, 0, ..., 9, 7, 9], dtype=int16)),\n",
       " (31977.0, array([11,  8,  8, ..., 24, 41, 31], dtype=int16)),\n",
       " (909930.0, array([ 3,  2, 10, ..., 27, 19, 26], dtype=int16)),\n",
       " (31979.0, array([28, 39, 19, ..., 64, 67, 65], dtype=int16)),\n",
       " (194924.0, array([29, 28, 49, ..., 58, 45, 64], dtype=int16)),\n",
       " (1647988.0, array([ 1,  6,  1, ..., 33, 30, 27], dtype=int16)),\n",
       " (216572.0, array([ 5, 14,  5, ..., 48, 44, 38], dtype=int16))]"
      ]
     },
     "execution_count": 2,
     "metadata": {},
     "output_type": "execute_result"
    }
   ],
   "source": [
    "signatures"
   ]
  },
  {
   "cell_type": "code",
   "execution_count": 7,
   "metadata": {},
   "outputs": [
    {
     "data": {
      "text/plain": [
       "419209"
      ]
     },
     "execution_count": 7,
     "metadata": {},
     "output_type": "execute_result"
    }
   ],
   "source": [
    "len(signatures[0][1])"
   ]
  },
  {
   "cell_type": "code",
   "execution_count": 12,
   "metadata": {},
   "outputs": [
    {
     "data": {
      "text/plain": [
       "<Axes: ylabel='Count'>"
      ]
     },
     "execution_count": 12,
     "metadata": {},
     "output_type": "execute_result"
    },
    {
     "data": {
      "image/png": "[encoded data removed]",
      "text/plain": [
       "<Figure size 640x480 with 1 Axes>"
      ]
     },
     "metadata": {},
     "output_type": "display_data"
    }
   ],
   "source": [
    "import seaborn\n",
    "\n",
    "seaborn.histplot(signatures[11][1])"
   ]
  },
  {
   "cell_type": "code",
   "execution_count": 3,
   "metadata": {},
   "outputs": [],
   "source": [
    "# Read the metadata\n",
    "\n",
    "import pandas as pd\n",
    "\n",
    "metadata = pd.read_csv(\"../gtdb_utils/metadata_sample.csv\")"
   ]
  },
  {
   "cell_type": "code",
   "execution_count": 4,
   "metadata": {},
   "outputs": [],
   "source": [
    "metadata = metadata.dropna(subset=['family_taxid'])"
   ]
  },
  {
   "cell_type": "code",
   "execution_count": 5,
   "metadata": {},
   "outputs": [],
   "source": [
    "num_kmers = len(signatures[0][1])"
   ]
  },
  {
   "cell_type": "code",
   "execution_count": 44,
   "metadata": {},
   "outputs": [
    {
     "name": "stdout",
     "output_type": "stream",
     "text": [
      "148 0.04384323745370383\n",
      "97802\n",
      "200 0.02561954776734278\n",
      "102603\n",
      "82 0.11615973730781821\n",
      "127621\n",
      "105 0.07437553878398422\n",
      "115976\n",
      "76 0.12374853593315029\n",
      "117667\n",
      "112 0.08884461995261142\n",
      "108088\n",
      "10 0.1829345266919365\n",
      "120853\n",
      "200 0.06933692978919823\n",
      "121986\n",
      "34 0.3050410205326474\n",
      "133659\n",
      "124 0.08137822391925685\n",
      "101698\n",
      "102 0.1067209958774366\n",
      "107018\n",
      "200 0.09484380106343136\n",
      "131361\n",
      "103 0.024856776610281312\n",
      "87709\n",
      "179 0.056429046718486614\n",
      "114321\n",
      "200 0.03619205455989733\n",
      "98712\n",
      "147 0.06317119139328858\n",
      "113120\n",
      "36 0.13934749068417476\n",
      "103038\n",
      "200 0.07812923863752926\n",
      "110430\n",
      "145 0.13731710320446694\n",
      "124420\n",
      "119 0.08053318343384243\n",
      "110217\n",
      "200 0.055698577559165005\n",
      "121563\n"
     ]
    }
   ],
   "source": [
    "import math\n",
    "from scipy.stats import binom\n",
    "\n",
    "bool_signature = {}\n",
    "\n",
    "for genus, signature in signatures:\n",
    "    # Get the subset of metadata\n",
    "    metadata_subset = metadata[metadata[\"family_taxid\"] == genus].groupby(\"species_taxid\").sample(1)\n",
    "    num_sequences = len(metadata_subset)\n",
    "    if num_sequences > 200:\n",
    "        num_sequences = 200\n",
    "    \n",
    "    # find a good threshold for cutoff\n",
    "    from scipy.stats import binom\n",
    "    # find p\n",
    "    p = signature.sum() / num_sequences / num_kmers\n",
    "    # find n\n",
    "    n = num_sequences\n",
    "    # Set threshold to be p-value=0.05\n",
    "    print(n, p)\n",
    "    threshold = math.floor(binom.ppf(0.9, n, p))\n",
    "    bool_signature[genus] = (signature >= threshold)\n",
    "    print(bool_signature[genus].sum())"
   ]
  },
  {
   "cell_type": "code",
   "execution_count": 45,
   "metadata": {},
   "outputs": [],
   "source": [
    "import numpy as np\n",
    "\n",
    "ANI = np.zeros((len(bool_signature), len(bool_signature)))\n",
    "\n",
    "for i, genus_i in enumerate(bool_signature):\n",
    "    for j, genus_j in enumerate(bool_signature):\n",
    "        ANI[i][j] = (bool_signature[genus_i] & bool_signature[genus_j]).sum() / (bool_signature[genus_i] | bool_signature[genus_j]).sum()"
   ]
  },
  {
   "cell_type": "code",
   "execution_count": 46,
   "metadata": {},
   "outputs": [
    {
     "data": {
      "text/plain": [
       "array([[1.        , 0.09803137, 0.18442955, 0.36916938, 0.31766785,\n",
       "        0.0786923 , 0.09823904, 0.15589682, 0.15496619, 0.46425242,\n",
       "        0.48114401, 0.15662949, 0.05114316, 0.12901045, 0.41528689,\n",
       "        0.19635402, 0.24404581, 0.07804532, 0.40554319, 0.25757347,\n",
       "        0.3071913 ],\n",
       "       [0.09803137, 1.        , 0.32860119, 0.13696371, 0.26508342,\n",
       "        0.45234025, 0.36689565, 0.37041444, 0.33224691, 0.09263558,\n",
       "        0.09466093, 0.36774661, 0.41354031, 0.4416716 , 0.09825155,\n",
       "        0.34032731, 0.25072072, 0.46308849, 0.16086294, 0.17051761,\n",
       "        0.25629645],\n",
       "       [0.18442955, 0.32860119, 1.        , 0.31790885, 0.37327003,\n",
       "        0.33646126, 0.30318987, 0.52628425, 0.47967765, 0.16596755,\n",
       "        0.20964773, 0.44501046, 0.2795175 , 0.42778233, 0.21511288,\n",
       "        0.40785034, 0.34076787, 0.3542091 , 0.28455372, 0.26515631,\n",
       "        0.37641821],\n",
       "       [0.36916938, 0.13696371, 0.31790885, 1.        , 0.39936992,\n",
       "        0.12143022, 0.1432454 , 0.27616831, 0.28000882, 0.37696891,\n",
       "        0.46113474, 0.24879204, 0.0902157 , 0.19716897, 0.43473496,\n",
       "        0.27709057, 0.33232351, 0.13049253, 0.49738389, 0.32941315,\n",
       "        0.41224978],\n",
       "       [0.31766785, 0.26508342, 0.37327003, 0.39936992, 1.        ,\n",
       "        0.25099052, 0.23018841, 0.38014777, 0.32959132, 0.329364  ,\n",
       "        0.36260264, 0.40874455, 0.20566152, 0.35533926, 0.35154093,\n",
       "        0.42538539, 0.40950806, 0.27911554, 0.43410522, 0.32190962,\n",
       "        0.4965531 ],\n",
       "       [0.0786923 , 0.45234025, 0.33646126, 0.12143022, 0.25099052,\n",
       "        1.        , 0.39702948, 0.37507023, 0.34058116, 0.0690713 ,\n",
       "        0.07446091, 0.3961878 , 0.4921391 , 0.50485811, 0.07952914,\n",
       "        0.35024538, 0.23091185, 0.54451513, 0.13261628, 0.15671148,\n",
       "        0.23747043],\n",
       "       [0.09823904, 0.36689565, 0.30318987, 0.1432454 , 0.23018841,\n",
       "        0.39702948, 1.        , 0.31340999, 0.32275869, 0.08638835,\n",
       "        0.09863413, 0.31718195, 0.35351647, 0.3805504 , 0.10010221,\n",
       "        0.29793915, 0.20886247, 0.38670512, 0.14282985, 0.16386366,\n",
       "        0.21538585],\n",
       "       [0.15589682, 0.37041444, 0.52628425, 0.27616831, 0.38014777,\n",
       "        0.37507023, 0.31340999, 1.        , 0.47471618, 0.14675047,\n",
       "        0.17695672, 0.50079973, 0.31999043, 0.47174923, 0.18923375,\n",
       "        0.43045931, 0.35682501, 0.4176721 , 0.26849283, 0.26331853,\n",
       "        0.38912876],\n",
       "       [0.15496619, 0.33224691, 0.47967765, 0.28000882, 0.32959132,\n",
       "        0.34058116, 0.32275869, 0.47471618, 1.        , 0.13838169,\n",
       "        0.17882997, 0.41725715, 0.28410416, 0.40734603, 0.18179784,\n",
       "        0.3719243 , 0.30970812, 0.35530458, 0.25702721, 0.25681421,\n",
       "        0.34145213],\n",
       "       [0.46425242, 0.09263558, 0.16596755, 0.37696891, 0.329364  ,\n",
       "        0.0690713 , 0.08638835, 0.14675047, 0.13838169, 1.        ,\n",
       "        0.52896534, 0.15983796, 0.04554638, 0.11612347, 0.4374861 ,\n",
       "        0.18362242, 0.25209308, 0.07596169, 0.46498821, 0.2883389 ,\n",
       "        0.32677062],\n",
       "       [0.48114401, 0.09466093, 0.20964773, 0.46113474, 0.36260264,\n",
       "        0.07446091, 0.09863413, 0.17695672, 0.17882997, 0.52896534,\n",
       "        1.        , 0.1692639 , 0.04420778, 0.13581153, 0.50836187,\n",
       "        0.21544637, 0.2782805 , 0.0757563 , 0.51674105, 0.30974919,\n",
       "        0.35044871],\n",
       "       [0.15662949, 0.36774661, 0.44501046, 0.24879204, 0.40874455,\n",
       "        0.3961878 , 0.31718195, 0.50079973, 0.41725715, 0.15983796,\n",
       "        0.1692639 , 1.        , 0.342892  , 0.52409134, 0.18508808,\n",
       "        0.43335972, 0.37714887, 0.49203048, 0.27698314, 0.27821753,\n",
       "        0.45492407],\n",
       "       [0.05114316, 0.41354031, 0.2795175 , 0.0902157 , 0.20566152,\n",
       "        0.4921391 , 0.35351647, 0.31999043, 0.28410416, 0.04554638,\n",
       "        0.04420778, 0.342892  , 1.        , 0.399468  , 0.04491976,\n",
       "        0.29787317, 0.19041289, 0.61308942, 0.09563407, 0.12542361,\n",
       "        0.19471356],\n",
       "       [0.12901045, 0.4416716 , 0.42778233, 0.19716897, 0.35533926,\n",
       "        0.50485811, 0.3805504 , 0.47174923, 0.40734603, 0.11612347,\n",
       "        0.13581153, 0.52409134, 0.399468  , 1.        , 0.150044  ,\n",
       "        0.44177216, 0.32633024, 0.51244608, 0.21597559, 0.21971862,\n",
       "        0.35286392],\n",
       "       [0.41528689, 0.09825155, 0.21511288, 0.43473496, 0.35154093,\n",
       "        0.07952914, 0.10010221, 0.18923375, 0.18179784, 0.4374861 ,\n",
       "        0.50836187, 0.18508808, 0.04491976, 0.150044  , 1.        ,\n",
       "        0.22182103, 0.2805865 , 0.07810712, 0.481571  , 0.30091157,\n",
       "        0.34389414],\n",
       "       [0.19635402, 0.34032731, 0.40785034, 0.27709057, 0.42538539,\n",
       "        0.35024538, 0.29793915, 0.43045931, 0.3719243 , 0.18362242,\n",
       "        0.21544637, 0.43335972, 0.29787317, 0.44177216, 0.22182103,\n",
       "        1.        , 0.39821211, 0.37419549, 0.29405163, 0.26813882,\n",
       "        0.39461486],\n",
       "       [0.24404581, 0.25072072, 0.34076787, 0.33232351, 0.40950806,\n",
       "        0.23091185, 0.20886247, 0.35682501, 0.30970812, 0.25209308,\n",
       "        0.2782805 , 0.37714887, 0.19041289, 0.32633024, 0.2805865 ,\n",
       "        0.39821211, 1.        , 0.26493559, 0.39835609, 0.32613846,\n",
       "        0.46305573],\n",
       "       [0.07804532, 0.46308849, 0.3542091 , 0.13049253, 0.27911554,\n",
       "        0.54451513, 0.38670512, 0.4176721 , 0.35530458, 0.07596169,\n",
       "        0.0757563 , 0.49203048, 0.61308942, 0.51244608, 0.07810712,\n",
       "        0.37419549, 0.26493559, 1.        , 0.1513045 , 0.18066287,\n",
       "        0.2846179 ],\n",
       "       [0.40554319, 0.16086294, 0.28455372, 0.49738389, 0.43410522,\n",
       "        0.13261628, 0.14282985, 0.26849283, 0.25702721, 0.46498821,\n",
       "        0.51674105, 0.27698314, 0.09563407, 0.21597559, 0.481571  ,\n",
       "        0.29405163, 0.39835609, 0.1513045 , 1.        , 0.40209863,\n",
       "        0.49654736],\n",
       "       [0.25757347, 0.17051761, 0.26515631, 0.32941315, 0.32190962,\n",
       "        0.15671148, 0.16386366, 0.26331853, 0.25681421, 0.2883389 ,\n",
       "        0.30974919, 0.27821753, 0.12542361, 0.21971862, 0.30091157,\n",
       "        0.26813882, 0.32613846, 0.18066287, 0.40209863, 1.        ,\n",
       "        0.36655484],\n",
       "       [0.3071913 , 0.25629645, 0.37641821, 0.41224978, 0.4965531 ,\n",
       "        0.23747043, 0.21538585, 0.38912876, 0.34145213, 0.32677062,\n",
       "        0.35044871, 0.45492407, 0.19471356, 0.35286392, 0.34389414,\n",
       "        0.39461486, 0.46305573, 0.2846179 , 0.49654736, 0.36655484,\n",
       "        1.        ]])"
      ]
     },
     "execution_count": 46,
     "metadata": {},
     "output_type": "execute_result"
    }
   ],
   "source": [
    "ANI"
   ]
  },
  {
   "cell_type": "code",
   "execution_count": 47,
   "metadata": {},
   "outputs": [
    {
     "data": {
      "text/plain": [
       "<Axes: >"
      ]
     },
     "execution_count": 47,
     "metadata": {},
     "output_type": "execute_result"
    },
    {
     "data": {
      "image/png": "[encoded data removed]",
      "text/plain": [
       "<Figure size 640x480 with 2 Axes>"
      ]
     },
     "metadata": {},
     "output_type": "display_data"
    }
   ],
   "source": [
    "import seaborn\n",
    "\n",
    "seaborn.heatmap(ANI)"
   ]
  },
  {
   "cell_type": "code",
   "execution_count": 48,
   "metadata": {},
   "outputs": [
    {
     "name": "stderr",
     "output_type": "stream",
     "text": [
      "14it [00:00, 68.16it/s]"
     ]
    },
    {
     "name": "stdout",
     "output_type": "stream",
     "text": [
      "431 8663 ====\n",
      "2005525.0 0.6148491879350348\n",
      "2810280.0 0.7099767981438515\n",
      "2810281.0 0.6078886310904872\n",
      "815.0 0.6194895591647331\n",
      "186803.0 0.7076566125290024\n",
      "186804.0 0.6357308584686775\n",
      "128827.0 0.7006960556844548\n",
      "31979.0 0.7447795823665894\n",
      "[2005525.0, 2810280.0, 2810281.0, 815.0, 186803.0, 186804.0, 128827.0, 31979.0]\n",
      "98 2129 ====\n",
      "1300.0 0.6632653061224489\n",
      "2810280.0 0.7857142857142857\n",
      "186804.0 0.6632653061224489\n",
      "128827.0 0.673469387755102\n",
      "31979.0 0.7959183673469388\n",
      "[1300.0, 2810280.0, 186804.0, 128827.0, 31979.0]\n",
      "197 3852 ====\n",
      "2810280.0 0.7208121827411168\n",
      "2810281.0 0.649746192893401\n",
      "186803.0 0.6751269035532995\n",
      "186804.0 0.649746192893401\n",
      "128827.0 0.649746192893401\n",
      "31979.0 0.7258883248730964\n",
      "[2810280.0, 2810281.0, 186803.0, 186804.0, 128827.0, 31979.0]\n",
      "320 6186 ====\n",
      "1300.0 0.675\n",
      "2810280.0 0.778125\n",
      "2810281.0 0.625\n",
      "815.0 0.64375\n",
      "1853231.0 0.60625\n",
      "186803.0 0.728125\n",
      "186804.0 0.684375\n",
      "128827.0 0.7375\n",
      "31979.0 0.74375\n",
      "[1300.0, 2810280.0, 2810281.0, 815.0, 1853231.0, 186803.0, 186804.0, 128827.0, 31979.0]\n",
      "31 790 ====\n",
      "2005525.0 0.6451612903225806\n",
      "2810280.0 0.8709677419354839\n",
      "2810281.0 0.7096774193548387\n",
      "815.0 0.6774193548387096\n",
      "1853231.0 0.6129032258064516\n",
      "186803.0 0.6129032258064516\n",
      "186804.0 0.8064516129032258\n",
      "128827.0 0.7419354838709677\n",
      "31979.0 0.7741935483870968\n",
      "[2005525.0, 2810280.0, 2810281.0, 815.0, 1853231.0, 186803.0, 186804.0, 128827.0, 31979.0]\n",
      "155 3464 ====\n",
      "2810280.0 0.632258064516129\n",
      "186803.0 0.6129032258064516\n",
      "128827.0 0.6258064516129033\n",
      "31979.0 0.6258064516129033\n",
      "[2810280.0, 186803.0, 128827.0, 31979.0]\n",
      "17 497 ====\n",
      "2005525.0 0.6470588235294118\n",
      "2810280.0 0.6470588235294118\n",
      "815.0 0.7058823529411765\n",
      "1853231.0 0.6470588235294118\n",
      "186803.0 0.8235294117647058\n",
      "128827.0 0.6470588235294118\n",
      "31977.0 0.7647058823529411\n",
      "[2005525.0, 2810280.0, 815.0, 1853231.0, 186803.0, 128827.0, 31977.0]\n",
      "194 4043 ====\n",
      "1300.0 0.634020618556701\n",
      "2005525.0 0.6907216494845361\n",
      "2810280.0 0.7577319587628866\n",
      "2810281.0 0.6752577319587629\n",
      "815.0 0.6649484536082474\n",
      "1853231.0 0.6288659793814433\n",
      "186803.0 0.6907216494845361\n",
      "186804.0 0.6494845360824743\n",
      "128827.0 0.7010309278350515\n",
      "31977.0 0.634020618556701\n",
      "31979.0 0.7319587628865979\n",
      "[1300.0, 2005525.0, 2810280.0, 2810281.0, 815.0, 1853231.0, 186803.0, 186804.0, 128827.0, 31977.0, 31979.0]\n",
      "107 2121 ====\n",
      "1300.0 0.6261682242990654\n",
      "2810280.0 0.6728971962616822\n",
      "128827.0 0.7009345794392523\n",
      "[1300.0, 2810280.0, 128827.0]\n",
      "82 1687 ====\n",
      "1300.0 0.6707317073170732\n",
      "2005525.0 0.6341463414634146\n",
      "2810280.0 0.7073170731707317\n",
      "2810281.0 0.6097560975609756\n",
      "815.0 0.7317073170731707\n",
      "186803.0 0.6829268292682927\n",
      "186804.0 0.6585365853658537\n",
      "128827.0 0.7073170731707317\n",
      "31979.0 0.7560975609756098\n",
      "[1300.0, 2005525.0, 2810280.0, 2810281.0, 815.0, 186803.0, 186804.0, 128827.0, 31979.0]\n",
      "489 9355 ====\n",
      "1300.0 0.6257668711656442\n",
      "2810280.0 0.7402862985685071\n",
      "186803.0 0.656441717791411\n",
      "186804.0 0.6421267893660532\n",
      "128827.0 0.6809815950920245\n",
      "31979.0 0.7423312883435583\n",
      "[1300.0, 2810280.0, 186803.0, 186804.0, 128827.0, 31979.0]\n",
      "203 3978 ====\n",
      "1300.0 0.7093596059113301\n",
      "2005525.0 0.6206896551724138\n",
      "2810280.0 0.7783251231527094\n",
      "2810281.0 0.7044334975369458\n",
      "815.0 0.7142857142857143\n",
      "1853231.0 0.6847290640394089\n",
      "186803.0 0.7044334975369458\n",
      "186804.0 0.7142857142857143\n",
      "128827.0 0.7487684729064039\n",
      "31977.0 0.6699507389162561\n",
      "31979.0 0.7881773399014779\n",
      "[1300.0, 2005525.0, 2810280.0, 2810281.0, 815.0, 1853231.0, 186803.0, 186804.0, 128827.0, 31977.0, 31979.0]\n",
      "84 2082 ====\n",
      "1300.0 0.8214285714285714\n",
      "2005525.0 0.7142857142857143\n",
      "1843491.0 0.6309523809523809\n",
      "2810280.0 0.7857142857142857\n",
      "2810281.0 0.7380952380952381\n",
      "815.0 0.7857142857142857\n",
      "1853231.0 0.7142857142857143\n",
      "186803.0 0.8333333333333334\n",
      "186804.0 0.8214285714285714\n",
      "128827.0 0.8095238095238095\n",
      "31977.0 0.7023809523809523\n",
      "909930.0 0.6190476190476191\n",
      "31979.0 0.8690476190476191\n",
      "[1300.0, 2005525.0, 1843491.0, 2810280.0, 2810281.0, 815.0, 1853231.0, 186803.0, 186804.0, 128827.0, 31977.0, 909930.0, 31979.0]\n",
      "46 1004 ====\n",
      "1300.0 0.6086956521739131\n",
      "2005525.0 0.6521739130434783\n",
      "2810280.0 0.7391304347826086\n",
      "2810281.0 0.6521739130434783\n",
      "815.0 0.6739130434782609\n",
      "1853231.0 0.6739130434782609\n",
      "186803.0 0.717391304347826\n",
      "128827.0 0.7608695652173914\n",
      "31979.0 0.6956521739130435\n",
      "[1300.0, 2005525.0, 2810280.0, 2810281.0, 815.0, 1853231.0, 186803.0, 128827.0, 31979.0]\n",
      "32 539 ====\n",
      "1300.0 0.625\n",
      "2810280.0 0.75\n",
      "186804.0 0.65625\n"
     ]
    },
    {
     "name": "stderr",
     "output_type": "stream",
     "text": [
      "20it [00:00, 67.13it/s]"
     ]
    },
    {
     "name": "stdout",
     "output_type": "stream",
     "text": [
      "128827.0 0.65625\n",
      "31979.0 0.71875\n",
      "[1300.0, 2810280.0, 186804.0, 128827.0, 31979.0]\n",
      "92 1683 ====\n",
      "1300.0 0.6630434782608695\n",
      "2005525.0 0.6521739130434783\n",
      "2810280.0 0.7934782608695652\n",
      "2810281.0 0.6739130434782609\n",
      "815.0 0.6956521739130435\n",
      "1853231.0 0.6847826086956522\n",
      "186803.0 0.717391304347826\n",
      "186804.0 0.6956521739130435\n",
      "128827.0 0.7934782608695652\n",
      "31979.0 0.7717391304347826\n",
      "[1300.0, 2005525.0, 2810280.0, 2810281.0, 815.0, 1853231.0, 186803.0, 186804.0, 128827.0, 31979.0]\n",
      "193 3710 ====\n",
      "1300.0 0.6321243523316062\n",
      "2005525.0 0.6217616580310881\n",
      "2810280.0 0.7150259067357513\n",
      "2810281.0 0.6321243523316062\n",
      "815.0 0.6010362694300518\n",
      "1853231.0 0.6269430051813472\n",
      "186803.0 0.6839378238341969\n",
      "186804.0 0.616580310880829\n",
      "128827.0 0.7202072538860104\n",
      "31979.0 0.6994818652849741\n",
      "[1300.0, 2005525.0, 2810280.0, 2810281.0, 815.0, 1853231.0, 186803.0, 186804.0, 128827.0, 31979.0]\n",
      "27 620 ====\n",
      "1300.0 0.7407407407407407\n",
      "2005525.0 0.7037037037037037\n",
      "2810280.0 0.7037037037037037\n",
      "2810281.0 0.6666666666666666\n",
      "815.0 0.8518518518518519\n",
      "1853231.0 0.7037037037037037\n",
      "186803.0 0.7777777777777778\n",
      "186804.0 0.7777777777777778\n",
      "128827.0 0.8518518518518519\n",
      "31977.0 0.8148148148148148\n",
      "31979.0 0.8518518518518519\n",
      "[1300.0, 2005525.0, 2810280.0, 2810281.0, 815.0, 1853231.0, 186803.0, 186804.0, 128827.0, 31977.0, 31979.0]\n",
      "22 496 ====\n",
      "2810280.0 0.6818181818181818\n",
      "128827.0 0.6363636363636364\n",
      "[2810280.0, 128827.0]\n",
      "207 4048 ====\n",
      "2810280.0 0.7246376811594203\n",
      "2810281.0 0.6280193236714976\n",
      "815.0 0.6473429951690821\n",
      "186803.0 0.7004830917874396\n",
      "186804.0 0.6666666666666666\n",
      "128827.0 0.6956521739130435\n",
      "31979.0 0.7198067632850241\n",
      "[2810280.0, 2810281.0, 815.0, 186803.0, 186804.0, 128827.0, 31979.0]\n",
      "267 5747 ====\n",
      "[]\n"
     ]
    },
    {
     "name": "stderr",
     "output_type": "stream",
     "text": [
      "\n"
     ]
    }
   ],
   "source": [
    "from Bio import SeqIO\n",
    "from tqdm import tqdm\n",
    "prediction = []\n",
    "\n",
    "i = 0\n",
    "\n",
    "for record in tqdm(SeqIO.parse(\"/mnt/c/Users/guzh/Downloads/sampled_reads.fastq\", \"fastq\")):\n",
    "    #print(record.seq)\n",
    "    record_signature = sg._to_signature([str(record.seq)])\n",
    "    print(record_signature.sum(), len(record.seq), \"====\")\n",
    "\n",
    "    best_similiarity = 0\n",
    "    genus_prediction = []\n",
    "    for genus in bool_signature:\n",
    "        similarity = (record_signature & bool_signature[genus]).sum() / record_signature.sum()\n",
    "        if similarity > 0.6:\n",
    "            genus_prediction.append(genus)\n",
    "            print(genus, similarity)\n",
    "            #best_similiarity = similarity\n",
    "    \n",
    "    print(genus_prediction)\n",
    "    \n",
    "    prediction.append(genus_prediction)\n",
    "    i += 1\n",
    "    if i > 20:\n",
    "        break"
   ]
  },
  {
   "cell_type": "code",
   "execution_count": 41,
   "metadata": {},
   "outputs": [
    {
     "data": {
      "text/plain": [
       "34"
      ]
     },
     "execution_count": 41,
     "metadata": {},
     "output_type": "execute_result"
    }
   ],
   "source": [
    "sg._to_signature([str(record.seq)]).sum()"
   ]
  },
  {
   "cell_type": "code",
   "execution_count": 43,
   "metadata": {},
   "outputs": [
    {
     "data": {
      "text/html": [
       "<div>\n",
       "<style scoped>\n",
       "    .dataframe tbody tr th:only-of-type {\n",
       "        vertical-align: middle;\n",
       "    }\n",
       "\n",
       "    .dataframe tbody tr th {\n",
       "        vertical-align: top;\n",
       "    }\n",
       "\n",
       "    .dataframe thead th {\n",
       "        text-align: right;\n",
       "    }\n",
       "</style>\n",
       "<table border=\"1\" class=\"dataframe\">\n",
       "  <thead>\n",
       "    <tr style=\"text-align: right;\">\n",
       "      <th></th>\n",
       "      <th>Unnamed: 0</th>\n",
       "      <th>accession</th>\n",
       "      <th>ambiguous_bases</th>\n",
       "      <th>checkm_completeness</th>\n",
       "      <th>checkm_contamination</th>\n",
       "      <th>checkm_marker_count</th>\n",
       "      <th>checkm_marker_lineage</th>\n",
       "      <th>checkm_marker_set_count</th>\n",
       "      <th>checkm_strain_heterogeneity</th>\n",
       "      <th>coding_bases</th>\n",
       "      <th>...</th>\n",
       "      <th>ssu_silva_blast_perc_identity</th>\n",
       "      <th>ssu_silva_blast_subject_id</th>\n",
       "      <th>ssu_silva_taxonomy</th>\n",
       "      <th>total_gap_length</th>\n",
       "      <th>trna_aa_count</th>\n",
       "      <th>trna_count</th>\n",
       "      <th>trna_selenocysteine_count</th>\n",
       "      <th>ncbi_genus_taxid</th>\n",
       "      <th>genus_taxid</th>\n",
       "      <th>species_taxid</th>\n",
       "    </tr>\n",
       "  </thead>\n",
       "  <tbody>\n",
       "    <tr>\n",
       "      <th>0</th>\n",
       "      <td>2</td>\n",
       "      <td>RS_GCF_000730125.1</td>\n",
       "      <td>30</td>\n",
       "      <td>100.00</td>\n",
       "      <td>0.92</td>\n",
       "      <td>476</td>\n",
       "      <td>f__Bifidobacteriaceae (UID1462)</td>\n",
       "      <td>217</td>\n",
       "      <td>0.0</td>\n",
       "      <td>2212698</td>\n",
       "      <td>...</td>\n",
       "      <td>100</td>\n",
       "      <td>CP008885.1576966.1578495</td>\n",
       "      <td>Bacteria;Actinobacteriota;Actinobacteria;Bifid...</td>\n",
       "      <td>619</td>\n",
       "      <td>19</td>\n",
       "      <td>55</td>\n",
       "      <td>0</td>\n",
       "      <td>1678.0</td>\n",
       "      <td>1678.0</td>\n",
       "      <td>216816</td>\n",
       "    </tr>\n",
       "    <tr>\n",
       "      <th>1</th>\n",
       "      <td>4</td>\n",
       "      <td>RS_GCF_000468955.1</td>\n",
       "      <td>0</td>\n",
       "      <td>100.00</td>\n",
       "      <td>0.00</td>\n",
       "      <td>472</td>\n",
       "      <td>o__Lactobacillales (UID543)</td>\n",
       "      <td>265</td>\n",
       "      <td>0.0</td>\n",
       "      <td>2107260</td>\n",
       "      <td>...</td>\n",
       "      <td>99.935</td>\n",
       "      <td>CP003157.2105633.2107180</td>\n",
       "      <td>Bacteria;Firmicutes;Bacilli;Lactobacillales;St...</td>\n",
       "      <td>0</td>\n",
       "      <td>19</td>\n",
       "      <td>60</td>\n",
       "      <td>0</td>\n",
       "      <td>1357.0</td>\n",
       "      <td>1357.0</td>\n",
       "      <td>1359</td>\n",
       "    </tr>\n",
       "    <tr>\n",
       "      <th>2</th>\n",
       "      <td>22</td>\n",
       "      <td>RS_GCF_001078445.1</td>\n",
       "      <td>7</td>\n",
       "      <td>99.32</td>\n",
       "      <td>0.00</td>\n",
       "      <td>340</td>\n",
       "      <td>o__Clostridiales (UID1342)</td>\n",
       "      <td>177</td>\n",
       "      <td>0.0</td>\n",
       "      <td>4662609</td>\n",
       "      <td>...</td>\n",
       "      <td>99.804</td>\n",
       "      <td>CP015399.4748579.4750121</td>\n",
       "      <td>Bacteria;Firmicutes;Clostridia;Lachnospirales;...</td>\n",
       "      <td>32463</td>\n",
       "      <td>19</td>\n",
       "      <td>77</td>\n",
       "      <td>1</td>\n",
       "      <td>2719313.0</td>\n",
       "      <td>2719313.0</td>\n",
       "      <td>1531</td>\n",
       "    </tr>\n",
       "    <tr>\n",
       "      <th>3</th>\n",
       "      <td>44</td>\n",
       "      <td>RS_GCF_000273155.1</td>\n",
       "      <td>0</td>\n",
       "      <td>99.26</td>\n",
       "      <td>0.00</td>\n",
       "      <td>492</td>\n",
       "      <td>o__Bacteroidales (UID2657)</td>\n",
       "      <td>269</td>\n",
       "      <td>0.0</td>\n",
       "      <td>4834627</td>\n",
       "      <td>...</td>\n",
       "      <td>99.672</td>\n",
       "      <td>AP006841.4735744.4737280</td>\n",
       "      <td>Bacteria;Bacteroidota;Bacteroidia;Bacteroidale...</td>\n",
       "      <td>14319</td>\n",
       "      <td>19</td>\n",
       "      <td>83</td>\n",
       "      <td>0</td>\n",
       "      <td>816.0</td>\n",
       "      <td>816.0</td>\n",
       "      <td>817</td>\n",
       "    </tr>\n",
       "    <tr>\n",
       "      <th>4</th>\n",
       "      <td>50</td>\n",
       "      <td>RS_GCF_000009925.1</td>\n",
       "      <td>0</td>\n",
       "      <td>99.26</td>\n",
       "      <td>0.00</td>\n",
       "      <td>492</td>\n",
       "      <td>o__Bacteroidales (UID2657)</td>\n",
       "      <td>269</td>\n",
       "      <td>0.0</td>\n",
       "      <td>4719009</td>\n",
       "      <td>...</td>\n",
       "      <td>100</td>\n",
       "      <td>AP006841.4527043.4528579</td>\n",
       "      <td>Bacteria;Bacteroidota;Bacteroidia;Bacteroidale...</td>\n",
       "      <td>0</td>\n",
       "      <td>19</td>\n",
       "      <td>74</td>\n",
       "      <td>0</td>\n",
       "      <td>816.0</td>\n",
       "      <td>816.0</td>\n",
       "      <td>817</td>\n",
       "    </tr>\n",
       "    <tr>\n",
       "      <th>...</th>\n",
       "      <td>...</td>\n",
       "      <td>...</td>\n",
       "      <td>...</td>\n",
       "      <td>...</td>\n",
       "      <td>...</td>\n",
       "      <td>...</td>\n",
       "      <td>...</td>\n",
       "      <td>...</td>\n",
       "      <td>...</td>\n",
       "      <td>...</td>\n",
       "      <td>...</td>\n",
       "      <td>...</td>\n",
       "      <td>...</td>\n",
       "      <td>...</td>\n",
       "      <td>...</td>\n",
       "      <td>...</td>\n",
       "      <td>...</td>\n",
       "      <td>...</td>\n",
       "      <td>...</td>\n",
       "      <td>...</td>\n",
       "      <td>...</td>\n",
       "    </tr>\n",
       "    <tr>\n",
       "      <th>19813</th>\n",
       "      <td>394902</td>\n",
       "      <td>GB_GCA_930989685.1</td>\n",
       "      <td>0</td>\n",
       "      <td>97.96</td>\n",
       "      <td>0.68</td>\n",
       "      <td>261</td>\n",
       "      <td>o__Clostridiales (UID1212)</td>\n",
       "      <td>147</td>\n",
       "      <td>0.0</td>\n",
       "      <td>1974955</td>\n",
       "      <td>...</td>\n",
       "      <td>none</td>\n",
       "      <td>none</td>\n",
       "      <td>none</td>\n",
       "      <td>0</td>\n",
       "      <td>18</td>\n",
       "      <td>41</td>\n",
       "      <td>0</td>\n",
       "      <td>216851.0</td>\n",
       "      <td>216851.0</td>\n",
       "      <td>259315</td>\n",
       "    </tr>\n",
       "    <tr>\n",
       "      <th>19814</th>\n",
       "      <td>394904</td>\n",
       "      <td>GB_GCA_934668345.1</td>\n",
       "      <td>0</td>\n",
       "      <td>68.55</td>\n",
       "      <td>0.00</td>\n",
       "      <td>211</td>\n",
       "      <td>p__Actinobacteria (UID2112)</td>\n",
       "      <td>124</td>\n",
       "      <td>0.0</td>\n",
       "      <td>1143151</td>\n",
       "      <td>...</td>\n",
       "      <td>none</td>\n",
       "      <td>none</td>\n",
       "      <td>none</td>\n",
       "      <td>0</td>\n",
       "      <td>18</td>\n",
       "      <td>40</td>\n",
       "      <td>1</td>\n",
       "      <td>102106.0</td>\n",
       "      <td>102106.0</td>\n",
       "      <td>165190</td>\n",
       "    </tr>\n",
       "    <tr>\n",
       "      <th>19815</th>\n",
       "      <td>394914</td>\n",
       "      <td>GB_GCA_945900725.1</td>\n",
       "      <td>0</td>\n",
       "      <td>92.79</td>\n",
       "      <td>0.68</td>\n",
       "      <td>229</td>\n",
       "      <td>k__Bacteria (UID2982)</td>\n",
       "      <td>147</td>\n",
       "      <td>0.0</td>\n",
       "      <td>3994946</td>\n",
       "      <td>...</td>\n",
       "      <td>none</td>\n",
       "      <td>none</td>\n",
       "      <td>none</td>\n",
       "      <td>0</td>\n",
       "      <td>18</td>\n",
       "      <td>37</td>\n",
       "      <td>1</td>\n",
       "      <td>239934.0</td>\n",
       "      <td>239934.0</td>\n",
       "      <td>239935</td>\n",
       "    </tr>\n",
       "    <tr>\n",
       "      <th>19816</th>\n",
       "      <td>394919</td>\n",
       "      <td>GB_GCA_021625385.1</td>\n",
       "      <td>0</td>\n",
       "      <td>80.87</td>\n",
       "      <td>0.89</td>\n",
       "      <td>263</td>\n",
       "      <td>o__Clostridiales (UID1212)</td>\n",
       "      <td>149</td>\n",
       "      <td>50.0</td>\n",
       "      <td>1358322</td>\n",
       "      <td>...</td>\n",
       "      <td>none</td>\n",
       "      <td>none</td>\n",
       "      <td>none</td>\n",
       "      <td>310</td>\n",
       "      <td>9</td>\n",
       "      <td>16</td>\n",
       "      <td>0</td>\n",
       "      <td>459786.0</td>\n",
       "      <td>459786.0</td>\n",
       "      <td>1945593</td>\n",
       "    </tr>\n",
       "    <tr>\n",
       "      <th>19817</th>\n",
       "      <td>394920</td>\n",
       "      <td>GB_GCA_022640815.1</td>\n",
       "      <td>0</td>\n",
       "      <td>95.12</td>\n",
       "      <td>3.37</td>\n",
       "      <td>464</td>\n",
       "      <td>f__Bifidobacteriaceae (UID1458)</td>\n",
       "      <td>220</td>\n",
       "      <td>0.0</td>\n",
       "      <td>2288483</td>\n",
       "      <td>...</td>\n",
       "      <td>none</td>\n",
       "      <td>none</td>\n",
       "      <td>none</td>\n",
       "      <td>0</td>\n",
       "      <td>19</td>\n",
       "      <td>42</td>\n",
       "      <td>0</td>\n",
       "      <td>1678.0</td>\n",
       "      <td>1678.0</td>\n",
       "      <td>2172043</td>\n",
       "    </tr>\n",
       "  </tbody>\n",
       "</table>\n",
       "<p>19818 rows × 114 columns</p>\n",
       "</div>"
      ],
      "text/plain": [
       "       Unnamed: 0           accession  ambiguous_bases  checkm_completeness  \\\n",
       "0               2  RS_GCF_000730125.1               30               100.00   \n",
       "1               4  RS_GCF_000468955.1                0               100.00   \n",
       "2              22  RS_GCF_001078445.1                7                99.32   \n",
       "3              44  RS_GCF_000273155.1                0                99.26   \n",
       "4              50  RS_GCF_000009925.1                0                99.26   \n",
       "...           ...                 ...              ...                  ...   \n",
       "19813      394902  GB_GCA_930989685.1                0                97.96   \n",
       "19814      394904  GB_GCA_934668345.1                0                68.55   \n",
       "19815      394914  GB_GCA_945900725.1                0                92.79   \n",
       "19816      394919  GB_GCA_021625385.1                0                80.87   \n",
       "19817      394920  GB_GCA_022640815.1                0                95.12   \n",
       "\n",
       "       checkm_contamination  checkm_marker_count  \\\n",
       "0                      0.92                  476   \n",
       "1                      0.00                  472   \n",
       "2                      0.00                  340   \n",
       "3                      0.00                  492   \n",
       "4                      0.00                  492   \n",
       "...                     ...                  ...   \n",
       "19813                  0.68                  261   \n",
       "19814                  0.00                  211   \n",
       "19815                  0.68                  229   \n",
       "19816                  0.89                  263   \n",
       "19817                  3.37                  464   \n",
       "\n",
       "                 checkm_marker_lineage  checkm_marker_set_count  \\\n",
       "0      f__Bifidobacteriaceae (UID1462)                      217   \n",
       "1          o__Lactobacillales (UID543)                      265   \n",
       "2           o__Clostridiales (UID1342)                      177   \n",
       "3           o__Bacteroidales (UID2657)                      269   \n",
       "4           o__Bacteroidales (UID2657)                      269   \n",
       "...                                ...                      ...   \n",
       "19813       o__Clostridiales (UID1212)                      147   \n",
       "19814      p__Actinobacteria (UID2112)                      124   \n",
       "19815            k__Bacteria (UID2982)                      147   \n",
       "19816       o__Clostridiales (UID1212)                      149   \n",
       "19817  f__Bifidobacteriaceae (UID1458)                      220   \n",
       "\n",
       "       checkm_strain_heterogeneity  coding_bases  ...  \\\n",
       "0                              0.0       2212698  ...   \n",
       "1                              0.0       2107260  ...   \n",
       "2                              0.0       4662609  ...   \n",
       "3                              0.0       4834627  ...   \n",
       "4                              0.0       4719009  ...   \n",
       "...                            ...           ...  ...   \n",
       "19813                          0.0       1974955  ...   \n",
       "19814                          0.0       1143151  ...   \n",
       "19815                          0.0       3994946  ...   \n",
       "19816                         50.0       1358322  ...   \n",
       "19817                          0.0       2288483  ...   \n",
       "\n",
       "       ssu_silva_blast_perc_identity  ssu_silva_blast_subject_id  \\\n",
       "0                                100    CP008885.1576966.1578495   \n",
       "1                             99.935    CP003157.2105633.2107180   \n",
       "2                             99.804    CP015399.4748579.4750121   \n",
       "3                             99.672    AP006841.4735744.4737280   \n",
       "4                                100    AP006841.4527043.4528579   \n",
       "...                              ...                         ...   \n",
       "19813                           none                        none   \n",
       "19814                           none                        none   \n",
       "19815                           none                        none   \n",
       "19816                           none                        none   \n",
       "19817                           none                        none   \n",
       "\n",
       "                                      ssu_silva_taxonomy  total_gap_length  \\\n",
       "0      Bacteria;Actinobacteriota;Actinobacteria;Bifid...               619   \n",
       "1      Bacteria;Firmicutes;Bacilli;Lactobacillales;St...                 0   \n",
       "2      Bacteria;Firmicutes;Clostridia;Lachnospirales;...             32463   \n",
       "3      Bacteria;Bacteroidota;Bacteroidia;Bacteroidale...             14319   \n",
       "4      Bacteria;Bacteroidota;Bacteroidia;Bacteroidale...                 0   \n",
       "...                                                  ...               ...   \n",
       "19813                                               none                 0   \n",
       "19814                                               none                 0   \n",
       "19815                                               none                 0   \n",
       "19816                                               none               310   \n",
       "19817                                               none                 0   \n",
       "\n",
       "       trna_aa_count trna_count trna_selenocysteine_count ncbi_genus_taxid  \\\n",
       "0                 19         55                         0           1678.0   \n",
       "1                 19         60                         0           1357.0   \n",
       "2                 19         77                         1        2719313.0   \n",
       "3                 19         83                         0            816.0   \n",
       "4                 19         74                         0            816.0   \n",
       "...              ...        ...                       ...              ...   \n",
       "19813             18         41                         0         216851.0   \n",
       "19814             18         40                         1         102106.0   \n",
       "19815             18         37                         1         239934.0   \n",
       "19816              9         16                         0         459786.0   \n",
       "19817             19         42                         0           1678.0   \n",
       "\n",
       "      genus_taxid species_taxid  \n",
       "0          1678.0        216816  \n",
       "1          1357.0          1359  \n",
       "2       2719313.0          1531  \n",
       "3           816.0           817  \n",
       "4           816.0           817  \n",
       "...           ...           ...  \n",
       "19813    216851.0        259315  \n",
       "19814    102106.0        165190  \n",
       "19815    239934.0        239935  \n",
       "19816    459786.0       1945593  \n",
       "19817      1678.0       2172043  \n",
       "\n",
       "[19818 rows x 114 columns]"
      ]
     },
     "execution_count": 43,
     "metadata": {},
     "output_type": "execute_result"
    }
   ],
   "source": [
    "metadata"
   ]
  },
  {
   "cell_type": "code",
   "execution_count": 49,
   "metadata": {},
   "outputs": [],
   "source": [
    "bool_matrix = np.zeros((len(bool_signature), num_kmers), dtype=bool)\n",
    "\n",
    "for i, genus in enumerate(bool_signature):\n",
    "    bool_matrix[i, :] = bool_signature[genus]\n",
    "    "
   ]
  },
  {
   "cell_type": "code",
   "execution_count": 50,
   "metadata": {},
   "outputs": [],
   "source": [
    "kmer_count = []\n",
    "uninformative_kmer_count = 0\n",
    "for i in range(num_kmers):\n",
    "    kmer_count.append(bool_matrix[:, i].sum())\n",
    "    if kmer_count[-1] > 5:\n",
    "        uninformative_kmer_count += 1"
   ]
  },
  {
   "cell_type": "code",
   "execution_count": 51,
   "metadata": {},
   "outputs": [
    {
     "data": {
      "text/plain": [
       "323105"
      ]
     },
     "execution_count": 51,
     "metadata": {},
     "output_type": "execute_result"
    }
   ],
   "source": [
    "filter = np.array(kmer_count) < 10\n",
    "filter.sum()"
   ]
  },
  {
   "cell_type": "code",
   "execution_count": 52,
   "metadata": {},
   "outputs": [
    {
     "data": {
      "text/plain": [
       "<Axes: ylabel='Count'>"
      ]
     },
     "execution_count": 52,
     "metadata": {},
     "output_type": "execute_result"
    },
    {
     "data": {
      "image/png": "[encoded data removed]",
      "text/plain": [
       "<Figure size 640x480 with 1 Axes>"
      ]
     },
     "metadata": {},
     "output_type": "display_data"
    }
   ],
   "source": [
    "import matplotlib.pyplot as plt\n",
    "\n",
    "seaborn.histplot(kmer_count)"
   ]
  },
  {
   "cell_type": "code",
   "execution_count": 53,
   "metadata": {},
   "outputs": [
    {
     "name": "stderr",
     "output_type": "stream",
     "text": [
      "8it [00:00, 71.18it/s]"
     ]
    },
    {
     "name": "stdout",
     "output_type": "stream",
     "text": [
      "196 8663 ====\n",
      "1300.0 0.32653061224489793\n",
      "2810280.0 0.46938775510204084\n",
      "2810281.0 0.3673469387755102\n",
      "186803.0 0.40816326530612246\n",
      "186804.0 0.42857142857142855\n",
      "128827.0 0.3979591836734694\n",
      "31979.0 0.5408163265306123\n",
      "[1300.0, 2810280.0, 2810281.0, 186803.0, 186804.0, 128827.0, 31979.0]\n",
      "53 2129 ====\n",
      "1300.0 0.4716981132075472\n",
      "2810280.0 0.6226415094339622\n",
      "2810281.0 0.4339622641509434\n",
      "186804.0 0.5094339622641509\n",
      "128827.0 0.4339622641509434\n",
      "31979.0 0.6226415094339622\n",
      "[1300.0, 2810280.0, 2810281.0, 186804.0, 128827.0, 31979.0]\n",
      "98 3852 ====\n",
      "1300.0 0.30612244897959184\n",
      "2810280.0 0.5510204081632653\n",
      "2810281.0 0.5\n",
      "186803.0 0.3979591836734694\n",
      "186804.0 0.46938775510204084\n",
      "128827.0 0.3673469387755102\n",
      "31979.0 0.5204081632653061\n",
      "[1300.0, 2810280.0, 2810281.0, 186803.0, 186804.0, 128827.0, 31979.0]\n",
      "136 6186 ====\n",
      "1300.0 0.3897058823529412\n",
      "2810280.0 0.5735294117647058\n",
      "2810281.0 0.3897058823529412\n",
      "186803.0 0.4117647058823529\n",
      "186804.0 0.45588235294117646\n",
      "128827.0 0.4411764705882353\n",
      "31979.0 0.5\n",
      "[1300.0, 2810280.0, 2810281.0, 186803.0, 186804.0, 128827.0, 31979.0]\n",
      "13 790 ====\n",
      "2005525.0 0.3076923076923077\n",
      "2810280.0 0.7692307692307693\n",
      "2810281.0 0.46153846153846156\n",
      "186804.0 0.6153846153846154\n",
      "128827.0 0.46153846153846156\n",
      "31979.0 0.5384615384615384\n",
      "[2005525.0, 2810280.0, 2810281.0, 186804.0, 128827.0, 31979.0]\n",
      "90 3464 ====\n",
      "1300.0 0.3333333333333333\n",
      "2810280.0 0.4666666666666667\n",
      "2810281.0 0.34444444444444444\n",
      "186803.0 0.36666666666666664\n",
      "186804.0 0.34444444444444444\n",
      "128827.0 0.4111111111111111\n",
      "31979.0 0.43333333333333335\n",
      "[1300.0, 2810280.0, 2810281.0, 186803.0, 186804.0, 128827.0, 31979.0]\n",
      "8 497 ====\n",
      "2810280.0 0.375\n",
      "815.0 0.375\n",
      "1853231.0 0.375\n",
      "186803.0 0.625\n",
      "128827.0 0.375\n",
      "31977.0 0.5\n",
      "[2810280.0, 815.0, 1853231.0, 186803.0, 128827.0, 31977.0]\n",
      "75 4043 ====\n",
      "2005525.0 0.30666666666666664\n",
      "2810280.0 0.49333333333333335\n",
      "2810281.0 0.37333333333333335\n",
      "186804.0 0.37333333333333335\n",
      "128827.0 0.3333333333333333\n",
      "31979.0 0.48\n",
      "[2005525.0, 2810280.0, 2810281.0, 186804.0, 128827.0, 31979.0]\n",
      "56 2121 ====\n",
      "1300.0 0.42857142857142855\n",
      "2810280.0 0.5357142857142857\n",
      "2810281.0 0.4642857142857143\n",
      "186803.0 0.30357142857142855\n",
      "186804.0 0.35714285714285715\n",
      "128827.0 0.48214285714285715\n",
      "31979.0 0.375\n",
      "[1300.0, 2810280.0, 2810281.0, 186803.0, 186804.0, 128827.0, 31979.0]\n",
      "36 1687 ====\n",
      "1300.0 0.3888888888888889\n",
      "2005525.0 0.3333333333333333\n",
      "2810280.0 0.4444444444444444\n",
      "2810281.0 0.4444444444444444\n",
      "815.0 0.4444444444444444\n",
      "186803.0 0.3888888888888889\n",
      "186804.0 0.4722222222222222\n",
      "128827.0 0.3888888888888889\n",
      "31979.0 0.5277777777777778\n",
      "[1300.0, 2005525.0, 2810280.0, 2810281.0, 815.0, 186803.0, 186804.0, 128827.0, 31979.0]\n",
      "233 9355 ====\n",
      "1300.0 0.33476394849785407\n",
      "2810280.0 0.5278969957081545\n",
      "2810281.0 0.37339055793991416\n",
      "186803.0 0.3090128755364807\n",
      "186804.0 0.41630901287553645\n",
      "128827.0 0.3605150214592275\n",
      "31979.0 0.5021459227467812\n",
      "[1300.0, 2810280.0, 2810281.0, 186803.0, 186804.0, 128827.0, 31979.0]\n",
      "80 3978 ====\n",
      "1300.0 0.3875\n",
      "2810280.0 0.525\n",
      "2810281.0 0.425\n",
      "815.0 0.3125\n",
      "186803.0 0.3125\n",
      "186804.0 0.4625\n",
      "128827.0 0.4\n",
      "31979.0 0.5125\n",
      "[1300.0, 2810280.0, 2810281.0, 815.0, 186803.0, 186804.0, 128827.0, 31979.0]\n",
      "26 2082 ====\n",
      "1300.0 0.5384615384615384\n",
      "2005525.0 0.34615384615384615\n",
      "2810280.0 0.46153846153846156\n",
      "2810281.0 0.3076923076923077\n",
      "815.0 0.4230769230769231\n",
      "186803.0 0.5384615384615384\n",
      "186804.0 0.5769230769230769\n",
      "128827.0 0.4230769230769231\n",
      "31979.0 0.6153846153846154\n",
      "[1300.0, 2005525.0, 2810280.0, 2810281.0, 815.0, 186803.0, 186804.0, 128827.0, 31979.0]\n",
      "19 1004 ====\n",
      "2005525.0 0.3157894736842105\n",
      "2810280.0 0.5263157894736842\n",
      "2810281.0 0.3157894736842105\n",
      "815.0 0.3157894736842105\n",
      "1853231.0 0.3684210526315789\n",
      "186803.0 0.3157894736842105\n",
      "186804.0 0.3157894736842105\n",
      "128827.0 0.5263157894736842\n",
      "31979.0 0.42105263157894735\n",
      "[2005525.0, 2810280.0, 2810281.0, 815.0, 1853231.0, 186803.0, 186804.0, 128827.0, 31979.0]\n",
      "17 539 ====\n",
      "1300.0 0.5294117647058824\n",
      "2810280.0 0.5882352941176471\n",
      "2810281.0 0.4117647058823529\n",
      "186804.0 0.47058823529411764\n",
      "128827.0 0.35294117647058826\n",
      "31979.0 0.5882352941176471\n",
      "[1300.0, 2810280.0, 2810281.0, 186804.0, 128827.0, 31979.0]\n",
      "43 1683 ====\n",
      "1300.0 0.4418604651162791\n",
      "2005525.0 0.4883720930232558\n",
      "2810280.0 0.627906976744186\n",
      "2810281.0 0.46511627906976744\n",
      "815.0 0.4883720930232558\n",
      "1853231.0 0.4883720930232558\n",
      "186803.0 0.4186046511627907\n",
      "186804.0 0.5581395348837209\n",
      "128827.0 0.6046511627906976\n"
     ]
    },
    {
     "name": "stderr",
     "output_type": "stream",
     "text": [
      "20it [00:00, 70.44it/s]"
     ]
    },
    {
     "name": "stdout",
     "output_type": "stream",
     "text": [
      "31979.0 0.5581395348837209\n",
      "[1300.0, 2005525.0, 2810280.0, 2810281.0, 815.0, 1853231.0, 186803.0, 186804.0, 128827.0, 31979.0]\n",
      "91 3710 ====\n",
      "1300.0 0.32967032967032966\n",
      "2810280.0 0.4835164835164835\n",
      "2810281.0 0.4065934065934066\n",
      "1853231.0 0.34065934065934067\n",
      "186803.0 0.3956043956043956\n",
      "186804.0 0.37362637362637363\n",
      "128827.0 0.45054945054945056\n",
      "31979.0 0.42857142857142855\n",
      "[1300.0, 2810280.0, 2810281.0, 1853231.0, 186803.0, 186804.0, 128827.0, 31979.0]\n",
      "8 620 ====\n",
      "1300.0 0.5\n",
      "2810280.0 0.375\n",
      "2810281.0 0.375\n",
      "815.0 0.625\n",
      "186803.0 0.625\n",
      "186804.0 0.5\n",
      "128827.0 0.5\n",
      "31977.0 0.5\n",
      "31979.0 0.75\n",
      "194924.0 0.375\n",
      "[1300.0, 2810280.0, 2810281.0, 815.0, 186803.0, 186804.0, 128827.0, 31977.0, 31979.0, 194924.0]\n",
      "11 496 ====\n",
      "2810280.0 0.36363636363636365\n",
      "186804.0 0.36363636363636365\n",
      "[2810280.0, 186804.0]\n",
      "95 4048 ====\n",
      "2810280.0 0.4842105263157895\n",
      "2810281.0 0.3473684210526316\n",
      "815.0 0.3263157894736842\n",
      "186803.0 0.4105263157894737\n",
      "186804.0 0.45263157894736844\n",
      "128827.0 0.4\n",
      "31979.0 0.47368421052631576\n",
      "[2810280.0, 2810281.0, 815.0, 186803.0, 186804.0, 128827.0, 31979.0]\n",
      "162 5747 ====\n",
      "2810280.0 0.30246913580246915\n",
      "[2810280.0]\n"
     ]
    },
    {
     "name": "stderr",
     "output_type": "stream",
     "text": [
      "\n"
     ]
    }
   ],
   "source": [
    "from Bio import SeqIO\n",
    "from tqdm import tqdm\n",
    "prediction = []\n",
    "\n",
    "i = 0\n",
    "\n",
    "for record in tqdm(SeqIO.parse(\"/mnt/c/Users/guzh/Downloads/sampled_reads.fastq\", \"fastq\")):\n",
    "    #print(record.seq)\n",
    "    record_signature = sg._to_signature([str(record.seq)]) & filter\n",
    "    print(record_signature.sum(), len(record.seq), \"====\")\n",
    "\n",
    "    best_similiarity = 0\n",
    "    genus_prediction = []\n",
    "    for genus in bool_signature:\n",
    "        similarity = (record_signature & bool_signature[genus]).sum() / record_signature.sum()\n",
    "        if similarity > 0.3:\n",
    "            genus_prediction.append(genus)\n",
    "            print(genus, similarity)\n",
    "            #best_similiarity = similarity\n",
    "    \n",
    "    print(genus_prediction)\n",
    "    \n",
    "    prediction.append(genus_prediction)\n",
    "    i += 1\n",
    "    if i > 20:\n",
    "        break"
   ]
  },
  {
   "cell_type": "code",
   "execution_count": null,
   "metadata": {},
   "outputs": [],
   "source": []
  }
 ],
 "metadata": {
  "kernelspec": {
   "display_name": "Python 3",
   "language": "python",
   "name": "python3"
  },
  "language_info": {
   "codemirror_mode": {
    "name": "ipython",
    "version": 3
   },
   "file_extension": ".py",
   "mimetype": "text/x-python",
   "name": "python",
   "nbconvert_exporter": "python",
   "pygments_lexer": "ipython3",
   "version": "3.8.18"
  }
 },
 "nbformat": 4,
 "nbformat_minor": 2
}
