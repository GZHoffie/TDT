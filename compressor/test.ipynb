{
 "cells": [
  {
   "cell_type": "code",
   "execution_count": 18,
   "metadata": {},
   "outputs": [],
   "source": [
    "import sys\n",
    "\n",
    "sys.path.append(\"/home/zhenhao/TDT\")"
   ]
  },
  {
   "cell_type": "code",
   "execution_count": 19,
   "metadata": {},
   "outputs": [],
   "source": [
    "import compressor.utils"
   ]
  },
  {
   "cell_type": "code",
   "execution_count": 31,
   "metadata": {},
   "outputs": [
    {
     "name": "stdout",
     "output_type": "stream",
     "text": [
      "[INFO]\t\tSeed length set to 12, estimated vocabulary size 8388608.\n"
     ]
    }
   ],
   "source": [
    "import glob\n",
    "\n",
    "def fracMinHash(kmer_hash):\n",
    "    hash = (976369 * kmer_hash + 1982627) % 10000\n",
    "    if hash <= 10:\n",
    "        return True\n",
    "    else:\n",
    "        return False\n",
    "        \n",
    "sg = compressor.utils.FMHSignature(fracMinHash, 12, 12, \"/home/zhenhao/TDT/12-mer.pkl\")\n",
    "#signature, storage = sg._find_consensus_in_genus(glob.glob(\"/home/zhenhao/TDT/data/escherichia/*.fna\"))"
   ]
  },
  {
   "cell_type": "code",
   "execution_count": 11,
   "metadata": {},
   "outputs": [],
   "source": [
    "import numpy as np\n",
    "\n",
    "pairwise_ANI = np.zeros((len(storage), len(storage)))\n",
    "\n",
    "for i in range(len(storage)):\n",
    "    for j in range(i, len(storage)):\n",
    "        jaccard_index = (storage[i] & storage[j]).sum() / (storage[i] | storage[j]).sum()\n",
    "        pairwise_ANI[i][j] = pairwise_ANI[j][i] = jaccard_index"
   ]
  },
  {
   "cell_type": "code",
   "execution_count": 15,
   "metadata": {},
   "outputs": [
    {
     "data": {
      "text/plain": [
       "(array([  730.,   394., 19646.,  3618.,  2870.,  1652.,  2280.,  2354.,\n",
       "          226.,   455.]),\n",
       " array([0.26702465, 0.34032219, 0.41361972, 0.48691726, 0.56021479,\n",
       "        0.63351233, 0.70680986, 0.7801074 , 0.85340493, 0.92670247,\n",
       "        1.        ]),\n",
       " <BarContainer object of 10 artists>)"
      ]
     },
     "execution_count": 15,
     "metadata": {},
     "output_type": "execute_result"
    },
    {
     "data": {
      "image/png": "[encoded data removed]",
      "text/plain": [
       "<Figure size 640x480 with 1 Axes>"
      ]
     },
     "metadata": {},
     "output_type": "display_data"
    }
   ],
   "source": [
    "plt.hist(pairwise_ANI.flatten())"
   ]
  },
  {
   "cell_type": "code",
   "execution_count": 23,
   "metadata": {},
   "outputs": [
    {
     "data": {
      "text/plain": [
       "185"
      ]
     },
     "execution_count": 23,
     "metadata": {},
     "output_type": "execute_result"
    }
   ],
   "source": [
    "len(storage)"
   ]
  },
  {
   "cell_type": "code",
   "execution_count": 17,
   "metadata": {},
   "outputs": [
    {
     "data": {
      "text/plain": [
       "0.41859629747937094"
      ]
     },
     "execution_count": 17,
     "metadata": {},
     "output_type": "execute_result"
    }
   ],
   "source": [
    "import matplotlib.pyplot as plt\n",
    "\n",
    "plt.hist(signature)"
   ]
  },
  {
   "cell_type": "code",
   "execution_count": 22,
   "metadata": {},
   "outputs": [
    {
     "data": {
      "text/plain": [
       "3289"
      ]
     },
     "execution_count": 22,
     "metadata": {},
     "output_type": "execute_result"
    }
   ],
   "source": [
    "(signature > 80).sum()"
   ]
  },
  {
   "cell_type": "code",
   "execution_count": 25,
   "metadata": {},
   "outputs": [],
   "source": [
    "genus_signature = (signature > 80)"
   ]
  },
  {
   "cell_type": "code",
   "execution_count": 24,
   "metadata": {},
   "outputs": [],
   "source": [
    "import pickle\n",
    "with open(\"escherichia.pkl\", \"wb\") as f:\n",
    "    pickle.dump(storage, f)"
   ]
  },
  {
   "cell_type": "code",
   "execution_count": 26,
   "metadata": {},
   "outputs": [],
   "source": [
    "coverage = []\n",
    "\n",
    "for i in storage:\n",
    "    coverage.append((i & genus_signature).sum() / genus_signature.sum())"
   ]
  },
  {
   "cell_type": "code",
   "execution_count": 28,
   "metadata": {},
   "outputs": [
    {
     "data": {
      "text/plain": [
       "{'whiskers': [<matplotlib.lines.Line2D at 0x7fd0e24715a0>,\n",
       "  <matplotlib.lines.Line2D at 0x7fd0e2471840>],\n",
       " 'caps': [<matplotlib.lines.Line2D at 0x7fd0e2471ae0>,\n",
       "  <matplotlib.lines.Line2D at 0x7fd0e2471d80>],\n",
       " 'boxes': [<matplotlib.lines.Line2D at 0x7fd0e2471300>],\n",
       " 'medians': [<matplotlib.lines.Line2D at 0x7fd0e2472020>],\n",
       " 'fliers': [<matplotlib.lines.Line2D at 0x7fd0e24722c0>],\n",
       " 'means': []}"
      ]
     },
     "execution_count": 28,
     "metadata": {},
     "output_type": "execute_result"
    },
    {
     "data": {
      "image/png": "[encoded data removed]",
      "text/plain": [
       "<Figure size 640x480 with 1 Axes>"
      ]
     },
     "metadata": {},
     "output_type": "display_data"
    }
   ],
   "source": [
    "plt.boxplot(coverage)"
   ]
  },
  {
   "cell_type": "code",
   "execution_count": 29,
   "metadata": {},
   "outputs": [
    {
     "name": "stderr",
     "output_type": "stream",
     "text": [
      "  1%|          | 1/98 [00:01<02:48,  1.74s/it]"
     ]
    },
    {
     "name": "stdout",
     "output_type": "stream",
     "text": [
      "[0 0 1 ... 1 1 1] 1940\n"
     ]
    },
    {
     "name": "stderr",
     "output_type": "stream",
     "text": [
      "  2%|▏         | 2/98 [00:03<02:47,  1.75s/it]"
     ]
    },
    {
     "name": "stdout",
     "output_type": "stream",
     "text": [
      "[0 1 1 ... 1 1 1] 1971\n"
     ]
    },
    {
     "name": "stderr",
     "output_type": "stream",
     "text": [
      "  3%|▎         | 3/98 [00:05<02:43,  1.72s/it]"
     ]
    },
    {
     "name": "stdout",
     "output_type": "stream",
     "text": [
      "[0 1 0 ... 0 0 1] 1686\n"
     ]
    },
    {
     "name": "stderr",
     "output_type": "stream",
     "text": [
      "  4%|▍         | 4/98 [00:07<02:59,  1.91s/it]"
     ]
    },
    {
     "name": "stdout",
     "output_type": "stream",
     "text": [
      "[1 1 0 ... 1 1 1] 1871\n"
     ]
    },
    {
     "name": "stderr",
     "output_type": "stream",
     "text": [
      "  5%|▌         | 5/98 [00:09<02:54,  1.87s/it]"
     ]
    },
    {
     "name": "stdout",
     "output_type": "stream",
     "text": [
      "[0 1 1 ... 0 1 1] 1830\n"
     ]
    },
    {
     "name": "stderr",
     "output_type": "stream",
     "text": [
      "  6%|▌         | 6/98 [00:10<02:46,  1.81s/it]"
     ]
    },
    {
     "name": "stdout",
     "output_type": "stream",
     "text": [
      "[0 1 0 ... 1 1 1] 1670\n"
     ]
    },
    {
     "name": "stderr",
     "output_type": "stream",
     "text": [
      "  7%|▋         | 7/98 [00:12<02:44,  1.81s/it]"
     ]
    },
    {
     "name": "stdout",
     "output_type": "stream",
     "text": [
      "[0 1 0 ... 1 0 1] 1879\n"
     ]
    },
    {
     "name": "stderr",
     "output_type": "stream",
     "text": [
      "  8%|▊         | 8/98 [00:14<02:39,  1.77s/it]"
     ]
    },
    {
     "name": "stdout",
     "output_type": "stream",
     "text": [
      "[0 1 0 ... 1 0 1] 1720\n"
     ]
    },
    {
     "name": "stderr",
     "output_type": "stream",
     "text": [
      "  9%|▉         | 9/98 [00:16<02:42,  1.83s/it]"
     ]
    },
    {
     "name": "stdout",
     "output_type": "stream",
     "text": [
      "[0 1 1 ... 1 1 1] 1822\n"
     ]
    },
    {
     "name": "stderr",
     "output_type": "stream",
     "text": [
      " 10%|█         | 10/98 [00:18<03:00,  2.05s/it]"
     ]
    },
    {
     "name": "stdout",
     "output_type": "stream",
     "text": [
      "[0 1 0 ... 1 0 1] 1858\n"
     ]
    },
    {
     "name": "stderr",
     "output_type": "stream",
     "text": [
      " 11%|█         | 11/98 [00:20<02:59,  2.07s/it]"
     ]
    },
    {
     "name": "stdout",
     "output_type": "stream",
     "text": [
      "[0 1 0 ... 1 1 1] 1829\n"
     ]
    },
    {
     "name": "stderr",
     "output_type": "stream",
     "text": [
      " 12%|█▏        | 12/98 [00:23<03:02,  2.12s/it]"
     ]
    },
    {
     "name": "stdout",
     "output_type": "stream",
     "text": [
      "[0 0 1 ... 1 0 1] 1872\n"
     ]
    },
    {
     "name": "stderr",
     "output_type": "stream",
     "text": [
      " 13%|█▎        | 13/98 [00:25<03:02,  2.14s/it]"
     ]
    },
    {
     "name": "stdout",
     "output_type": "stream",
     "text": [
      "[1 0 0 ... 0 1 0] 1850\n"
     ]
    },
    {
     "name": "stderr",
     "output_type": "stream",
     "text": [
      " 14%|█▍        | 14/98 [00:27<03:07,  2.23s/it]"
     ]
    },
    {
     "name": "stdout",
     "output_type": "stream",
     "text": [
      "[0 0 1 ... 1 1 0] 1653\n"
     ]
    },
    {
     "name": "stderr",
     "output_type": "stream",
     "text": [
      " 15%|█▌        | 15/98 [00:30<03:07,  2.26s/it]"
     ]
    },
    {
     "name": "stdout",
     "output_type": "stream",
     "text": [
      "[0 1 0 ... 1 0 1] 1881\n"
     ]
    },
    {
     "name": "stderr",
     "output_type": "stream",
     "text": [
      " 16%|█▋        | 16/98 [00:32<03:02,  2.23s/it]"
     ]
    },
    {
     "name": "stdout",
     "output_type": "stream",
     "text": [
      "[0 0 1 ... 1 0 1] 1977\n"
     ]
    },
    {
     "name": "stderr",
     "output_type": "stream",
     "text": [
      " 17%|█▋        | 17/98 [00:34<02:58,  2.21s/it]"
     ]
    },
    {
     "name": "stdout",
     "output_type": "stream",
     "text": [
      "[0 0 0 ... 1 0 1] 1804\n"
     ]
    },
    {
     "name": "stderr",
     "output_type": "stream",
     "text": [
      " 18%|█▊        | 18/98 [00:36<02:46,  2.08s/it]"
     ]
    },
    {
     "name": "stdout",
     "output_type": "stream",
     "text": [
      "[0 1 0 ... 0 1 1] 1550\n"
     ]
    },
    {
     "name": "stderr",
     "output_type": "stream",
     "text": [
      " 19%|█▉        | 19/98 [00:38<02:45,  2.09s/it]"
     ]
    },
    {
     "name": "stdout",
     "output_type": "stream",
     "text": [
      "[0 0 0 ... 1 0 1] 1735\n"
     ]
    },
    {
     "name": "stderr",
     "output_type": "stream",
     "text": [
      " 20%|██        | 20/98 [00:40<02:43,  2.09s/it]"
     ]
    },
    {
     "name": "stdout",
     "output_type": "stream",
     "text": [
      "[0 1 0 ... 0 0 1] 1844\n"
     ]
    },
    {
     "name": "stderr",
     "output_type": "stream",
     "text": [
      " 21%|██▏       | 21/98 [00:42<02:42,  2.11s/it]"
     ]
    },
    {
     "name": "stdout",
     "output_type": "stream",
     "text": [
      "[0 1 0 ... 1 1 1] 1869\n"
     ]
    },
    {
     "name": "stderr",
     "output_type": "stream",
     "text": [
      " 22%|██▏       | 22/98 [00:45<02:50,  2.24s/it]"
     ]
    },
    {
     "name": "stdout",
     "output_type": "stream",
     "text": [
      "[1 1 1 ... 1 0 1] 1929\n"
     ]
    },
    {
     "name": "stderr",
     "output_type": "stream",
     "text": [
      " 23%|██▎       | 23/98 [00:46<02:35,  2.07s/it]"
     ]
    },
    {
     "name": "stdout",
     "output_type": "stream",
     "text": [
      "[0 1 0 ... 1 0 1] 1704\n"
     ]
    },
    {
     "name": "stderr",
     "output_type": "stream",
     "text": [
      " 24%|██▍       | 24/98 [00:48<02:32,  2.06s/it]"
     ]
    },
    {
     "name": "stdout",
     "output_type": "stream",
     "text": [
      "[0 1 1 ... 1 0 1] 1829\n"
     ]
    },
    {
     "name": "stderr",
     "output_type": "stream",
     "text": [
      " 26%|██▌       | 25/98 [00:50<02:27,  2.02s/it]"
     ]
    },
    {
     "name": "stdout",
     "output_type": "stream",
     "text": [
      "[0 1 0 ... 0 0 1] 1830\n"
     ]
    },
    {
     "name": "stderr",
     "output_type": "stream",
     "text": [
      " 27%|██▋       | 26/98 [00:52<02:28,  2.06s/it]"
     ]
    },
    {
     "name": "stdout",
     "output_type": "stream",
     "text": [
      "[0 0 1 ... 1 0 1] 1954\n"
     ]
    },
    {
     "name": "stderr",
     "output_type": "stream",
     "text": [
      " 28%|██▊       | 27/98 [00:54<02:23,  2.02s/it]"
     ]
    },
    {
     "name": "stdout",
     "output_type": "stream",
     "text": [
      "[0 0 0 ... 0 1 1] 1930\n"
     ]
    },
    {
     "name": "stderr",
     "output_type": "stream",
     "text": [
      " 29%|██▊       | 28/98 [00:56<02:04,  1.78s/it]"
     ]
    },
    {
     "name": "stdout",
     "output_type": "stream",
     "text": [
      "[0 1 0 ... 0 1 1] 1251\n"
     ]
    },
    {
     "name": "stderr",
     "output_type": "stream",
     "text": [
      " 30%|██▉       | 29/98 [00:58<02:07,  1.84s/it]"
     ]
    },
    {
     "name": "stdout",
     "output_type": "stream",
     "text": [
      "[0 1 0 ... 1 0 1] 1757\n"
     ]
    },
    {
     "name": "stderr",
     "output_type": "stream",
     "text": [
      " 31%|███       | 30/98 [01:00<02:08,  1.89s/it]"
     ]
    },
    {
     "name": "stdout",
     "output_type": "stream",
     "text": [
      "[0 1 1 ... 0 1 1] 1783\n"
     ]
    },
    {
     "name": "stderr",
     "output_type": "stream",
     "text": [
      " 32%|███▏      | 31/98 [01:02<02:16,  2.04s/it]"
     ]
    },
    {
     "name": "stdout",
     "output_type": "stream",
     "text": [
      "[0 0 0 ... 1 1 1] 1722\n"
     ]
    },
    {
     "name": "stderr",
     "output_type": "stream",
     "text": [
      " 33%|███▎      | 32/98 [01:04<02:14,  2.04s/it]"
     ]
    },
    {
     "name": "stdout",
     "output_type": "stream",
     "text": [
      "[0 1 1 ... 0 1 1] 1764\n"
     ]
    },
    {
     "name": "stderr",
     "output_type": "stream",
     "text": [
      " 34%|███▎      | 33/98 [01:07<02:22,  2.19s/it]"
     ]
    },
    {
     "name": "stdout",
     "output_type": "stream",
     "text": [
      "[1 0 0 ... 0 1 0] 1645\n"
     ]
    },
    {
     "name": "stderr",
     "output_type": "stream",
     "text": [
      " 35%|███▍      | 34/98 [01:09<02:27,  2.30s/it]"
     ]
    },
    {
     "name": "stdout",
     "output_type": "stream",
     "text": [
      "[0 1 1 ... 0 1 1] 1924\n"
     ]
    },
    {
     "name": "stderr",
     "output_type": "stream",
     "text": [
      " 36%|███▌      | 35/98 [01:12<02:27,  2.34s/it]"
     ]
    },
    {
     "name": "stdout",
     "output_type": "stream",
     "text": [
      "[0 1 1 ... 1 1 1] 1989\n"
     ]
    },
    {
     "name": "stderr",
     "output_type": "stream",
     "text": [
      " 37%|███▋      | 36/98 [01:14<02:18,  2.23s/it]"
     ]
    },
    {
     "name": "stdout",
     "output_type": "stream",
     "text": [
      "[0 0 0 ... 1 1 1] 1792\n"
     ]
    },
    {
     "name": "stderr",
     "output_type": "stream",
     "text": [
      " 38%|███▊      | 37/98 [01:16<02:17,  2.25s/it]"
     ]
    },
    {
     "name": "stdout",
     "output_type": "stream",
     "text": [
      "[1 0 1 ... 1 1 1] 1930\n"
     ]
    },
    {
     "name": "stderr",
     "output_type": "stream",
     "text": [
      " 39%|███▉      | 38/98 [01:18<02:12,  2.20s/it]"
     ]
    },
    {
     "name": "stdout",
     "output_type": "stream",
     "text": [
      "[0 1 1 ... 0 1 1] 1826\n"
     ]
    },
    {
     "name": "stderr",
     "output_type": "stream",
     "text": [
      " 40%|███▉      | 39/98 [01:20<02:07,  2.17s/it]"
     ]
    },
    {
     "name": "stdout",
     "output_type": "stream",
     "text": [
      "[0 1 0 ... 1 0 1] 1728\n"
     ]
    },
    {
     "name": "stderr",
     "output_type": "stream",
     "text": [
      " 41%|████      | 40/98 [01:22<02:02,  2.12s/it]"
     ]
    },
    {
     "name": "stdout",
     "output_type": "stream",
     "text": [
      "[0 0 1 ... 0 1 1] 1906\n"
     ]
    },
    {
     "name": "stderr",
     "output_type": "stream",
     "text": [
      " 42%|████▏     | 41/98 [01:24<02:02,  2.14s/it]"
     ]
    },
    {
     "name": "stdout",
     "output_type": "stream",
     "text": [
      "[0 1 0 ... 1 1 1] 1862\n"
     ]
    },
    {
     "name": "stderr",
     "output_type": "stream",
     "text": [
      " 43%|████▎     | 42/98 [01:26<01:58,  2.12s/it]"
     ]
    },
    {
     "name": "stdout",
     "output_type": "stream",
     "text": [
      "[0 1 1 ... 0 1 1] 1807\n"
     ]
    },
    {
     "name": "stderr",
     "output_type": "stream",
     "text": [
      " 44%|████▍     | 43/98 [01:28<01:51,  2.03s/it]"
     ]
    },
    {
     "name": "stdout",
     "output_type": "stream",
     "text": [
      "[1 1 0 ... 1 1 1] 1508\n"
     ]
    },
    {
     "name": "stderr",
     "output_type": "stream",
     "text": [
      " 45%|████▍     | 44/98 [01:30<01:50,  2.04s/it]"
     ]
    },
    {
     "name": "stdout",
     "output_type": "stream",
     "text": [
      "[0 1 1 ... 0 1 1] 1812\n"
     ]
    },
    {
     "name": "stderr",
     "output_type": "stream",
     "text": [
      " 46%|████▌     | 45/98 [01:32<01:49,  2.06s/it]"
     ]
    },
    {
     "name": "stdout",
     "output_type": "stream",
     "text": [
      "[0 1 0 ... 0 1 0] 1863\n"
     ]
    },
    {
     "name": "stderr",
     "output_type": "stream",
     "text": [
      " 47%|████▋     | 46/98 [01:35<01:52,  2.16s/it]"
     ]
    },
    {
     "name": "stdout",
     "output_type": "stream",
     "text": [
      "[0 1 0 ... 1 0 1] 1881\n"
     ]
    },
    {
     "name": "stderr",
     "output_type": "stream",
     "text": [
      " 48%|████▊     | 47/98 [01:37<01:51,  2.19s/it]"
     ]
    },
    {
     "name": "stdout",
     "output_type": "stream",
     "text": [
      "[0 0 1 ... 1 1 1] 1853\n"
     ]
    },
    {
     "name": "stderr",
     "output_type": "stream",
     "text": [
      " 49%|████▉     | 48/98 [01:40<01:55,  2.32s/it]"
     ]
    },
    {
     "name": "stdout",
     "output_type": "stream",
     "text": [
      "[0 0 0 ... 1 0 1] 1836\n"
     ]
    },
    {
     "name": "stderr",
     "output_type": "stream",
     "text": [
      " 50%|█████     | 49/98 [01:42<01:56,  2.38s/it]"
     ]
    },
    {
     "name": "stdout",
     "output_type": "stream",
     "text": [
      "[0 1 1 ... 0 1 1] 1813\n"
     ]
    },
    {
     "name": "stderr",
     "output_type": "stream",
     "text": [
      " 51%|█████     | 50/98 [01:44<01:48,  2.25s/it]"
     ]
    },
    {
     "name": "stdout",
     "output_type": "stream",
     "text": [
      "[0 0 0 ... 1 1 1] 1714\n"
     ]
    },
    {
     "name": "stderr",
     "output_type": "stream",
     "text": [
      " 52%|█████▏    | 51/98 [01:46<01:46,  2.26s/it]"
     ]
    },
    {
     "name": "stdout",
     "output_type": "stream",
     "text": [
      "[0 1 1 ... 1 1 0] 1919\n"
     ]
    },
    {
     "name": "stderr",
     "output_type": "stream",
     "text": [
      " 53%|█████▎    | 52/98 [01:49<01:43,  2.25s/it]"
     ]
    },
    {
     "name": "stdout",
     "output_type": "stream",
     "text": [
      "[0 1 1 ... 0 1 1] 1823\n"
     ]
    },
    {
     "name": "stderr",
     "output_type": "stream",
     "text": [
      " 54%|█████▍    | 53/98 [01:51<01:44,  2.32s/it]"
     ]
    },
    {
     "name": "stdout",
     "output_type": "stream",
     "text": [
      "[0 1 1 ... 0 1 1] 1832\n"
     ]
    },
    {
     "name": "stderr",
     "output_type": "stream",
     "text": [
      " 55%|█████▌    | 54/98 [01:53<01:41,  2.31s/it]"
     ]
    },
    {
     "name": "stdout",
     "output_type": "stream",
     "text": [
      "[0 1 0 ... 1 0 1] 1720\n"
     ]
    },
    {
     "name": "stderr",
     "output_type": "stream",
     "text": [
      " 56%|█████▌    | 55/98 [01:56<01:41,  2.36s/it]"
     ]
    },
    {
     "name": "stdout",
     "output_type": "stream",
     "text": [
      "[0 0 1 ... 1 0 1] 1932\n"
     ]
    },
    {
     "name": "stderr",
     "output_type": "stream",
     "text": [
      " 57%|█████▋    | 56/98 [01:58<01:39,  2.36s/it]"
     ]
    },
    {
     "name": "stdout",
     "output_type": "stream",
     "text": [
      "[0 1 1 ... 1 1 1] 1900\n"
     ]
    },
    {
     "name": "stderr",
     "output_type": "stream",
     "text": [
      " 58%|█████▊    | 57/98 [02:01<01:39,  2.43s/it]"
     ]
    },
    {
     "name": "stdout",
     "output_type": "stream",
     "text": [
      "[0 1 0 ... 1 0 1] 1916\n"
     ]
    },
    {
     "name": "stderr",
     "output_type": "stream",
     "text": [
      " 59%|█████▉    | 58/98 [02:03<01:32,  2.31s/it]"
     ]
    },
    {
     "name": "stdout",
     "output_type": "stream",
     "text": [
      "[0 0 1 ... 1 1 1] 1761\n"
     ]
    },
    {
     "name": "stderr",
     "output_type": "stream",
     "text": [
      " 60%|██████    | 59/98 [02:05<01:33,  2.39s/it]"
     ]
    },
    {
     "name": "stdout",
     "output_type": "stream",
     "text": [
      "[1 1 1 ... 1 0 1] 1932\n"
     ]
    },
    {
     "name": "stderr",
     "output_type": "stream",
     "text": [
      " 61%|██████    | 60/98 [02:07<01:26,  2.28s/it]"
     ]
    },
    {
     "name": "stdout",
     "output_type": "stream",
     "text": [
      "[0 0 1 ... 1 1 0] 1649\n"
     ]
    },
    {
     "name": "stderr",
     "output_type": "stream",
     "text": [
      " 62%|██████▏   | 61/98 [02:09<01:21,  2.21s/it]"
     ]
    },
    {
     "name": "stdout",
     "output_type": "stream",
     "text": [
      "[0 1 0 ... 1 0 1] 1740\n"
     ]
    },
    {
     "name": "stderr",
     "output_type": "stream",
     "text": [
      " 63%|██████▎   | 62/98 [02:12<01:18,  2.19s/it]"
     ]
    },
    {
     "name": "stdout",
     "output_type": "stream",
     "text": [
      "[0 1 1 ... 0 1 1] 1759\n"
     ]
    },
    {
     "name": "stderr",
     "output_type": "stream",
     "text": [
      " 64%|██████▍   | 63/98 [02:13<01:09,  2.00s/it]"
     ]
    },
    {
     "name": "stdout",
     "output_type": "stream",
     "text": [
      "[0 0 1 ... 0 1 1] 1122\n"
     ]
    },
    {
     "name": "stderr",
     "output_type": "stream",
     "text": [
      " 65%|██████▌   | 64/98 [02:16<01:12,  2.14s/it]"
     ]
    },
    {
     "name": "stdout",
     "output_type": "stream",
     "text": [
      "[0 1 0 ... 1 0 1] 1810\n"
     ]
    },
    {
     "name": "stderr",
     "output_type": "stream",
     "text": [
      " 66%|██████▋   | 65/98 [02:18<01:11,  2.17s/it]"
     ]
    },
    {
     "name": "stdout",
     "output_type": "stream",
     "text": [
      "[0 0 0 ... 1 0 1] 2020\n"
     ]
    },
    {
     "name": "stderr",
     "output_type": "stream",
     "text": [
      " 67%|██████▋   | 66/98 [02:20<01:11,  2.23s/it]"
     ]
    },
    {
     "name": "stdout",
     "output_type": "stream",
     "text": [
      "[0 0 1 ... 0 1 1] 1927\n"
     ]
    },
    {
     "name": "stderr",
     "output_type": "stream",
     "text": [
      " 68%|██████▊   | 67/98 [02:22<01:05,  2.10s/it]"
     ]
    },
    {
     "name": "stdout",
     "output_type": "stream",
     "text": [
      "[0 0 0 ... 1 1 1] 1544\n"
     ]
    },
    {
     "name": "stderr",
     "output_type": "stream",
     "text": [
      " 69%|██████▉   | 68/98 [02:24<01:04,  2.14s/it]"
     ]
    },
    {
     "name": "stdout",
     "output_type": "stream",
     "text": [
      "[0 1 0 ... 1 1 1] 1671\n"
     ]
    },
    {
     "name": "stderr",
     "output_type": "stream",
     "text": [
      " 70%|███████   | 69/98 [02:26<01:03,  2.18s/it]"
     ]
    },
    {
     "name": "stdout",
     "output_type": "stream",
     "text": [
      "[0 1 1 ... 1 0 1] 1831\n"
     ]
    },
    {
     "name": "stderr",
     "output_type": "stream",
     "text": [
      " 71%|███████▏  | 70/98 [02:28<00:58,  2.11s/it]"
     ]
    },
    {
     "name": "stdout",
     "output_type": "stream",
     "text": [
      "[0 0 1 ... 1 1 1] 1821\n"
     ]
    },
    {
     "name": "stderr",
     "output_type": "stream",
     "text": [
      " 72%|███████▏  | 71/98 [02:31<00:59,  2.19s/it]"
     ]
    },
    {
     "name": "stdout",
     "output_type": "stream",
     "text": [
      "[0 1 0 ... 1 1 1] 1944\n"
     ]
    },
    {
     "name": "stderr",
     "output_type": "stream",
     "text": [
      " 73%|███████▎  | 72/98 [02:33<00:57,  2.20s/it]"
     ]
    },
    {
     "name": "stdout",
     "output_type": "stream",
     "text": [
      "[0 0 1 ... 0 0 1] 1981\n"
     ]
    },
    {
     "name": "stderr",
     "output_type": "stream",
     "text": [
      " 74%|███████▍  | 73/98 [02:35<00:54,  2.17s/it]"
     ]
    },
    {
     "name": "stdout",
     "output_type": "stream",
     "text": [
      "[0 0 1 ... 1 1 0] 1656\n"
     ]
    },
    {
     "name": "stderr",
     "output_type": "stream",
     "text": [
      " 76%|███████▌  | 74/98 [02:37<00:52,  2.20s/it]"
     ]
    },
    {
     "name": "stdout",
     "output_type": "stream",
     "text": [
      "[1 1 1 ... 1 0 1] 1845\n"
     ]
    },
    {
     "name": "stderr",
     "output_type": "stream",
     "text": [
      " 77%|███████▋  | 75/98 [02:39<00:48,  2.12s/it]"
     ]
    },
    {
     "name": "stdout",
     "output_type": "stream",
     "text": [
      "[0 0 0 ... 1 1 1] 1716\n"
     ]
    },
    {
     "name": "stderr",
     "output_type": "stream",
     "text": [
      " 78%|███████▊  | 76/98 [02:42<00:48,  2.22s/it]"
     ]
    },
    {
     "name": "stdout",
     "output_type": "stream",
     "text": [
      "[1 0 0 ... 0 1 1] 1828\n"
     ]
    },
    {
     "name": "stderr",
     "output_type": "stream",
     "text": [
      " 79%|███████▊  | 77/98 [02:44<00:43,  2.07s/it]"
     ]
    },
    {
     "name": "stdout",
     "output_type": "stream",
     "text": [
      "[0 1 1 ... 1 1 1] 1519\n"
     ]
    },
    {
     "name": "stderr",
     "output_type": "stream",
     "text": [
      " 80%|███████▉  | 78/98 [02:46<00:44,  2.23s/it]"
     ]
    },
    {
     "name": "stdout",
     "output_type": "stream",
     "text": [
      "[0 1 1 ... 1 0 1] 1941\n"
     ]
    },
    {
     "name": "stderr",
     "output_type": "stream",
     "text": [
      " 81%|████████  | 79/98 [02:48<00:41,  2.19s/it]"
     ]
    },
    {
     "name": "stdout",
     "output_type": "stream",
     "text": [
      "[0 0 1 ... 1 1 0] 1629\n"
     ]
    },
    {
     "name": "stderr",
     "output_type": "stream",
     "text": [
      " 82%|████████▏ | 80/98 [02:50<00:38,  2.14s/it]"
     ]
    },
    {
     "name": "stdout",
     "output_type": "stream",
     "text": [
      "[0 1 1 ... 0 1 1] 1785\n"
     ]
    },
    {
     "name": "stderr",
     "output_type": "stream",
     "text": [
      " 83%|████████▎ | 81/98 [02:52<00:35,  2.09s/it]"
     ]
    },
    {
     "name": "stdout",
     "output_type": "stream",
     "text": [
      "[0 1 0 ... 1 0 1] 1699\n"
     ]
    },
    {
     "name": "stderr",
     "output_type": "stream",
     "text": [
      " 84%|████████▎ | 82/98 [02:54<00:33,  2.07s/it]"
     ]
    },
    {
     "name": "stdout",
     "output_type": "stream",
     "text": [
      "[0 0 1 ... 0 1 1] 1943\n"
     ]
    },
    {
     "name": "stderr",
     "output_type": "stream",
     "text": [
      " 85%|████████▍ | 83/98 [02:57<00:33,  2.22s/it]"
     ]
    },
    {
     "name": "stdout",
     "output_type": "stream",
     "text": [
      "[0 1 0 ... 1 0 1] 1825\n"
     ]
    },
    {
     "name": "stderr",
     "output_type": "stream",
     "text": [
      " 86%|████████▌ | 84/98 [02:59<00:30,  2.17s/it]"
     ]
    },
    {
     "name": "stdout",
     "output_type": "stream",
     "text": [
      "[0 0 0 ... 1 0 1] 1805\n"
     ]
    },
    {
     "name": "stderr",
     "output_type": "stream",
     "text": [
      " 87%|████████▋ | 85/98 [03:01<00:27,  2.10s/it]"
     ]
    },
    {
     "name": "stdout",
     "output_type": "stream",
     "text": [
      "[0 1 0 ... 1 1 1] 1722\n"
     ]
    },
    {
     "name": "stderr",
     "output_type": "stream",
     "text": [
      " 88%|████████▊ | 86/98 [03:03<00:26,  2.18s/it]"
     ]
    },
    {
     "name": "stdout",
     "output_type": "stream",
     "text": [
      "[0 0 1 ... 0 1 1] 2121\n"
     ]
    },
    {
     "name": "stderr",
     "output_type": "stream",
     "text": [
      " 89%|████████▉ | 87/98 [03:06<00:25,  2.30s/it]"
     ]
    },
    {
     "name": "stdout",
     "output_type": "stream",
     "text": [
      "[0 1 1 ... 1 0 1] 1958\n"
     ]
    },
    {
     "name": "stderr",
     "output_type": "stream",
     "text": [
      " 90%|████████▉ | 88/98 [03:08<00:22,  2.25s/it]"
     ]
    },
    {
     "name": "stdout",
     "output_type": "stream",
     "text": [
      "[0 1 0 ... 0 0 1] 1676\n"
     ]
    },
    {
     "name": "stderr",
     "output_type": "stream",
     "text": [
      " 91%|█████████ | 89/98 [03:10<00:20,  2.22s/it]"
     ]
    },
    {
     "name": "stdout",
     "output_type": "stream",
     "text": [
      "[0 0 0 ... 1 1 1] 1802\n"
     ]
    },
    {
     "name": "stderr",
     "output_type": "stream",
     "text": [
      " 92%|█████████▏| 90/98 [03:12<00:17,  2.14s/it]"
     ]
    },
    {
     "name": "stdout",
     "output_type": "stream",
     "text": [
      "[0 1 0 ... 0 1 1] 1765\n"
     ]
    },
    {
     "name": "stderr",
     "output_type": "stream",
     "text": [
      " 93%|█████████▎| 91/98 [03:14<00:14,  2.04s/it]"
     ]
    },
    {
     "name": "stdout",
     "output_type": "stream",
     "text": [
      "[0 0 0 ... 0 1 1] 1572\n"
     ]
    },
    {
     "name": "stderr",
     "output_type": "stream",
     "text": [
      " 94%|█████████▍| 92/98 [03:16<00:12,  2.07s/it]"
     ]
    },
    {
     "name": "stdout",
     "output_type": "stream",
     "text": [
      "[0 0 0 ... 1 0 1] 1852\n"
     ]
    },
    {
     "name": "stderr",
     "output_type": "stream",
     "text": [
      " 95%|█████████▍| 93/98 [03:18<00:11,  2.22s/it]"
     ]
    },
    {
     "name": "stdout",
     "output_type": "stream",
     "text": [
      "[0 1 1 ... 0 1 0] 1937\n"
     ]
    },
    {
     "name": "stderr",
     "output_type": "stream",
     "text": [
      " 96%|█████████▌| 94/98 [03:20<00:08,  2.11s/it]"
     ]
    },
    {
     "name": "stdout",
     "output_type": "stream",
     "text": [
      "[0 0 1 ... 1 1 0] 1775\n"
     ]
    },
    {
     "name": "stderr",
     "output_type": "stream",
     "text": [
      " 97%|█████████▋| 95/98 [03:23<00:06,  2.17s/it]"
     ]
    },
    {
     "name": "stdout",
     "output_type": "stream",
     "text": [
      "[0 1 0 ... 1 1 1] 1969\n"
     ]
    },
    {
     "name": "stderr",
     "output_type": "stream",
     "text": [
      " 98%|█████████▊| 96/98 [03:25<00:04,  2.14s/it]"
     ]
    },
    {
     "name": "stdout",
     "output_type": "stream",
     "text": [
      "[0 1 0 ... 0 0 1] 1756\n"
     ]
    },
    {
     "name": "stderr",
     "output_type": "stream",
     "text": [
      " 99%|█████████▉| 97/98 [03:27<00:02,  2.18s/it]"
     ]
    },
    {
     "name": "stdout",
     "output_type": "stream",
     "text": [
      "[0 1 1 ... 1 1 0] 1912\n"
     ]
    },
    {
     "name": "stderr",
     "output_type": "stream",
     "text": [
      "100%|██████████| 98/98 [03:29<00:00,  2.14s/it]"
     ]
    },
    {
     "name": "stdout",
     "output_type": "stream",
     "text": [
      "[1 1 0 ... 0 1 1] 1773\n"
     ]
    },
    {
     "name": "stderr",
     "output_type": "stream",
     "text": [
      "\n"
     ]
    }
   ],
   "source": [
    "signature, storage = sg._find_consensus_in_genus(glob.glob(\"/home/zhenhao/TDT/data/staphylococcus/*.fna\"))"
   ]
  },
  {
   "cell_type": "code",
   "execution_count": 60,
   "metadata": {},
   "outputs": [],
   "source": [
    "staphylococcus_signature = (signature >= 20)"
   ]
  },
  {
   "cell_type": "code",
   "execution_count": 61,
   "metadata": {},
   "outputs": [
    {
     "data": {
      "text/plain": [
       "3083"
      ]
     },
     "execution_count": 61,
     "metadata": {},
     "output_type": "execute_result"
    }
   ],
   "source": [
    "staphylococcus_signature.sum()"
   ]
  },
  {
   "cell_type": "code",
   "execution_count": 34,
   "metadata": {},
   "outputs": [],
   "source": [
    "with open(\"escherichia.pkl\", \"rb\") as f:\n",
    "    es_storage = pickle.load(f)"
   ]
  },
  {
   "cell_type": "code",
   "execution_count": 38,
   "metadata": {},
   "outputs": [],
   "source": [
    "escherichia_signature = np.zeros(len(es_storage[0]), dtype=np.int16)\n",
    "for i in es_storage:\n",
    "    escherichia_signature += i\n",
    "\n",
    "escherichia_signature = (escherichia_signature > 80)"
   ]
  },
  {
   "cell_type": "code",
   "execution_count": 62,
   "metadata": {},
   "outputs": [
    {
     "data": {
      "text/plain": [
       "1440"
      ]
     },
     "execution_count": 62,
     "metadata": {},
     "output_type": "execute_result"
    }
   ],
   "source": [
    "(escherichia_signature & staphylococcus_signature).sum()"
   ]
  },
  {
   "cell_type": "code",
   "execution_count": 63,
   "metadata": {},
   "outputs": [
    {
     "data": {
      "text/plain": [
       "3083"
      ]
     },
     "execution_count": 63,
     "metadata": {},
     "output_type": "execute_result"
    }
   ],
   "source": [
    "staphylococcus_signature.sum()"
   ]
  },
  {
   "cell_type": "code",
   "execution_count": 43,
   "metadata": {},
   "outputs": [
    {
     "data": {
      "text/plain": [
       "3289"
      ]
     },
     "execution_count": 43,
     "metadata": {},
     "output_type": "execute_result"
    }
   ],
   "source": [
    "escherichia_signature.sum()"
   ]
  },
  {
   "cell_type": "code",
   "execution_count": 69,
   "metadata": {},
   "outputs": [],
   "source": [
    "coverage = []\n",
    "\n",
    "for i in range(len(storage)):\n",
    "    coverage.append((storage[i] & staphylococcus_signature).sum() / storage[i].sum())"
   ]
  },
  {
   "cell_type": "code",
   "execution_count": 70,
   "metadata": {},
   "outputs": [
    {
     "data": {
      "text/plain": [
       "{'whiskers': [<matplotlib.lines.Line2D at 0x7fd0e23cbfa0>,\n",
       "  <matplotlib.lines.Line2D at 0x7fd0e23b8280>],\n",
       " 'caps': [<matplotlib.lines.Line2D at 0x7fd0e23b8520>,\n",
       "  <matplotlib.lines.Line2D at 0x7fd0e23b87c0>],\n",
       " 'boxes': [<matplotlib.lines.Line2D at 0x7fd0e23cbd00>],\n",
       " 'medians': [<matplotlib.lines.Line2D at 0x7fd0e23b8a60>],\n",
       " 'fliers': [<matplotlib.lines.Line2D at 0x7fd0e23b8d00>],\n",
       " 'means': []}"
      ]
     },
     "execution_count": 70,
     "metadata": {},
     "output_type": "execute_result"
    },
    {
     "data": {
      "image/png": "[encoded data removed]",
      "text/plain": [
       "<Figure size 640x480 with 1 Axes>"
      ]
     },
     "metadata": {},
     "output_type": "display_data"
    }
   ],
   "source": [
    "plt.boxplot(coverage)"
   ]
  },
  {
   "cell_type": "code",
   "execution_count": 46,
   "metadata": {},
   "outputs": [
    {
     "data": {
      "text/plain": [
       "1017"
      ]
     },
     "execution_count": 46,
     "metadata": {},
     "output_type": "execute_result"
    }
   ],
   "source": [
    "(es_storage[0] & staphylococcus_signature).sum()"
   ]
  },
  {
   "cell_type": "code",
   "execution_count": 71,
   "metadata": {},
   "outputs": [
    {
     "name": "stdout",
     "output_type": "stream",
     "text": [
      "1393\n",
      "2799\n"
     ]
    }
   ],
   "source": [
    "print((es_storage[10] & staphylococcus_signature).sum())\n",
    "print((es_storage[10] & escherichia_signature).sum())"
   ]
  },
  {
   "cell_type": "code",
   "execution_count": 72,
   "metadata": {},
   "outputs": [
    {
     "name": "stdout",
     "output_type": "stream",
     "text": [
      "1334\n",
      "858\n"
     ]
    }
   ],
   "source": [
    "print((storage[10] & staphylococcus_signature).sum())\n",
    "print((storage[10] & escherichia_signature).sum())"
   ]
  },
  {
   "cell_type": "code",
   "execution_count": null,
   "metadata": {},
   "outputs": [],
   "source": []
  },
  {
   "cell_type": "markdown",
   "metadata": {},
   "source": [
    "## Try doing classification"
   ]
  },
  {
   "cell_type": "code",
   "execution_count": 2,
   "metadata": {},
   "outputs": [],
   "source": [
    "import pickle\n",
    "\n",
    "with open(\"/home/zhenhao/TDT/signature.pkl\", \"rb\") as f:\n",
    "    signatures = pickle.load(f)"
   ]
  },
  {
   "cell_type": "code",
   "execution_count": 3,
   "metadata": {},
   "outputs": [
    {
     "data": {
      "text/plain": [
       "[(52225.0, array([0, 0, 1, ..., 3, 2, 7], dtype=int16)),\n",
       " (1392389.0, array([ 0,  0,  0, ...,  6,  8, 11], dtype=int16)),\n",
       " (904.0, array([ 0,  2,  9, ..., 12,  6, 12], dtype=int16)),\n",
       " (2569097.0, array([2, 1, 6, ..., 6, 4, 7], dtype=int16)),\n",
       " (906.0, array([22, 20, 36, ..., 12, 34, 35], dtype=int16)),\n",
       " (459786.0, array([ 0,  1,  0, ...,  9,  4, 14], dtype=int16)),\n",
       " (84108.0, array([0, 0, 0, ..., 4, 2, 1], dtype=int16)),\n",
       " (39948.0, array([ 1,  1,  3, ..., 11,  8, 18], dtype=int16)),\n",
       " (1678.0, array([ 6,  2,  8, ..., 11,  7,  4], dtype=int16)),\n",
       " (239759.0, array([ 5, 12, 29, ..., 16, 24, 43], dtype=int16)),\n",
       " (84111.0, array([0, 0, 5, ..., 2, 8, 6], dtype=int16)),\n",
       " (1506577.0, array([3, 2, 7, ..., 8, 7, 8], dtype=int16)),\n",
       " (28050.0, array([ 5,  2, 16, ..., 14, 12, 21], dtype=int16)),\n",
       " (216851.0, array([ 4, 38,  5, ..., 50, 26, 41], dtype=int16)),\n",
       " (292632.0, array([ 1, 11,  8, ..., 10,  8, 11], dtype=int16)),\n",
       " (29465.0, array([ 1,  2, 28, ..., 34, 47, 50], dtype=int16)),\n",
       " (1573535.0, array([2, 6, 7, ..., 8, 4, 8], dtype=int16)),\n",
       " (283168.0, array([14, 14, 15, ..., 16, 10, 15], dtype=int16)),\n",
       " (133925.0, array([ 1,  1,  0, ...,  1,  5, 11], dtype=int16)),\n",
       " (1505657.0, array([1, 0, 3, ..., 3, 0, 3], dtype=int16)),\n",
       " (816.0, array([17, 73, 80, ..., 87, 68, 98], dtype=int16)),\n",
       " (135858.0, array([ 1,  0,  9, ..., 10,  1, 10], dtype=int16)),\n",
       " (1649459.0, array([ 9, 13, 21, ..., 19, 11, 22], dtype=int16)),\n",
       " (35832.0, array([1, 1, 4, ..., 2, 1, 4], dtype=int16)),\n",
       " (239934.0, array([ 0, 14, 79, ..., 11,  2, 82], dtype=int16)),\n",
       " (191303.0, array([ 5,  6,  8, ...,  8,  6, 10], dtype=int16)),\n",
       " (841.0, array([ 7, 32, 48, ..., 56, 43, 56], dtype=int16)),\n",
       " (1357.0, array([27, 14, 47, ..., 44, 40, 50], dtype=int16)),\n",
       " (1485.0, array([24, 53, 82, ..., 89, 60, 95], dtype=int16)),\n",
       " (2719313.0, array([ 2,  4,  8, ..., 13,  7, 15], dtype=int16)),\n",
       " (909656.0, array([ 5, 19, 21, ..., 23, 15, 27], dtype=int16)),\n",
       " (102106.0, array([ 0,  2, 10, ..., 13, 17, 20], dtype=int16)),\n",
       " (572511.0, array([ 15,  40,  91, ...,  78,  72, 100], dtype=int16)),\n",
       " (872.0, array([16, 24, 38, ..., 30, 33, 44], dtype=int16)),\n",
       " (1257.0, array([ 7,  6, 10, ...,  8,  7, 10], dtype=int16)),\n",
       " (1263.0, array([11, 22, 69, ..., 72, 57, 94], dtype=int16)),\n",
       " (123375.0, array([ 4,  0,  3, ...,  4,  2, 13], dtype=int16)),\n",
       " (61170.0, array([1, 2, 3, ..., 4, 2, 6], dtype=int16)),\n",
       " (2316020.0, array([ 6,  8, 27, ..., 24, 16, 46], dtype=int16)),\n",
       " (375288.0, array([12, 44, 61, ..., 69, 29, 63], dtype=int16)),\n",
       " (1506553.0, array([14, 13, 45, ..., 42, 34, 55], dtype=int16)),\n",
       " (2719231.0, array([2, 4, 6, ..., 7, 6, 8], dtype=int16))]"
      ]
     },
     "execution_count": 3,
     "metadata": {},
     "output_type": "execute_result"
    }
   ],
   "source": [
    "signatures"
   ]
  },
  {
   "cell_type": "code",
   "execution_count": 6,
   "metadata": {},
   "outputs": [],
   "source": [
    "# Read the metadata\n",
    "\n",
    "import pandas as pd\n",
    "\n",
    "metadata = pd.read_csv(\"../gtdb_utils/metadata_sample.csv\")"
   ]
  },
  {
   "cell_type": "code",
   "execution_count": 12,
   "metadata": {},
   "outputs": [],
   "source": [
    "metadata = metadata.dropna(subset=['genus_taxid'])"
   ]
  },
  {
   "cell_type": "code",
   "execution_count": 15,
   "metadata": {},
   "outputs": [],
   "source": [
    "num_kmers = len(signatures[0][1])"
   ]
  },
  {
   "cell_type": "code",
   "execution_count": 16,
   "metadata": {},
   "outputs": [
    {
     "name": "stdout",
     "output_type": "stream",
     "text": [
      "9 0.16413313660592044\n",
      "18698\n",
      "13 0.19471596712893519\n",
      "16468\n",
      "17 0.19327670774016031\n",
      "18890\n",
      "7 0.22152342214550613\n",
      "21643\n",
      "44 0.19332782303233315\n",
      "21548\n",
      "23 0.19773844385379988\n",
      "17437\n",
      "11 0.17050756397568217\n",
      "16201\n",
      "18 0.1621326314949954\n",
      "15243\n",
      "100 0.17796554611795667\n",
      "21716\n",
      "77 0.2048719554162789\n",
      "22198\n",
      "20 0.1965264983849743\n",
      "18653\n",
      "8 0.1925035889460462\n",
      "19867\n",
      "22 0.18405909797822706\n",
      "19424\n",
      "61 0.1989484191967429\n",
      "22407\n",
      "12 0.2428101447541572\n",
      "21991\n",
      "61 0.18631474076238627\n",
      "21239\n",
      "8 0.19016030625672928\n",
      "18679\n",
      "16 0.2940475834429956\n",
      "19380\n",
      "45 0.15861918623971502\n",
      "19102\n",
      "3 0.17497308290465366\n",
      "13803\n",
      "100 0.35159851656896757\n",
      "29092\n",
      "10 0.1753666706543845\n",
      "15665\n",
      "22 0.34627293390901476\n",
      "24959\n",
      "5 0.24205048450771624\n",
      "19897\n",
      "88 0.23624114998531795\n",
      "20140\n",
      "10 0.1975355903816246\n",
      "20351\n",
      "56 0.24427242664023377\n",
      "23949\n",
      "50 0.19218734298361048\n",
      "22114\n",
      "100 0.2272129441320732\n",
      "22496\n",
      "16 0.3196076085656179\n",
      "23186\n",
      "27 0.2873008910333949\n",
      "20252\n",
      "100 0.1835889460461778\n",
      "20294\n",
      "100 0.28007788012920204\n",
      "26960\n",
      "58 0.23050521634744298\n",
      "21261\n",
      "10 0.16241536068907764\n",
      "14307\n",
      "100 0.23358846752003828\n",
      "26886\n",
      "14 0.17237536957599167\n",
      "16707\n",
      "6 0.2615185229493161\n",
      "22688\n",
      "47 0.2365293619057558\n",
      "22637\n",
      "71 0.367656013843559\n",
      "29616\n",
      "60 0.25199605215934917\n",
      "22929\n",
      "8 0.3486631175977988\n",
      "20181\n"
     ]
    }
   ],
   "source": [
    "import math\n",
    "from scipy.stats import binom\n",
    "\n",
    "bool_signature = {}\n",
    "\n",
    "for genus, signature in signatures:\n",
    "    # Get the subset of metadata\n",
    "    metadata_subset = metadata[metadata[\"genus_taxid\"] == genus].groupby(\"species_taxid\").sample(1)\n",
    "    num_sequences = len(metadata_subset)\n",
    "    if num_sequences > 100:\n",
    "        num_sequences = 100\n",
    "    \n",
    "    # find a good threshold for cutoff\n",
    "    from scipy.stats import binom\n",
    "    # find p\n",
    "    p = signature.sum() / num_sequences / num_kmers\n",
    "    # find n\n",
    "    n = num_sequences\n",
    "    # Set threshold to be p-value=0.05\n",
    "    print(n, p)\n",
    "    threshold = math.floor(binom.ppf(0.95, n, p))\n",
    "    bool_signature[genus] = (signature >= threshold)\n",
    "    print(bool_signature[genus].sum())"
   ]
  },
  {
   "cell_type": "code",
   "execution_count": 25,
   "metadata": {},
   "outputs": [],
   "source": [
    "import numpy as np\n",
    "\n",
    "ANI = np.zeros((len(bool_signature), len(bool_signature)))\n",
    "\n",
    "for i, genus_i in enumerate(bool_signature):\n",
    "    for j, genus_j in enumerate(bool_signature):\n",
    "        ANI[i][j] = (bool_signature[genus_i] & bool_signature[genus_j]).sum() / (bool_signature[genus_i] | bool_signature[genus_j]).sum()"
   ]
  },
  {
   "cell_type": "code",
   "execution_count": 27,
   "metadata": {},
   "outputs": [
    {
     "data": {
      "text/plain": [
       "<Axes: >"
      ]
     },
     "execution_count": 27,
     "metadata": {},
     "output_type": "execute_result"
    },
    {
     "data": {
      "image/png": "[encoded data removed]",
      "text/plain": [
       "<Figure size 640x480 with 2 Axes>"
      ]
     },
     "metadata": {},
     "output_type": "display_data"
    }
   ],
   "source": [
    "import seaborn\n",
    "\n",
    "seaborn.heatmap(ANI)"
   ]
  },
  {
   "cell_type": "code",
   "execution_count": 48,
   "metadata": {},
   "outputs": [
    {
     "name": "stderr",
     "output_type": "stream",
     "text": [
      "10it [00:00, 203.68it/s]"
     ]
    },
    {
     "name": "stdout",
     "output_type": "stream",
     "text": [
      "92 8663\n",
      "[816.0, 135858.0, 1485.0, 1263.0]\n",
      "15 2129\n",
      "[1506577.0, 135858.0, 1485.0]\n",
      "37 3852\n",
      "[135858.0, 1485.0]\n",
      "68 6186\n",
      "[28050.0, 135858.0, 841.0, 1357.0, 1485.0, 572511.0, 1263.0]\n",
      "7 790\n",
      "[28050.0, 29465.0, 1573535.0, 135858.0, 191303.0, 1357.0, 1257.0]\n",
      "22 3464\n",
      "[1506577.0, 29465.0, 1573535.0, 816.0, 135858.0, 1357.0, 1485.0]\n",
      "2 497\n",
      "[]\n",
      "39 4043\n",
      "[29465.0, 816.0, 135858.0, 1649459.0, 841.0, 1485.0, 1263.0, 375288.0, 1506553.0]\n",
      "19 2121\n",
      "[135858.0]\n",
      "9 1687\n",
      "[1506577.0, 29465.0, 1573535.0, 816.0, 135858.0, 1357.0, 1485.0, 572511.0, 1263.0]\n",
      "85 9355\n",
      "[135858.0, 1485.0]\n"
     ]
    },
    {
     "name": "stderr",
     "output_type": "stream",
     "text": [
      "\n"
     ]
    }
   ],
   "source": [
    "from Bio import SeqIO\n",
    "from tqdm import tqdm\n",
    "prediction = []\n",
    "\n",
    "i = 0\n",
    "\n",
    "for record in tqdm(SeqIO.parse(\"/mnt/c/Users/zhenh/tax_data/sampled_reads.fastq\", \"fastq\")):\n",
    "    #print(record.seq)\n",
    "    record_signature = sg._to_signature([str(record.seq)])\n",
    "    print(record_signature.sum(), len(record.seq))\n",
    "\n",
    "    best_similiarity = 0\n",
    "    genus_prediction = []\n",
    "    for genus in bool_signature:\n",
    "        similarity = (record_signature & bool_signature[genus]).sum() / record_signature.sum()\n",
    "        if similarity > 0.7:\n",
    "            genus_prediction.append(genus)\n",
    "            #best_similiarity = similarity\n",
    "    \n",
    "    print(genus_prediction)\n",
    "    \n",
    "    prediction.append(genus_prediction)\n",
    "    i += 1\n",
    "    if i > 10:\n",
    "        break"
   ]
  },
  {
   "cell_type": "code",
   "execution_count": 46,
   "metadata": {},
   "outputs": [
    {
     "data": {
      "text/html": [
       "<div>\n",
       "<style scoped>\n",
       "    .dataframe tbody tr th:only-of-type {\n",
       "        vertical-align: middle;\n",
       "    }\n",
       "\n",
       "    .dataframe tbody tr th {\n",
       "        vertical-align: top;\n",
       "    }\n",
       "\n",
       "    .dataframe thead th {\n",
       "        text-align: right;\n",
       "    }\n",
       "</style>\n",
       "<table border=\"1\" class=\"dataframe\">\n",
       "  <thead>\n",
       "    <tr style=\"text-align: right;\">\n",
       "      <th></th>\n",
       "      <th>Unnamed: 0</th>\n",
       "      <th>accession</th>\n",
       "      <th>ambiguous_bases</th>\n",
       "      <th>checkm_completeness</th>\n",
       "      <th>checkm_contamination</th>\n",
       "      <th>checkm_marker_count</th>\n",
       "      <th>checkm_marker_lineage</th>\n",
       "      <th>checkm_marker_set_count</th>\n",
       "      <th>checkm_strain_heterogeneity</th>\n",
       "      <th>coding_bases</th>\n",
       "      <th>...</th>\n",
       "      <th>ssu_silva_blast_perc_identity</th>\n",
       "      <th>ssu_silva_blast_subject_id</th>\n",
       "      <th>ssu_silva_taxonomy</th>\n",
       "      <th>total_gap_length</th>\n",
       "      <th>trna_aa_count</th>\n",
       "      <th>trna_count</th>\n",
       "      <th>trna_selenocysteine_count</th>\n",
       "      <th>ncbi_genus_taxid</th>\n",
       "      <th>genus_taxid</th>\n",
       "      <th>species_taxid</th>\n",
       "    </tr>\n",
       "  </thead>\n",
       "  <tbody>\n",
       "    <tr>\n",
       "      <th>2341</th>\n",
       "      <td>64752</td>\n",
       "      <td>RS_GCF_019127175.1</td>\n",
       "      <td>0</td>\n",
       "      <td>100.00</td>\n",
       "      <td>0.00</td>\n",
       "      <td>177</td>\n",
       "      <td>k__Bacteria (UID2372)</td>\n",
       "      <td>106</td>\n",
       "      <td>0.0</td>\n",
       "      <td>2048823</td>\n",
       "      <td>...</td>\n",
       "      <td>99.116</td>\n",
       "      <td>AB643465.1.1491</td>\n",
       "      <td>Bacteria;Firmicutes;Bacilli;Erysipelotrichales...</td>\n",
       "      <td>0</td>\n",
       "      <td>19</td>\n",
       "      <td>64</td>\n",
       "      <td>0</td>\n",
       "      <td>135858.0</td>\n",
       "      <td>135858.0</td>\n",
       "      <td>100886</td>\n",
       "    </tr>\n",
       "    <tr>\n",
       "      <th>2391</th>\n",
       "      <td>65471</td>\n",
       "      <td>RS_GCF_019127515.1</td>\n",
       "      <td>0</td>\n",
       "      <td>100.00</td>\n",
       "      <td>0.00</td>\n",
       "      <td>177</td>\n",
       "      <td>k__Bacteria (UID2372)</td>\n",
       "      <td>106</td>\n",
       "      <td>0.0</td>\n",
       "      <td>1999466</td>\n",
       "      <td>...</td>\n",
       "      <td>99.531</td>\n",
       "      <td>ACCK01000460.1.1313</td>\n",
       "      <td>Bacteria;Firmicutes;Bacilli;Erysipelotrichales...</td>\n",
       "      <td>0</td>\n",
       "      <td>19</td>\n",
       "      <td>64</td>\n",
       "      <td>0</td>\n",
       "      <td>135858.0</td>\n",
       "      <td>135858.0</td>\n",
       "      <td>100886</td>\n",
       "    </tr>\n",
       "    <tr>\n",
       "      <th>2861</th>\n",
       "      <td>72078</td>\n",
       "      <td>GB_GCA_905198815.1</td>\n",
       "      <td>0</td>\n",
       "      <td>100.00</td>\n",
       "      <td>0.00</td>\n",
       "      <td>177</td>\n",
       "      <td>k__Bacteria (UID2372)</td>\n",
       "      <td>106</td>\n",
       "      <td>0.0</td>\n",
       "      <td>2125100</td>\n",
       "      <td>...</td>\n",
       "      <td>93.056</td>\n",
       "      <td>AB643465.1.1491</td>\n",
       "      <td>Bacteria;Firmicutes;Bacilli;Erysipelotrichales...</td>\n",
       "      <td>0</td>\n",
       "      <td>13</td>\n",
       "      <td>24</td>\n",
       "      <td>0</td>\n",
       "      <td>135858.0</td>\n",
       "      <td>135858.0</td>\n",
       "      <td>100886</td>\n",
       "    </tr>\n",
       "    <tr>\n",
       "      <th>3478</th>\n",
       "      <td>82532</td>\n",
       "      <td>RS_GCF_020537355.1</td>\n",
       "      <td>0</td>\n",
       "      <td>100.00</td>\n",
       "      <td>0.47</td>\n",
       "      <td>177</td>\n",
       "      <td>k__Bacteria (UID2372)</td>\n",
       "      <td>106</td>\n",
       "      <td>100.0</td>\n",
       "      <td>2166238</td>\n",
       "      <td>...</td>\n",
       "      <td>99.879</td>\n",
       "      <td>ACCK01000460.1.1313</td>\n",
       "      <td>Bacteria;Firmicutes;Bacilli;Erysipelotrichales...</td>\n",
       "      <td>0</td>\n",
       "      <td>17</td>\n",
       "      <td>56</td>\n",
       "      <td>0</td>\n",
       "      <td>135858.0</td>\n",
       "      <td>135858.0</td>\n",
       "      <td>100886</td>\n",
       "    </tr>\n",
       "    <tr>\n",
       "      <th>7343</th>\n",
       "      <td>164159</td>\n",
       "      <td>RS_GCF_019127355.1</td>\n",
       "      <td>0</td>\n",
       "      <td>100.00</td>\n",
       "      <td>0.00</td>\n",
       "      <td>177</td>\n",
       "      <td>k__Bacteria (UID2372)</td>\n",
       "      <td>106</td>\n",
       "      <td>0.0</td>\n",
       "      <td>2011225</td>\n",
       "      <td>...</td>\n",
       "      <td>99.531</td>\n",
       "      <td>ACCK01000460.1.1313</td>\n",
       "      <td>Bacteria;Firmicutes;Bacilli;Erysipelotrichales...</td>\n",
       "      <td>0</td>\n",
       "      <td>19</td>\n",
       "      <td>53</td>\n",
       "      <td>0</td>\n",
       "      <td>135858.0</td>\n",
       "      <td>135858.0</td>\n",
       "      <td>100886</td>\n",
       "    </tr>\n",
       "    <tr>\n",
       "      <th>7365</th>\n",
       "      <td>164289</td>\n",
       "      <td>RS_GCF_019127655.1</td>\n",
       "      <td>0</td>\n",
       "      <td>100.00</td>\n",
       "      <td>0.00</td>\n",
       "      <td>177</td>\n",
       "      <td>k__Bacteria (UID2372)</td>\n",
       "      <td>106</td>\n",
       "      <td>0.0</td>\n",
       "      <td>2003718</td>\n",
       "      <td>...</td>\n",
       "      <td>99.75</td>\n",
       "      <td>ACCK01000460.1.1313</td>\n",
       "      <td>Bacteria;Firmicutes;Bacilli;Erysipelotrichales...</td>\n",
       "      <td>0</td>\n",
       "      <td>19</td>\n",
       "      <td>58</td>\n",
       "      <td>0</td>\n",
       "      <td>135858.0</td>\n",
       "      <td>135858.0</td>\n",
       "      <td>100886</td>\n",
       "    </tr>\n",
       "    <tr>\n",
       "      <th>7367</th>\n",
       "      <td>164293</td>\n",
       "      <td>RS_GCF_019127315.1</td>\n",
       "      <td>0</td>\n",
       "      <td>100.00</td>\n",
       "      <td>0.00</td>\n",
       "      <td>177</td>\n",
       "      <td>k__Bacteria (UID2372)</td>\n",
       "      <td>106</td>\n",
       "      <td>0.0</td>\n",
       "      <td>2001017</td>\n",
       "      <td>...</td>\n",
       "      <td>99.531</td>\n",
       "      <td>ACCK01000460.1.1313</td>\n",
       "      <td>Bacteria;Firmicutes;Bacilli;Erysipelotrichales...</td>\n",
       "      <td>0</td>\n",
       "      <td>19</td>\n",
       "      <td>63</td>\n",
       "      <td>0</td>\n",
       "      <td>135858.0</td>\n",
       "      <td>135858.0</td>\n",
       "      <td>100886</td>\n",
       "    </tr>\n",
       "    <tr>\n",
       "      <th>7375</th>\n",
       "      <td>164448</td>\n",
       "      <td>RS_GCF_019041565.1</td>\n",
       "      <td>0</td>\n",
       "      <td>100.00</td>\n",
       "      <td>0.47</td>\n",
       "      <td>177</td>\n",
       "      <td>k__Bacteria (UID2372)</td>\n",
       "      <td>106</td>\n",
       "      <td>100.0</td>\n",
       "      <td>2144982</td>\n",
       "      <td>...</td>\n",
       "      <td>99.886</td>\n",
       "      <td>ACCK01000460.1.1313</td>\n",
       "      <td>Bacteria;Firmicutes;Bacilli;Erysipelotrichales...</td>\n",
       "      <td>0</td>\n",
       "      <td>17</td>\n",
       "      <td>55</td>\n",
       "      <td>0</td>\n",
       "      <td>135858.0</td>\n",
       "      <td>135858.0</td>\n",
       "      <td>100886</td>\n",
       "    </tr>\n",
       "    <tr>\n",
       "      <th>7445</th>\n",
       "      <td>165512</td>\n",
       "      <td>RS_GCF_019127235.1</td>\n",
       "      <td>0</td>\n",
       "      <td>100.00</td>\n",
       "      <td>0.00</td>\n",
       "      <td>177</td>\n",
       "      <td>k__Bacteria (UID2372)</td>\n",
       "      <td>106</td>\n",
       "      <td>0.0</td>\n",
       "      <td>2009817</td>\n",
       "      <td>...</td>\n",
       "      <td>99.531</td>\n",
       "      <td>ACCK01000460.1.1313</td>\n",
       "      <td>Bacteria;Firmicutes;Bacilli;Erysipelotrichales...</td>\n",
       "      <td>0</td>\n",
       "      <td>19</td>\n",
       "      <td>65</td>\n",
       "      <td>0</td>\n",
       "      <td>135858.0</td>\n",
       "      <td>135858.0</td>\n",
       "      <td>100886</td>\n",
       "    </tr>\n",
       "    <tr>\n",
       "      <th>7455</th>\n",
       "      <td>165669</td>\n",
       "      <td>RS_GCF_019127145.1</td>\n",
       "      <td>0</td>\n",
       "      <td>100.00</td>\n",
       "      <td>0.00</td>\n",
       "      <td>177</td>\n",
       "      <td>k__Bacteria (UID2372)</td>\n",
       "      <td>106</td>\n",
       "      <td>0.0</td>\n",
       "      <td>2012439</td>\n",
       "      <td>...</td>\n",
       "      <td>99.531</td>\n",
       "      <td>ACCK01000460.1.1313</td>\n",
       "      <td>Bacteria;Firmicutes;Bacilli;Erysipelotrichales...</td>\n",
       "      <td>0</td>\n",
       "      <td>19</td>\n",
       "      <td>63</td>\n",
       "      <td>0</td>\n",
       "      <td>135858.0</td>\n",
       "      <td>135858.0</td>\n",
       "      <td>100886</td>\n",
       "    </tr>\n",
       "    <tr>\n",
       "      <th>7620</th>\n",
       "      <td>168776</td>\n",
       "      <td>GB_GCA_016939095.1</td>\n",
       "      <td>0</td>\n",
       "      <td>99.06</td>\n",
       "      <td>1.89</td>\n",
       "      <td>177</td>\n",
       "      <td>k__Bacteria (UID2372)</td>\n",
       "      <td>106</td>\n",
       "      <td>0.0</td>\n",
       "      <td>2251303</td>\n",
       "      <td>...</td>\n",
       "      <td>none</td>\n",
       "      <td>none</td>\n",
       "      <td>none</td>\n",
       "      <td>0</td>\n",
       "      <td>19</td>\n",
       "      <td>44</td>\n",
       "      <td>0</td>\n",
       "      <td>135858.0</td>\n",
       "      <td>135858.0</td>\n",
       "      <td>100886</td>\n",
       "    </tr>\n",
       "    <tr>\n",
       "      <th>9156</th>\n",
       "      <td>190542</td>\n",
       "      <td>GB_GCA_000173795.1</td>\n",
       "      <td>0</td>\n",
       "      <td>100.00</td>\n",
       "      <td>0.47</td>\n",
       "      <td>177</td>\n",
       "      <td>k__Bacteria (UID2372)</td>\n",
       "      <td>106</td>\n",
       "      <td>0.0</td>\n",
       "      <td>2393140</td>\n",
       "      <td>...</td>\n",
       "      <td>100</td>\n",
       "      <td>ACCK01000460.1.1313</td>\n",
       "      <td>Bacteria;Firmicutes;Bacilli;Erysipelotrichales...</td>\n",
       "      <td>0</td>\n",
       "      <td>19</td>\n",
       "      <td>72</td>\n",
       "      <td>0</td>\n",
       "      <td>135858.0</td>\n",
       "      <td>135858.0</td>\n",
       "      <td>100886</td>\n",
       "    </tr>\n",
       "    <tr>\n",
       "      <th>12392</th>\n",
       "      <td>264214</td>\n",
       "      <td>RS_GCF_019127675.1</td>\n",
       "      <td>0</td>\n",
       "      <td>100.00</td>\n",
       "      <td>0.00</td>\n",
       "      <td>177</td>\n",
       "      <td>k__Bacteria (UID2372)</td>\n",
       "      <td>106</td>\n",
       "      <td>0.0</td>\n",
       "      <td>2011677</td>\n",
       "      <td>...</td>\n",
       "      <td>99.126</td>\n",
       "      <td>AB643465.1.1491</td>\n",
       "      <td>Bacteria;Firmicutes;Bacilli;Erysipelotrichales...</td>\n",
       "      <td>0</td>\n",
       "      <td>19</td>\n",
       "      <td>67</td>\n",
       "      <td>0</td>\n",
       "      <td>135858.0</td>\n",
       "      <td>135858.0</td>\n",
       "      <td>100886</td>\n",
       "    </tr>\n",
       "    <tr>\n",
       "      <th>12415</th>\n",
       "      <td>264593</td>\n",
       "      <td>RS_GCF_019127215.1</td>\n",
       "      <td>0</td>\n",
       "      <td>100.00</td>\n",
       "      <td>0.00</td>\n",
       "      <td>177</td>\n",
       "      <td>k__Bacteria (UID2372)</td>\n",
       "      <td>106</td>\n",
       "      <td>0.0</td>\n",
       "      <td>2011015</td>\n",
       "      <td>...</td>\n",
       "      <td>99.531</td>\n",
       "      <td>ACCK01000460.1.1313</td>\n",
       "      <td>Bacteria;Firmicutes;Bacilli;Erysipelotrichales...</td>\n",
       "      <td>0</td>\n",
       "      <td>19</td>\n",
       "      <td>66</td>\n",
       "      <td>0</td>\n",
       "      <td>135858.0</td>\n",
       "      <td>135858.0</td>\n",
       "      <td>100886</td>\n",
       "    </tr>\n",
       "    <tr>\n",
       "      <th>12521</th>\n",
       "      <td>266689</td>\n",
       "      <td>GB_GCA_014846615.1</td>\n",
       "      <td>0</td>\n",
       "      <td>61.40</td>\n",
       "      <td>0.00</td>\n",
       "      <td>103</td>\n",
       "      <td>k__Bacteria (UID203)</td>\n",
       "      <td>57</td>\n",
       "      <td>0.0</td>\n",
       "      <td>1494712</td>\n",
       "      <td>...</td>\n",
       "      <td>none</td>\n",
       "      <td>none</td>\n",
       "      <td>none</td>\n",
       "      <td>0</td>\n",
       "      <td>16</td>\n",
       "      <td>32</td>\n",
       "      <td>0</td>\n",
       "      <td>135858.0</td>\n",
       "      <td>135858.0</td>\n",
       "      <td>100886</td>\n",
       "    </tr>\n",
       "    <tr>\n",
       "      <th>13124</th>\n",
       "      <td>273828</td>\n",
       "      <td>GB_GCA_017850755.1</td>\n",
       "      <td>0</td>\n",
       "      <td>100.00</td>\n",
       "      <td>4.72</td>\n",
       "      <td>177</td>\n",
       "      <td>k__Bacteria (UID2372)</td>\n",
       "      <td>106</td>\n",
       "      <td>0.0</td>\n",
       "      <td>2511377</td>\n",
       "      <td>...</td>\n",
       "      <td>99.53</td>\n",
       "      <td>AB643465.1.1491</td>\n",
       "      <td>Bacteria;Firmicutes;Bacilli;Erysipelotrichales...</td>\n",
       "      <td>0</td>\n",
       "      <td>19</td>\n",
       "      <td>58</td>\n",
       "      <td>0</td>\n",
       "      <td>135858.0</td>\n",
       "      <td>135858.0</td>\n",
       "      <td>100886</td>\n",
       "    </tr>\n",
       "    <tr>\n",
       "      <th>14570</th>\n",
       "      <td>294146</td>\n",
       "      <td>GB_GCA_025148785.1</td>\n",
       "      <td>0</td>\n",
       "      <td>100.00</td>\n",
       "      <td>0.00</td>\n",
       "      <td>177</td>\n",
       "      <td>k__Bacteria (UID2372)</td>\n",
       "      <td>106</td>\n",
       "      <td>0.0</td>\n",
       "      <td>2328960</td>\n",
       "      <td>...</td>\n",
       "      <td>99.799</td>\n",
       "      <td>AB643465.1.1491</td>\n",
       "      <td>Bacteria;Firmicutes;Bacilli;Erysipelotrichales...</td>\n",
       "      <td>0</td>\n",
       "      <td>19</td>\n",
       "      <td>76</td>\n",
       "      <td>0</td>\n",
       "      <td>135858.0</td>\n",
       "      <td>135858.0</td>\n",
       "      <td>100886</td>\n",
       "    </tr>\n",
       "    <tr>\n",
       "      <th>14688</th>\n",
       "      <td>295172</td>\n",
       "      <td>GB_GCA_022771525.1</td>\n",
       "      <td>0</td>\n",
       "      <td>100.00</td>\n",
       "      <td>0.00</td>\n",
       "      <td>177</td>\n",
       "      <td>k__Bacteria (UID2372)</td>\n",
       "      <td>106</td>\n",
       "      <td>0.0</td>\n",
       "      <td>1932597</td>\n",
       "      <td>...</td>\n",
       "      <td>none</td>\n",
       "      <td>none</td>\n",
       "      <td>none</td>\n",
       "      <td>0</td>\n",
       "      <td>18</td>\n",
       "      <td>51</td>\n",
       "      <td>0</td>\n",
       "      <td>135858.0</td>\n",
       "      <td>135858.0</td>\n",
       "      <td>100886</td>\n",
       "    </tr>\n",
       "    <tr>\n",
       "      <th>16304</th>\n",
       "      <td>342820</td>\n",
       "      <td>RS_GCF_902362575.1</td>\n",
       "      <td>5</td>\n",
       "      <td>100.00</td>\n",
       "      <td>0.00</td>\n",
       "      <td>177</td>\n",
       "      <td>k__Bacteria (UID2372)</td>\n",
       "      <td>106</td>\n",
       "      <td>0.0</td>\n",
       "      <td>2205880</td>\n",
       "      <td>...</td>\n",
       "      <td>99.53</td>\n",
       "      <td>AB643465.1.1491</td>\n",
       "      <td>Bacteria;Firmicutes;Bacilli;Erysipelotrichales...</td>\n",
       "      <td>4965</td>\n",
       "      <td>19</td>\n",
       "      <td>62</td>\n",
       "      <td>0</td>\n",
       "      <td>135858.0</td>\n",
       "      <td>135858.0</td>\n",
       "      <td>100886</td>\n",
       "    </tr>\n",
       "    <tr>\n",
       "      <th>17211</th>\n",
       "      <td>359135</td>\n",
       "      <td>RS_GCF_015669625.1</td>\n",
       "      <td>9</td>\n",
       "      <td>100.00</td>\n",
       "      <td>0.00</td>\n",
       "      <td>177</td>\n",
       "      <td>k__Bacteria (UID2372)</td>\n",
       "      <td>106</td>\n",
       "      <td>0.0</td>\n",
       "      <td>2045640</td>\n",
       "      <td>...</td>\n",
       "      <td>99.192</td>\n",
       "      <td>EU530322.1.1489</td>\n",
       "      <td>Bacteria;Firmicutes;Bacilli;Erysipelotrichales...</td>\n",
       "      <td>390</td>\n",
       "      <td>19</td>\n",
       "      <td>63</td>\n",
       "      <td>0</td>\n",
       "      <td>135858.0</td>\n",
       "      <td>135858.0</td>\n",
       "      <td>100886</td>\n",
       "    </tr>\n",
       "    <tr>\n",
       "      <th>17280</th>\n",
       "      <td>360839</td>\n",
       "      <td>RS_GCF_019127535.1</td>\n",
       "      <td>0</td>\n",
       "      <td>100.00</td>\n",
       "      <td>0.00</td>\n",
       "      <td>177</td>\n",
       "      <td>k__Bacteria (UID2372)</td>\n",
       "      <td>106</td>\n",
       "      <td>0.0</td>\n",
       "      <td>2009586</td>\n",
       "      <td>...</td>\n",
       "      <td>99.531</td>\n",
       "      <td>ACCK01000460.1.1313</td>\n",
       "      <td>Bacteria;Firmicutes;Bacilli;Erysipelotrichales...</td>\n",
       "      <td>0</td>\n",
       "      <td>19</td>\n",
       "      <td>61</td>\n",
       "      <td>0</td>\n",
       "      <td>135858.0</td>\n",
       "      <td>135858.0</td>\n",
       "      <td>100886</td>\n",
       "    </tr>\n",
       "    <tr>\n",
       "      <th>17356</th>\n",
       "      <td>361993</td>\n",
       "      <td>RS_GCF_019126895.1</td>\n",
       "      <td>0</td>\n",
       "      <td>100.00</td>\n",
       "      <td>0.00</td>\n",
       "      <td>177</td>\n",
       "      <td>k__Bacteria (UID2372)</td>\n",
       "      <td>106</td>\n",
       "      <td>0.0</td>\n",
       "      <td>2008012</td>\n",
       "      <td>...</td>\n",
       "      <td>99.531</td>\n",
       "      <td>ACCK01000460.1.1313</td>\n",
       "      <td>Bacteria;Firmicutes;Bacilli;Erysipelotrichales...</td>\n",
       "      <td>0</td>\n",
       "      <td>19</td>\n",
       "      <td>65</td>\n",
       "      <td>0</td>\n",
       "      <td>135858.0</td>\n",
       "      <td>135858.0</td>\n",
       "      <td>100886</td>\n",
       "    </tr>\n",
       "    <tr>\n",
       "      <th>17358</th>\n",
       "      <td>361998</td>\n",
       "      <td>RS_GCF_019127195.1</td>\n",
       "      <td>0</td>\n",
       "      <td>100.00</td>\n",
       "      <td>0.00</td>\n",
       "      <td>177</td>\n",
       "      <td>k__Bacteria (UID2372)</td>\n",
       "      <td>106</td>\n",
       "      <td>0.0</td>\n",
       "      <td>2014633</td>\n",
       "      <td>...</td>\n",
       "      <td>99.531</td>\n",
       "      <td>ACCK01000460.1.1313</td>\n",
       "      <td>Bacteria;Firmicutes;Bacilli;Erysipelotrichales...</td>\n",
       "      <td>0</td>\n",
       "      <td>19</td>\n",
       "      <td>66</td>\n",
       "      <td>0</td>\n",
       "      <td>135858.0</td>\n",
       "      <td>135858.0</td>\n",
       "      <td>100886</td>\n",
       "    </tr>\n",
       "    <tr>\n",
       "      <th>17363</th>\n",
       "      <td>362067</td>\n",
       "      <td>RS_GCF_018785505.1</td>\n",
       "      <td>0</td>\n",
       "      <td>100.00</td>\n",
       "      <td>0.94</td>\n",
       "      <td>177</td>\n",
       "      <td>k__Bacteria (UID2372)</td>\n",
       "      <td>106</td>\n",
       "      <td>100.0</td>\n",
       "      <td>2052893</td>\n",
       "      <td>...</td>\n",
       "      <td>99.798</td>\n",
       "      <td>AB643465.1.1491</td>\n",
       "      <td>Bacteria;Firmicutes;Bacilli;Erysipelotrichales...</td>\n",
       "      <td>1648</td>\n",
       "      <td>19</td>\n",
       "      <td>67</td>\n",
       "      <td>0</td>\n",
       "      <td>135858.0</td>\n",
       "      <td>135858.0</td>\n",
       "      <td>100886</td>\n",
       "    </tr>\n",
       "    <tr>\n",
       "      <th>17396</th>\n",
       "      <td>362585</td>\n",
       "      <td>RS_GCF_019127255.1</td>\n",
       "      <td>0</td>\n",
       "      <td>100.00</td>\n",
       "      <td>0.00</td>\n",
       "      <td>177</td>\n",
       "      <td>k__Bacteria (UID2372)</td>\n",
       "      <td>106</td>\n",
       "      <td>0.0</td>\n",
       "      <td>2011101</td>\n",
       "      <td>...</td>\n",
       "      <td>99.531</td>\n",
       "      <td>ACCK01000460.1.1313</td>\n",
       "      <td>Bacteria;Firmicutes;Bacilli;Erysipelotrichales...</td>\n",
       "      <td>0</td>\n",
       "      <td>19</td>\n",
       "      <td>65</td>\n",
       "      <td>0</td>\n",
       "      <td>135858.0</td>\n",
       "      <td>135858.0</td>\n",
       "      <td>100886</td>\n",
       "    </tr>\n",
       "    <tr>\n",
       "      <th>17556</th>\n",
       "      <td>365646</td>\n",
       "      <td>GB_GCA_014846355.1</td>\n",
       "      <td>0</td>\n",
       "      <td>63.21</td>\n",
       "      <td>0.94</td>\n",
       "      <td>177</td>\n",
       "      <td>k__Bacteria (UID2372)</td>\n",
       "      <td>106</td>\n",
       "      <td>100.0</td>\n",
       "      <td>1258276</td>\n",
       "      <td>...</td>\n",
       "      <td>none</td>\n",
       "      <td>none</td>\n",
       "      <td>none</td>\n",
       "      <td>0</td>\n",
       "      <td>11</td>\n",
       "      <td>17</td>\n",
       "      <td>0</td>\n",
       "      <td>135858.0</td>\n",
       "      <td>135858.0</td>\n",
       "      <td>100886</td>\n",
       "    </tr>\n",
       "    <tr>\n",
       "      <th>19463</th>\n",
       "      <td>391333</td>\n",
       "      <td>GB_GCA_945495355.1</td>\n",
       "      <td>0</td>\n",
       "      <td>91.90</td>\n",
       "      <td>1.04</td>\n",
       "      <td>177</td>\n",
       "      <td>k__Bacteria (UID2372)</td>\n",
       "      <td>106</td>\n",
       "      <td>0.0</td>\n",
       "      <td>1959672</td>\n",
       "      <td>...</td>\n",
       "      <td>none</td>\n",
       "      <td>none</td>\n",
       "      <td>none</td>\n",
       "      <td>0</td>\n",
       "      <td>11</td>\n",
       "      <td>21</td>\n",
       "      <td>0</td>\n",
       "      <td>135858.0</td>\n",
       "      <td>135858.0</td>\n",
       "      <td>100886</td>\n",
       "    </tr>\n",
       "  </tbody>\n",
       "</table>\n",
       "<p>27 rows × 114 columns</p>\n",
       "</div>"
      ],
      "text/plain": [
       "       Unnamed: 0           accession  ambiguous_bases  checkm_completeness  \\\n",
       "2341        64752  RS_GCF_019127175.1                0               100.00   \n",
       "2391        65471  RS_GCF_019127515.1                0               100.00   \n",
       "2861        72078  GB_GCA_905198815.1                0               100.00   \n",
       "3478        82532  RS_GCF_020537355.1                0               100.00   \n",
       "7343       164159  RS_GCF_019127355.1                0               100.00   \n",
       "7365       164289  RS_GCF_019127655.1                0               100.00   \n",
       "7367       164293  RS_GCF_019127315.1                0               100.00   \n",
       "7375       164448  RS_GCF_019041565.1                0               100.00   \n",
       "7445       165512  RS_GCF_019127235.1                0               100.00   \n",
       "7455       165669  RS_GCF_019127145.1                0               100.00   \n",
       "7620       168776  GB_GCA_016939095.1                0                99.06   \n",
       "9156       190542  GB_GCA_000173795.1                0               100.00   \n",
       "12392      264214  RS_GCF_019127675.1                0               100.00   \n",
       "12415      264593  RS_GCF_019127215.1                0               100.00   \n",
       "12521      266689  GB_GCA_014846615.1                0                61.40   \n",
       "13124      273828  GB_GCA_017850755.1                0               100.00   \n",
       "14570      294146  GB_GCA_025148785.1                0               100.00   \n",
       "14688      295172  GB_GCA_022771525.1                0               100.00   \n",
       "16304      342820  RS_GCF_902362575.1                5               100.00   \n",
       "17211      359135  RS_GCF_015669625.1                9               100.00   \n",
       "17280      360839  RS_GCF_019127535.1                0               100.00   \n",
       "17356      361993  RS_GCF_019126895.1                0               100.00   \n",
       "17358      361998  RS_GCF_019127195.1                0               100.00   \n",
       "17363      362067  RS_GCF_018785505.1                0               100.00   \n",
       "17396      362585  RS_GCF_019127255.1                0               100.00   \n",
       "17556      365646  GB_GCA_014846355.1                0                63.21   \n",
       "19463      391333  GB_GCA_945495355.1                0                91.90   \n",
       "\n",
       "       checkm_contamination  checkm_marker_count  checkm_marker_lineage  \\\n",
       "2341                   0.00                  177  k__Bacteria (UID2372)   \n",
       "2391                   0.00                  177  k__Bacteria (UID2372)   \n",
       "2861                   0.00                  177  k__Bacteria (UID2372)   \n",
       "3478                   0.47                  177  k__Bacteria (UID2372)   \n",
       "7343                   0.00                  177  k__Bacteria (UID2372)   \n",
       "7365                   0.00                  177  k__Bacteria (UID2372)   \n",
       "7367                   0.00                  177  k__Bacteria (UID2372)   \n",
       "7375                   0.47                  177  k__Bacteria (UID2372)   \n",
       "7445                   0.00                  177  k__Bacteria (UID2372)   \n",
       "7455                   0.00                  177  k__Bacteria (UID2372)   \n",
       "7620                   1.89                  177  k__Bacteria (UID2372)   \n",
       "9156                   0.47                  177  k__Bacteria (UID2372)   \n",
       "12392                  0.00                  177  k__Bacteria (UID2372)   \n",
       "12415                  0.00                  177  k__Bacteria (UID2372)   \n",
       "12521                  0.00                  103   k__Bacteria (UID203)   \n",
       "13124                  4.72                  177  k__Bacteria (UID2372)   \n",
       "14570                  0.00                  177  k__Bacteria (UID2372)   \n",
       "14688                  0.00                  177  k__Bacteria (UID2372)   \n",
       "16304                  0.00                  177  k__Bacteria (UID2372)   \n",
       "17211                  0.00                  177  k__Bacteria (UID2372)   \n",
       "17280                  0.00                  177  k__Bacteria (UID2372)   \n",
       "17356                  0.00                  177  k__Bacteria (UID2372)   \n",
       "17358                  0.00                  177  k__Bacteria (UID2372)   \n",
       "17363                  0.94                  177  k__Bacteria (UID2372)   \n",
       "17396                  0.00                  177  k__Bacteria (UID2372)   \n",
       "17556                  0.94                  177  k__Bacteria (UID2372)   \n",
       "19463                  1.04                  177  k__Bacteria (UID2372)   \n",
       "\n",
       "       checkm_marker_set_count  checkm_strain_heterogeneity  coding_bases  \\\n",
       "2341                       106                          0.0       2048823   \n",
       "2391                       106                          0.0       1999466   \n",
       "2861                       106                          0.0       2125100   \n",
       "3478                       106                        100.0       2166238   \n",
       "7343                       106                          0.0       2011225   \n",
       "7365                       106                          0.0       2003718   \n",
       "7367                       106                          0.0       2001017   \n",
       "7375                       106                        100.0       2144982   \n",
       "7445                       106                          0.0       2009817   \n",
       "7455                       106                          0.0       2012439   \n",
       "7620                       106                          0.0       2251303   \n",
       "9156                       106                          0.0       2393140   \n",
       "12392                      106                          0.0       2011677   \n",
       "12415                      106                          0.0       2011015   \n",
       "12521                       57                          0.0       1494712   \n",
       "13124                      106                          0.0       2511377   \n",
       "14570                      106                          0.0       2328960   \n",
       "14688                      106                          0.0       1932597   \n",
       "16304                      106                          0.0       2205880   \n",
       "17211                      106                          0.0       2045640   \n",
       "17280                      106                          0.0       2009586   \n",
       "17356                      106                          0.0       2008012   \n",
       "17358                      106                          0.0       2014633   \n",
       "17363                      106                        100.0       2052893   \n",
       "17396                      106                          0.0       2011101   \n",
       "17556                      106                        100.0       1258276   \n",
       "19463                      106                          0.0       1959672   \n",
       "\n",
       "       ...  ssu_silva_blast_perc_identity  ssu_silva_blast_subject_id  \\\n",
       "2341   ...                         99.116             AB643465.1.1491   \n",
       "2391   ...                         99.531         ACCK01000460.1.1313   \n",
       "2861   ...                         93.056             AB643465.1.1491   \n",
       "3478   ...                         99.879         ACCK01000460.1.1313   \n",
       "7343   ...                         99.531         ACCK01000460.1.1313   \n",
       "7365   ...                          99.75         ACCK01000460.1.1313   \n",
       "7367   ...                         99.531         ACCK01000460.1.1313   \n",
       "7375   ...                         99.886         ACCK01000460.1.1313   \n",
       "7445   ...                         99.531         ACCK01000460.1.1313   \n",
       "7455   ...                         99.531         ACCK01000460.1.1313   \n",
       "7620   ...                           none                        none   \n",
       "9156   ...                            100         ACCK01000460.1.1313   \n",
       "12392  ...                         99.126             AB643465.1.1491   \n",
       "12415  ...                         99.531         ACCK01000460.1.1313   \n",
       "12521  ...                           none                        none   \n",
       "13124  ...                          99.53             AB643465.1.1491   \n",
       "14570  ...                         99.799             AB643465.1.1491   \n",
       "14688  ...                           none                        none   \n",
       "16304  ...                          99.53             AB643465.1.1491   \n",
       "17211  ...                         99.192             EU530322.1.1489   \n",
       "17280  ...                         99.531         ACCK01000460.1.1313   \n",
       "17356  ...                         99.531         ACCK01000460.1.1313   \n",
       "17358  ...                         99.531         ACCK01000460.1.1313   \n",
       "17363  ...                         99.798             AB643465.1.1491   \n",
       "17396  ...                         99.531         ACCK01000460.1.1313   \n",
       "17556  ...                           none                        none   \n",
       "19463  ...                           none                        none   \n",
       "\n",
       "                                      ssu_silva_taxonomy  total_gap_length  \\\n",
       "2341   Bacteria;Firmicutes;Bacilli;Erysipelotrichales...                 0   \n",
       "2391   Bacteria;Firmicutes;Bacilli;Erysipelotrichales...                 0   \n",
       "2861   Bacteria;Firmicutes;Bacilli;Erysipelotrichales...                 0   \n",
       "3478   Bacteria;Firmicutes;Bacilli;Erysipelotrichales...                 0   \n",
       "7343   Bacteria;Firmicutes;Bacilli;Erysipelotrichales...                 0   \n",
       "7365   Bacteria;Firmicutes;Bacilli;Erysipelotrichales...                 0   \n",
       "7367   Bacteria;Firmicutes;Bacilli;Erysipelotrichales...                 0   \n",
       "7375   Bacteria;Firmicutes;Bacilli;Erysipelotrichales...                 0   \n",
       "7445   Bacteria;Firmicutes;Bacilli;Erysipelotrichales...                 0   \n",
       "7455   Bacteria;Firmicutes;Bacilli;Erysipelotrichales...                 0   \n",
       "7620                                                none                 0   \n",
       "9156   Bacteria;Firmicutes;Bacilli;Erysipelotrichales...                 0   \n",
       "12392  Bacteria;Firmicutes;Bacilli;Erysipelotrichales...                 0   \n",
       "12415  Bacteria;Firmicutes;Bacilli;Erysipelotrichales...                 0   \n",
       "12521                                               none                 0   \n",
       "13124  Bacteria;Firmicutes;Bacilli;Erysipelotrichales...                 0   \n",
       "14570  Bacteria;Firmicutes;Bacilli;Erysipelotrichales...                 0   \n",
       "14688                                               none                 0   \n",
       "16304  Bacteria;Firmicutes;Bacilli;Erysipelotrichales...              4965   \n",
       "17211  Bacteria;Firmicutes;Bacilli;Erysipelotrichales...               390   \n",
       "17280  Bacteria;Firmicutes;Bacilli;Erysipelotrichales...                 0   \n",
       "17356  Bacteria;Firmicutes;Bacilli;Erysipelotrichales...                 0   \n",
       "17358  Bacteria;Firmicutes;Bacilli;Erysipelotrichales...                 0   \n",
       "17363  Bacteria;Firmicutes;Bacilli;Erysipelotrichales...              1648   \n",
       "17396  Bacteria;Firmicutes;Bacilli;Erysipelotrichales...                 0   \n",
       "17556                                               none                 0   \n",
       "19463                                               none                 0   \n",
       "\n",
       "       trna_aa_count trna_count trna_selenocysteine_count ncbi_genus_taxid  \\\n",
       "2341              19         64                         0         135858.0   \n",
       "2391              19         64                         0         135858.0   \n",
       "2861              13         24                         0         135858.0   \n",
       "3478              17         56                         0         135858.0   \n",
       "7343              19         53                         0         135858.0   \n",
       "7365              19         58                         0         135858.0   \n",
       "7367              19         63                         0         135858.0   \n",
       "7375              17         55                         0         135858.0   \n",
       "7445              19         65                         0         135858.0   \n",
       "7455              19         63                         0         135858.0   \n",
       "7620              19         44                         0         135858.0   \n",
       "9156              19         72                         0         135858.0   \n",
       "12392             19         67                         0         135858.0   \n",
       "12415             19         66                         0         135858.0   \n",
       "12521             16         32                         0         135858.0   \n",
       "13124             19         58                         0         135858.0   \n",
       "14570             19         76                         0         135858.0   \n",
       "14688             18         51                         0         135858.0   \n",
       "16304             19         62                         0         135858.0   \n",
       "17211             19         63                         0         135858.0   \n",
       "17280             19         61                         0         135858.0   \n",
       "17356             19         65                         0         135858.0   \n",
       "17358             19         66                         0         135858.0   \n",
       "17363             19         67                         0         135858.0   \n",
       "17396             19         65                         0         135858.0   \n",
       "17556             11         17                         0         135858.0   \n",
       "19463             11         21                         0         135858.0   \n",
       "\n",
       "      genus_taxid species_taxid  \n",
       "2341     135858.0        100886  \n",
       "2391     135858.0        100886  \n",
       "2861     135858.0        100886  \n",
       "3478     135858.0        100886  \n",
       "7343     135858.0        100886  \n",
       "7365     135858.0        100886  \n",
       "7367     135858.0        100886  \n",
       "7375     135858.0        100886  \n",
       "7445     135858.0        100886  \n",
       "7455     135858.0        100886  \n",
       "7620     135858.0        100886  \n",
       "9156     135858.0        100886  \n",
       "12392    135858.0        100886  \n",
       "12415    135858.0        100886  \n",
       "12521    135858.0        100886  \n",
       "13124    135858.0        100886  \n",
       "14570    135858.0        100886  \n",
       "14688    135858.0        100886  \n",
       "16304    135858.0        100886  \n",
       "17211    135858.0        100886  \n",
       "17280    135858.0        100886  \n",
       "17356    135858.0        100886  \n",
       "17358    135858.0        100886  \n",
       "17363    135858.0        100886  \n",
       "17396    135858.0        100886  \n",
       "17556    135858.0        100886  \n",
       "19463    135858.0        100886  \n",
       "\n",
       "[27 rows x 114 columns]"
      ]
     },
     "execution_count": 46,
     "metadata": {},
     "output_type": "execute_result"
    }
   ],
   "source": [
    "metadata[metadata[\"species_taxid\"] == 100886]"
   ]
  },
  {
   "cell_type": "code",
   "execution_count": 41,
   "metadata": {},
   "outputs": [
    {
     "data": {
      "text/plain": [
       "34"
      ]
     },
     "execution_count": 41,
     "metadata": {},
     "output_type": "execute_result"
    }
   ],
   "source": [
    "sg._to_signature([str(record.seq)]).sum()"
   ]
  },
  {
   "cell_type": "code",
   "execution_count": 43,
   "metadata": {},
   "outputs": [
    {
     "data": {
      "text/html": [
       "<div>\n",
       "<style scoped>\n",
       "    .dataframe tbody tr th:only-of-type {\n",
       "        vertical-align: middle;\n",
       "    }\n",
       "\n",
       "    .dataframe tbody tr th {\n",
       "        vertical-align: top;\n",
       "    }\n",
       "\n",
       "    .dataframe thead th {\n",
       "        text-align: right;\n",
       "    }\n",
       "</style>\n",
       "<table border=\"1\" class=\"dataframe\">\n",
       "  <thead>\n",
       "    <tr style=\"text-align: right;\">\n",
       "      <th></th>\n",
       "      <th>Unnamed: 0</th>\n",
       "      <th>accession</th>\n",
       "      <th>ambiguous_bases</th>\n",
       "      <th>checkm_completeness</th>\n",
       "      <th>checkm_contamination</th>\n",
       "      <th>checkm_marker_count</th>\n",
       "      <th>checkm_marker_lineage</th>\n",
       "      <th>checkm_marker_set_count</th>\n",
       "      <th>checkm_strain_heterogeneity</th>\n",
       "      <th>coding_bases</th>\n",
       "      <th>...</th>\n",
       "      <th>ssu_silva_blast_perc_identity</th>\n",
       "      <th>ssu_silva_blast_subject_id</th>\n",
       "      <th>ssu_silva_taxonomy</th>\n",
       "      <th>total_gap_length</th>\n",
       "      <th>trna_aa_count</th>\n",
       "      <th>trna_count</th>\n",
       "      <th>trna_selenocysteine_count</th>\n",
       "      <th>ncbi_genus_taxid</th>\n",
       "      <th>genus_taxid</th>\n",
       "      <th>species_taxid</th>\n",
       "    </tr>\n",
       "  </thead>\n",
       "  <tbody>\n",
       "    <tr>\n",
       "      <th>0</th>\n",
       "      <td>2</td>\n",
       "      <td>RS_GCF_000730125.1</td>\n",
       "      <td>30</td>\n",
       "      <td>100.00</td>\n",
       "      <td>0.92</td>\n",
       "      <td>476</td>\n",
       "      <td>f__Bifidobacteriaceae (UID1462)</td>\n",
       "      <td>217</td>\n",
       "      <td>0.0</td>\n",
       "      <td>2212698</td>\n",
       "      <td>...</td>\n",
       "      <td>100</td>\n",
       "      <td>CP008885.1576966.1578495</td>\n",
       "      <td>Bacteria;Actinobacteriota;Actinobacteria;Bifid...</td>\n",
       "      <td>619</td>\n",
       "      <td>19</td>\n",
       "      <td>55</td>\n",
       "      <td>0</td>\n",
       "      <td>1678.0</td>\n",
       "      <td>1678.0</td>\n",
       "      <td>216816</td>\n",
       "    </tr>\n",
       "    <tr>\n",
       "      <th>1</th>\n",
       "      <td>4</td>\n",
       "      <td>RS_GCF_000468955.1</td>\n",
       "      <td>0</td>\n",
       "      <td>100.00</td>\n",
       "      <td>0.00</td>\n",
       "      <td>472</td>\n",
       "      <td>o__Lactobacillales (UID543)</td>\n",
       "      <td>265</td>\n",
       "      <td>0.0</td>\n",
       "      <td>2107260</td>\n",
       "      <td>...</td>\n",
       "      <td>99.935</td>\n",
       "      <td>CP003157.2105633.2107180</td>\n",
       "      <td>Bacteria;Firmicutes;Bacilli;Lactobacillales;St...</td>\n",
       "      <td>0</td>\n",
       "      <td>19</td>\n",
       "      <td>60</td>\n",
       "      <td>0</td>\n",
       "      <td>1357.0</td>\n",
       "      <td>1357.0</td>\n",
       "      <td>1359</td>\n",
       "    </tr>\n",
       "    <tr>\n",
       "      <th>2</th>\n",
       "      <td>22</td>\n",
       "      <td>RS_GCF_001078445.1</td>\n",
       "      <td>7</td>\n",
       "      <td>99.32</td>\n",
       "      <td>0.00</td>\n",
       "      <td>340</td>\n",
       "      <td>o__Clostridiales (UID1342)</td>\n",
       "      <td>177</td>\n",
       "      <td>0.0</td>\n",
       "      <td>4662609</td>\n",
       "      <td>...</td>\n",
       "      <td>99.804</td>\n",
       "      <td>CP015399.4748579.4750121</td>\n",
       "      <td>Bacteria;Firmicutes;Clostridia;Lachnospirales;...</td>\n",
       "      <td>32463</td>\n",
       "      <td>19</td>\n",
       "      <td>77</td>\n",
       "      <td>1</td>\n",
       "      <td>2719313.0</td>\n",
       "      <td>2719313.0</td>\n",
       "      <td>1531</td>\n",
       "    </tr>\n",
       "    <tr>\n",
       "      <th>3</th>\n",
       "      <td>44</td>\n",
       "      <td>RS_GCF_000273155.1</td>\n",
       "      <td>0</td>\n",
       "      <td>99.26</td>\n",
       "      <td>0.00</td>\n",
       "      <td>492</td>\n",
       "      <td>o__Bacteroidales (UID2657)</td>\n",
       "      <td>269</td>\n",
       "      <td>0.0</td>\n",
       "      <td>4834627</td>\n",
       "      <td>...</td>\n",
       "      <td>99.672</td>\n",
       "      <td>AP006841.4735744.4737280</td>\n",
       "      <td>Bacteria;Bacteroidota;Bacteroidia;Bacteroidale...</td>\n",
       "      <td>14319</td>\n",
       "      <td>19</td>\n",
       "      <td>83</td>\n",
       "      <td>0</td>\n",
       "      <td>816.0</td>\n",
       "      <td>816.0</td>\n",
       "      <td>817</td>\n",
       "    </tr>\n",
       "    <tr>\n",
       "      <th>4</th>\n",
       "      <td>50</td>\n",
       "      <td>RS_GCF_000009925.1</td>\n",
       "      <td>0</td>\n",
       "      <td>99.26</td>\n",
       "      <td>0.00</td>\n",
       "      <td>492</td>\n",
       "      <td>o__Bacteroidales (UID2657)</td>\n",
       "      <td>269</td>\n",
       "      <td>0.0</td>\n",
       "      <td>4719009</td>\n",
       "      <td>...</td>\n",
       "      <td>100</td>\n",
       "      <td>AP006841.4527043.4528579</td>\n",
       "      <td>Bacteria;Bacteroidota;Bacteroidia;Bacteroidale...</td>\n",
       "      <td>0</td>\n",
       "      <td>19</td>\n",
       "      <td>74</td>\n",
       "      <td>0</td>\n",
       "      <td>816.0</td>\n",
       "      <td>816.0</td>\n",
       "      <td>817</td>\n",
       "    </tr>\n",
       "    <tr>\n",
       "      <th>...</th>\n",
       "      <td>...</td>\n",
       "      <td>...</td>\n",
       "      <td>...</td>\n",
       "      <td>...</td>\n",
       "      <td>...</td>\n",
       "      <td>...</td>\n",
       "      <td>...</td>\n",
       "      <td>...</td>\n",
       "      <td>...</td>\n",
       "      <td>...</td>\n",
       "      <td>...</td>\n",
       "      <td>...</td>\n",
       "      <td>...</td>\n",
       "      <td>...</td>\n",
       "      <td>...</td>\n",
       "      <td>...</td>\n",
       "      <td>...</td>\n",
       "      <td>...</td>\n",
       "      <td>...</td>\n",
       "      <td>...</td>\n",
       "      <td>...</td>\n",
       "    </tr>\n",
       "    <tr>\n",
       "      <th>19813</th>\n",
       "      <td>394902</td>\n",
       "      <td>GB_GCA_930989685.1</td>\n",
       "      <td>0</td>\n",
       "      <td>97.96</td>\n",
       "      <td>0.68</td>\n",
       "      <td>261</td>\n",
       "      <td>o__Clostridiales (UID1212)</td>\n",
       "      <td>147</td>\n",
       "      <td>0.0</td>\n",
       "      <td>1974955</td>\n",
       "      <td>...</td>\n",
       "      <td>none</td>\n",
       "      <td>none</td>\n",
       "      <td>none</td>\n",
       "      <td>0</td>\n",
       "      <td>18</td>\n",
       "      <td>41</td>\n",
       "      <td>0</td>\n",
       "      <td>216851.0</td>\n",
       "      <td>216851.0</td>\n",
       "      <td>259315</td>\n",
       "    </tr>\n",
       "    <tr>\n",
       "      <th>19814</th>\n",
       "      <td>394904</td>\n",
       "      <td>GB_GCA_934668345.1</td>\n",
       "      <td>0</td>\n",
       "      <td>68.55</td>\n",
       "      <td>0.00</td>\n",
       "      <td>211</td>\n",
       "      <td>p__Actinobacteria (UID2112)</td>\n",
       "      <td>124</td>\n",
       "      <td>0.0</td>\n",
       "      <td>1143151</td>\n",
       "      <td>...</td>\n",
       "      <td>none</td>\n",
       "      <td>none</td>\n",
       "      <td>none</td>\n",
       "      <td>0</td>\n",
       "      <td>18</td>\n",
       "      <td>40</td>\n",
       "      <td>1</td>\n",
       "      <td>102106.0</td>\n",
       "      <td>102106.0</td>\n",
       "      <td>165190</td>\n",
       "    </tr>\n",
       "    <tr>\n",
       "      <th>19815</th>\n",
       "      <td>394914</td>\n",
       "      <td>GB_GCA_945900725.1</td>\n",
       "      <td>0</td>\n",
       "      <td>92.79</td>\n",
       "      <td>0.68</td>\n",
       "      <td>229</td>\n",
       "      <td>k__Bacteria (UID2982)</td>\n",
       "      <td>147</td>\n",
       "      <td>0.0</td>\n",
       "      <td>3994946</td>\n",
       "      <td>...</td>\n",
       "      <td>none</td>\n",
       "      <td>none</td>\n",
       "      <td>none</td>\n",
       "      <td>0</td>\n",
       "      <td>18</td>\n",
       "      <td>37</td>\n",
       "      <td>1</td>\n",
       "      <td>239934.0</td>\n",
       "      <td>239934.0</td>\n",
       "      <td>239935</td>\n",
       "    </tr>\n",
       "    <tr>\n",
       "      <th>19816</th>\n",
       "      <td>394919</td>\n",
       "      <td>GB_GCA_021625385.1</td>\n",
       "      <td>0</td>\n",
       "      <td>80.87</td>\n",
       "      <td>0.89</td>\n",
       "      <td>263</td>\n",
       "      <td>o__Clostridiales (UID1212)</td>\n",
       "      <td>149</td>\n",
       "      <td>50.0</td>\n",
       "      <td>1358322</td>\n",
       "      <td>...</td>\n",
       "      <td>none</td>\n",
       "      <td>none</td>\n",
       "      <td>none</td>\n",
       "      <td>310</td>\n",
       "      <td>9</td>\n",
       "      <td>16</td>\n",
       "      <td>0</td>\n",
       "      <td>459786.0</td>\n",
       "      <td>459786.0</td>\n",
       "      <td>1945593</td>\n",
       "    </tr>\n",
       "    <tr>\n",
       "      <th>19817</th>\n",
       "      <td>394920</td>\n",
       "      <td>GB_GCA_022640815.1</td>\n",
       "      <td>0</td>\n",
       "      <td>95.12</td>\n",
       "      <td>3.37</td>\n",
       "      <td>464</td>\n",
       "      <td>f__Bifidobacteriaceae (UID1458)</td>\n",
       "      <td>220</td>\n",
       "      <td>0.0</td>\n",
       "      <td>2288483</td>\n",
       "      <td>...</td>\n",
       "      <td>none</td>\n",
       "      <td>none</td>\n",
       "      <td>none</td>\n",
       "      <td>0</td>\n",
       "      <td>19</td>\n",
       "      <td>42</td>\n",
       "      <td>0</td>\n",
       "      <td>1678.0</td>\n",
       "      <td>1678.0</td>\n",
       "      <td>2172043</td>\n",
       "    </tr>\n",
       "  </tbody>\n",
       "</table>\n",
       "<p>19818 rows × 114 columns</p>\n",
       "</div>"
      ],
      "text/plain": [
       "       Unnamed: 0           accession  ambiguous_bases  checkm_completeness  \\\n",
       "0               2  RS_GCF_000730125.1               30               100.00   \n",
       "1               4  RS_GCF_000468955.1                0               100.00   \n",
       "2              22  RS_GCF_001078445.1                7                99.32   \n",
       "3              44  RS_GCF_000273155.1                0                99.26   \n",
       "4              50  RS_GCF_000009925.1                0                99.26   \n",
       "...           ...                 ...              ...                  ...   \n",
       "19813      394902  GB_GCA_930989685.1                0                97.96   \n",
       "19814      394904  GB_GCA_934668345.1                0                68.55   \n",
       "19815      394914  GB_GCA_945900725.1                0                92.79   \n",
       "19816      394919  GB_GCA_021625385.1                0                80.87   \n",
       "19817      394920  GB_GCA_022640815.1                0                95.12   \n",
       "\n",
       "       checkm_contamination  checkm_marker_count  \\\n",
       "0                      0.92                  476   \n",
       "1                      0.00                  472   \n",
       "2                      0.00                  340   \n",
       "3                      0.00                  492   \n",
       "4                      0.00                  492   \n",
       "...                     ...                  ...   \n",
       "19813                  0.68                  261   \n",
       "19814                  0.00                  211   \n",
       "19815                  0.68                  229   \n",
       "19816                  0.89                  263   \n",
       "19817                  3.37                  464   \n",
       "\n",
       "                 checkm_marker_lineage  checkm_marker_set_count  \\\n",
       "0      f__Bifidobacteriaceae (UID1462)                      217   \n",
       "1          o__Lactobacillales (UID543)                      265   \n",
       "2           o__Clostridiales (UID1342)                      177   \n",
       "3           o__Bacteroidales (UID2657)                      269   \n",
       "4           o__Bacteroidales (UID2657)                      269   \n",
       "...                                ...                      ...   \n",
       "19813       o__Clostridiales (UID1212)                      147   \n",
       "19814      p__Actinobacteria (UID2112)                      124   \n",
       "19815            k__Bacteria (UID2982)                      147   \n",
       "19816       o__Clostridiales (UID1212)                      149   \n",
       "19817  f__Bifidobacteriaceae (UID1458)                      220   \n",
       "\n",
       "       checkm_strain_heterogeneity  coding_bases  ...  \\\n",
       "0                              0.0       2212698  ...   \n",
       "1                              0.0       2107260  ...   \n",
       "2                              0.0       4662609  ...   \n",
       "3                              0.0       4834627  ...   \n",
       "4                              0.0       4719009  ...   \n",
       "...                            ...           ...  ...   \n",
       "19813                          0.0       1974955  ...   \n",
       "19814                          0.0       1143151  ...   \n",
       "19815                          0.0       3994946  ...   \n",
       "19816                         50.0       1358322  ...   \n",
       "19817                          0.0       2288483  ...   \n",
       "\n",
       "       ssu_silva_blast_perc_identity  ssu_silva_blast_subject_id  \\\n",
       "0                                100    CP008885.1576966.1578495   \n",
       "1                             99.935    CP003157.2105633.2107180   \n",
       "2                             99.804    CP015399.4748579.4750121   \n",
       "3                             99.672    AP006841.4735744.4737280   \n",
       "4                                100    AP006841.4527043.4528579   \n",
       "...                              ...                         ...   \n",
       "19813                           none                        none   \n",
       "19814                           none                        none   \n",
       "19815                           none                        none   \n",
       "19816                           none                        none   \n",
       "19817                           none                        none   \n",
       "\n",
       "                                      ssu_silva_taxonomy  total_gap_length  \\\n",
       "0      Bacteria;Actinobacteriota;Actinobacteria;Bifid...               619   \n",
       "1      Bacteria;Firmicutes;Bacilli;Lactobacillales;St...                 0   \n",
       "2      Bacteria;Firmicutes;Clostridia;Lachnospirales;...             32463   \n",
       "3      Bacteria;Bacteroidota;Bacteroidia;Bacteroidale...             14319   \n",
       "4      Bacteria;Bacteroidota;Bacteroidia;Bacteroidale...                 0   \n",
       "...                                                  ...               ...   \n",
       "19813                                               none                 0   \n",
       "19814                                               none                 0   \n",
       "19815                                               none                 0   \n",
       "19816                                               none               310   \n",
       "19817                                               none                 0   \n",
       "\n",
       "       trna_aa_count trna_count trna_selenocysteine_count ncbi_genus_taxid  \\\n",
       "0                 19         55                         0           1678.0   \n",
       "1                 19         60                         0           1357.0   \n",
       "2                 19         77                         1        2719313.0   \n",
       "3                 19         83                         0            816.0   \n",
       "4                 19         74                         0            816.0   \n",
       "...              ...        ...                       ...              ...   \n",
       "19813             18         41                         0         216851.0   \n",
       "19814             18         40                         1         102106.0   \n",
       "19815             18         37                         1         239934.0   \n",
       "19816              9         16                         0         459786.0   \n",
       "19817             19         42                         0           1678.0   \n",
       "\n",
       "      genus_taxid species_taxid  \n",
       "0          1678.0        216816  \n",
       "1          1357.0          1359  \n",
       "2       2719313.0          1531  \n",
       "3           816.0           817  \n",
       "4           816.0           817  \n",
       "...           ...           ...  \n",
       "19813    216851.0        259315  \n",
       "19814    102106.0        165190  \n",
       "19815    239934.0        239935  \n",
       "19816    459786.0       1945593  \n",
       "19817      1678.0       2172043  \n",
       "\n",
       "[19818 rows x 114 columns]"
      ]
     },
     "execution_count": 43,
     "metadata": {},
     "output_type": "execute_result"
    }
   ],
   "source": [
    "metadata"
   ]
  },
  {
   "cell_type": "code",
   "execution_count": null,
   "metadata": {},
   "outputs": [],
   "source": []
  }
 ],
 "metadata": {
  "kernelspec": {
   "display_name": "Python 3",
   "language": "python",
   "name": "python3"
  },
  "language_info": {
   "codemirror_mode": {
    "name": "ipython",
    "version": 3
   },
   "file_extension": ".py",
   "mimetype": "text/x-python",
   "name": "python",
   "nbconvert_exporter": "python",
   "pygments_lexer": "ipython3",
   "version": "3.8.18"
  }
 },
 "nbformat": 4,
 "nbformat_minor": 2
}
