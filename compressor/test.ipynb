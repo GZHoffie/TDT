{
 "cells": [
  {
   "cell_type": "code",
   "execution_count": 27,
   "metadata": {},
   "outputs": [],
   "source": [
    "import sys\n",
    "\n",
    "sys.path.append(\"/home/zhenhao/TDT\")"
   ]
  },
  {
   "cell_type": "code",
   "execution_count": 29,
   "metadata": {},
   "outputs": [],
   "source": [
    "import compressor"
   ]
  },
  {
   "cell_type": "code",
   "execution_count": 30,
   "metadata": {},
   "outputs": [
    {
     "name": "stdout",
     "output_type": "stream",
     "text": [
      "[INFO]\t\tSeed length set to 12, estimated vocabulary size 8388608.\n"
     ]
    }
   ],
   "source": [
    "import glob\n",
    "\n",
    "import compressor.signature\n",
    "\n",
    "def fracMinHash(kmer_hash):\n",
    "    hash = (976369 * kmer_hash + 1982627) % 10000\n",
    "    if hash < 1000:\n",
    "        return True\n",
    "    else:\n",
    "        return False\n",
    "        \n",
    "sg = compressor.signature.FMHSignature(fracMinHash, 12, 12, \"/home/zhenhao/TDT/12-mer.pkl\")\n",
    "#signature, storage = sg._find_consensus_in_genus(glob.glob(\"/home/zhenhao/TDT/data/escherichia/*.fna\"))"
   ]
  },
  {
   "cell_type": "code",
   "execution_count": 11,
   "metadata": {},
   "outputs": [],
   "source": [
    "import numpy as np\n",
    "\n",
    "pairwise_ANI = np.zeros((len(storage), len(storage)))\n",
    "\n",
    "for i in range(len(storage)):\n",
    "    for j in range(i, len(storage)):\n",
    "        jaccard_index = (storage[i] & storage[j]).sum() / (storage[i] | storage[j]).sum()\n",
    "        pairwise_ANI[i][j] = pairwise_ANI[j][i] = jaccard_index"
   ]
  },
  {
   "cell_type": "code",
   "execution_count": 15,
   "metadata": {},
   "outputs": [
    {
     "data": {
      "text/plain": [
       "(array([  730.,   394., 19646.,  3618.,  2870.,  1652.,  2280.,  2354.,\n",
       "          226.,   455.]),\n",
       " array([0.26702465, 0.34032219, 0.41361972, 0.48691726, 0.56021479,\n",
       "        0.63351233, 0.70680986, 0.7801074 , 0.85340493, 0.92670247,\n",
       "        1.        ]),\n",
       " <BarContainer object of 10 artists>)"
      ]
     },
     "execution_count": 15,
     "metadata": {},
     "output_type": "execute_result"
    },
    {
     "data": {
      "image/png": "[encoded data removed]",
      "text/plain": [
       "<Figure size 640x480 with 1 Axes>"
      ]
     },
     "metadata": {},
     "output_type": "display_data"
    }
   ],
   "source": [
    "plt.hist(pairwise_ANI.flatten())"
   ]
  },
  {
   "cell_type": "code",
   "execution_count": 23,
   "metadata": {},
   "outputs": [
    {
     "data": {
      "text/plain": [
       "185"
      ]
     },
     "execution_count": 23,
     "metadata": {},
     "output_type": "execute_result"
    }
   ],
   "source": [
    "len(storage)"
   ]
  },
  {
   "cell_type": "code",
   "execution_count": 17,
   "metadata": {},
   "outputs": [
    {
     "data": {
      "text/plain": [
       "0.41859629747937094"
      ]
     },
     "execution_count": 17,
     "metadata": {},
     "output_type": "execute_result"
    }
   ],
   "source": [
    "import matplotlib.pyplot as plt\n",
    "\n",
    "plt.hist(signature)"
   ]
  },
  {
   "cell_type": "code",
   "execution_count": 22,
   "metadata": {},
   "outputs": [
    {
     "data": {
      "text/plain": [
       "3289"
      ]
     },
     "execution_count": 22,
     "metadata": {},
     "output_type": "execute_result"
    }
   ],
   "source": [
    "(signature > 80).sum()"
   ]
  },
  {
   "cell_type": "code",
   "execution_count": 25,
   "metadata": {},
   "outputs": [],
   "source": [
    "genus_signature = (signature > 80)"
   ]
  },
  {
   "cell_type": "code",
   "execution_count": 24,
   "metadata": {},
   "outputs": [],
   "source": [
    "import pickle\n",
    "with open(\"escherichia.pkl\", \"wb\") as f:\n",
    "    pickle.dump(storage, f)"
   ]
  },
  {
   "cell_type": "code",
   "execution_count": 26,
   "metadata": {},
   "outputs": [],
   "source": [
    "coverage = []\n",
    "\n",
    "for i in storage:\n",
    "    coverage.append((i & genus_signature).sum() / genus_signature.sum())"
   ]
  },
  {
   "cell_type": "code",
   "execution_count": 28,
   "metadata": {},
   "outputs": [
    {
     "data": {
      "text/plain": [
       "{'whiskers': [<matplotlib.lines.Line2D at 0x7fd0e24715a0>,\n",
       "  <matplotlib.lines.Line2D at 0x7fd0e2471840>],\n",
       " 'caps': [<matplotlib.lines.Line2D at 0x7fd0e2471ae0>,\n",
       "  <matplotlib.lines.Line2D at 0x7fd0e2471d80>],\n",
       " 'boxes': [<matplotlib.lines.Line2D at 0x7fd0e2471300>],\n",
       " 'medians': [<matplotlib.lines.Line2D at 0x7fd0e2472020>],\n",
       " 'fliers': [<matplotlib.lines.Line2D at 0x7fd0e24722c0>],\n",
       " 'means': []}"
      ]
     },
     "execution_count": 28,
     "metadata": {},
     "output_type": "execute_result"
    },
    {
     "data": {
      "image/png": "[encoded data removed]",
      "text/plain": [
       "<Figure size 640x480 with 1 Axes>"
      ]
     },
     "metadata": {},
     "output_type": "display_data"
    }
   ],
   "source": [
    "plt.boxplot(coverage)"
   ]
  },
  {
   "cell_type": "code",
   "execution_count": 29,
   "metadata": {},
   "outputs": [
    {
     "name": "stderr",
     "output_type": "stream",
     "text": [
      "  1%|          | 1/98 [00:01<02:48,  1.74s/it]"
     ]
    },
    {
     "name": "stdout",
     "output_type": "stream",
     "text": [
      "[0 0 1 ... 1 1 1] 1940\n"
     ]
    },
    {
     "name": "stderr",
     "output_type": "stream",
     "text": [
      "  2%|▏         | 2/98 [00:03<02:47,  1.75s/it]"
     ]
    },
    {
     "name": "stdout",
     "output_type": "stream",
     "text": [
      "[0 1 1 ... 1 1 1] 1971\n"
     ]
    },
    {
     "name": "stderr",
     "output_type": "stream",
     "text": [
      "  3%|▎         | 3/98 [00:05<02:43,  1.72s/it]"
     ]
    },
    {
     "name": "stdout",
     "output_type": "stream",
     "text": [
      "[0 1 0 ... 0 0 1] 1686\n"
     ]
    },
    {
     "name": "stderr",
     "output_type": "stream",
     "text": [
      "  4%|▍         | 4/98 [00:07<02:59,  1.91s/it]"
     ]
    },
    {
     "name": "stdout",
     "output_type": "stream",
     "text": [
      "[1 1 0 ... 1 1 1] 1871\n"
     ]
    },
    {
     "name": "stderr",
     "output_type": "stream",
     "text": [
      "  5%|▌         | 5/98 [00:09<02:54,  1.87s/it]"
     ]
    },
    {
     "name": "stdout",
     "output_type": "stream",
     "text": [
      "[0 1 1 ... 0 1 1] 1830\n"
     ]
    },
    {
     "name": "stderr",
     "output_type": "stream",
     "text": [
      "  6%|▌         | 6/98 [00:10<02:46,  1.81s/it]"
     ]
    },
    {
     "name": "stdout",
     "output_type": "stream",
     "text": [
      "[0 1 0 ... 1 1 1] 1670\n"
     ]
    },
    {
     "name": "stderr",
     "output_type": "stream",
     "text": [
      "  7%|▋         | 7/98 [00:12<02:44,  1.81s/it]"
     ]
    },
    {
     "name": "stdout",
     "output_type": "stream",
     "text": [
      "[0 1 0 ... 1 0 1] 1879\n"
     ]
    },
    {
     "name": "stderr",
     "output_type": "stream",
     "text": [
      "  8%|▊         | 8/98 [00:14<02:39,  1.77s/it]"
     ]
    },
    {
     "name": "stdout",
     "output_type": "stream",
     "text": [
      "[0 1 0 ... 1 0 1] 1720\n"
     ]
    },
    {
     "name": "stderr",
     "output_type": "stream",
     "text": [
      "  9%|▉         | 9/98 [00:16<02:42,  1.83s/it]"
     ]
    },
    {
     "name": "stdout",
     "output_type": "stream",
     "text": [
      "[0 1 1 ... 1 1 1] 1822\n"
     ]
    },
    {
     "name": "stderr",
     "output_type": "stream",
     "text": [
      " 10%|█         | 10/98 [00:18<03:00,  2.05s/it]"
     ]
    },
    {
     "name": "stdout",
     "output_type": "stream",
     "text": [
      "[0 1 0 ... 1 0 1] 1858\n"
     ]
    },
    {
     "name": "stderr",
     "output_type": "stream",
     "text": [
      " 11%|█         | 11/98 [00:20<02:59,  2.07s/it]"
     ]
    },
    {
     "name": "stdout",
     "output_type": "stream",
     "text": [
      "[0 1 0 ... 1 1 1] 1829\n"
     ]
    },
    {
     "name": "stderr",
     "output_type": "stream",
     "text": [
      " 12%|█▏        | 12/98 [00:23<03:02,  2.12s/it]"
     ]
    },
    {
     "name": "stdout",
     "output_type": "stream",
     "text": [
      "[0 0 1 ... 1 0 1] 1872\n"
     ]
    },
    {
     "name": "stderr",
     "output_type": "stream",
     "text": [
      " 13%|█▎        | 13/98 [00:25<03:02,  2.14s/it]"
     ]
    },
    {
     "name": "stdout",
     "output_type": "stream",
     "text": [
      "[1 0 0 ... 0 1 0] 1850\n"
     ]
    },
    {
     "name": "stderr",
     "output_type": "stream",
     "text": [
      " 14%|█▍        | 14/98 [00:27<03:07,  2.23s/it]"
     ]
    },
    {
     "name": "stdout",
     "output_type": "stream",
     "text": [
      "[0 0 1 ... 1 1 0] 1653\n"
     ]
    },
    {
     "name": "stderr",
     "output_type": "stream",
     "text": [
      " 15%|█▌        | 15/98 [00:30<03:07,  2.26s/it]"
     ]
    },
    {
     "name": "stdout",
     "output_type": "stream",
     "text": [
      "[0 1 0 ... 1 0 1] 1881\n"
     ]
    },
    {
     "name": "stderr",
     "output_type": "stream",
     "text": [
      " 16%|█▋        | 16/98 [00:32<03:02,  2.23s/it]"
     ]
    },
    {
     "name": "stdout",
     "output_type": "stream",
     "text": [
      "[0 0 1 ... 1 0 1] 1977\n"
     ]
    },
    {
     "name": "stderr",
     "output_type": "stream",
     "text": [
      " 17%|█▋        | 17/98 [00:34<02:58,  2.21s/it]"
     ]
    },
    {
     "name": "stdout",
     "output_type": "stream",
     "text": [
      "[0 0 0 ... 1 0 1] 1804\n"
     ]
    },
    {
     "name": "stderr",
     "output_type": "stream",
     "text": [
      " 18%|█▊        | 18/98 [00:36<02:46,  2.08s/it]"
     ]
    },
    {
     "name": "stdout",
     "output_type": "stream",
     "text": [
      "[0 1 0 ... 0 1 1] 1550\n"
     ]
    },
    {
     "name": "stderr",
     "output_type": "stream",
     "text": [
      " 19%|█▉        | 19/98 [00:38<02:45,  2.09s/it]"
     ]
    },
    {
     "name": "stdout",
     "output_type": "stream",
     "text": [
      "[0 0 0 ... 1 0 1] 1735\n"
     ]
    },
    {
     "name": "stderr",
     "output_type": "stream",
     "text": [
      " 20%|██        | 20/98 [00:40<02:43,  2.09s/it]"
     ]
    },
    {
     "name": "stdout",
     "output_type": "stream",
     "text": [
      "[0 1 0 ... 0 0 1] 1844\n"
     ]
    },
    {
     "name": "stderr",
     "output_type": "stream",
     "text": [
      " 21%|██▏       | 21/98 [00:42<02:42,  2.11s/it]"
     ]
    },
    {
     "name": "stdout",
     "output_type": "stream",
     "text": [
      "[0 1 0 ... 1 1 1] 1869\n"
     ]
    },
    {
     "name": "stderr",
     "output_type": "stream",
     "text": [
      " 22%|██▏       | 22/98 [00:45<02:50,  2.24s/it]"
     ]
    },
    {
     "name": "stdout",
     "output_type": "stream",
     "text": [
      "[1 1 1 ... 1 0 1] 1929\n"
     ]
    },
    {
     "name": "stderr",
     "output_type": "stream",
     "text": [
      " 23%|██▎       | 23/98 [00:46<02:35,  2.07s/it]"
     ]
    },
    {
     "name": "stdout",
     "output_type": "stream",
     "text": [
      "[0 1 0 ... 1 0 1] 1704\n"
     ]
    },
    {
     "name": "stderr",
     "output_type": "stream",
     "text": [
      " 24%|██▍       | 24/98 [00:48<02:32,  2.06s/it]"
     ]
    },
    {
     "name": "stdout",
     "output_type": "stream",
     "text": [
      "[0 1 1 ... 1 0 1] 1829\n"
     ]
    },
    {
     "name": "stderr",
     "output_type": "stream",
     "text": [
      " 26%|██▌       | 25/98 [00:50<02:27,  2.02s/it]"
     ]
    },
    {
     "name": "stdout",
     "output_type": "stream",
     "text": [
      "[0 1 0 ... 0 0 1] 1830\n"
     ]
    },
    {
     "name": "stderr",
     "output_type": "stream",
     "text": [
      " 27%|██▋       | 26/98 [00:52<02:28,  2.06s/it]"
     ]
    },
    {
     "name": "stdout",
     "output_type": "stream",
     "text": [
      "[0 0 1 ... 1 0 1] 1954\n"
     ]
    },
    {
     "name": "stderr",
     "output_type": "stream",
     "text": [
      " 28%|██▊       | 27/98 [00:54<02:23,  2.02s/it]"
     ]
    },
    {
     "name": "stdout",
     "output_type": "stream",
     "text": [
      "[0 0 0 ... 0 1 1] 1930\n"
     ]
    },
    {
     "name": "stderr",
     "output_type": "stream",
     "text": [
      " 29%|██▊       | 28/98 [00:56<02:04,  1.78s/it]"
     ]
    },
    {
     "name": "stdout",
     "output_type": "stream",
     "text": [
      "[0 1 0 ... 0 1 1] 1251\n"
     ]
    },
    {
     "name": "stderr",
     "output_type": "stream",
     "text": [
      " 30%|██▉       | 29/98 [00:58<02:07,  1.84s/it]"
     ]
    },
    {
     "name": "stdout",
     "output_type": "stream",
     "text": [
      "[0 1 0 ... 1 0 1] 1757\n"
     ]
    },
    {
     "name": "stderr",
     "output_type": "stream",
     "text": [
      " 31%|███       | 30/98 [01:00<02:08,  1.89s/it]"
     ]
    },
    {
     "name": "stdout",
     "output_type": "stream",
     "text": [
      "[0 1 1 ... 0 1 1] 1783\n"
     ]
    },
    {
     "name": "stderr",
     "output_type": "stream",
     "text": [
      " 32%|███▏      | 31/98 [01:02<02:16,  2.04s/it]"
     ]
    },
    {
     "name": "stdout",
     "output_type": "stream",
     "text": [
      "[0 0 0 ... 1 1 1] 1722\n"
     ]
    },
    {
     "name": "stderr",
     "output_type": "stream",
     "text": [
      " 33%|███▎      | 32/98 [01:04<02:14,  2.04s/it]"
     ]
    },
    {
     "name": "stdout",
     "output_type": "stream",
     "text": [
      "[0 1 1 ... 0 1 1] 1764\n"
     ]
    },
    {
     "name": "stderr",
     "output_type": "stream",
     "text": [
      " 34%|███▎      | 33/98 [01:07<02:22,  2.19s/it]"
     ]
    },
    {
     "name": "stdout",
     "output_type": "stream",
     "text": [
      "[1 0 0 ... 0 1 0] 1645\n"
     ]
    },
    {
     "name": "stderr",
     "output_type": "stream",
     "text": [
      " 35%|███▍      | 34/98 [01:09<02:27,  2.30s/it]"
     ]
    },
    {
     "name": "stdout",
     "output_type": "stream",
     "text": [
      "[0 1 1 ... 0 1 1] 1924\n"
     ]
    },
    {
     "name": "stderr",
     "output_type": "stream",
     "text": [
      " 36%|███▌      | 35/98 [01:12<02:27,  2.34s/it]"
     ]
    },
    {
     "name": "stdout",
     "output_type": "stream",
     "text": [
      "[0 1 1 ... 1 1 1] 1989\n"
     ]
    },
    {
     "name": "stderr",
     "output_type": "stream",
     "text": [
      " 37%|███▋      | 36/98 [01:14<02:18,  2.23s/it]"
     ]
    },
    {
     "name": "stdout",
     "output_type": "stream",
     "text": [
      "[0 0 0 ... 1 1 1] 1792\n"
     ]
    },
    {
     "name": "stderr",
     "output_type": "stream",
     "text": [
      " 38%|███▊      | 37/98 [01:16<02:17,  2.25s/it]"
     ]
    },
    {
     "name": "stdout",
     "output_type": "stream",
     "text": [
      "[1 0 1 ... 1 1 1] 1930\n"
     ]
    },
    {
     "name": "stderr",
     "output_type": "stream",
     "text": [
      " 39%|███▉      | 38/98 [01:18<02:12,  2.20s/it]"
     ]
    },
    {
     "name": "stdout",
     "output_type": "stream",
     "text": [
      "[0 1 1 ... 0 1 1] 1826\n"
     ]
    },
    {
     "name": "stderr",
     "output_type": "stream",
     "text": [
      " 40%|███▉      | 39/98 [01:20<02:07,  2.17s/it]"
     ]
    },
    {
     "name": "stdout",
     "output_type": "stream",
     "text": [
      "[0 1 0 ... 1 0 1] 1728\n"
     ]
    },
    {
     "name": "stderr",
     "output_type": "stream",
     "text": [
      " 41%|████      | 40/98 [01:22<02:02,  2.12s/it]"
     ]
    },
    {
     "name": "stdout",
     "output_type": "stream",
     "text": [
      "[0 0 1 ... 0 1 1] 1906\n"
     ]
    },
    {
     "name": "stderr",
     "output_type": "stream",
     "text": [
      " 42%|████▏     | 41/98 [01:24<02:02,  2.14s/it]"
     ]
    },
    {
     "name": "stdout",
     "output_type": "stream",
     "text": [
      "[0 1 0 ... 1 1 1] 1862\n"
     ]
    },
    {
     "name": "stderr",
     "output_type": "stream",
     "text": [
      " 43%|████▎     | 42/98 [01:26<01:58,  2.12s/it]"
     ]
    },
    {
     "name": "stdout",
     "output_type": "stream",
     "text": [
      "[0 1 1 ... 0 1 1] 1807\n"
     ]
    },
    {
     "name": "stderr",
     "output_type": "stream",
     "text": [
      " 44%|████▍     | 43/98 [01:28<01:51,  2.03s/it]"
     ]
    },
    {
     "name": "stdout",
     "output_type": "stream",
     "text": [
      "[1 1 0 ... 1 1 1] 1508\n"
     ]
    },
    {
     "name": "stderr",
     "output_type": "stream",
     "text": [
      " 45%|████▍     | 44/98 [01:30<01:50,  2.04s/it]"
     ]
    },
    {
     "name": "stdout",
     "output_type": "stream",
     "text": [
      "[0 1 1 ... 0 1 1] 1812\n"
     ]
    },
    {
     "name": "stderr",
     "output_type": "stream",
     "text": [
      " 46%|████▌     | 45/98 [01:32<01:49,  2.06s/it]"
     ]
    },
    {
     "name": "stdout",
     "output_type": "stream",
     "text": [
      "[0 1 0 ... 0 1 0] 1863\n"
     ]
    },
    {
     "name": "stderr",
     "output_type": "stream",
     "text": [
      " 47%|████▋     | 46/98 [01:35<01:52,  2.16s/it]"
     ]
    },
    {
     "name": "stdout",
     "output_type": "stream",
     "text": [
      "[0 1 0 ... 1 0 1] 1881\n"
     ]
    },
    {
     "name": "stderr",
     "output_type": "stream",
     "text": [
      " 48%|████▊     | 47/98 [01:37<01:51,  2.19s/it]"
     ]
    },
    {
     "name": "stdout",
     "output_type": "stream",
     "text": [
      "[0 0 1 ... 1 1 1] 1853\n"
     ]
    },
    {
     "name": "stderr",
     "output_type": "stream",
     "text": [
      " 49%|████▉     | 48/98 [01:40<01:55,  2.32s/it]"
     ]
    },
    {
     "name": "stdout",
     "output_type": "stream",
     "text": [
      "[0 0 0 ... 1 0 1] 1836\n"
     ]
    },
    {
     "name": "stderr",
     "output_type": "stream",
     "text": [
      " 50%|█████     | 49/98 [01:42<01:56,  2.38s/it]"
     ]
    },
    {
     "name": "stdout",
     "output_type": "stream",
     "text": [
      "[0 1 1 ... 0 1 1] 1813\n"
     ]
    },
    {
     "name": "stderr",
     "output_type": "stream",
     "text": [
      " 51%|█████     | 50/98 [01:44<01:48,  2.25s/it]"
     ]
    },
    {
     "name": "stdout",
     "output_type": "stream",
     "text": [
      "[0 0 0 ... 1 1 1] 1714\n"
     ]
    },
    {
     "name": "stderr",
     "output_type": "stream",
     "text": [
      " 52%|█████▏    | 51/98 [01:46<01:46,  2.26s/it]"
     ]
    },
    {
     "name": "stdout",
     "output_type": "stream",
     "text": [
      "[0 1 1 ... 1 1 0] 1919\n"
     ]
    },
    {
     "name": "stderr",
     "output_type": "stream",
     "text": [
      " 53%|█████▎    | 52/98 [01:49<01:43,  2.25s/it]"
     ]
    },
    {
     "name": "stdout",
     "output_type": "stream",
     "text": [
      "[0 1 1 ... 0 1 1] 1823\n"
     ]
    },
    {
     "name": "stderr",
     "output_type": "stream",
     "text": [
      " 54%|█████▍    | 53/98 [01:51<01:44,  2.32s/it]"
     ]
    },
    {
     "name": "stdout",
     "output_type": "stream",
     "text": [
      "[0 1 1 ... 0 1 1] 1832\n"
     ]
    },
    {
     "name": "stderr",
     "output_type": "stream",
     "text": [
      " 55%|█████▌    | 54/98 [01:53<01:41,  2.31s/it]"
     ]
    },
    {
     "name": "stdout",
     "output_type": "stream",
     "text": [
      "[0 1 0 ... 1 0 1] 1720\n"
     ]
    },
    {
     "name": "stderr",
     "output_type": "stream",
     "text": [
      " 56%|█████▌    | 55/98 [01:56<01:41,  2.36s/it]"
     ]
    },
    {
     "name": "stdout",
     "output_type": "stream",
     "text": [
      "[0 0 1 ... 1 0 1] 1932\n"
     ]
    },
    {
     "name": "stderr",
     "output_type": "stream",
     "text": [
      " 57%|█████▋    | 56/98 [01:58<01:39,  2.36s/it]"
     ]
    },
    {
     "name": "stdout",
     "output_type": "stream",
     "text": [
      "[0 1 1 ... 1 1 1] 1900\n"
     ]
    },
    {
     "name": "stderr",
     "output_type": "stream",
     "text": [
      " 58%|█████▊    | 57/98 [02:01<01:39,  2.43s/it]"
     ]
    },
    {
     "name": "stdout",
     "output_type": "stream",
     "text": [
      "[0 1 0 ... 1 0 1] 1916\n"
     ]
    },
    {
     "name": "stderr",
     "output_type": "stream",
     "text": [
      " 59%|█████▉    | 58/98 [02:03<01:32,  2.31s/it]"
     ]
    },
    {
     "name": "stdout",
     "output_type": "stream",
     "text": [
      "[0 0 1 ... 1 1 1] 1761\n"
     ]
    },
    {
     "name": "stderr",
     "output_type": "stream",
     "text": [
      " 60%|██████    | 59/98 [02:05<01:33,  2.39s/it]"
     ]
    },
    {
     "name": "stdout",
     "output_type": "stream",
     "text": [
      "[1 1 1 ... 1 0 1] 1932\n"
     ]
    },
    {
     "name": "stderr",
     "output_type": "stream",
     "text": [
      " 61%|██████    | 60/98 [02:07<01:26,  2.28s/it]"
     ]
    },
    {
     "name": "stdout",
     "output_type": "stream",
     "text": [
      "[0 0 1 ... 1 1 0] 1649\n"
     ]
    },
    {
     "name": "stderr",
     "output_type": "stream",
     "text": [
      " 62%|██████▏   | 61/98 [02:09<01:21,  2.21s/it]"
     ]
    },
    {
     "name": "stdout",
     "output_type": "stream",
     "text": [
      "[0 1 0 ... 1 0 1] 1740\n"
     ]
    },
    {
     "name": "stderr",
     "output_type": "stream",
     "text": [
      " 63%|██████▎   | 62/98 [02:12<01:18,  2.19s/it]"
     ]
    },
    {
     "name": "stdout",
     "output_type": "stream",
     "text": [
      "[0 1 1 ... 0 1 1] 1759\n"
     ]
    },
    {
     "name": "stderr",
     "output_type": "stream",
     "text": [
      " 64%|██████▍   | 63/98 [02:13<01:09,  2.00s/it]"
     ]
    },
    {
     "name": "stdout",
     "output_type": "stream",
     "text": [
      "[0 0 1 ... 0 1 1] 1122\n"
     ]
    },
    {
     "name": "stderr",
     "output_type": "stream",
     "text": [
      " 65%|██████▌   | 64/98 [02:16<01:12,  2.14s/it]"
     ]
    },
    {
     "name": "stdout",
     "output_type": "stream",
     "text": [
      "[0 1 0 ... 1 0 1] 1810\n"
     ]
    },
    {
     "name": "stderr",
     "output_type": "stream",
     "text": [
      " 66%|██████▋   | 65/98 [02:18<01:11,  2.17s/it]"
     ]
    },
    {
     "name": "stdout",
     "output_type": "stream",
     "text": [
      "[0 0 0 ... 1 0 1] 2020\n"
     ]
    },
    {
     "name": "stderr",
     "output_type": "stream",
     "text": [
      " 67%|██████▋   | 66/98 [02:20<01:11,  2.23s/it]"
     ]
    },
    {
     "name": "stdout",
     "output_type": "stream",
     "text": [
      "[0 0 1 ... 0 1 1] 1927\n"
     ]
    },
    {
     "name": "stderr",
     "output_type": "stream",
     "text": [
      " 68%|██████▊   | 67/98 [02:22<01:05,  2.10s/it]"
     ]
    },
    {
     "name": "stdout",
     "output_type": "stream",
     "text": [
      "[0 0 0 ... 1 1 1] 1544\n"
     ]
    },
    {
     "name": "stderr",
     "output_type": "stream",
     "text": [
      " 69%|██████▉   | 68/98 [02:24<01:04,  2.14s/it]"
     ]
    },
    {
     "name": "stdout",
     "output_type": "stream",
     "text": [
      "[0 1 0 ... 1 1 1] 1671\n"
     ]
    },
    {
     "name": "stderr",
     "output_type": "stream",
     "text": [
      " 70%|███████   | 69/98 [02:26<01:03,  2.18s/it]"
     ]
    },
    {
     "name": "stdout",
     "output_type": "stream",
     "text": [
      "[0 1 1 ... 1 0 1] 1831\n"
     ]
    },
    {
     "name": "stderr",
     "output_type": "stream",
     "text": [
      " 71%|███████▏  | 70/98 [02:28<00:58,  2.11s/it]"
     ]
    },
    {
     "name": "stdout",
     "output_type": "stream",
     "text": [
      "[0 0 1 ... 1 1 1] 1821\n"
     ]
    },
    {
     "name": "stderr",
     "output_type": "stream",
     "text": [
      " 72%|███████▏  | 71/98 [02:31<00:59,  2.19s/it]"
     ]
    },
    {
     "name": "stdout",
     "output_type": "stream",
     "text": [
      "[0 1 0 ... 1 1 1] 1944\n"
     ]
    },
    {
     "name": "stderr",
     "output_type": "stream",
     "text": [
      " 73%|███████▎  | 72/98 [02:33<00:57,  2.20s/it]"
     ]
    },
    {
     "name": "stdout",
     "output_type": "stream",
     "text": [
      "[0 0 1 ... 0 0 1] 1981\n"
     ]
    },
    {
     "name": "stderr",
     "output_type": "stream",
     "text": [
      " 74%|███████▍  | 73/98 [02:35<00:54,  2.17s/it]"
     ]
    },
    {
     "name": "stdout",
     "output_type": "stream",
     "text": [
      "[0 0 1 ... 1 1 0] 1656\n"
     ]
    },
    {
     "name": "stderr",
     "output_type": "stream",
     "text": [
      " 76%|███████▌  | 74/98 [02:37<00:52,  2.20s/it]"
     ]
    },
    {
     "name": "stdout",
     "output_type": "stream",
     "text": [
      "[1 1 1 ... 1 0 1] 1845\n"
     ]
    },
    {
     "name": "stderr",
     "output_type": "stream",
     "text": [
      " 77%|███████▋  | 75/98 [02:39<00:48,  2.12s/it]"
     ]
    },
    {
     "name": "stdout",
     "output_type": "stream",
     "text": [
      "[0 0 0 ... 1 1 1] 1716\n"
     ]
    },
    {
     "name": "stderr",
     "output_type": "stream",
     "text": [
      " 78%|███████▊  | 76/98 [02:42<00:48,  2.22s/it]"
     ]
    },
    {
     "name": "stdout",
     "output_type": "stream",
     "text": [
      "[1 0 0 ... 0 1 1] 1828\n"
     ]
    },
    {
     "name": "stderr",
     "output_type": "stream",
     "text": [
      " 79%|███████▊  | 77/98 [02:44<00:43,  2.07s/it]"
     ]
    },
    {
     "name": "stdout",
     "output_type": "stream",
     "text": [
      "[0 1 1 ... 1 1 1] 1519\n"
     ]
    },
    {
     "name": "stderr",
     "output_type": "stream",
     "text": [
      " 80%|███████▉  | 78/98 [02:46<00:44,  2.23s/it]"
     ]
    },
    {
     "name": "stdout",
     "output_type": "stream",
     "text": [
      "[0 1 1 ... 1 0 1] 1941\n"
     ]
    },
    {
     "name": "stderr",
     "output_type": "stream",
     "text": [
      " 81%|████████  | 79/98 [02:48<00:41,  2.19s/it]"
     ]
    },
    {
     "name": "stdout",
     "output_type": "stream",
     "text": [
      "[0 0 1 ... 1 1 0] 1629\n"
     ]
    },
    {
     "name": "stderr",
     "output_type": "stream",
     "text": [
      " 82%|████████▏ | 80/98 [02:50<00:38,  2.14s/it]"
     ]
    },
    {
     "name": "stdout",
     "output_type": "stream",
     "text": [
      "[0 1 1 ... 0 1 1] 1785\n"
     ]
    },
    {
     "name": "stderr",
     "output_type": "stream",
     "text": [
      " 83%|████████▎ | 81/98 [02:52<00:35,  2.09s/it]"
     ]
    },
    {
     "name": "stdout",
     "output_type": "stream",
     "text": [
      "[0 1 0 ... 1 0 1] 1699\n"
     ]
    },
    {
     "name": "stderr",
     "output_type": "stream",
     "text": [
      " 84%|████████▎ | 82/98 [02:54<00:33,  2.07s/it]"
     ]
    },
    {
     "name": "stdout",
     "output_type": "stream",
     "text": [
      "[0 0 1 ... 0 1 1] 1943\n"
     ]
    },
    {
     "name": "stderr",
     "output_type": "stream",
     "text": [
      " 85%|████████▍ | 83/98 [02:57<00:33,  2.22s/it]"
     ]
    },
    {
     "name": "stdout",
     "output_type": "stream",
     "text": [
      "[0 1 0 ... 1 0 1] 1825\n"
     ]
    },
    {
     "name": "stderr",
     "output_type": "stream",
     "text": [
      " 86%|████████▌ | 84/98 [02:59<00:30,  2.17s/it]"
     ]
    },
    {
     "name": "stdout",
     "output_type": "stream",
     "text": [
      "[0 0 0 ... 1 0 1] 1805\n"
     ]
    },
    {
     "name": "stderr",
     "output_type": "stream",
     "text": [
      " 87%|████████▋ | 85/98 [03:01<00:27,  2.10s/it]"
     ]
    },
    {
     "name": "stdout",
     "output_type": "stream",
     "text": [
      "[0 1 0 ... 1 1 1] 1722\n"
     ]
    },
    {
     "name": "stderr",
     "output_type": "stream",
     "text": [
      " 88%|████████▊ | 86/98 [03:03<00:26,  2.18s/it]"
     ]
    },
    {
     "name": "stdout",
     "output_type": "stream",
     "text": [
      "[0 0 1 ... 0 1 1] 2121\n"
     ]
    },
    {
     "name": "stderr",
     "output_type": "stream",
     "text": [
      " 89%|████████▉ | 87/98 [03:06<00:25,  2.30s/it]"
     ]
    },
    {
     "name": "stdout",
     "output_type": "stream",
     "text": [
      "[0 1 1 ... 1 0 1] 1958\n"
     ]
    },
    {
     "name": "stderr",
     "output_type": "stream",
     "text": [
      " 90%|████████▉ | 88/98 [03:08<00:22,  2.25s/it]"
     ]
    },
    {
     "name": "stdout",
     "output_type": "stream",
     "text": [
      "[0 1 0 ... 0 0 1] 1676\n"
     ]
    },
    {
     "name": "stderr",
     "output_type": "stream",
     "text": [
      " 91%|█████████ | 89/98 [03:10<00:20,  2.22s/it]"
     ]
    },
    {
     "name": "stdout",
     "output_type": "stream",
     "text": [
      "[0 0 0 ... 1 1 1] 1802\n"
     ]
    },
    {
     "name": "stderr",
     "output_type": "stream",
     "text": [
      " 92%|█████████▏| 90/98 [03:12<00:17,  2.14s/it]"
     ]
    },
    {
     "name": "stdout",
     "output_type": "stream",
     "text": [
      "[0 1 0 ... 0 1 1] 1765\n"
     ]
    },
    {
     "name": "stderr",
     "output_type": "stream",
     "text": [
      " 93%|█████████▎| 91/98 [03:14<00:14,  2.04s/it]"
     ]
    },
    {
     "name": "stdout",
     "output_type": "stream",
     "text": [
      "[0 0 0 ... 0 1 1] 1572\n"
     ]
    },
    {
     "name": "stderr",
     "output_type": "stream",
     "text": [
      " 94%|█████████▍| 92/98 [03:16<00:12,  2.07s/it]"
     ]
    },
    {
     "name": "stdout",
     "output_type": "stream",
     "text": [
      "[0 0 0 ... 1 0 1] 1852\n"
     ]
    },
    {
     "name": "stderr",
     "output_type": "stream",
     "text": [
      " 95%|█████████▍| 93/98 [03:18<00:11,  2.22s/it]"
     ]
    },
    {
     "name": "stdout",
     "output_type": "stream",
     "text": [
      "[0 1 1 ... 0 1 0] 1937\n"
     ]
    },
    {
     "name": "stderr",
     "output_type": "stream",
     "text": [
      " 96%|█████████▌| 94/98 [03:20<00:08,  2.11s/it]"
     ]
    },
    {
     "name": "stdout",
     "output_type": "stream",
     "text": [
      "[0 0 1 ... 1 1 0] 1775\n"
     ]
    },
    {
     "name": "stderr",
     "output_type": "stream",
     "text": [
      " 97%|█████████▋| 95/98 [03:23<00:06,  2.17s/it]"
     ]
    },
    {
     "name": "stdout",
     "output_type": "stream",
     "text": [
      "[0 1 0 ... 1 1 1] 1969\n"
     ]
    },
    {
     "name": "stderr",
     "output_type": "stream",
     "text": [
      " 98%|█████████▊| 96/98 [03:25<00:04,  2.14s/it]"
     ]
    },
    {
     "name": "stdout",
     "output_type": "stream",
     "text": [
      "[0 1 0 ... 0 0 1] 1756\n"
     ]
    },
    {
     "name": "stderr",
     "output_type": "stream",
     "text": [
      " 99%|█████████▉| 97/98 [03:27<00:02,  2.18s/it]"
     ]
    },
    {
     "name": "stdout",
     "output_type": "stream",
     "text": [
      "[0 1 1 ... 1 1 0] 1912\n"
     ]
    },
    {
     "name": "stderr",
     "output_type": "stream",
     "text": [
      "100%|██████████| 98/98 [03:29<00:00,  2.14s/it]"
     ]
    },
    {
     "name": "stdout",
     "output_type": "stream",
     "text": [
      "[1 1 0 ... 0 1 1] 1773\n"
     ]
    },
    {
     "name": "stderr",
     "output_type": "stream",
     "text": [
      "\n"
     ]
    }
   ],
   "source": [
    "signature, storage = sg._find_consensus_in_genus(glob.glob(\"/home/zhenhao/TDT/data/staphylococcus/*.fna\"))"
   ]
  },
  {
   "cell_type": "code",
   "execution_count": 60,
   "metadata": {},
   "outputs": [],
   "source": [
    "staphylococcus_signature = (signature >= 20)"
   ]
  },
  {
   "cell_type": "code",
   "execution_count": 61,
   "metadata": {},
   "outputs": [
    {
     "data": {
      "text/plain": [
       "3083"
      ]
     },
     "execution_count": 61,
     "metadata": {},
     "output_type": "execute_result"
    }
   ],
   "source": [
    "staphylococcus_signature.sum()"
   ]
  },
  {
   "cell_type": "code",
   "execution_count": 34,
   "metadata": {},
   "outputs": [],
   "source": [
    "with open(\"escherichia.pkl\", \"rb\") as f:\n",
    "    es_storage = pickle.load(f)"
   ]
  },
  {
   "cell_type": "code",
   "execution_count": 38,
   "metadata": {},
   "outputs": [],
   "source": [
    "escherichia_signature = np.zeros(len(es_storage[0]), dtype=np.int16)\n",
    "for i in es_storage:\n",
    "    escherichia_signature += i\n",
    "\n",
    "escherichia_signature = (escherichia_signature > 80)"
   ]
  },
  {
   "cell_type": "code",
   "execution_count": 62,
   "metadata": {},
   "outputs": [
    {
     "data": {
      "text/plain": [
       "1440"
      ]
     },
     "execution_count": 62,
     "metadata": {},
     "output_type": "execute_result"
    }
   ],
   "source": [
    "(escherichia_signature & staphylococcus_signature).sum()"
   ]
  },
  {
   "cell_type": "code",
   "execution_count": 63,
   "metadata": {},
   "outputs": [
    {
     "data": {
      "text/plain": [
       "3083"
      ]
     },
     "execution_count": 63,
     "metadata": {},
     "output_type": "execute_result"
    }
   ],
   "source": [
    "staphylococcus_signature.sum()"
   ]
  },
  {
   "cell_type": "code",
   "execution_count": 43,
   "metadata": {},
   "outputs": [
    {
     "data": {
      "text/plain": [
       "3289"
      ]
     },
     "execution_count": 43,
     "metadata": {},
     "output_type": "execute_result"
    }
   ],
   "source": [
    "escherichia_signature.sum()"
   ]
  },
  {
   "cell_type": "code",
   "execution_count": 69,
   "metadata": {},
   "outputs": [],
   "source": [
    "coverage = []\n",
    "\n",
    "for i in range(len(storage)):\n",
    "    coverage.append((storage[i] & staphylococcus_signature).sum() / storage[i].sum())"
   ]
  },
  {
   "cell_type": "code",
   "execution_count": 70,
   "metadata": {},
   "outputs": [
    {
     "data": {
      "text/plain": [
       "{'whiskers': [<matplotlib.lines.Line2D at 0x7fd0e23cbfa0>,\n",
       "  <matplotlib.lines.Line2D at 0x7fd0e23b8280>],\n",
       " 'caps': [<matplotlib.lines.Line2D at 0x7fd0e23b8520>,\n",
       "  <matplotlib.lines.Line2D at 0x7fd0e23b87c0>],\n",
       " 'boxes': [<matplotlib.lines.Line2D at 0x7fd0e23cbd00>],\n",
       " 'medians': [<matplotlib.lines.Line2D at 0x7fd0e23b8a60>],\n",
       " 'fliers': [<matplotlib.lines.Line2D at 0x7fd0e23b8d00>],\n",
       " 'means': []}"
      ]
     },
     "execution_count": 70,
     "metadata": {},
     "output_type": "execute_result"
    },
    {
     "data": {
      "image/png": "[encoded data removed]",
      "text/plain": [
       "<Figure size 640x480 with 1 Axes>"
      ]
     },
     "metadata": {},
     "output_type": "display_data"
    }
   ],
   "source": [
    "plt.boxplot(coverage)"
   ]
  },
  {
   "cell_type": "code",
   "execution_count": 46,
   "metadata": {},
   "outputs": [
    {
     "data": {
      "text/plain": [
       "1017"
      ]
     },
     "execution_count": 46,
     "metadata": {},
     "output_type": "execute_result"
    }
   ],
   "source": [
    "(es_storage[0] & staphylococcus_signature).sum()"
   ]
  },
  {
   "cell_type": "code",
   "execution_count": 71,
   "metadata": {},
   "outputs": [
    {
     "name": "stdout",
     "output_type": "stream",
     "text": [
      "1393\n",
      "2799\n"
     ]
    }
   ],
   "source": [
    "print((es_storage[10] & staphylococcus_signature).sum())\n",
    "print((es_storage[10] & escherichia_signature).sum())"
   ]
  },
  {
   "cell_type": "code",
   "execution_count": 72,
   "metadata": {},
   "outputs": [
    {
     "name": "stdout",
     "output_type": "stream",
     "text": [
      "1334\n",
      "858\n"
     ]
    }
   ],
   "source": [
    "print((storage[10] & staphylococcus_signature).sum())\n",
    "print((storage[10] & escherichia_signature).sum())"
   ]
  },
  {
   "cell_type": "code",
   "execution_count": null,
   "metadata": {},
   "outputs": [],
   "source": []
  },
  {
   "cell_type": "markdown",
   "metadata": {},
   "source": [
    "## Try doing classification"
   ]
  },
  {
   "cell_type": "code",
   "execution_count": 1,
   "metadata": {},
   "outputs": [],
   "source": [
    "import pickle\n",
    "\n",
    "with open(\"/home/zhenhao/TDT/signature.pkl\", \"rb\") as f:\n",
    "    signatures = pickle.load(f)"
   ]
  },
  {
   "cell_type": "code",
   "execution_count": 2,
   "metadata": {},
   "outputs": [
    {
     "data": {
      "text/plain": [
       "[(84107.0, array([ 7,  3,  0, ..., 16, 13, 33], dtype=int16)),\n",
       " (1300.0, array([ 34,  40,  30, ..., 131, 119, 132], dtype=int16)),\n",
       " (2005525.0, array([13, 34, 18, ..., 66, 65, 65], dtype=int16)),\n",
       " (171550.0, array([ 27,  66,  21, ..., 127,  86, 150], dtype=int16)),\n",
       " (1843491.0, array([ 55,  60,  33, ..., 164, 143, 158], dtype=int16)),\n",
       " (2810280.0, array([15, 13, 11, ..., 45, 36, 42], dtype=int16)),\n",
       " (2810281.0, array([4, 5, 4, ..., 8, 7, 8], dtype=int16)),\n",
       " (815.0, array([ 71,  89,  36, ..., 175, 140, 173], dtype=int16)),\n",
       " (1853231.0, array([19, 18, 27, ..., 35, 35, 34], dtype=int16)),\n",
       " (1643824.0, array([ 3,  1,  1, ..., 21, 15, 21], dtype=int16)),\n",
       " (1643826.0, array([ 9,  4,  2, ..., 53, 41, 52], dtype=int16)),\n",
       " (186803.0, array([ 21,  31,  31, ..., 193, 158, 186], dtype=int16)),\n",
       " (186804.0, array([10, 41, 35, ..., 83, 73, 83], dtype=int16)),\n",
       " (128827.0, array([ 39,  54,  41, ..., 191, 113, 154], dtype=int16)),\n",
       " (31953.0, array([16,  8, 18, ..., 60, 36, 56], dtype=int16)),\n",
       " (31977.0, array([ 26,  30,  25, ..., 139,  84, 109], dtype=int16)),\n",
       " (909930.0, array([14, 13, 12, ..., 77, 64, 78], dtype=int16)),\n",
       " (31979.0, array([ 25,  64,  39, ..., 196, 166, 185], dtype=int16)),\n",
       " (194924.0, array([ 71,  62,  63, ..., 151, 157, 181], dtype=int16)),\n",
       " (1647988.0, array([ 22,  32,  36, ..., 126, 111, 144], dtype=int16)),\n",
       " (216572.0, array([ 26,  23,  16, ..., 169, 133, 176], dtype=int16))]"
      ]
     },
     "execution_count": 2,
     "metadata": {},
     "output_type": "execute_result"
    }
   ],
   "source": [
    "signatures"
   ]
  },
  {
   "cell_type": "code",
   "execution_count": 3,
   "metadata": {},
   "outputs": [
    {
     "data": {
      "text/plain": [
       "839265"
      ]
     },
     "execution_count": 3,
     "metadata": {},
     "output_type": "execute_result"
    }
   ],
   "source": [
    "len(signatures[0][1])"
   ]
  },
  {
   "cell_type": "code",
   "execution_count": 12,
   "metadata": {},
   "outputs": [
    {
     "data": {
      "text/plain": [
       "<Axes: ylabel='Count'>"
      ]
     },
     "execution_count": 12,
     "metadata": {},
     "output_type": "execute_result"
    },
    {
     "data": {
      "image/png": "[encoded data removed]",
      "text/plain": [
       "<Figure size 640x480 with 1 Axes>"
      ]
     },
     "metadata": {},
     "output_type": "display_data"
    }
   ],
   "source": [
    "import seaborn\n",
    "\n",
    "seaborn.histplot(signatures[7][1])"
   ]
  },
  {
   "cell_type": "code",
   "execution_count": 13,
   "metadata": {},
   "outputs": [],
   "source": [
    "# Read the metadata\n",
    "\n",
    "import pandas as pd\n",
    "\n",
    "metadata = pd.read_csv(\"../gtdb_utils/metadata_sample.csv\")"
   ]
  },
  {
   "cell_type": "code",
   "execution_count": 14,
   "metadata": {},
   "outputs": [],
   "source": [
    "metadata = metadata.dropna(subset=['family_taxid'])"
   ]
  },
  {
   "cell_type": "code",
   "execution_count": 15,
   "metadata": {},
   "outputs": [],
   "source": [
    "num_kmers = len(signatures[0][1])"
   ]
  },
  {
   "cell_type": "code",
   "execution_count": 16,
   "metadata": {},
   "outputs": [
    {
     "name": "stdout",
     "output_type": "stream",
     "text": [
      "148 0.22464597803644468\n",
      "214277\n",
      "200 0.11971832496291397\n",
      "242483\n",
      "82 0.25590094584794215\n",
      "276411\n",
      "105 0.34753075607823514\n",
      "276562\n",
      "76 0.4503707975054614\n",
      "284542\n",
      "112 0.06938808489741449\n",
      "210734\n",
      "10 0.1591098163273817\n",
      "193937\n",
      "200 0.2415299518030658\n",
      "297438\n",
      "34 0.2913705304466338\n",
      "257686\n",
      "124 0.161791855892339\n",
      "220780\n",
      "102 0.2645467795525567\n",
      "242571\n",
      "200 0.22719325838680274\n",
      "288044\n",
      "103 0.14155037067512669\n",
      "219564\n",
      "179 0.16102274512811107\n",
      "246111\n",
      "200 0.16669544184494767\n",
      "251159\n",
      "147 0.18977853597278246\n",
      "261643\n",
      "36 0.36958760873436214\n",
      "251552\n",
      "200 0.2015254776500867\n",
      "254216\n",
      "145 0.30296338524451916\n",
      "269691\n",
      "119 0.3625040257564304\n",
      "294933\n",
      "200 0.18092308150584144\n",
      "279420\n"
     ]
    }
   ],
   "source": [
    "import math\n",
    "from scipy.stats import binom\n",
    "\n",
    "bool_signature = {}\n",
    "\n",
    "for genus, signature in signatures:\n",
    "    # Get the subset of metadata\n",
    "    metadata_subset = metadata[metadata[\"family_taxid\"] == genus].groupby(\"species_taxid\").sample(1)\n",
    "    num_sequences = len(metadata_subset)\n",
    "    if num_sequences > 200:\n",
    "        num_sequences = 200\n",
    "    \n",
    "    # find a good threshold for cutoff\n",
    "    from scipy.stats import binom\n",
    "    # find p\n",
    "    p = signature.sum() / num_sequences / num_kmers\n",
    "    # find n\n",
    "    n = num_sequences\n",
    "    # Set threshold to be p-value=0.05\n",
    "    print(n, p)\n",
    "    threshold = math.floor(binom.ppf(0.9, n, p))\n",
    "    bool_signature[genus] = (signature >= threshold)\n",
    "    print(bool_signature[genus].sum())"
   ]
  },
  {
   "cell_type": "code",
   "execution_count": 17,
   "metadata": {},
   "outputs": [],
   "source": [
    "import numpy as np\n",
    "\n",
    "ANI = np.zeros((len(bool_signature), len(bool_signature)))\n",
    "\n",
    "for i, genus_i in enumerate(bool_signature):\n",
    "    for j, genus_j in enumerate(bool_signature):\n",
    "        ANI[i][j] = (bool_signature[genus_i] & bool_signature[genus_j]).sum() / (bool_signature[genus_i] | bool_signature[genus_j]).sum()"
   ]
  },
  {
   "cell_type": "code",
   "execution_count": 18,
   "metadata": {},
   "outputs": [
    {
     "data": {
      "text/plain": [
       "array([[1.        , 0.12544321, 0.18415267, 0.34821433, 0.31580836,\n",
       "        0.08276712, 0.1043526 , 0.24137287, 0.16167787, 0.45972688,\n",
       "        0.46883711, 0.19487294, 0.06774021, 0.13482149, 0.43334565,\n",
       "        0.2148037 , 0.23555514, 0.13322964, 0.39427445, 0.40309546,\n",
       "        0.3167325 ],\n",
       "       [0.12544321, 1.        , 0.3868127 , 0.24329303, 0.33042438,\n",
       "        0.46546015, 0.37972679, 0.38631812, 0.37280083, 0.12157726,\n",
       "        0.14620118, 0.38340726, 0.45010514, 0.4754239 , 0.15188893,\n",
       "        0.38753076, 0.33518282, 0.46290166, 0.20120643, 0.2055714 ,\n",
       "        0.2874827 ],\n",
       "       [0.18415267, 0.3868127 , 1.        , 0.38624815, 0.45548968,\n",
       "        0.40860119, 0.35222751, 0.57467833, 0.58985358, 0.165438  ,\n",
       "        0.2377786 , 0.52585923, 0.35891008, 0.50210429, 0.24356203,\n",
       "        0.48640682, 0.44969508, 0.49335258, 0.30965365, 0.30991127,\n",
       "        0.43393632],\n",
       "       [0.34821433, 0.24329303, 0.38624815, 1.        , 0.4761311 ,\n",
       "        0.20419309, 0.21137745, 0.48594949, 0.35171897, 0.37121761,\n",
       "        0.43980042, 0.36000482, 0.18385404, 0.27625031, 0.43020023,\n",
       "        0.36196159, 0.37158217, 0.28493719, 0.45291259, 0.46586042,\n",
       "        0.48151247],\n",
       "       [0.31580836, 0.33042438, 0.45548968, 0.4761311 , 1.        ,\n",
       "        0.30084863, 0.29209693, 0.52596458, 0.43002798, 0.32509414,\n",
       "        0.40654236, 0.50266108, 0.25626693, 0.39613562, 0.39955952,\n",
       "        0.5107849 , 0.51536583, 0.40944622, 0.48297702, 0.46363117,\n",
       "        0.59142267],\n",
       "       [0.08276712, 0.46546015, 0.40860119, 0.20419309, 0.30084863,\n",
       "        1.        , 0.42891293, 0.36822748, 0.39225081, 0.06991275,\n",
       "        0.09548736, 0.42220309, 0.60581724, 0.63107084, 0.10180982,\n",
       "        0.41646526, 0.33260114, 0.5842161 , 0.15175859, 0.14028932,\n",
       "        0.26835037],\n",
       "       [0.1043526 , 0.37972679, 0.35222751, 0.21137745, 0.29209693,\n",
       "        0.42891293, 1.        , 0.3149057 , 0.36250173, 0.0867789 ,\n",
       "        0.12277218, 0.32203162, 0.3915705 , 0.41552793, 0.12681391,\n",
       "        0.34761067, 0.29164311, 0.39557182, 0.16508182, 0.16947551,\n",
       "        0.24689368],\n",
       "       [0.24137287, 0.38631812, 0.57467833, 0.48594949, 0.52596458,\n",
       "        0.36822748, 0.3149057 , 1.        , 0.50653228, 0.24860374,\n",
       "        0.30934127, 0.53670623, 0.33399216, 0.46561705, 0.31385374,\n",
       "        0.49255034, 0.47447949, 0.47860838, 0.38662008, 0.37833782,\n",
       "        0.50321303],\n",
       "       [0.16167787, 0.37280083, 0.58985358, 0.35171897, 0.43002798,\n",
       "        0.39225081, 0.36250173, 0.50653228, 1.        , 0.14597968,\n",
       "        0.21044367, 0.48845468, 0.34628513, 0.45969305, 0.21872912,\n",
       "        0.44508135, 0.42412726, 0.47024341, 0.29398934, 0.30069316,\n",
       "        0.41053782],\n",
       "       [0.45972688, 0.12157726, 0.165438  , 0.37121761, 0.32509414,\n",
       "        0.06991275, 0.0867789 , 0.24860374, 0.14597968, 1.        ,\n",
       "        0.56564476, 0.19754853, 0.05828773, 0.12176516, 0.51259591,\n",
       "        0.20548791, 0.23757595, 0.12776364, 0.48325082, 0.48474981,\n",
       "        0.34445741],\n",
       "       [0.46883711, 0.14620118, 0.2377786 , 0.43980042, 0.40654236,\n",
       "        0.09548736, 0.12277218, 0.30934127, 0.21044367, 0.56564476,\n",
       "        1.        , 0.24339771, 0.07138883, 0.16646974, 0.60130899,\n",
       "        0.2667484 , 0.29350216, 0.1609994 , 0.55156152, 0.56144494,\n",
       "        0.40595683],\n",
       "       [0.19487294, 0.38340726, 0.52585923, 0.36000482, 0.50266108,\n",
       "        0.42220309, 0.32203162, 0.53670623, 0.48845468, 0.19754853,\n",
       "        0.24339771, 1.        , 0.38066394, 0.54590945, 0.25199512,\n",
       "        0.5066481 , 0.51160465, 0.60325701, 0.3542385 , 0.3272221 ,\n",
       "        0.55272202],\n",
       "       [0.06774021, 0.45010514, 0.35891008, 0.18385404, 0.25626693,\n",
       "        0.60581724, 0.3915705 , 0.33399216, 0.34628513, 0.05828773,\n",
       "        0.07138883, 0.38066394, 1.        , 0.53082357, 0.07358988,\n",
       "        0.36637439, 0.28894191, 0.60030535, 0.12606506, 0.11320097,\n",
       "        0.23528931],\n",
       "       [0.13482149, 0.4754239 , 0.50210429, 0.27625031, 0.39613562,\n",
       "        0.63107084, 0.41552793, 0.46561705, 0.45969305, 0.12176516,\n",
       "        0.16646974, 0.54590945, 0.53082357, 1.        , 0.18002871,\n",
       "        0.50352522, 0.41586674, 0.6436552 , 0.23467908, 0.22341992,\n",
       "        0.37000454],\n",
       "       [0.43334565, 0.15188893, 0.24356203, 0.43020023, 0.39955952,\n",
       "        0.10180982, 0.12681391, 0.31385374, 0.21872912, 0.51259591,\n",
       "        0.60130899, 0.25199512, 0.07358988, 0.18002871, 1.        ,\n",
       "        0.26689725, 0.29473592, 0.16255932, 0.54673311, 0.58905194,\n",
       "        0.39906602],\n",
       "       [0.2148037 , 0.38753076, 0.48640682, 0.36196159, 0.5107849 ,\n",
       "        0.41646526, 0.34761067, 0.49255034, 0.44508135, 0.20548791,\n",
       "        0.2667484 , 0.5066481 , 0.36637439, 0.50352522, 0.26689725,\n",
       "        1.        , 0.50531058, 0.50156747, 0.33586259, 0.31342579,\n",
       "        0.44778803],\n",
       "       [0.23555514, 0.33518282, 0.44969508, 0.37158217, 0.51536583,\n",
       "        0.33260114, 0.29164311, 0.47447949, 0.42412726, 0.23757595,\n",
       "        0.29350216, 0.51160465, 0.28894191, 0.41586674, 0.29473592,\n",
       "        0.50531058, 1.        , 0.45397886, 0.40688268, 0.35734564,\n",
       "        0.51859447],\n",
       "       [0.13322964, 0.46290166, 0.49335258, 0.28493719, 0.40944622,\n",
       "        0.5842161 , 0.39557182, 0.47860838, 0.47024341, 0.12776364,\n",
       "        0.1609994 , 0.60325701, 0.60030535, 0.6436552 , 0.16255932,\n",
       "        0.50156747, 0.45397886, 1.        , 0.25165922, 0.22768632,\n",
       "        0.40687837],\n",
       "       [0.39427445, 0.20120643, 0.30965365, 0.45291259, 0.48297702,\n",
       "        0.15175859, 0.16508182, 0.38662008, 0.29398934, 0.48325082,\n",
       "        0.55156152, 0.3542385 , 0.12606506, 0.23467908, 0.54673311,\n",
       "        0.33586259, 0.40688268, 0.25165922, 1.        , 0.6407431 ,\n",
       "        0.54135988],\n",
       "       [0.40309546, 0.2055714 , 0.30991127, 0.46586042, 0.46363117,\n",
       "        0.14028932, 0.16947551, 0.37833782, 0.30069316, 0.48474981,\n",
       "        0.56144494, 0.3272221 , 0.11320097, 0.22341992, 0.58905194,\n",
       "        0.31342579, 0.35734564, 0.22768632, 0.6407431 , 1.        ,\n",
       "        0.48141757],\n",
       "       [0.3167325 , 0.2874827 , 0.43393632, 0.48151247, 0.59142267,\n",
       "        0.26835037, 0.24689368, 0.50321303, 0.41053782, 0.34445741,\n",
       "        0.40595683, 0.55272202, 0.23528931, 0.37000454, 0.39906602,\n",
       "        0.44778803, 0.51859447, 0.40687837, 0.54135988, 0.48141757,\n",
       "        1.        ]])"
      ]
     },
     "execution_count": 18,
     "metadata": {},
     "output_type": "execute_result"
    }
   ],
   "source": [
    "ANI"
   ]
  },
  {
   "cell_type": "code",
   "execution_count": 22,
   "metadata": {},
   "outputs": [
    {
     "data": {
      "text/plain": [
       "{'whiskers': [<matplotlib.lines.Line2D at 0x7f37f39273d0>,\n",
       "  <matplotlib.lines.Line2D at 0x7f37f3927670>],\n",
       " 'caps': [<matplotlib.lines.Line2D at 0x7f37f3927910>,\n",
       "  <matplotlib.lines.Line2D at 0x7f37f3927b50>],\n",
       " 'boxes': [<matplotlib.lines.Line2D at 0x7f37f3927100>],\n",
       " 'medians': [<matplotlib.lines.Line2D at 0x7f37f3927df0>],\n",
       " 'fliers': [<matplotlib.lines.Line2D at 0x7f37f39340d0>],\n",
       " 'means': []}"
      ]
     },
     "execution_count": 22,
     "metadata": {},
     "output_type": "execute_result"
    },
    {
     "data": {
      "image/png": "[encoded data removed]",
      "text/plain": [
       "<Figure size 640x480 with 1 Axes>"
      ]
     },
     "metadata": {},
     "output_type": "display_data"
    }
   ],
   "source": [
    "import matplotlib.pyplot as plt\n",
    "\n",
    "plt.boxplot(ANI[ANI != 1])"
   ]
  },
  {
   "cell_type": "code",
   "execution_count": 35,
   "metadata": {},
   "outputs": [
    {
     "name": "stderr",
     "output_type": "stream",
     "text": [
      "6it [00:00, 52.15it/s]"
     ]
    },
    {
     "name": "stdout",
     "output_type": "stream",
     "text": [
      "834 8663 ====\n",
      "2810280.0 0.7482014388489209\n",
      "186803.0 0.7122302158273381\n",
      "186804.0 0.7434052757793765\n",
      "128827.0 0.7745803357314148\n",
      "31979.0 0.762589928057554\n",
      "[2810280.0, 186803.0, 186804.0, 128827.0, 31979.0]\n",
      "197 2129 ====\n",
      "1300.0 0.7258883248730964\n",
      "2810280.0 0.8121827411167513\n",
      "186804.0 0.7766497461928934\n",
      "128827.0 0.7563451776649747\n",
      "31979.0 0.7208121827411168\n",
      "[1300.0, 2810280.0, 186804.0, 128827.0, 31979.0]\n",
      "379 3852 ====\n",
      "2810280.0 0.8311345646437994\n",
      "186803.0 0.7071240105540897\n",
      "186804.0 0.7493403693931399\n",
      "128827.0 0.7678100263852242\n",
      "31979.0 0.7440633245382586\n",
      "[2810280.0, 186803.0, 186804.0, 128827.0, 31979.0]\n",
      "620 6186 ====\n",
      "2810280.0 0.7774193548387097\n",
      "186804.0 0.7274193548387097\n",
      "128827.0 0.7612903225806451\n",
      "31979.0 0.717741935483871\n",
      "[2810280.0, 186804.0, 128827.0, 31979.0]\n",
      "69 790 ====\n",
      "1300.0 0.7391304347826086\n",
      "2005525.0 0.7246376811594203\n",
      "2810280.0 0.9130434782608695\n",
      "2810281.0 0.7101449275362319\n",
      "815.0 0.7101449275362319\n",
      "186803.0 0.7101449275362319\n",
      "186804.0 0.8840579710144928\n",
      "128827.0 0.8840579710144928\n",
      "31977.0 0.7101449275362319\n",
      "31979.0 0.8695652173913043\n",
      "[1300.0, 2005525.0, 2810280.0, 2810281.0, 815.0, 186803.0, 186804.0, 128827.0, 31977.0, 31979.0]\n",
      "344 3464 ====\n",
      "2810280.0 0.7587209302325582\n",
      "[2810280.0]\n",
      "46 497 ====\n",
      "128827.0 0.7391304347826086\n",
      "31977.0 0.717391304347826\n",
      "[128827.0, 31977.0]\n",
      "403 4043 ====\n",
      "2810280.0 0.7270471464019851\n",
      "128827.0 0.707196029776675\n",
      "31979.0 0.71712158808933\n",
      "[2810280.0, 128827.0, 31979.0]\n",
      "222 2121 ====\n",
      "2810280.0 0.7612612612612613\n",
      "128827.0 0.7297297297297297\n",
      "[2810280.0, 128827.0]\n",
      "160 1687 ====\n",
      "1300.0 0.71875\n",
      "2810280.0 0.83125\n",
      "186803.0 0.70625\n",
      "186804.0 0.75\n",
      "128827.0 0.825\n",
      "31977.0 0.7125\n",
      "31979.0 0.775\n",
      "[1300.0, 2810280.0, 186803.0, 186804.0, 128827.0, 31977.0, 31979.0]\n",
      "974 9355 ====\n",
      "2810280.0 0.7731006160164271\n",
      "186804.0 0.7268993839835729\n",
      "128827.0 0.7351129363449692\n",
      "31979.0 0.7412731006160165\n",
      "[2810280.0, 186804.0, 128827.0, 31979.0]\n",
      "409 3978 ====\n",
      "2005525.0 0.706601466992665\n",
      "2810280.0 0.784841075794621\n",
      "1853231.0 0.7041564792176039\n",
      "186803.0 0.7457212713936431\n",
      "186804.0 0.7775061124694377\n",
      "128827.0 0.7775061124694377\n",
      "31979.0 0.7946210268948656\n",
      "[2005525.0, 2810280.0, 1853231.0, 186803.0, 186804.0, 128827.0, 31979.0]\n",
      "185 2082 ====\n",
      "1300.0 0.7405405405405405\n",
      "2005525.0 0.7513513513513513\n",
      "2810280.0 0.8054054054054054\n"
     ]
    },
    {
     "name": "stderr",
     "output_type": "stream",
     "text": [
      "20it [00:00, 58.79it/s]"
     ]
    },
    {
     "name": "stdout",
     "output_type": "stream",
     "text": [
      "1853231.0 0.7081081081081081\n",
      "186803.0 0.772972972972973\n",
      "186804.0 0.8378378378378378\n",
      "128827.0 0.8162162162162162\n",
      "31977.0 0.7027027027027027\n",
      "31979.0 0.8486486486486486\n",
      "[1300.0, 2005525.0, 2810280.0, 1853231.0, 186803.0, 186804.0, 128827.0, 31977.0, 31979.0]\n",
      "89 1004 ====\n",
      "2810280.0 0.7865168539325843\n",
      "128827.0 0.7640449438202247\n",
      "[2810280.0, 128827.0]\n",
      "56 539 ====\n",
      "2810280.0 0.75\n",
      "[2810280.0]\n",
      "180 1683 ====\n",
      "2810280.0 0.8333333333333334\n",
      "186803.0 0.7333333333333333\n",
      "186804.0 0.7777777777777778\n",
      "128827.0 0.8222222222222222\n",
      "31979.0 0.8\n",
      "[2810280.0, 186803.0, 186804.0, 128827.0, 31979.0]\n",
      "376 3710 ====\n",
      "2810280.0 0.800531914893617\n",
      "186803.0 0.7047872340425532\n",
      "186804.0 0.726063829787234\n",
      "128827.0 0.7632978723404256\n",
      "31979.0 0.7473404255319149\n",
      "[2810280.0, 186803.0, 186804.0, 128827.0, 31979.0]\n",
      "71 620 ====\n",
      "2005525.0 0.7605633802816901\n",
      "2810280.0 0.7746478873239436\n",
      "815.0 0.704225352112676\n",
      "1853231.0 0.704225352112676\n",
      "186804.0 0.8169014084507042\n",
      "128827.0 0.7746478873239436\n",
      "31977.0 0.7183098591549296\n",
      "31979.0 0.8028169014084507\n",
      "[2005525.0, 2810280.0, 815.0, 1853231.0, 186804.0, 128827.0, 31977.0, 31979.0]\n",
      "41 496 ====\n",
      "[]\n",
      "413 4048 ====\n",
      "2810280.0 0.7796610169491526\n",
      "186804.0 0.7094430992736077\n",
      "128827.0 0.7433414043583535\n",
      "31979.0 0.7215496368038741\n",
      "[2810280.0, 186804.0, 128827.0, 31979.0]\n",
      "565 5747 ====\n",
      "[]\n"
     ]
    },
    {
     "name": "stderr",
     "output_type": "stream",
     "text": [
      "\n"
     ]
    }
   ],
   "source": [
    "from Bio import SeqIO\n",
    "from tqdm import tqdm\n",
    "prediction = []\n",
    "\n",
    "i = 0\n",
    "\n",
    "for record in tqdm(SeqIO.parse(\"/mnt/c/Users/zhenh/tax_data/sampled_reads.fastq\", \"fastq\")):\n",
    "    #print(record.seq)\n",
    "    record_signature = sg.to_signature([str(record.seq)], data_type=bool)\n",
    "    print(record_signature.sum(), len(record.seq), \"====\")\n",
    "\n",
    "    best_similiarity = 0\n",
    "    genus_prediction = []\n",
    "    for genus in bool_signature:\n",
    "        similarity = (record_signature & bool_signature[genus]).sum() / record_signature.sum()\n",
    "        if similarity > 0.7:\n",
    "            genus_prediction.append(genus)\n",
    "            print(genus, similarity)\n",
    "            #best_similiarity = similarity\n",
    "    \n",
    "    print(genus_prediction)\n",
    "    \n",
    "    prediction.append(genus_prediction)\n",
    "    i += 1\n",
    "    if i > 20:\n",
    "        break"
   ]
  },
  {
   "cell_type": "code",
   "execution_count": 41,
   "metadata": {},
   "outputs": [
    {
     "data": {
      "text/plain": [
       "34"
      ]
     },
     "execution_count": 41,
     "metadata": {},
     "output_type": "execute_result"
    }
   ],
   "source": [
    "sg._to_signature([str(record.seq)]).sum()"
   ]
  },
  {
   "cell_type": "code",
   "execution_count": 43,
   "metadata": {},
   "outputs": [
    {
     "data": {
      "text/html": [
       "<div>\n",
       "<style scoped>\n",
       "    .dataframe tbody tr th:only-of-type {\n",
       "        vertical-align: middle;\n",
       "    }\n",
       "\n",
       "    .dataframe tbody tr th {\n",
       "        vertical-align: top;\n",
       "    }\n",
       "\n",
       "    .dataframe thead th {\n",
       "        text-align: right;\n",
       "    }\n",
       "</style>\n",
       "<table border=\"1\" class=\"dataframe\">\n",
       "  <thead>\n",
       "    <tr style=\"text-align: right;\">\n",
       "      <th></th>\n",
       "      <th>Unnamed: 0</th>\n",
       "      <th>accession</th>\n",
       "      <th>ambiguous_bases</th>\n",
       "      <th>checkm_completeness</th>\n",
       "      <th>checkm_contamination</th>\n",
       "      <th>checkm_marker_count</th>\n",
       "      <th>checkm_marker_lineage</th>\n",
       "      <th>checkm_marker_set_count</th>\n",
       "      <th>checkm_strain_heterogeneity</th>\n",
       "      <th>coding_bases</th>\n",
       "      <th>...</th>\n",
       "      <th>ssu_silva_blast_perc_identity</th>\n",
       "      <th>ssu_silva_blast_subject_id</th>\n",
       "      <th>ssu_silva_taxonomy</th>\n",
       "      <th>total_gap_length</th>\n",
       "      <th>trna_aa_count</th>\n",
       "      <th>trna_count</th>\n",
       "      <th>trna_selenocysteine_count</th>\n",
       "      <th>ncbi_genus_taxid</th>\n",
       "      <th>genus_taxid</th>\n",
       "      <th>species_taxid</th>\n",
       "    </tr>\n",
       "  </thead>\n",
       "  <tbody>\n",
       "    <tr>\n",
       "      <th>0</th>\n",
       "      <td>2</td>\n",
       "      <td>RS_GCF_000730125.1</td>\n",
       "      <td>30</td>\n",
       "      <td>100.00</td>\n",
       "      <td>0.92</td>\n",
       "      <td>476</td>\n",
       "      <td>f__Bifidobacteriaceae (UID1462)</td>\n",
       "      <td>217</td>\n",
       "      <td>0.0</td>\n",
       "      <td>2212698</td>\n",
       "      <td>...</td>\n",
       "      <td>100</td>\n",
       "      <td>CP008885.1576966.1578495</td>\n",
       "      <td>Bacteria;Actinobacteriota;Actinobacteria;Bifid...</td>\n",
       "      <td>619</td>\n",
       "      <td>19</td>\n",
       "      <td>55</td>\n",
       "      <td>0</td>\n",
       "      <td>1678.0</td>\n",
       "      <td>1678.0</td>\n",
       "      <td>216816</td>\n",
       "    </tr>\n",
       "    <tr>\n",
       "      <th>1</th>\n",
       "      <td>4</td>\n",
       "      <td>RS_GCF_000468955.1</td>\n",
       "      <td>0</td>\n",
       "      <td>100.00</td>\n",
       "      <td>0.00</td>\n",
       "      <td>472</td>\n",
       "      <td>o__Lactobacillales (UID543)</td>\n",
       "      <td>265</td>\n",
       "      <td>0.0</td>\n",
       "      <td>2107260</td>\n",
       "      <td>...</td>\n",
       "      <td>99.935</td>\n",
       "      <td>CP003157.2105633.2107180</td>\n",
       "      <td>Bacteria;Firmicutes;Bacilli;Lactobacillales;St...</td>\n",
       "      <td>0</td>\n",
       "      <td>19</td>\n",
       "      <td>60</td>\n",
       "      <td>0</td>\n",
       "      <td>1357.0</td>\n",
       "      <td>1357.0</td>\n",
       "      <td>1359</td>\n",
       "    </tr>\n",
       "    <tr>\n",
       "      <th>2</th>\n",
       "      <td>22</td>\n",
       "      <td>RS_GCF_001078445.1</td>\n",
       "      <td>7</td>\n",
       "      <td>99.32</td>\n",
       "      <td>0.00</td>\n",
       "      <td>340</td>\n",
       "      <td>o__Clostridiales (UID1342)</td>\n",
       "      <td>177</td>\n",
       "      <td>0.0</td>\n",
       "      <td>4662609</td>\n",
       "      <td>...</td>\n",
       "      <td>99.804</td>\n",
       "      <td>CP015399.4748579.4750121</td>\n",
       "      <td>Bacteria;Firmicutes;Clostridia;Lachnospirales;...</td>\n",
       "      <td>32463</td>\n",
       "      <td>19</td>\n",
       "      <td>77</td>\n",
       "      <td>1</td>\n",
       "      <td>2719313.0</td>\n",
       "      <td>2719313.0</td>\n",
       "      <td>1531</td>\n",
       "    </tr>\n",
       "    <tr>\n",
       "      <th>3</th>\n",
       "      <td>44</td>\n",
       "      <td>RS_GCF_000273155.1</td>\n",
       "      <td>0</td>\n",
       "      <td>99.26</td>\n",
       "      <td>0.00</td>\n",
       "      <td>492</td>\n",
       "      <td>o__Bacteroidales (UID2657)</td>\n",
       "      <td>269</td>\n",
       "      <td>0.0</td>\n",
       "      <td>4834627</td>\n",
       "      <td>...</td>\n",
       "      <td>99.672</td>\n",
       "      <td>AP006841.4735744.4737280</td>\n",
       "      <td>Bacteria;Bacteroidota;Bacteroidia;Bacteroidale...</td>\n",
       "      <td>14319</td>\n",
       "      <td>19</td>\n",
       "      <td>83</td>\n",
       "      <td>0</td>\n",
       "      <td>816.0</td>\n",
       "      <td>816.0</td>\n",
       "      <td>817</td>\n",
       "    </tr>\n",
       "    <tr>\n",
       "      <th>4</th>\n",
       "      <td>50</td>\n",
       "      <td>RS_GCF_000009925.1</td>\n",
       "      <td>0</td>\n",
       "      <td>99.26</td>\n",
       "      <td>0.00</td>\n",
       "      <td>492</td>\n",
       "      <td>o__Bacteroidales (UID2657)</td>\n",
       "      <td>269</td>\n",
       "      <td>0.0</td>\n",
       "      <td>4719009</td>\n",
       "      <td>...</td>\n",
       "      <td>100</td>\n",
       "      <td>AP006841.4527043.4528579</td>\n",
       "      <td>Bacteria;Bacteroidota;Bacteroidia;Bacteroidale...</td>\n",
       "      <td>0</td>\n",
       "      <td>19</td>\n",
       "      <td>74</td>\n",
       "      <td>0</td>\n",
       "      <td>816.0</td>\n",
       "      <td>816.0</td>\n",
       "      <td>817</td>\n",
       "    </tr>\n",
       "    <tr>\n",
       "      <th>...</th>\n",
       "      <td>...</td>\n",
       "      <td>...</td>\n",
       "      <td>...</td>\n",
       "      <td>...</td>\n",
       "      <td>...</td>\n",
       "      <td>...</td>\n",
       "      <td>...</td>\n",
       "      <td>...</td>\n",
       "      <td>...</td>\n",
       "      <td>...</td>\n",
       "      <td>...</td>\n",
       "      <td>...</td>\n",
       "      <td>...</td>\n",
       "      <td>...</td>\n",
       "      <td>...</td>\n",
       "      <td>...</td>\n",
       "      <td>...</td>\n",
       "      <td>...</td>\n",
       "      <td>...</td>\n",
       "      <td>...</td>\n",
       "      <td>...</td>\n",
       "    </tr>\n",
       "    <tr>\n",
       "      <th>19813</th>\n",
       "      <td>394902</td>\n",
       "      <td>GB_GCA_930989685.1</td>\n",
       "      <td>0</td>\n",
       "      <td>97.96</td>\n",
       "      <td>0.68</td>\n",
       "      <td>261</td>\n",
       "      <td>o__Clostridiales (UID1212)</td>\n",
       "      <td>147</td>\n",
       "      <td>0.0</td>\n",
       "      <td>1974955</td>\n",
       "      <td>...</td>\n",
       "      <td>none</td>\n",
       "      <td>none</td>\n",
       "      <td>none</td>\n",
       "      <td>0</td>\n",
       "      <td>18</td>\n",
       "      <td>41</td>\n",
       "      <td>0</td>\n",
       "      <td>216851.0</td>\n",
       "      <td>216851.0</td>\n",
       "      <td>259315</td>\n",
       "    </tr>\n",
       "    <tr>\n",
       "      <th>19814</th>\n",
       "      <td>394904</td>\n",
       "      <td>GB_GCA_934668345.1</td>\n",
       "      <td>0</td>\n",
       "      <td>68.55</td>\n",
       "      <td>0.00</td>\n",
       "      <td>211</td>\n",
       "      <td>p__Actinobacteria (UID2112)</td>\n",
       "      <td>124</td>\n",
       "      <td>0.0</td>\n",
       "      <td>1143151</td>\n",
       "      <td>...</td>\n",
       "      <td>none</td>\n",
       "      <td>none</td>\n",
       "      <td>none</td>\n",
       "      <td>0</td>\n",
       "      <td>18</td>\n",
       "      <td>40</td>\n",
       "      <td>1</td>\n",
       "      <td>102106.0</td>\n",
       "      <td>102106.0</td>\n",
       "      <td>165190</td>\n",
       "    </tr>\n",
       "    <tr>\n",
       "      <th>19815</th>\n",
       "      <td>394914</td>\n",
       "      <td>GB_GCA_945900725.1</td>\n",
       "      <td>0</td>\n",
       "      <td>92.79</td>\n",
       "      <td>0.68</td>\n",
       "      <td>229</td>\n",
       "      <td>k__Bacteria (UID2982)</td>\n",
       "      <td>147</td>\n",
       "      <td>0.0</td>\n",
       "      <td>3994946</td>\n",
       "      <td>...</td>\n",
       "      <td>none</td>\n",
       "      <td>none</td>\n",
       "      <td>none</td>\n",
       "      <td>0</td>\n",
       "      <td>18</td>\n",
       "      <td>37</td>\n",
       "      <td>1</td>\n",
       "      <td>239934.0</td>\n",
       "      <td>239934.0</td>\n",
       "      <td>239935</td>\n",
       "    </tr>\n",
       "    <tr>\n",
       "      <th>19816</th>\n",
       "      <td>394919</td>\n",
       "      <td>GB_GCA_021625385.1</td>\n",
       "      <td>0</td>\n",
       "      <td>80.87</td>\n",
       "      <td>0.89</td>\n",
       "      <td>263</td>\n",
       "      <td>o__Clostridiales (UID1212)</td>\n",
       "      <td>149</td>\n",
       "      <td>50.0</td>\n",
       "      <td>1358322</td>\n",
       "      <td>...</td>\n",
       "      <td>none</td>\n",
       "      <td>none</td>\n",
       "      <td>none</td>\n",
       "      <td>310</td>\n",
       "      <td>9</td>\n",
       "      <td>16</td>\n",
       "      <td>0</td>\n",
       "      <td>459786.0</td>\n",
       "      <td>459786.0</td>\n",
       "      <td>1945593</td>\n",
       "    </tr>\n",
       "    <tr>\n",
       "      <th>19817</th>\n",
       "      <td>394920</td>\n",
       "      <td>GB_GCA_022640815.1</td>\n",
       "      <td>0</td>\n",
       "      <td>95.12</td>\n",
       "      <td>3.37</td>\n",
       "      <td>464</td>\n",
       "      <td>f__Bifidobacteriaceae (UID1458)</td>\n",
       "      <td>220</td>\n",
       "      <td>0.0</td>\n",
       "      <td>2288483</td>\n",
       "      <td>...</td>\n",
       "      <td>none</td>\n",
       "      <td>none</td>\n",
       "      <td>none</td>\n",
       "      <td>0</td>\n",
       "      <td>19</td>\n",
       "      <td>42</td>\n",
       "      <td>0</td>\n",
       "      <td>1678.0</td>\n",
       "      <td>1678.0</td>\n",
       "      <td>2172043</td>\n",
       "    </tr>\n",
       "  </tbody>\n",
       "</table>\n",
       "<p>19818 rows × 114 columns</p>\n",
       "</div>"
      ],
      "text/plain": [
       "       Unnamed: 0           accession  ambiguous_bases  checkm_completeness  \\\n",
       "0               2  RS_GCF_000730125.1               30               100.00   \n",
       "1               4  RS_GCF_000468955.1                0               100.00   \n",
       "2              22  RS_GCF_001078445.1                7                99.32   \n",
       "3              44  RS_GCF_000273155.1                0                99.26   \n",
       "4              50  RS_GCF_000009925.1                0                99.26   \n",
       "...           ...                 ...              ...                  ...   \n",
       "19813      394902  GB_GCA_930989685.1                0                97.96   \n",
       "19814      394904  GB_GCA_934668345.1                0                68.55   \n",
       "19815      394914  GB_GCA_945900725.1                0                92.79   \n",
       "19816      394919  GB_GCA_021625385.1                0                80.87   \n",
       "19817      394920  GB_GCA_022640815.1                0                95.12   \n",
       "\n",
       "       checkm_contamination  checkm_marker_count  \\\n",
       "0                      0.92                  476   \n",
       "1                      0.00                  472   \n",
       "2                      0.00                  340   \n",
       "3                      0.00                  492   \n",
       "4                      0.00                  492   \n",
       "...                     ...                  ...   \n",
       "19813                  0.68                  261   \n",
       "19814                  0.00                  211   \n",
       "19815                  0.68                  229   \n",
       "19816                  0.89                  263   \n",
       "19817                  3.37                  464   \n",
       "\n",
       "                 checkm_marker_lineage  checkm_marker_set_count  \\\n",
       "0      f__Bifidobacteriaceae (UID1462)                      217   \n",
       "1          o__Lactobacillales (UID543)                      265   \n",
       "2           o__Clostridiales (UID1342)                      177   \n",
       "3           o__Bacteroidales (UID2657)                      269   \n",
       "4           o__Bacteroidales (UID2657)                      269   \n",
       "...                                ...                      ...   \n",
       "19813       o__Clostridiales (UID1212)                      147   \n",
       "19814      p__Actinobacteria (UID2112)                      124   \n",
       "19815            k__Bacteria (UID2982)                      147   \n",
       "19816       o__Clostridiales (UID1212)                      149   \n",
       "19817  f__Bifidobacteriaceae (UID1458)                      220   \n",
       "\n",
       "       checkm_strain_heterogeneity  coding_bases  ...  \\\n",
       "0                              0.0       2212698  ...   \n",
       "1                              0.0       2107260  ...   \n",
       "2                              0.0       4662609  ...   \n",
       "3                              0.0       4834627  ...   \n",
       "4                              0.0       4719009  ...   \n",
       "...                            ...           ...  ...   \n",
       "19813                          0.0       1974955  ...   \n",
       "19814                          0.0       1143151  ...   \n",
       "19815                          0.0       3994946  ...   \n",
       "19816                         50.0       1358322  ...   \n",
       "19817                          0.0       2288483  ...   \n",
       "\n",
       "       ssu_silva_blast_perc_identity  ssu_silva_blast_subject_id  \\\n",
       "0                                100    CP008885.1576966.1578495   \n",
       "1                             99.935    CP003157.2105633.2107180   \n",
       "2                             99.804    CP015399.4748579.4750121   \n",
       "3                             99.672    AP006841.4735744.4737280   \n",
       "4                                100    AP006841.4527043.4528579   \n",
       "...                              ...                         ...   \n",
       "19813                           none                        none   \n",
       "19814                           none                        none   \n",
       "19815                           none                        none   \n",
       "19816                           none                        none   \n",
       "19817                           none                        none   \n",
       "\n",
       "                                      ssu_silva_taxonomy  total_gap_length  \\\n",
       "0      Bacteria;Actinobacteriota;Actinobacteria;Bifid...               619   \n",
       "1      Bacteria;Firmicutes;Bacilli;Lactobacillales;St...                 0   \n",
       "2      Bacteria;Firmicutes;Clostridia;Lachnospirales;...             32463   \n",
       "3      Bacteria;Bacteroidota;Bacteroidia;Bacteroidale...             14319   \n",
       "4      Bacteria;Bacteroidota;Bacteroidia;Bacteroidale...                 0   \n",
       "...                                                  ...               ...   \n",
       "19813                                               none                 0   \n",
       "19814                                               none                 0   \n",
       "19815                                               none                 0   \n",
       "19816                                               none               310   \n",
       "19817                                               none                 0   \n",
       "\n",
       "       trna_aa_count trna_count trna_selenocysteine_count ncbi_genus_taxid  \\\n",
       "0                 19         55                         0           1678.0   \n",
       "1                 19         60                         0           1357.0   \n",
       "2                 19         77                         1        2719313.0   \n",
       "3                 19         83                         0            816.0   \n",
       "4                 19         74                         0            816.0   \n",
       "...              ...        ...                       ...              ...   \n",
       "19813             18         41                         0         216851.0   \n",
       "19814             18         40                         1         102106.0   \n",
       "19815             18         37                         1         239934.0   \n",
       "19816              9         16                         0         459786.0   \n",
       "19817             19         42                         0           1678.0   \n",
       "\n",
       "      genus_taxid species_taxid  \n",
       "0          1678.0        216816  \n",
       "1          1357.0          1359  \n",
       "2       2719313.0          1531  \n",
       "3           816.0           817  \n",
       "4           816.0           817  \n",
       "...           ...           ...  \n",
       "19813    216851.0        259315  \n",
       "19814    102106.0        165190  \n",
       "19815    239934.0        239935  \n",
       "19816    459786.0       1945593  \n",
       "19817      1678.0       2172043  \n",
       "\n",
       "[19818 rows x 114 columns]"
      ]
     },
     "execution_count": 43,
     "metadata": {},
     "output_type": "execute_result"
    }
   ],
   "source": [
    "metadata"
   ]
  },
  {
   "cell_type": "code",
   "execution_count": 36,
   "metadata": {},
   "outputs": [],
   "source": [
    "bool_matrix = np.zeros((len(bool_signature), num_kmers), dtype=bool)\n",
    "\n",
    "for i, genus in enumerate(bool_signature):\n",
    "    bool_matrix[i, :] = bool_signature[genus]\n",
    "    "
   ]
  },
  {
   "cell_type": "code",
   "execution_count": 37,
   "metadata": {},
   "outputs": [],
   "source": [
    "kmer_count = []\n",
    "uninformative_kmer_count = 0\n",
    "for i in range(num_kmers):\n",
    "    kmer_count.append(bool_matrix[:, i].sum())\n",
    "    if kmer_count[-1] > 5:\n",
    "        uninformative_kmer_count += 1"
   ]
  },
  {
   "cell_type": "code",
   "execution_count": 44,
   "metadata": {},
   "outputs": [
    {
     "data": {
      "text/plain": [
       "388400"
      ]
     },
     "execution_count": 44,
     "metadata": {},
     "output_type": "execute_result"
    }
   ],
   "source": [
    "filter = np.array(kmer_count) < 5\n",
    "filter.sum()"
   ]
  },
  {
   "cell_type": "code",
   "execution_count": 38,
   "metadata": {},
   "outputs": [
    {
     "data": {
      "text/plain": [
       "<Axes: ylabel='Count'>"
      ]
     },
     "execution_count": 38,
     "metadata": {},
     "output_type": "execute_result"
    },
    {
     "data": {
      "image/png": "[encoded data removed]",
      "text/plain": [
       "<Figure size 640x480 with 1 Axes>"
      ]
     },
     "metadata": {},
     "output_type": "display_data"
    }
   ],
   "source": [
    "import matplotlib.pyplot as plt\n",
    "\n",
    "seaborn.histplot(kmer_count)"
   ]
  },
  {
   "cell_type": "code",
   "execution_count": 46,
   "metadata": {},
   "outputs": [
    {
     "name": "stderr",
     "output_type": "stream",
     "text": [
      "7it [00:00, 64.20it/s]"
     ]
    },
    {
     "name": "stdout",
     "output_type": "stream",
     "text": [
      "149 8663 ====\n",
      "2810280.0 0.21476510067114093\n",
      "186804.0 0.35570469798657717\n",
      "[2810280.0, 186804.0]\n",
      "42 2129 ====\n",
      "1300.0 0.2857142857142857\n",
      "2810280.0 0.3333333333333333\n",
      "186804.0 0.40476190476190477\n",
      "[1300.0, 2810280.0, 186804.0]\n",
      "65 3852 ====\n",
      "2810280.0 0.49230769230769234\n",
      "186804.0 0.38461538461538464\n",
      "[2810280.0, 186804.0]\n",
      "118 6186 ====\n",
      "2810280.0 0.2966101694915254\n",
      "186804.0 0.2796610169491525\n",
      "[2810280.0, 186804.0]\n",
      "7 790 ====\n",
      "2810280.0 0.42857142857142855\n",
      "186804.0 0.7142857142857143\n",
      "[2810280.0, 186804.0]\n",
      "95 3464 ====\n",
      "2810280.0 0.35789473684210527\n",
      "186804.0 0.24210526315789474\n",
      "[2810280.0, 186804.0]\n",
      "12 497 ====\n",
      "31977.0 0.3333333333333333\n",
      "909930.0 0.25\n",
      "31979.0 0.25\n",
      "[31977.0, 909930.0, 31979.0]\n",
      "79 4043 ====\n",
      "2810280.0 0.26582278481012656\n",
      "186804.0 0.25316455696202533\n",
      "[2810280.0, 186804.0]\n",
      "56 2121 ====\n",
      "1300.0 0.32142857142857145\n",
      "2810280.0 0.4107142857142857\n",
      "186804.0 0.21428571428571427\n",
      "128827.0 0.23214285714285715\n",
      "[1300.0, 2810280.0, 186804.0, 128827.0]\n",
      "21 1687 ====\n",
      "2810280.0 0.2857142857142857\n",
      "[2810280.0]\n",
      "210 9355 ====\n",
      "1300.0 0.22380952380952382\n",
      "2810280.0 0.29523809523809524\n",
      "186804.0 0.3619047619047619\n",
      "[1300.0, 2810280.0, 186804.0]\n",
      "63 3978 ====\n",
      "186804.0 0.25396825396825395\n",
      "[186804.0]\n",
      "29 2082 ====\n",
      "1300.0 0.20689655172413793\n",
      "186804.0 0.3448275862068966\n",
      "31979.0 0.20689655172413793\n",
      "[1300.0, 186804.0, 31979.0]\n",
      "21 1004 ====\n",
      "84107.0 0.23809523809523808\n"
     ]
    },
    {
     "name": "stderr",
     "output_type": "stream",
     "text": [
      "20it [00:00, 62.17it/s]"
     ]
    },
    {
     "name": "stdout",
     "output_type": "stream",
     "text": [
      "2810280.0 0.3333333333333333\n",
      "128827.0 0.2857142857142857\n",
      "[84107.0, 2810280.0, 128827.0]\n",
      "13 539 ====\n",
      "2810280.0 0.46153846153846156\n",
      "2810281.0 0.23076923076923078\n",
      "186804.0 0.3076923076923077\n",
      "[2810280.0, 2810281.0, 186804.0]\n",
      "16 1683 ====\n",
      "2810280.0 0.375\n",
      "186804.0 0.4375\n",
      "31979.0 0.25\n",
      "[2810280.0, 186804.0, 31979.0]\n",
      "71 3710 ====\n",
      "2810280.0 0.28169014084507044\n",
      "[2810280.0]\n",
      "11 620 ====\n",
      "2810280.0 0.2727272727272727\n",
      "2810281.0 0.2727272727272727\n",
      "186804.0 0.45454545454545453\n",
      "31979.0 0.2727272727272727\n",
      "[2810280.0, 2810281.0, 186804.0, 31979.0]\n",
      "16 496 ====\n",
      "1300.0 0.3125\n",
      "186804.0 0.375\n",
      "[1300.0, 186804.0]\n",
      "82 4048 ====\n",
      "2810280.0 0.3170731707317073\n",
      "186804.0 0.2682926829268293\n",
      "[2810280.0, 186804.0]\n",
      "172 5747 ====\n",
      "1300.0 0.22674418604651161\n",
      "[1300.0]\n"
     ]
    },
    {
     "name": "stderr",
     "output_type": "stream",
     "text": [
      "\n"
     ]
    }
   ],
   "source": [
    "from Bio import SeqIO\n",
    "from tqdm import tqdm\n",
    "prediction = []\n",
    "\n",
    "i = 0\n",
    "\n",
    "for record in tqdm(SeqIO.parse(\"/mnt/c/Users/zhenh/tax_data/sampled_reads.fastq\", \"fastq\")):\n",
    "    #print(record.seq)\n",
    "    record_signature = sg.to_signature([str(record.seq)], data_type=bool) & filter\n",
    "    print(record_signature.sum(), len(record.seq), \"====\")\n",
    "\n",
    "    best_similiarity = 0\n",
    "    genus_prediction = []\n",
    "    for genus in bool_signature:\n",
    "        similarity = (record_signature & bool_signature[genus]).sum() / record_signature.sum()\n",
    "        if similarity > 0.2:\n",
    "            genus_prediction.append(genus)\n",
    "            print(genus, similarity)\n",
    "            #best_similiarity = similarity\n",
    "    \n",
    "    print(genus_prediction)\n",
    "    \n",
    "    prediction.append(genus_prediction)\n",
    "    i += 1\n",
    "    if i > 20:\n",
    "        break"
   ]
  },
  {
   "cell_type": "code",
   "execution_count": null,
   "metadata": {},
   "outputs": [],
   "source": []
  }
 ],
 "metadata": {
  "kernelspec": {
   "display_name": "Python 3",
   "language": "python",
   "name": "python3"
  },
  "language_info": {
   "codemirror_mode": {
    "name": "ipython",
    "version": 3
   },
   "file_extension": ".py",
   "mimetype": "text/x-python",
   "name": "python",
   "nbconvert_exporter": "python",
   "pygments_lexer": "ipython3",
   "version": "3.8.18"
  }
 },
 "nbformat": 4,
 "nbformat_minor": 2
}
