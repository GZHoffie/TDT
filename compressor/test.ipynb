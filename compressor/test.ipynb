{
 "cells": [
  {
   "cell_type": "code",
   "execution_count": 18,
   "metadata": {},
   "outputs": [],
   "source": [
    "import sys\n",
    "\n",
    "sys.path.append(\"/home/zhenhao/TDT\")"
   ]
  },
  {
   "cell_type": "code",
   "execution_count": 29,
   "metadata": {},
   "outputs": [],
   "source": [
    "import compressor"
   ]
  },
  {
   "cell_type": "code",
   "execution_count": 48,
   "metadata": {},
   "outputs": [
    {
     "name": "stdout",
     "output_type": "stream",
     "text": [
      "[INFO]\t\tSeed length set to 12, estimated vocabulary size 8388608.\n"
     ]
    }
   ],
   "source": [
    "import glob\n",
    "\n",
    "import compressor.signature\n",
    "\n",
    "def fracMinHash(kmer_hash):\n",
    "    hash = (976369 * kmer_hash + 1982627) % 10000\n",
    "    if hash < 1000:\n",
    "        return True\n",
    "    else:\n",
    "        return False\n",
    "\n",
    "def all(kmer_hash):\n",
    "    return True\n",
    "\n",
    "sg = compressor.signature.FMHSignature(all, 12, 12, \"/home/zhenhao/TDT/12-mer.pkl\")\n",
    "#signature, storage = sg._find_consensus_in_genus(glob.glob(\"/home/zhenhao/TDT/data/escherichia/*.fna\"))"
   ]
  },
  {
   "cell_type": "code",
   "execution_count": 11,
   "metadata": {},
   "outputs": [],
   "source": [
    "import numpy as np\n",
    "\n",
    "pairwise_ANI = np.zeros((len(storage), len(storage)))\n",
    "\n",
    "for i in range(len(storage)):\n",
    "    for j in range(i, len(storage)):\n",
    "        jaccard_index = (storage[i] & storage[j]).sum() / (storage[i] | storage[j]).sum()\n",
    "        pairwise_ANI[i][j] = pairwise_ANI[j][i] = jaccard_index"
   ]
  },
  {
   "cell_type": "code",
   "execution_count": 15,
   "metadata": {},
   "outputs": [
    {
     "data": {
      "text/plain": [
       "(array([  730.,   394., 19646.,  3618.,  2870.,  1652.,  2280.,  2354.,\n",
       "          226.,   455.]),\n",
       " array([0.26702465, 0.34032219, 0.41361972, 0.48691726, 0.56021479,\n",
       "        0.63351233, 0.70680986, 0.7801074 , 0.85340493, 0.92670247,\n",
       "        1.        ]),\n",
       " <BarContainer object of 10 artists>)"
      ]
     },
     "execution_count": 15,
     "metadata": {},
     "output_type": "execute_result"
    },
    {
     "data": {
      "image/png": "[encoded data removed]",
      "text/plain": [
       "<Figure size 640x480 with 1 Axes>"
      ]
     },
     "metadata": {},
     "output_type": "display_data"
    }
   ],
   "source": [
    "plt.hist(pairwise_ANI.flatten())"
   ]
  },
  {
   "cell_type": "code",
   "execution_count": 23,
   "metadata": {},
   "outputs": [
    {
     "data": {
      "text/plain": [
       "185"
      ]
     },
     "execution_count": 23,
     "metadata": {},
     "output_type": "execute_result"
    }
   ],
   "source": [
    "len(storage)"
   ]
  },
  {
   "cell_type": "code",
   "execution_count": 17,
   "metadata": {},
   "outputs": [
    {
     "data": {
      "text/plain": [
       "0.41859629747937094"
      ]
     },
     "execution_count": 17,
     "metadata": {},
     "output_type": "execute_result"
    }
   ],
   "source": [
    "import matplotlib.pyplot as plt\n",
    "\n",
    "plt.hist(signature)"
   ]
  },
  {
   "cell_type": "code",
   "execution_count": 22,
   "metadata": {},
   "outputs": [
    {
     "data": {
      "text/plain": [
       "3289"
      ]
     },
     "execution_count": 22,
     "metadata": {},
     "output_type": "execute_result"
    }
   ],
   "source": [
    "(signature > 80).sum()"
   ]
  },
  {
   "cell_type": "code",
   "execution_count": 25,
   "metadata": {},
   "outputs": [],
   "source": [
    "genus_signature = (signature > 80)"
   ]
  },
  {
   "cell_type": "code",
   "execution_count": 24,
   "metadata": {},
   "outputs": [],
   "source": [
    "import pickle\n",
    "with open(\"escherichia.pkl\", \"wb\") as f:\n",
    "    pickle.dump(storage, f)"
   ]
  },
  {
   "cell_type": "code",
   "execution_count": 26,
   "metadata": {},
   "outputs": [],
   "source": [
    "coverage = []\n",
    "\n",
    "for i in storage:\n",
    "    coverage.append((i & genus_signature).sum() / genus_signature.sum())"
   ]
  },
  {
   "cell_type": "code",
   "execution_count": 28,
   "metadata": {},
   "outputs": [
    {
     "data": {
      "text/plain": [
       "{'whiskers': [<matplotlib.lines.Line2D at 0x7fd0e24715a0>,\n",
       "  <matplotlib.lines.Line2D at 0x7fd0e2471840>],\n",
       " 'caps': [<matplotlib.lines.Line2D at 0x7fd0e2471ae0>,\n",
       "  <matplotlib.lines.Line2D at 0x7fd0e2471d80>],\n",
       " 'boxes': [<matplotlib.lines.Line2D at 0x7fd0e2471300>],\n",
       " 'medians': [<matplotlib.lines.Line2D at 0x7fd0e2472020>],\n",
       " 'fliers': [<matplotlib.lines.Line2D at 0x7fd0e24722c0>],\n",
       " 'means': []}"
      ]
     },
     "execution_count": 28,
     "metadata": {},
     "output_type": "execute_result"
    },
    {
     "data": {
      "image/png": "[encoded data removed]",
      "text/plain": [
       "<Figure size 640x480 with 1 Axes>"
      ]
     },
     "metadata": {},
     "output_type": "display_data"
    }
   ],
   "source": [
    "plt.boxplot(coverage)"
   ]
  },
  {
   "cell_type": "code",
   "execution_count": 29,
   "metadata": {},
   "outputs": [
    {
     "name": "stderr",
     "output_type": "stream",
     "text": [
      "  1%|          | 1/98 [00:01<02:48,  1.74s/it]"
     ]
    },
    {
     "name": "stdout",
     "output_type": "stream",
     "text": [
      "[0 0 1 ... 1 1 1] 1940\n"
     ]
    },
    {
     "name": "stderr",
     "output_type": "stream",
     "text": [
      "  2%|▏         | 2/98 [00:03<02:47,  1.75s/it]"
     ]
    },
    {
     "name": "stdout",
     "output_type": "stream",
     "text": [
      "[0 1 1 ... 1 1 1] 1971\n"
     ]
    },
    {
     "name": "stderr",
     "output_type": "stream",
     "text": [
      "  3%|▎         | 3/98 [00:05<02:43,  1.72s/it]"
     ]
    },
    {
     "name": "stdout",
     "output_type": "stream",
     "text": [
      "[0 1 0 ... 0 0 1] 1686\n"
     ]
    },
    {
     "name": "stderr",
     "output_type": "stream",
     "text": [
      "  4%|▍         | 4/98 [00:07<02:59,  1.91s/it]"
     ]
    },
    {
     "name": "stdout",
     "output_type": "stream",
     "text": [
      "[1 1 0 ... 1 1 1] 1871\n"
     ]
    },
    {
     "name": "stderr",
     "output_type": "stream",
     "text": [
      "  5%|▌         | 5/98 [00:09<02:54,  1.87s/it]"
     ]
    },
    {
     "name": "stdout",
     "output_type": "stream",
     "text": [
      "[0 1 1 ... 0 1 1] 1830\n"
     ]
    },
    {
     "name": "stderr",
     "output_type": "stream",
     "text": [
      "  6%|▌         | 6/98 [00:10<02:46,  1.81s/it]"
     ]
    },
    {
     "name": "stdout",
     "output_type": "stream",
     "text": [
      "[0 1 0 ... 1 1 1] 1670\n"
     ]
    },
    {
     "name": "stderr",
     "output_type": "stream",
     "text": [
      "  7%|▋         | 7/98 [00:12<02:44,  1.81s/it]"
     ]
    },
    {
     "name": "stdout",
     "output_type": "stream",
     "text": [
      "[0 1 0 ... 1 0 1] 1879\n"
     ]
    },
    {
     "name": "stderr",
     "output_type": "stream",
     "text": [
      "  8%|▊         | 8/98 [00:14<02:39,  1.77s/it]"
     ]
    },
    {
     "name": "stdout",
     "output_type": "stream",
     "text": [
      "[0 1 0 ... 1 0 1] 1720\n"
     ]
    },
    {
     "name": "stderr",
     "output_type": "stream",
     "text": [
      "  9%|▉         | 9/98 [00:16<02:42,  1.83s/it]"
     ]
    },
    {
     "name": "stdout",
     "output_type": "stream",
     "text": [
      "[0 1 1 ... 1 1 1] 1822\n"
     ]
    },
    {
     "name": "stderr",
     "output_type": "stream",
     "text": [
      " 10%|█         | 10/98 [00:18<03:00,  2.05s/it]"
     ]
    },
    {
     "name": "stdout",
     "output_type": "stream",
     "text": [
      "[0 1 0 ... 1 0 1] 1858\n"
     ]
    },
    {
     "name": "stderr",
     "output_type": "stream",
     "text": [
      " 11%|█         | 11/98 [00:20<02:59,  2.07s/it]"
     ]
    },
    {
     "name": "stdout",
     "output_type": "stream",
     "text": [
      "[0 1 0 ... 1 1 1] 1829\n"
     ]
    },
    {
     "name": "stderr",
     "output_type": "stream",
     "text": [
      " 12%|█▏        | 12/98 [00:23<03:02,  2.12s/it]"
     ]
    },
    {
     "name": "stdout",
     "output_type": "stream",
     "text": [
      "[0 0 1 ... 1 0 1] 1872\n"
     ]
    },
    {
     "name": "stderr",
     "output_type": "stream",
     "text": [
      " 13%|█▎        | 13/98 [00:25<03:02,  2.14s/it]"
     ]
    },
    {
     "name": "stdout",
     "output_type": "stream",
     "text": [
      "[1 0 0 ... 0 1 0] 1850\n"
     ]
    },
    {
     "name": "stderr",
     "output_type": "stream",
     "text": [
      " 14%|█▍        | 14/98 [00:27<03:07,  2.23s/it]"
     ]
    },
    {
     "name": "stdout",
     "output_type": "stream",
     "text": [
      "[0 0 1 ... 1 1 0] 1653\n"
     ]
    },
    {
     "name": "stderr",
     "output_type": "stream",
     "text": [
      " 15%|█▌        | 15/98 [00:30<03:07,  2.26s/it]"
     ]
    },
    {
     "name": "stdout",
     "output_type": "stream",
     "text": [
      "[0 1 0 ... 1 0 1] 1881\n"
     ]
    },
    {
     "name": "stderr",
     "output_type": "stream",
     "text": [
      " 16%|█▋        | 16/98 [00:32<03:02,  2.23s/it]"
     ]
    },
    {
     "name": "stdout",
     "output_type": "stream",
     "text": [
      "[0 0 1 ... 1 0 1] 1977\n"
     ]
    },
    {
     "name": "stderr",
     "output_type": "stream",
     "text": [
      " 17%|█▋        | 17/98 [00:34<02:58,  2.21s/it]"
     ]
    },
    {
     "name": "stdout",
     "output_type": "stream",
     "text": [
      "[0 0 0 ... 1 0 1] 1804\n"
     ]
    },
    {
     "name": "stderr",
     "output_type": "stream",
     "text": [
      " 18%|█▊        | 18/98 [00:36<02:46,  2.08s/it]"
     ]
    },
    {
     "name": "stdout",
     "output_type": "stream",
     "text": [
      "[0 1 0 ... 0 1 1] 1550\n"
     ]
    },
    {
     "name": "stderr",
     "output_type": "stream",
     "text": [
      " 19%|█▉        | 19/98 [00:38<02:45,  2.09s/it]"
     ]
    },
    {
     "name": "stdout",
     "output_type": "stream",
     "text": [
      "[0 0 0 ... 1 0 1] 1735\n"
     ]
    },
    {
     "name": "stderr",
     "output_type": "stream",
     "text": [
      " 20%|██        | 20/98 [00:40<02:43,  2.09s/it]"
     ]
    },
    {
     "name": "stdout",
     "output_type": "stream",
     "text": [
      "[0 1 0 ... 0 0 1] 1844\n"
     ]
    },
    {
     "name": "stderr",
     "output_type": "stream",
     "text": [
      " 21%|██▏       | 21/98 [00:42<02:42,  2.11s/it]"
     ]
    },
    {
     "name": "stdout",
     "output_type": "stream",
     "text": [
      "[0 1 0 ... 1 1 1] 1869\n"
     ]
    },
    {
     "name": "stderr",
     "output_type": "stream",
     "text": [
      " 22%|██▏       | 22/98 [00:45<02:50,  2.24s/it]"
     ]
    },
    {
     "name": "stdout",
     "output_type": "stream",
     "text": [
      "[1 1 1 ... 1 0 1] 1929\n"
     ]
    },
    {
     "name": "stderr",
     "output_type": "stream",
     "text": [
      " 23%|██▎       | 23/98 [00:46<02:35,  2.07s/it]"
     ]
    },
    {
     "name": "stdout",
     "output_type": "stream",
     "text": [
      "[0 1 0 ... 1 0 1] 1704\n"
     ]
    },
    {
     "name": "stderr",
     "output_type": "stream",
     "text": [
      " 24%|██▍       | 24/98 [00:48<02:32,  2.06s/it]"
     ]
    },
    {
     "name": "stdout",
     "output_type": "stream",
     "text": [
      "[0 1 1 ... 1 0 1] 1829\n"
     ]
    },
    {
     "name": "stderr",
     "output_type": "stream",
     "text": [
      " 26%|██▌       | 25/98 [00:50<02:27,  2.02s/it]"
     ]
    },
    {
     "name": "stdout",
     "output_type": "stream",
     "text": [
      "[0 1 0 ... 0 0 1] 1830\n"
     ]
    },
    {
     "name": "stderr",
     "output_type": "stream",
     "text": [
      " 27%|██▋       | 26/98 [00:52<02:28,  2.06s/it]"
     ]
    },
    {
     "name": "stdout",
     "output_type": "stream",
     "text": [
      "[0 0 1 ... 1 0 1] 1954\n"
     ]
    },
    {
     "name": "stderr",
     "output_type": "stream",
     "text": [
      " 28%|██▊       | 27/98 [00:54<02:23,  2.02s/it]"
     ]
    },
    {
     "name": "stdout",
     "output_type": "stream",
     "text": [
      "[0 0 0 ... 0 1 1] 1930\n"
     ]
    },
    {
     "name": "stderr",
     "output_type": "stream",
     "text": [
      " 29%|██▊       | 28/98 [00:56<02:04,  1.78s/it]"
     ]
    },
    {
     "name": "stdout",
     "output_type": "stream",
     "text": [
      "[0 1 0 ... 0 1 1] 1251\n"
     ]
    },
    {
     "name": "stderr",
     "output_type": "stream",
     "text": [
      " 30%|██▉       | 29/98 [00:58<02:07,  1.84s/it]"
     ]
    },
    {
     "name": "stdout",
     "output_type": "stream",
     "text": [
      "[0 1 0 ... 1 0 1] 1757\n"
     ]
    },
    {
     "name": "stderr",
     "output_type": "stream",
     "text": [
      " 31%|███       | 30/98 [01:00<02:08,  1.89s/it]"
     ]
    },
    {
     "name": "stdout",
     "output_type": "stream",
     "text": [
      "[0 1 1 ... 0 1 1] 1783\n"
     ]
    },
    {
     "name": "stderr",
     "output_type": "stream",
     "text": [
      " 32%|███▏      | 31/98 [01:02<02:16,  2.04s/it]"
     ]
    },
    {
     "name": "stdout",
     "output_type": "stream",
     "text": [
      "[0 0 0 ... 1 1 1] 1722\n"
     ]
    },
    {
     "name": "stderr",
     "output_type": "stream",
     "text": [
      " 33%|███▎      | 32/98 [01:04<02:14,  2.04s/it]"
     ]
    },
    {
     "name": "stdout",
     "output_type": "stream",
     "text": [
      "[0 1 1 ... 0 1 1] 1764\n"
     ]
    },
    {
     "name": "stderr",
     "output_type": "stream",
     "text": [
      " 34%|███▎      | 33/98 [01:07<02:22,  2.19s/it]"
     ]
    },
    {
     "name": "stdout",
     "output_type": "stream",
     "text": [
      "[1 0 0 ... 0 1 0] 1645\n"
     ]
    },
    {
     "name": "stderr",
     "output_type": "stream",
     "text": [
      " 35%|███▍      | 34/98 [01:09<02:27,  2.30s/it]"
     ]
    },
    {
     "name": "stdout",
     "output_type": "stream",
     "text": [
      "[0 1 1 ... 0 1 1] 1924\n"
     ]
    },
    {
     "name": "stderr",
     "output_type": "stream",
     "text": [
      " 36%|███▌      | 35/98 [01:12<02:27,  2.34s/it]"
     ]
    },
    {
     "name": "stdout",
     "output_type": "stream",
     "text": [
      "[0 1 1 ... 1 1 1] 1989\n"
     ]
    },
    {
     "name": "stderr",
     "output_type": "stream",
     "text": [
      " 37%|███▋      | 36/98 [01:14<02:18,  2.23s/it]"
     ]
    },
    {
     "name": "stdout",
     "output_type": "stream",
     "text": [
      "[0 0 0 ... 1 1 1] 1792\n"
     ]
    },
    {
     "name": "stderr",
     "output_type": "stream",
     "text": [
      " 38%|███▊      | 37/98 [01:16<02:17,  2.25s/it]"
     ]
    },
    {
     "name": "stdout",
     "output_type": "stream",
     "text": [
      "[1 0 1 ... 1 1 1] 1930\n"
     ]
    },
    {
     "name": "stderr",
     "output_type": "stream",
     "text": [
      " 39%|███▉      | 38/98 [01:18<02:12,  2.20s/it]"
     ]
    },
    {
     "name": "stdout",
     "output_type": "stream",
     "text": [
      "[0 1 1 ... 0 1 1] 1826\n"
     ]
    },
    {
     "name": "stderr",
     "output_type": "stream",
     "text": [
      " 40%|███▉      | 39/98 [01:20<02:07,  2.17s/it]"
     ]
    },
    {
     "name": "stdout",
     "output_type": "stream",
     "text": [
      "[0 1 0 ... 1 0 1] 1728\n"
     ]
    },
    {
     "name": "stderr",
     "output_type": "stream",
     "text": [
      " 41%|████      | 40/98 [01:22<02:02,  2.12s/it]"
     ]
    },
    {
     "name": "stdout",
     "output_type": "stream",
     "text": [
      "[0 0 1 ... 0 1 1] 1906\n"
     ]
    },
    {
     "name": "stderr",
     "output_type": "stream",
     "text": [
      " 42%|████▏     | 41/98 [01:24<02:02,  2.14s/it]"
     ]
    },
    {
     "name": "stdout",
     "output_type": "stream",
     "text": [
      "[0 1 0 ... 1 1 1] 1862\n"
     ]
    },
    {
     "name": "stderr",
     "output_type": "stream",
     "text": [
      " 43%|████▎     | 42/98 [01:26<01:58,  2.12s/it]"
     ]
    },
    {
     "name": "stdout",
     "output_type": "stream",
     "text": [
      "[0 1 1 ... 0 1 1] 1807\n"
     ]
    },
    {
     "name": "stderr",
     "output_type": "stream",
     "text": [
      " 44%|████▍     | 43/98 [01:28<01:51,  2.03s/it]"
     ]
    },
    {
     "name": "stdout",
     "output_type": "stream",
     "text": [
      "[1 1 0 ... 1 1 1] 1508\n"
     ]
    },
    {
     "name": "stderr",
     "output_type": "stream",
     "text": [
      " 45%|████▍     | 44/98 [01:30<01:50,  2.04s/it]"
     ]
    },
    {
     "name": "stdout",
     "output_type": "stream",
     "text": [
      "[0 1 1 ... 0 1 1] 1812\n"
     ]
    },
    {
     "name": "stderr",
     "output_type": "stream",
     "text": [
      " 46%|████▌     | 45/98 [01:32<01:49,  2.06s/it]"
     ]
    },
    {
     "name": "stdout",
     "output_type": "stream",
     "text": [
      "[0 1 0 ... 0 1 0] 1863\n"
     ]
    },
    {
     "name": "stderr",
     "output_type": "stream",
     "text": [
      " 47%|████▋     | 46/98 [01:35<01:52,  2.16s/it]"
     ]
    },
    {
     "name": "stdout",
     "output_type": "stream",
     "text": [
      "[0 1 0 ... 1 0 1] 1881\n"
     ]
    },
    {
     "name": "stderr",
     "output_type": "stream",
     "text": [
      " 48%|████▊     | 47/98 [01:37<01:51,  2.19s/it]"
     ]
    },
    {
     "name": "stdout",
     "output_type": "stream",
     "text": [
      "[0 0 1 ... 1 1 1] 1853\n"
     ]
    },
    {
     "name": "stderr",
     "output_type": "stream",
     "text": [
      " 49%|████▉     | 48/98 [01:40<01:55,  2.32s/it]"
     ]
    },
    {
     "name": "stdout",
     "output_type": "stream",
     "text": [
      "[0 0 0 ... 1 0 1] 1836\n"
     ]
    },
    {
     "name": "stderr",
     "output_type": "stream",
     "text": [
      " 50%|█████     | 49/98 [01:42<01:56,  2.38s/it]"
     ]
    },
    {
     "name": "stdout",
     "output_type": "stream",
     "text": [
      "[0 1 1 ... 0 1 1] 1813\n"
     ]
    },
    {
     "name": "stderr",
     "output_type": "stream",
     "text": [
      " 51%|█████     | 50/98 [01:44<01:48,  2.25s/it]"
     ]
    },
    {
     "name": "stdout",
     "output_type": "stream",
     "text": [
      "[0 0 0 ... 1 1 1] 1714\n"
     ]
    },
    {
     "name": "stderr",
     "output_type": "stream",
     "text": [
      " 52%|█████▏    | 51/98 [01:46<01:46,  2.26s/it]"
     ]
    },
    {
     "name": "stdout",
     "output_type": "stream",
     "text": [
      "[0 1 1 ... 1 1 0] 1919\n"
     ]
    },
    {
     "name": "stderr",
     "output_type": "stream",
     "text": [
      " 53%|█████▎    | 52/98 [01:49<01:43,  2.25s/it]"
     ]
    },
    {
     "name": "stdout",
     "output_type": "stream",
     "text": [
      "[0 1 1 ... 0 1 1] 1823\n"
     ]
    },
    {
     "name": "stderr",
     "output_type": "stream",
     "text": [
      " 54%|█████▍    | 53/98 [01:51<01:44,  2.32s/it]"
     ]
    },
    {
     "name": "stdout",
     "output_type": "stream",
     "text": [
      "[0 1 1 ... 0 1 1] 1832\n"
     ]
    },
    {
     "name": "stderr",
     "output_type": "stream",
     "text": [
      " 55%|█████▌    | 54/98 [01:53<01:41,  2.31s/it]"
     ]
    },
    {
     "name": "stdout",
     "output_type": "stream",
     "text": [
      "[0 1 0 ... 1 0 1] 1720\n"
     ]
    },
    {
     "name": "stderr",
     "output_type": "stream",
     "text": [
      " 56%|█████▌    | 55/98 [01:56<01:41,  2.36s/it]"
     ]
    },
    {
     "name": "stdout",
     "output_type": "stream",
     "text": [
      "[0 0 1 ... 1 0 1] 1932\n"
     ]
    },
    {
     "name": "stderr",
     "output_type": "stream",
     "text": [
      " 57%|█████▋    | 56/98 [01:58<01:39,  2.36s/it]"
     ]
    },
    {
     "name": "stdout",
     "output_type": "stream",
     "text": [
      "[0 1 1 ... 1 1 1] 1900\n"
     ]
    },
    {
     "name": "stderr",
     "output_type": "stream",
     "text": [
      " 58%|█████▊    | 57/98 [02:01<01:39,  2.43s/it]"
     ]
    },
    {
     "name": "stdout",
     "output_type": "stream",
     "text": [
      "[0 1 0 ... 1 0 1] 1916\n"
     ]
    },
    {
     "name": "stderr",
     "output_type": "stream",
     "text": [
      " 59%|█████▉    | 58/98 [02:03<01:32,  2.31s/it]"
     ]
    },
    {
     "name": "stdout",
     "output_type": "stream",
     "text": [
      "[0 0 1 ... 1 1 1] 1761\n"
     ]
    },
    {
     "name": "stderr",
     "output_type": "stream",
     "text": [
      " 60%|██████    | 59/98 [02:05<01:33,  2.39s/it]"
     ]
    },
    {
     "name": "stdout",
     "output_type": "stream",
     "text": [
      "[1 1 1 ... 1 0 1] 1932\n"
     ]
    },
    {
     "name": "stderr",
     "output_type": "stream",
     "text": [
      " 61%|██████    | 60/98 [02:07<01:26,  2.28s/it]"
     ]
    },
    {
     "name": "stdout",
     "output_type": "stream",
     "text": [
      "[0 0 1 ... 1 1 0] 1649\n"
     ]
    },
    {
     "name": "stderr",
     "output_type": "stream",
     "text": [
      " 62%|██████▏   | 61/98 [02:09<01:21,  2.21s/it]"
     ]
    },
    {
     "name": "stdout",
     "output_type": "stream",
     "text": [
      "[0 1 0 ... 1 0 1] 1740\n"
     ]
    },
    {
     "name": "stderr",
     "output_type": "stream",
     "text": [
      " 63%|██████▎   | 62/98 [02:12<01:18,  2.19s/it]"
     ]
    },
    {
     "name": "stdout",
     "output_type": "stream",
     "text": [
      "[0 1 1 ... 0 1 1] 1759\n"
     ]
    },
    {
     "name": "stderr",
     "output_type": "stream",
     "text": [
      " 64%|██████▍   | 63/98 [02:13<01:09,  2.00s/it]"
     ]
    },
    {
     "name": "stdout",
     "output_type": "stream",
     "text": [
      "[0 0 1 ... 0 1 1] 1122\n"
     ]
    },
    {
     "name": "stderr",
     "output_type": "stream",
     "text": [
      " 65%|██████▌   | 64/98 [02:16<01:12,  2.14s/it]"
     ]
    },
    {
     "name": "stdout",
     "output_type": "stream",
     "text": [
      "[0 1 0 ... 1 0 1] 1810\n"
     ]
    },
    {
     "name": "stderr",
     "output_type": "stream",
     "text": [
      " 66%|██████▋   | 65/98 [02:18<01:11,  2.17s/it]"
     ]
    },
    {
     "name": "stdout",
     "output_type": "stream",
     "text": [
      "[0 0 0 ... 1 0 1] 2020\n"
     ]
    },
    {
     "name": "stderr",
     "output_type": "stream",
     "text": [
      " 67%|██████▋   | 66/98 [02:20<01:11,  2.23s/it]"
     ]
    },
    {
     "name": "stdout",
     "output_type": "stream",
     "text": [
      "[0 0 1 ... 0 1 1] 1927\n"
     ]
    },
    {
     "name": "stderr",
     "output_type": "stream",
     "text": [
      " 68%|██████▊   | 67/98 [02:22<01:05,  2.10s/it]"
     ]
    },
    {
     "name": "stdout",
     "output_type": "stream",
     "text": [
      "[0 0 0 ... 1 1 1] 1544\n"
     ]
    },
    {
     "name": "stderr",
     "output_type": "stream",
     "text": [
      " 69%|██████▉   | 68/98 [02:24<01:04,  2.14s/it]"
     ]
    },
    {
     "name": "stdout",
     "output_type": "stream",
     "text": [
      "[0 1 0 ... 1 1 1] 1671\n"
     ]
    },
    {
     "name": "stderr",
     "output_type": "stream",
     "text": [
      " 70%|███████   | 69/98 [02:26<01:03,  2.18s/it]"
     ]
    },
    {
     "name": "stdout",
     "output_type": "stream",
     "text": [
      "[0 1 1 ... 1 0 1] 1831\n"
     ]
    },
    {
     "name": "stderr",
     "output_type": "stream",
     "text": [
      " 71%|███████▏  | 70/98 [02:28<00:58,  2.11s/it]"
     ]
    },
    {
     "name": "stdout",
     "output_type": "stream",
     "text": [
      "[0 0 1 ... 1 1 1] 1821\n"
     ]
    },
    {
     "name": "stderr",
     "output_type": "stream",
     "text": [
      " 72%|███████▏  | 71/98 [02:31<00:59,  2.19s/it]"
     ]
    },
    {
     "name": "stdout",
     "output_type": "stream",
     "text": [
      "[0 1 0 ... 1 1 1] 1944\n"
     ]
    },
    {
     "name": "stderr",
     "output_type": "stream",
     "text": [
      " 73%|███████▎  | 72/98 [02:33<00:57,  2.20s/it]"
     ]
    },
    {
     "name": "stdout",
     "output_type": "stream",
     "text": [
      "[0 0 1 ... 0 0 1] 1981\n"
     ]
    },
    {
     "name": "stderr",
     "output_type": "stream",
     "text": [
      " 74%|███████▍  | 73/98 [02:35<00:54,  2.17s/it]"
     ]
    },
    {
     "name": "stdout",
     "output_type": "stream",
     "text": [
      "[0 0 1 ... 1 1 0] 1656\n"
     ]
    },
    {
     "name": "stderr",
     "output_type": "stream",
     "text": [
      " 76%|███████▌  | 74/98 [02:37<00:52,  2.20s/it]"
     ]
    },
    {
     "name": "stdout",
     "output_type": "stream",
     "text": [
      "[1 1 1 ... 1 0 1] 1845\n"
     ]
    },
    {
     "name": "stderr",
     "output_type": "stream",
     "text": [
      " 77%|███████▋  | 75/98 [02:39<00:48,  2.12s/it]"
     ]
    },
    {
     "name": "stdout",
     "output_type": "stream",
     "text": [
      "[0 0 0 ... 1 1 1] 1716\n"
     ]
    },
    {
     "name": "stderr",
     "output_type": "stream",
     "text": [
      " 78%|███████▊  | 76/98 [02:42<00:48,  2.22s/it]"
     ]
    },
    {
     "name": "stdout",
     "output_type": "stream",
     "text": [
      "[1 0 0 ... 0 1 1] 1828\n"
     ]
    },
    {
     "name": "stderr",
     "output_type": "stream",
     "text": [
      " 79%|███████▊  | 77/98 [02:44<00:43,  2.07s/it]"
     ]
    },
    {
     "name": "stdout",
     "output_type": "stream",
     "text": [
      "[0 1 1 ... 1 1 1] 1519\n"
     ]
    },
    {
     "name": "stderr",
     "output_type": "stream",
     "text": [
      " 80%|███████▉  | 78/98 [02:46<00:44,  2.23s/it]"
     ]
    },
    {
     "name": "stdout",
     "output_type": "stream",
     "text": [
      "[0 1 1 ... 1 0 1] 1941\n"
     ]
    },
    {
     "name": "stderr",
     "output_type": "stream",
     "text": [
      " 81%|████████  | 79/98 [02:48<00:41,  2.19s/it]"
     ]
    },
    {
     "name": "stdout",
     "output_type": "stream",
     "text": [
      "[0 0 1 ... 1 1 0] 1629\n"
     ]
    },
    {
     "name": "stderr",
     "output_type": "stream",
     "text": [
      " 82%|████████▏ | 80/98 [02:50<00:38,  2.14s/it]"
     ]
    },
    {
     "name": "stdout",
     "output_type": "stream",
     "text": [
      "[0 1 1 ... 0 1 1] 1785\n"
     ]
    },
    {
     "name": "stderr",
     "output_type": "stream",
     "text": [
      " 83%|████████▎ | 81/98 [02:52<00:35,  2.09s/it]"
     ]
    },
    {
     "name": "stdout",
     "output_type": "stream",
     "text": [
      "[0 1 0 ... 1 0 1] 1699\n"
     ]
    },
    {
     "name": "stderr",
     "output_type": "stream",
     "text": [
      " 84%|████████▎ | 82/98 [02:54<00:33,  2.07s/it]"
     ]
    },
    {
     "name": "stdout",
     "output_type": "stream",
     "text": [
      "[0 0 1 ... 0 1 1] 1943\n"
     ]
    },
    {
     "name": "stderr",
     "output_type": "stream",
     "text": [
      " 85%|████████▍ | 83/98 [02:57<00:33,  2.22s/it]"
     ]
    },
    {
     "name": "stdout",
     "output_type": "stream",
     "text": [
      "[0 1 0 ... 1 0 1] 1825\n"
     ]
    },
    {
     "name": "stderr",
     "output_type": "stream",
     "text": [
      " 86%|████████▌ | 84/98 [02:59<00:30,  2.17s/it]"
     ]
    },
    {
     "name": "stdout",
     "output_type": "stream",
     "text": [
      "[0 0 0 ... 1 0 1] 1805\n"
     ]
    },
    {
     "name": "stderr",
     "output_type": "stream",
     "text": [
      " 87%|████████▋ | 85/98 [03:01<00:27,  2.10s/it]"
     ]
    },
    {
     "name": "stdout",
     "output_type": "stream",
     "text": [
      "[0 1 0 ... 1 1 1] 1722\n"
     ]
    },
    {
     "name": "stderr",
     "output_type": "stream",
     "text": [
      " 88%|████████▊ | 86/98 [03:03<00:26,  2.18s/it]"
     ]
    },
    {
     "name": "stdout",
     "output_type": "stream",
     "text": [
      "[0 0 1 ... 0 1 1] 2121\n"
     ]
    },
    {
     "name": "stderr",
     "output_type": "stream",
     "text": [
      " 89%|████████▉ | 87/98 [03:06<00:25,  2.30s/it]"
     ]
    },
    {
     "name": "stdout",
     "output_type": "stream",
     "text": [
      "[0 1 1 ... 1 0 1] 1958\n"
     ]
    },
    {
     "name": "stderr",
     "output_type": "stream",
     "text": [
      " 90%|████████▉ | 88/98 [03:08<00:22,  2.25s/it]"
     ]
    },
    {
     "name": "stdout",
     "output_type": "stream",
     "text": [
      "[0 1 0 ... 0 0 1] 1676\n"
     ]
    },
    {
     "name": "stderr",
     "output_type": "stream",
     "text": [
      " 91%|█████████ | 89/98 [03:10<00:20,  2.22s/it]"
     ]
    },
    {
     "name": "stdout",
     "output_type": "stream",
     "text": [
      "[0 0 0 ... 1 1 1] 1802\n"
     ]
    },
    {
     "name": "stderr",
     "output_type": "stream",
     "text": [
      " 92%|█████████▏| 90/98 [03:12<00:17,  2.14s/it]"
     ]
    },
    {
     "name": "stdout",
     "output_type": "stream",
     "text": [
      "[0 1 0 ... 0 1 1] 1765\n"
     ]
    },
    {
     "name": "stderr",
     "output_type": "stream",
     "text": [
      " 93%|█████████▎| 91/98 [03:14<00:14,  2.04s/it]"
     ]
    },
    {
     "name": "stdout",
     "output_type": "stream",
     "text": [
      "[0 0 0 ... 0 1 1] 1572\n"
     ]
    },
    {
     "name": "stderr",
     "output_type": "stream",
     "text": [
      " 94%|█████████▍| 92/98 [03:16<00:12,  2.07s/it]"
     ]
    },
    {
     "name": "stdout",
     "output_type": "stream",
     "text": [
      "[0 0 0 ... 1 0 1] 1852\n"
     ]
    },
    {
     "name": "stderr",
     "output_type": "stream",
     "text": [
      " 95%|█████████▍| 93/98 [03:18<00:11,  2.22s/it]"
     ]
    },
    {
     "name": "stdout",
     "output_type": "stream",
     "text": [
      "[0 1 1 ... 0 1 0] 1937\n"
     ]
    },
    {
     "name": "stderr",
     "output_type": "stream",
     "text": [
      " 96%|█████████▌| 94/98 [03:20<00:08,  2.11s/it]"
     ]
    },
    {
     "name": "stdout",
     "output_type": "stream",
     "text": [
      "[0 0 1 ... 1 1 0] 1775\n"
     ]
    },
    {
     "name": "stderr",
     "output_type": "stream",
     "text": [
      " 97%|█████████▋| 95/98 [03:23<00:06,  2.17s/it]"
     ]
    },
    {
     "name": "stdout",
     "output_type": "stream",
     "text": [
      "[0 1 0 ... 1 1 1] 1969\n"
     ]
    },
    {
     "name": "stderr",
     "output_type": "stream",
     "text": [
      " 98%|█████████▊| 96/98 [03:25<00:04,  2.14s/it]"
     ]
    },
    {
     "name": "stdout",
     "output_type": "stream",
     "text": [
      "[0 1 0 ... 0 0 1] 1756\n"
     ]
    },
    {
     "name": "stderr",
     "output_type": "stream",
     "text": [
      " 99%|█████████▉| 97/98 [03:27<00:02,  2.18s/it]"
     ]
    },
    {
     "name": "stdout",
     "output_type": "stream",
     "text": [
      "[0 1 1 ... 1 1 0] 1912\n"
     ]
    },
    {
     "name": "stderr",
     "output_type": "stream",
     "text": [
      "100%|██████████| 98/98 [03:29<00:00,  2.14s/it]"
     ]
    },
    {
     "name": "stdout",
     "output_type": "stream",
     "text": [
      "[1 1 0 ... 0 1 1] 1773\n"
     ]
    },
    {
     "name": "stderr",
     "output_type": "stream",
     "text": [
      "\n"
     ]
    }
   ],
   "source": [
    "signature, storage = sg._find_consensus_in_genus(glob.glob(\"/home/zhenhao/TDT/data/staphylococcus/*.fna\"))"
   ]
  },
  {
   "cell_type": "code",
   "execution_count": 60,
   "metadata": {},
   "outputs": [],
   "source": [
    "staphylococcus_signature = (signature >= 20)"
   ]
  },
  {
   "cell_type": "code",
   "execution_count": 61,
   "metadata": {},
   "outputs": [
    {
     "data": {
      "text/plain": [
       "3083"
      ]
     },
     "execution_count": 61,
     "metadata": {},
     "output_type": "execute_result"
    }
   ],
   "source": [
    "staphylococcus_signature.sum()"
   ]
  },
  {
   "cell_type": "code",
   "execution_count": 34,
   "metadata": {},
   "outputs": [],
   "source": [
    "with open(\"escherichia.pkl\", \"rb\") as f:\n",
    "    es_storage = pickle.load(f)"
   ]
  },
  {
   "cell_type": "code",
   "execution_count": 38,
   "metadata": {},
   "outputs": [],
   "source": [
    "escherichia_signature = np.zeros(len(es_storage[0]), dtype=np.int16)\n",
    "for i in es_storage:\n",
    "    escherichia_signature += i\n",
    "\n",
    "escherichia_signature = (escherichia_signature > 80)"
   ]
  },
  {
   "cell_type": "code",
   "execution_count": 62,
   "metadata": {},
   "outputs": [
    {
     "data": {
      "text/plain": [
       "1440"
      ]
     },
     "execution_count": 62,
     "metadata": {},
     "output_type": "execute_result"
    }
   ],
   "source": [
    "(escherichia_signature & staphylococcus_signature).sum()"
   ]
  },
  {
   "cell_type": "code",
   "execution_count": 63,
   "metadata": {},
   "outputs": [
    {
     "data": {
      "text/plain": [
       "3083"
      ]
     },
     "execution_count": 63,
     "metadata": {},
     "output_type": "execute_result"
    }
   ],
   "source": [
    "staphylococcus_signature.sum()"
   ]
  },
  {
   "cell_type": "code",
   "execution_count": 43,
   "metadata": {},
   "outputs": [
    {
     "data": {
      "text/plain": [
       "3289"
      ]
     },
     "execution_count": 43,
     "metadata": {},
     "output_type": "execute_result"
    }
   ],
   "source": [
    "escherichia_signature.sum()"
   ]
  },
  {
   "cell_type": "code",
   "execution_count": 69,
   "metadata": {},
   "outputs": [],
   "source": [
    "coverage = []\n",
    "\n",
    "for i in range(len(storage)):\n",
    "    coverage.append((storage[i] & staphylococcus_signature).sum() / storage[i].sum())"
   ]
  },
  {
   "cell_type": "code",
   "execution_count": 70,
   "metadata": {},
   "outputs": [
    {
     "data": {
      "text/plain": [
       "{'whiskers': [<matplotlib.lines.Line2D at 0x7fd0e23cbfa0>,\n",
       "  <matplotlib.lines.Line2D at 0x7fd0e23b8280>],\n",
       " 'caps': [<matplotlib.lines.Line2D at 0x7fd0e23b8520>,\n",
       "  <matplotlib.lines.Line2D at 0x7fd0e23b87c0>],\n",
       " 'boxes': [<matplotlib.lines.Line2D at 0x7fd0e23cbd00>],\n",
       " 'medians': [<matplotlib.lines.Line2D at 0x7fd0e23b8a60>],\n",
       " 'fliers': [<matplotlib.lines.Line2D at 0x7fd0e23b8d00>],\n",
       " 'means': []}"
      ]
     },
     "execution_count": 70,
     "metadata": {},
     "output_type": "execute_result"
    },
    {
     "data": {
      "image/png": "[encoded data removed]",
      "text/plain": [
       "<Figure size 640x480 with 1 Axes>"
      ]
     },
     "metadata": {},
     "output_type": "display_data"
    }
   ],
   "source": [
    "plt.boxplot(coverage)"
   ]
  },
  {
   "cell_type": "code",
   "execution_count": 46,
   "metadata": {},
   "outputs": [
    {
     "data": {
      "text/plain": [
       "1017"
      ]
     },
     "execution_count": 46,
     "metadata": {},
     "output_type": "execute_result"
    }
   ],
   "source": [
    "(es_storage[0] & staphylococcus_signature).sum()"
   ]
  },
  {
   "cell_type": "code",
   "execution_count": 71,
   "metadata": {},
   "outputs": [
    {
     "name": "stdout",
     "output_type": "stream",
     "text": [
      "1393\n",
      "2799\n"
     ]
    }
   ],
   "source": [
    "print((es_storage[10] & staphylococcus_signature).sum())\n",
    "print((es_storage[10] & escherichia_signature).sum())"
   ]
  },
  {
   "cell_type": "code",
   "execution_count": 72,
   "metadata": {},
   "outputs": [
    {
     "name": "stdout",
     "output_type": "stream",
     "text": [
      "1334\n",
      "858\n"
     ]
    }
   ],
   "source": [
    "print((storage[10] & staphylococcus_signature).sum())\n",
    "print((storage[10] & escherichia_signature).sum())"
   ]
  },
  {
   "cell_type": "code",
   "execution_count": null,
   "metadata": {},
   "outputs": [],
   "source": []
  },
  {
   "cell_type": "markdown",
   "metadata": {},
   "source": [
    "## Try doing classification"
   ]
  },
  {
   "cell_type": "code",
   "execution_count": 38,
   "metadata": {},
   "outputs": [],
   "source": [
    "import pickle\n",
    "\n",
    "with open(\"/home/zhenhao/TDT/signature.pkl\", \"rb\") as f:\n",
    "    signatures = pickle.load(f)"
   ]
  },
  {
   "cell_type": "code",
   "execution_count": 39,
   "metadata": {},
   "outputs": [
    {
     "data": {
      "text/plain": [
       "[(84107.0, array([ 12,   7,   8, ..., 158,  76,  22], dtype=int16)),\n",
       " (1300.0, array([ 70,  47,  65, ..., 132,  83, 130], dtype=int16)),\n",
       " (2005525.0, array([22, 13, 19, ..., 67, 60, 47], dtype=int16)),\n",
       " (171550.0, array([ 29,  26,  22, ..., 197, 167,  83], dtype=int16)),\n",
       " (1843491.0, array([ 84,  75,  48, ..., 180, 166, 132], dtype=int16)),\n",
       " (2810280.0, array([21, 14, 22, ..., 43, 33, 44], dtype=int16)),\n",
       " (2810281.0, array([5, 5, 5, ..., 8, 6, 8], dtype=int16)),\n",
       " (815.0, array([ 87,  72,  49, ..., 195, 181, 130], dtype=int16)),\n",
       " (1853231.0, array([22, 16, 16, ..., 36, 35, 30], dtype=int16)),\n",
       " (1643824.0, array([ 7,  6,  6, ..., 39, 16, 17], dtype=int16)),\n",
       " (1643826.0, array([15, 10,  7, ..., 84, 30, 36], dtype=int16)),\n",
       " (186803.0, array([ 61,  34,  42, ..., 198, 179, 177], dtype=int16)),\n",
       " (186804.0, array([48, 29, 24, ..., 84, 83, 83], dtype=int16)),\n",
       " (128827.0, array([ 98,  63,  60, ..., 183, 120, 162], dtype=int16)),\n",
       " (31953.0, array([21, 21, 11, ..., 52, 41, 42], dtype=int16)),\n",
       " (31977.0, array([ 29,  23,  25, ..., 150,  98,  86], dtype=int16)),\n",
       " (909930.0, array([21, 16, 17, ..., 80, 72, 65], dtype=int16)),\n",
       " (31979.0, array([ 60,  41,  35, ..., 196, 178, 186], dtype=int16)),\n",
       " (194924.0, array([ 60,  48,  54, ..., 193, 155, 153], dtype=int16)),\n",
       " (1647988.0, array([ 32,  16,  13, ..., 151, 110,  93], dtype=int16)),\n",
       " (216572.0, array([ 39,  28,  26, ..., 197, 175, 150], dtype=int16))]"
      ]
     },
     "execution_count": 39,
     "metadata": {},
     "output_type": "execute_result"
    }
   ],
   "source": [
    "signatures"
   ]
  },
  {
   "cell_type": "code",
   "execution_count": 40,
   "metadata": {},
   "outputs": [
    {
     "data": {
      "text/plain": [
       "8390656"
      ]
     },
     "execution_count": 40,
     "metadata": {},
     "output_type": "execute_result"
    }
   ],
   "source": [
    "len(signatures[0][1])"
   ]
  },
  {
   "cell_type": "code",
   "execution_count": 41,
   "metadata": {},
   "outputs": [
    {
     "data": {
      "text/plain": [
       "<Axes: ylabel='Count'>"
      ]
     },
     "execution_count": 41,
     "metadata": {},
     "output_type": "execute_result"
    },
    {
     "data": {
      "image/png": "[encoded data removed]",
      "text/plain": [
       "<Figure size 640x480 with 1 Axes>"
      ]
     },
     "metadata": {},
     "output_type": "display_data"
    }
   ],
   "source": [
    "import seaborn\n",
    "\n",
    "seaborn.histplot(signatures[7][1])"
   ]
  },
  {
   "cell_type": "code",
   "execution_count": 7,
   "metadata": {},
   "outputs": [
    {
     "data": {
      "text/plain": [
       "7105"
      ]
     },
     "execution_count": 7,
     "metadata": {},
     "output_type": "execute_result"
    }
   ],
   "source": [
    "(signatures[3][1] == 0).sum()"
   ]
  },
  {
   "cell_type": "code",
   "execution_count": 36,
   "metadata": {},
   "outputs": [],
   "source": [
    "# Read the metadata\n",
    "\n",
    "import pandas as pd\n",
    "\n",
    "metadata = pd.read_csv(\"../gtdb_utils/metadata_sample.csv\")"
   ]
  },
  {
   "cell_type": "code",
   "execution_count": 37,
   "metadata": {},
   "outputs": [],
   "source": [
    "metadata = metadata.dropna(subset=['family_taxid'])"
   ]
  },
  {
   "cell_type": "code",
   "execution_count": 42,
   "metadata": {},
   "outputs": [],
   "source": [
    "num_kmers = len(signatures[0][1])"
   ]
  },
  {
   "cell_type": "code",
   "execution_count": 65,
   "metadata": {},
   "outputs": [
    {
     "name": "stdout",
     "output_type": "stream",
     "text": [
      "84107.0 148 0.2247420177229837\n",
      "2069491\n",
      "1300.0 200 0.11953309073807818\n",
      "944741\n",
      "2005525.0 82 0.2556307990174994\n",
      "3333875\n",
      "171550.0 105 0.3476497155202849\n",
      "4464542\n",
      "1843491.0 76 0.4502110552625758\n",
      "5349299\n",
      "2810280.0 112 0.06931774017430818\n",
      "235569\n",
      "2810281.0 10 0.15886351436645718\n",
      "1936253\n",
      "815.0 200 0.24145111657539053\n",
      "2970319\n",
      "1853231.0 34 0.29116660527250926\n",
      "3669498\n",
      "1643824.0 124 0.16196877216751587\n",
      "1439876\n",
      "1643826.0 102 0.2645735666333747\n",
      "2813738\n",
      "186803.0 200 0.2270105197972602\n",
      "2646798\n",
      "186804.0 103 0.14132336931689599\n",
      "1458194\n",
      "128827.0 179 0.16075979314430575\n",
      "1420645\n",
      "31953.0 200 0.16667317311066024\n",
      "1488500\n",
      "31977.0 147 0.1896110817252212\n",
      "1862950\n",
      "909930.0 36 0.369491901997227\n",
      "4419828\n",
      "31979.0 200 0.20131403909301013\n",
      "1988780\n",
      "194924.0 145 0.30309623894270826\n",
      "3457073\n",
      "1647988.0 119 0.36272296691170064\n",
      "4437019\n",
      "216572.0 200 0.1808877470367037\n",
      "1755692\n"
     ]
    }
   ],
   "source": [
    "import math\n",
    "from scipy.stats import binom\n",
    "\n",
    "bool_signature = {}\n",
    "\n",
    "for genus, signature in signatures:\n",
    "    # Get the subset of metadata\n",
    "    metadata_subset = metadata[metadata[\"family_taxid\"] == genus].groupby(\"species_taxid\").sample(1)\n",
    "    num_sequences = len(metadata_subset)\n",
    "    if num_sequences > 200:\n",
    "        num_sequences = 200\n",
    "    \n",
    "    # find a good threshold for cutoff\n",
    "    from scipy.stats import binom\n",
    "    # find p\n",
    "    p = signature.sum() / num_sequences / num_kmers\n",
    "    # find n\n",
    "    n = num_sequences\n",
    "    # Set threshold to be p-value=0.05\n",
    "    print(genus, n, p)\n",
    "    threshold = math.floor(binom.ppf(0.50, n, 0.9 ** 12))\n",
    "    bool_signature[genus] = (signature >= threshold)\n",
    "    print(bool_signature[genus].sum())"
   ]
  },
  {
   "cell_type": "code",
   "execution_count": 69,
   "metadata": {},
   "outputs": [
    {
     "name": "stdout",
     "output_type": "stream",
     "text": [
      "2000409\n",
      "2015021\n",
      "2098723\n",
      "2007274\n",
      "2032920\n",
      "2099423\n",
      "3405418\n",
      "2036210\n",
      "2268661\n",
      "2012889\n",
      "2031257\n",
      "2052252\n",
      "2006459\n",
      "2040846\n",
      "2054417\n",
      "2055700\n",
      "2125341\n",
      "2049232\n",
      "2015135\n",
      "2029288\n",
      "2033126\n"
     ]
    }
   ],
   "source": [
    "# Simply take the top ones from each signature\n",
    "\n",
    "top_n = 2000000\n",
    "\n",
    "bool_signature = {}\n",
    "\n",
    "for genus, signature in signatures:\n",
    "    threshold = np.partition(signature, -top_n)[-top_n]\n",
    "    bool_signature[genus] = (signature >= threshold)\n",
    "    print(bool_signature[genus].sum())"
   ]
  },
  {
   "cell_type": "code",
   "execution_count": 70,
   "metadata": {},
   "outputs": [],
   "source": [
    "import numpy as np\n",
    "\n",
    "ANI = np.zeros((len(bool_signature), len(bool_signature)))\n",
    "\n",
    "for i, genus_i in enumerate(bool_signature):\n",
    "    for j, genus_j in enumerate(bool_signature):\n",
    "        ANI[i][j] = (bool_signature[genus_i] & bool_signature[genus_j]).sum() / (bool_signature[genus_i] | bool_signature[genus_j]).sum()"
   ]
  },
  {
   "cell_type": "code",
   "execution_count": 62,
   "metadata": {},
   "outputs": [
    {
     "data": {
      "text/plain": [
       "array([[1.        , 0.04936529, 0.15517393, 0.3171757 , 0.29043308,\n",
       "        0.00396658, 0.03430043, 0.1999881 , 0.14619344, 0.39162865,\n",
       "        0.43781686, 0.14706847, 0.03544823, 0.06101895, 0.35391705,\n",
       "        0.12744698, 0.23115753, 0.07441999, 0.36235466, 0.34877443,\n",
       "        0.23193864],\n",
       "       [0.04936529, 1.        , 0.1948122 , 0.11896188, 0.13163091,\n",
       "        0.10065769, 0.26767656, 0.200461  , 0.18642007, 0.03054203,\n",
       "        0.06156939, 0.20468903, 0.27991152, 0.32677186, 0.03963754,\n",
       "        0.25629749, 0.1582995 , 0.2794352 , 0.10779581, 0.10137305,\n",
       "        0.16039639],\n",
       "       [0.15517393, 0.1948122 , 1.        , 0.39792279, 0.43810686,\n",
       "        0.03305064, 0.18249207, 0.53159087, 0.5800517 , 0.08871907,\n",
       "        0.21153033, 0.48402962, 0.2781404 , 0.34472853, 0.13248718,\n",
       "        0.35556334, 0.45365509, 0.40947424, 0.30525375, 0.31338906,\n",
       "        0.28452688],\n",
       "       [0.3171757 , 0.11896188, 0.39792279, 1.        , 0.56205181,\n",
       "        0.01956739, 0.10109293, 0.45155639, 0.38816275, 0.24318053,\n",
       "        0.42659604, 0.33840678, 0.14763952, 0.17869505, 0.25824743,\n",
       "        0.2395045 , 0.44235479, 0.2284386 , 0.48806235, 0.53470885,\n",
       "        0.29915752],\n",
       "       [0.29043308, 0.13163091, 0.43810686, 0.56205181, 1.        ,\n",
       "        0.01806626, 0.11761942, 0.43799844, 0.44463892, 0.20592904,\n",
       "        0.39179636, 0.40976363, 0.1846819 , 0.21353163, 0.21988708,\n",
       "        0.26018284, 0.56423315, 0.28559298, 0.50061056, 0.55437896,\n",
       "        0.27470351],\n",
       "       [0.00396658, 0.10065769, 0.03305064, 0.01956739, 0.01806626,\n",
       "        1.        , 0.1126484 , 0.03508815, 0.03094543, 0.00135305,\n",
       "        0.00520747, 0.03872803, 0.06876576, 0.0750435 , 0.00323766,\n",
       "        0.06304562, 0.02479274, 0.05275835, 0.01801559, 0.01162769,\n",
       "        0.04561902],\n",
       "       [0.03430043, 0.26767656, 0.18249207, 0.10109293, 0.11761942,\n",
       "        0.1126484 , 1.        , 0.16476951, 0.18166378, 0.01444889,\n",
       "        0.04138702, 0.18071109, 0.28206844, 0.32203641, 0.02591652,\n",
       "        0.23813617, 0.14090298, 0.26568058, 0.07922695, 0.07465716,\n",
       "        0.13236187],\n",
       "       [0.1999881 , 0.200461  , 0.53159087, 0.45155639, 0.43799844,\n",
       "        0.03508815, 0.16476951, 1.        , 0.47158835, 0.15191788,\n",
       "        0.26967004, 0.47663081, 0.25050255, 0.32073077, 0.18354698,\n",
       "        0.36506192, 0.44797324, 0.38479294, 0.36465641, 0.34564183,\n",
       "        0.34249983],\n",
       "       [0.14619344, 0.18642007, 0.5800517 , 0.38816275, 0.44463892,\n",
       "        0.03094543, 0.18166378, 0.47158835, 1.        , 0.08159685,\n",
       "        0.19950755, 0.45274839, 0.26160779, 0.31540498, 0.11774006,\n",
       "        0.32445608, 0.44438566, 0.38755053, 0.30731204, 0.33026251,\n",
       "        0.26646682],\n",
       "       [0.39162865, 0.03054203, 0.08871907, 0.24318053, 0.20592904,\n",
       "        0.00135305, 0.01444889, 0.15191788, 0.08159685, 1.        ,\n",
       "        0.43278826, 0.10120272, 0.01458872, 0.0338235 , 0.44822779,\n",
       "        0.09629477, 0.15967743, 0.04246261, 0.33010491, 0.27920494,\n",
       "        0.23374701],\n",
       "       [0.43781686, 0.06156939, 0.21153033, 0.42659604, 0.39179636,\n",
       "        0.00520747, 0.04138702, 0.26967004, 0.19950755, 0.43278826,\n",
       "        1.        , 0.19440346, 0.03785396, 0.08037325, 0.42912698,\n",
       "        0.16255444, 0.30056881, 0.09435938, 0.53518679, 0.50406319,\n",
       "        0.29177228],\n",
       "       [0.14706847, 0.20468903, 0.48402962, 0.33840678, 0.40976363,\n",
       "        0.03872803, 0.18071109, 0.47663081, 0.45274839, 0.10120272,\n",
       "        0.19440346, 1.        , 0.29784321, 0.38207402, 0.12795527,\n",
       "        0.38500785, 0.46139768, 0.49402106, 0.31826699, 0.28758144,\n",
       "        0.38338822],\n",
       "       [0.03544823, 0.27991152, 0.2781404 , 0.14763952, 0.1846819 ,\n",
       "        0.06876576, 0.28206844, 0.25050255, 0.26160779, 0.01458872,\n",
       "        0.03785396, 0.29784321, 1.        , 0.49823392, 0.01818879,\n",
       "        0.30280892, 0.22078088, 0.58557032, 0.09086454, 0.08087706,\n",
       "        0.14348939],\n",
       "       [0.06101895, 0.32677186, 0.34472853, 0.17869505, 0.21353163,\n",
       "        0.0750435 , 0.32203641, 0.32073077, 0.31540498, 0.0338235 ,\n",
       "        0.08037325, 0.38207402, 0.49823392, 1.        , 0.05468309,\n",
       "        0.40662417, 0.25964455, 0.5519866 , 0.1416272 , 0.12643363,\n",
       "        0.21782568],\n",
       "       [0.35391705, 0.03963754, 0.13248718, 0.25824743, 0.21988708,\n",
       "        0.00323766, 0.02591652, 0.18354698, 0.11774006, 0.44822779,\n",
       "        0.42912698, 0.12795527, 0.01818879, 0.05468309, 1.        ,\n",
       "        0.13056095, 0.18701393, 0.05353451, 0.33632448, 0.28221525,\n",
       "        0.26828294],\n",
       "       [0.12744698, 0.25629749, 0.35556334, 0.2395045 , 0.26018284,\n",
       "        0.06304562, 0.23813617, 0.36506192, 0.32445608, 0.09629477,\n",
       "        0.16255444, 0.38500785, 0.30280892, 0.40662417, 0.13056095,\n",
       "        1.        , 0.32435131, 0.4024066 , 0.21953688, 0.18838776,\n",
       "        0.31414034],\n",
       "       [0.23115753, 0.1582995 , 0.45365509, 0.44235479, 0.56423315,\n",
       "        0.02479274, 0.14090298, 0.44797324, 0.44438566, 0.15967743,\n",
       "        0.30056881, 0.46139768, 0.22078088, 0.25964455, 0.18701393,\n",
       "        0.32435131, 1.        , 0.34384485, 0.44331419, 0.41937792,\n",
       "        0.32713727],\n",
       "       [0.07441999, 0.2794352 , 0.40947424, 0.2284386 , 0.28559298,\n",
       "        0.05275835, 0.26568058, 0.38479294, 0.38755053, 0.04246261,\n",
       "        0.09435938, 0.49402106, 0.58557032, 0.5519866 , 0.05353451,\n",
       "        0.4024066 , 0.34384485, 1.        , 0.17900282, 0.15875576,\n",
       "        0.25943501],\n",
       "       [0.36235466, 0.10779581, 0.30525375, 0.48806235, 0.50061056,\n",
       "        0.01801559, 0.07922695, 0.36465641, 0.30731204, 0.33010491,\n",
       "        0.53518679, 0.31826699, 0.09086454, 0.1416272 , 0.33632448,\n",
       "        0.21953688, 0.44331419, 0.17900282, 1.        , 0.63458946,\n",
       "        0.36344266],\n",
       "       [0.34877443, 0.10137305, 0.31338906, 0.53470885, 0.55437896,\n",
       "        0.01162769, 0.07465716, 0.34564183, 0.33026251, 0.27920494,\n",
       "        0.50406319, 0.28758144, 0.08087706, 0.12643363, 0.28221525,\n",
       "        0.18838776, 0.41937792, 0.15875576, 0.63458946, 1.        ,\n",
       "        0.27690956],\n",
       "       [0.23193864, 0.16039639, 0.28452688, 0.29915752, 0.27470351,\n",
       "        0.04561902, 0.13236187, 0.34249983, 0.26646682, 0.23374701,\n",
       "        0.29177228, 0.38338822, 0.14348939, 0.21782568, 0.26828294,\n",
       "        0.31414034, 0.32713727, 0.25943501, 0.36344266, 0.27690956,\n",
       "        1.        ]])"
      ]
     },
     "execution_count": 62,
     "metadata": {},
     "output_type": "execute_result"
    }
   ],
   "source": [
    "ANI"
   ]
  },
  {
   "cell_type": "code",
   "execution_count": 73,
   "metadata": {},
   "outputs": [
    {
     "data": {
      "text/plain": [
       "<Axes: >"
      ]
     },
     "execution_count": 73,
     "metadata": {},
     "output_type": "execute_result"
    },
    {
     "data": {
      "image/png": "[encoded data removed]",
      "text/plain": [
       "<Figure size 640x480 with 2 Axes>"
      ]
     },
     "metadata": {},
     "output_type": "display_data"
    }
   ],
   "source": [
    "import seaborn as sns\n",
    "\n",
    "sns.heatmap(ANI)"
   ]
  },
  {
   "cell_type": "code",
   "execution_count": null,
   "metadata": {},
   "outputs": [],
   "source": [
    "from Bio import SeqIO\n",
    "from tqdm import tqdm\n",
    "prediction = []\n",
    "\n",
    "i = 0\n",
    "\n",
    "for record in tqdm(SeqIO.parse(\"/mnt/c/Users/guzh/Downloads/sampled_reads.fastq\", \"fastq\")):\n",
    "    #print(record.seq)\n",
    "    record_signature = sg.to_signature([str(record.seq)], data_type=bool)\n",
    "    print(record_signature.sum(), len(record.seq), \"====\")\n",
    "\n",
    "    best_similiarity = 0\n",
    "    genus_prediction = []\n",
    "    for genus in bool_signature:\n",
    "        similarity = (record_signature & bool_signature[genus]).sum() / record_signature.sum()\n",
    "        if similarity > 0.6:# and similarity > best_similiarity:\n",
    "            genus_prediction.append(genus)\n",
    "            #genus_prediction.append(genus)\n",
    "            best_similiarity = similarity\n",
    "            #print(genus, similarity)\n",
    "            #best_similiarity = similarity\n",
    "    \n",
    "    print(genus_prediction)\n",
    "    \n",
    "    prediction.append(genus_prediction)\n",
    "    i += 1\n",
    "    if i >= 1000:\n",
    "        break"
   ]
  },
  {
   "cell_type": "code",
   "execution_count": 82,
   "metadata": {},
   "outputs": [
    {
     "name": "stdout",
     "output_type": "stream",
     "text": [
      "939\n",
      "949\n"
     ]
    }
   ],
   "source": [
    "correct = 0\n",
    "num_predictions = 0\n",
    "\n",
    "for i in prediction:\n",
    "    if 2810280 in i:\n",
    "        correct += 1\n",
    "    if len(i) != 0:\n",
    "        num_predictions += 1\n",
    "\n",
    "print(correct)\n",
    "print(num_predictions)"
   ]
  },
  {
   "cell_type": "code",
   "execution_count": 79,
   "metadata": {},
   "outputs": [
    {
     "data": {
      "text/plain": [
       "[2810280.0,\n",
       " 2810280.0,\n",
       " 2810280.0,\n",
       " 2810280.0,\n",
       " 2810280.0,\n",
       " 2810280.0,\n",
       " 2810280.0,\n",
       " 2810280.0,\n",
       " 2810280.0,\n",
       " 2810280.0,\n",
       " 2810280.0,\n",
       " 2810280.0,\n",
       " 2810280.0,\n",
       " 2810280.0,\n",
       " 2810280.0,\n",
       " 2810280.0,\n",
       " 2810280.0,\n",
       " 2810280.0,\n",
       " 2810280.0,\n",
       " 2810280.0,\n",
       " None,\n",
       " 2810280.0,\n",
       " 2810280.0,\n",
       " 2810280.0,\n",
       " 2810280.0,\n",
       " None,\n",
       " 2810280.0,\n",
       " 2810280.0,\n",
       " 2810280.0,\n",
       " 2810280.0,\n",
       " 2810280.0,\n",
       " 2810280.0,\n",
       " 2810280.0,\n",
       " 2810280.0,\n",
       " 2810281.0,\n",
       " 2810280.0,\n",
       " 2810280.0,\n",
       " 2810280.0,\n",
       " 2810280.0,\n",
       " 2810280.0,\n",
       " 2810280.0,\n",
       " 2810280.0,\n",
       " 2810280.0,\n",
       " 2810280.0,\n",
       " 2810280.0,\n",
       " 2810281.0,\n",
       " 2810280.0,\n",
       " 2810280.0,\n",
       " 2810280.0,\n",
       " 2810280.0,\n",
       " None,\n",
       " 2810280.0,\n",
       " 2810280.0,\n",
       " 2810280.0,\n",
       " 2810280.0,\n",
       " 2810280.0,\n",
       " 2810280.0,\n",
       " 2810280.0,\n",
       " 2810280.0,\n",
       " 2810280.0,\n",
       " 2810280.0,\n",
       " 2810280.0,\n",
       " 2810280.0,\n",
       " 2810281.0,\n",
       " 2810280.0,\n",
       " 2810280.0,\n",
       " 186804.0,\n",
       " 2810280.0,\n",
       " 2810280.0,\n",
       " 186804.0,\n",
       " 2810280.0,\n",
       " 2810280.0,\n",
       " 2810280.0,\n",
       " 2810280.0,\n",
       " 2810280.0,\n",
       " 2810281.0,\n",
       " 2810280.0,\n",
       " 2810280.0,\n",
       " 2810280.0,\n",
       " 2810280.0,\n",
       " 2810281.0,\n",
       " 2810280.0,\n",
       " 2810280.0,\n",
       " 2810280.0,\n",
       " 2810281.0,\n",
       " 2810280.0,\n",
       " 2810281.0,\n",
       " 2810280.0,\n",
       " 2810280.0,\n",
       " 2810280.0,\n",
       " 2810280.0,\n",
       " 2810280.0,\n",
       " 2810280.0,\n",
       " 2810280.0,\n",
       " 2810281.0,\n",
       " 2810280.0,\n",
       " 2810280.0,\n",
       " 2810280.0,\n",
       " 2810280.0,\n",
       " 2810280.0,\n",
       " None,\n",
       " 2810280.0,\n",
       " 186804.0,\n",
       " 2810281.0,\n",
       " 2810280.0,\n",
       " 2810280.0,\n",
       " 2810280.0,\n",
       " 2810280.0,\n",
       " 2810280.0,\n",
       " 2810280.0,\n",
       " 2810280.0,\n",
       " 2810280.0,\n",
       " 2810280.0,\n",
       " 2810280.0,\n",
       " 2810280.0,\n",
       " None,\n",
       " 2810280.0,\n",
       " 2810280.0,\n",
       " 2810280.0,\n",
       " 2810280.0,\n",
       " 2810280.0,\n",
       " 2810280.0,\n",
       " 2810280.0,\n",
       " 2810280.0,\n",
       " 2810281.0,\n",
       " 2810280.0,\n",
       " 2810280.0,\n",
       " 2810281.0,\n",
       " 2810280.0,\n",
       " 2810280.0,\n",
       " 2810280.0,\n",
       " 2810281.0,\n",
       " 2810280.0,\n",
       " 2810280.0,\n",
       " 2810280.0,\n",
       " 2810280.0,\n",
       " 2810280.0,\n",
       " 2810280.0,\n",
       " 2810281.0,\n",
       " 2810280.0,\n",
       " 2810280.0,\n",
       " 2810280.0,\n",
       " 2810280.0,\n",
       " 2810280.0,\n",
       " 2810280.0,\n",
       " 2810280.0,\n",
       " 2810280.0,\n",
       " 2810280.0,\n",
       " 2810280.0,\n",
       " 2810280.0,\n",
       " 2810280.0,\n",
       " 2810280.0,\n",
       " 2810280.0,\n",
       " 2810280.0,\n",
       " 2810280.0,\n",
       " 2810280.0,\n",
       " 186804.0,\n",
       " 2810281.0,\n",
       " 2810281.0,\n",
       " 2810280.0,\n",
       " 2810280.0,\n",
       " 2810280.0,\n",
       " 2810280.0,\n",
       " 2810280.0,\n",
       " 2810280.0,\n",
       " 2810280.0,\n",
       " 2810280.0,\n",
       " 2810280.0,\n",
       " 2810280.0,\n",
       " 2810280.0,\n",
       " 2810280.0,\n",
       " 2810280.0,\n",
       " 2810280.0,\n",
       " 2810280.0,\n",
       " 2810280.0,\n",
       " 2810280.0,\n",
       " 2810280.0,\n",
       " 2810280.0,\n",
       " 2810280.0,\n",
       " None,\n",
       " None,\n",
       " 2810281.0,\n",
       " 2810280.0,\n",
       " 2810280.0,\n",
       " 2810281.0,\n",
       " 2810280.0,\n",
       " 2810280.0,\n",
       " None,\n",
       " 2810280.0,\n",
       " 2810280.0,\n",
       " 2810280.0,\n",
       " 2810280.0,\n",
       " 2810280.0,\n",
       " 2810280.0,\n",
       " 2810280.0,\n",
       " 2810280.0,\n",
       " 2810280.0,\n",
       " 2810280.0,\n",
       " 2810280.0,\n",
       " 2810280.0,\n",
       " 2810280.0,\n",
       " 2810280.0,\n",
       " 2810280.0,\n",
       " 2810280.0,\n",
       " 2810280.0,\n",
       " 2810281.0,\n",
       " 2810280.0,\n",
       " 2810280.0,\n",
       " 2810280.0,\n",
       " 2810280.0,\n",
       " 2810280.0,\n",
       " 2810280.0,\n",
       " 2810280.0,\n",
       " 2810280.0,\n",
       " 2810280.0,\n",
       " 2810280.0,\n",
       " 2810280.0,\n",
       " 2810280.0,\n",
       " 2810280.0,\n",
       " 2810280.0,\n",
       " 2810280.0,\n",
       " 2810280.0,\n",
       " 2810280.0,\n",
       " 2810280.0,\n",
       " 2810280.0,\n",
       " 2810280.0,\n",
       " 2810280.0,\n",
       " 2810280.0,\n",
       " 2810280.0,\n",
       " 2810280.0,\n",
       " 2810280.0,\n",
       " 2810280.0,\n",
       " None,\n",
       " 2810280.0,\n",
       " 2810280.0,\n",
       " 2810280.0,\n",
       " 2810280.0,\n",
       " 2810280.0,\n",
       " 2810280.0,\n",
       " 2810280.0,\n",
       " 2810280.0,\n",
       " 2810280.0,\n",
       " 2810280.0,\n",
       " 2810280.0,\n",
       " 2810280.0,\n",
       " 2810281.0,\n",
       " 2810280.0,\n",
       " 2810280.0,\n",
       " 2810280.0,\n",
       " 2810280.0,\n",
       " 2810280.0,\n",
       " 2810281.0,\n",
       " 2810280.0,\n",
       " 2810280.0,\n",
       " 2810280.0,\n",
       " 2810280.0,\n",
       " 2810280.0,\n",
       " 186804.0,\n",
       " 2810280.0,\n",
       " 2810280.0,\n",
       " 2810280.0,\n",
       " 2810280.0,\n",
       " None,\n",
       " 2810280.0,\n",
       " 2810280.0,\n",
       " 2810280.0,\n",
       " 2810280.0,\n",
       " 2810280.0,\n",
       " 2810280.0,\n",
       " 2810280.0,\n",
       " 2810280.0,\n",
       " 2810280.0,\n",
       " 2810280.0,\n",
       " 2810281.0,\n",
       " 2810280.0,\n",
       " 2810280.0,\n",
       " 2810280.0,\n",
       " 2810280.0,\n",
       " None,\n",
       " 2810280.0,\n",
       " 2810280.0,\n",
       " 2810280.0,\n",
       " 2810280.0,\n",
       " 2810280.0,\n",
       " 2810280.0,\n",
       " 2810280.0,\n",
       " 2810280.0,\n",
       " 2810281.0,\n",
       " 2810280.0,\n",
       " None,\n",
       " 2810280.0,\n",
       " 2810281.0,\n",
       " 2810280.0,\n",
       " 2810280.0,\n",
       " 2810280.0,\n",
       " 2810280.0,\n",
       " 2810280.0,\n",
       " 2810280.0,\n",
       " 2810280.0,\n",
       " 2810280.0,\n",
       " 2810280.0,\n",
       " 2810280.0,\n",
       " 2810280.0,\n",
       " 2810280.0,\n",
       " 2810280.0,\n",
       " 2810280.0,\n",
       " 2810281.0,\n",
       " 2810280.0,\n",
       " 2810280.0,\n",
       " 2810280.0,\n",
       " 2810281.0,\n",
       " 2810280.0,\n",
       " None,\n",
       " 2810280.0,\n",
       " 2810280.0,\n",
       " 2810280.0,\n",
       " 2810280.0,\n",
       " 2810280.0,\n",
       " 2810280.0,\n",
       " 2810280.0,\n",
       " 2810280.0,\n",
       " 2810280.0,\n",
       " 2810281.0,\n",
       " 2810280.0,\n",
       " 2810280.0,\n",
       " 2810280.0,\n",
       " 2810280.0,\n",
       " 2810280.0,\n",
       " 2810280.0,\n",
       " 2810280.0,\n",
       " None,\n",
       " 2810281.0,\n",
       " 2810280.0,\n",
       " 2810280.0,\n",
       " None,\n",
       " 2810280.0,\n",
       " 2810280.0,\n",
       " 2810280.0,\n",
       " 2810280.0,\n",
       " 2810280.0,\n",
       " 2810280.0,\n",
       " 2810280.0,\n",
       " 2810280.0,\n",
       " 2810280.0,\n",
       " 2810281.0,\n",
       " 2810280.0,\n",
       " 2810280.0,\n",
       " 2810280.0,\n",
       " 2810280.0,\n",
       " 2810280.0,\n",
       " 2810280.0,\n",
       " 2810280.0,\n",
       " 2810280.0,\n",
       " 2810280.0,\n",
       " 2810280.0,\n",
       " 2810280.0,\n",
       " 2810280.0,\n",
       " 2810280.0,\n",
       " 2810280.0,\n",
       " 2810280.0,\n",
       " 2810280.0,\n",
       " 2810280.0,\n",
       " 2810280.0,\n",
       " None,\n",
       " 2810280.0,\n",
       " 2810280.0,\n",
       " 2810280.0,\n",
       " 2810280.0,\n",
       " 2810280.0,\n",
       " 2810280.0,\n",
       " 2810280.0,\n",
       " 2810281.0,\n",
       " 2810280.0,\n",
       " 2810280.0,\n",
       " 2810280.0,\n",
       " 2810280.0,\n",
       " 2810280.0,\n",
       " None,\n",
       " 2810280.0,\n",
       " 2810280.0,\n",
       " 2810281.0,\n",
       " 2810280.0,\n",
       " 2810280.0,\n",
       " 2810280.0,\n",
       " 2810280.0,\n",
       " 2810280.0,\n",
       " 2810280.0,\n",
       " 2810281.0,\n",
       " 2810280.0,\n",
       " 2810280.0,\n",
       " 2810280.0,\n",
       " 2810280.0,\n",
       " 2810280.0,\n",
       " 2810280.0,\n",
       " 2810280.0,\n",
       " 2810280.0,\n",
       " 2810280.0,\n",
       " 2810280.0,\n",
       " 2810280.0,\n",
       " 2810280.0,\n",
       " 2810281.0,\n",
       " 2810280.0,\n",
       " 2810280.0,\n",
       " 2810281.0,\n",
       " 2810280.0,\n",
       " 2810281.0,\n",
       " 2810280.0,\n",
       " 2810280.0,\n",
       " 2810280.0,\n",
       " 2810280.0,\n",
       " 2810280.0,\n",
       " 2810280.0,\n",
       " 2810281.0,\n",
       " 2810280.0,\n",
       " 2810280.0,\n",
       " 2810280.0,\n",
       " 2810280.0,\n",
       " 2810280.0,\n",
       " 2810280.0,\n",
       " 2810280.0,\n",
       " 2810280.0,\n",
       " 2810280.0,\n",
       " 2810280.0,\n",
       " 2810280.0,\n",
       " 2810281.0,\n",
       " 2810280.0,\n",
       " 2810280.0,\n",
       " 2810280.0,\n",
       " 2810280.0,\n",
       " 2810280.0,\n",
       " 2810280.0,\n",
       " 2810280.0,\n",
       " 2810280.0,\n",
       " 2810281.0,\n",
       " 2810280.0,\n",
       " 2810280.0,\n",
       " None,\n",
       " 2810280.0,\n",
       " 2810280.0,\n",
       " None,\n",
       " 2810280.0,\n",
       " 2810280.0,\n",
       " 2810280.0,\n",
       " 2810281.0,\n",
       " 2810280.0,\n",
       " 2810280.0,\n",
       " None,\n",
       " 2810280.0,\n",
       " 2810280.0,\n",
       " 2810281.0,\n",
       " 2810280.0,\n",
       " 2810280.0,\n",
       " 2810280.0,\n",
       " 2810280.0,\n",
       " 2810280.0,\n",
       " 2810280.0,\n",
       " 186804.0,\n",
       " 2810280.0,\n",
       " 2810280.0,\n",
       " 2810280.0,\n",
       " 2810280.0,\n",
       " 2810280.0,\n",
       " 2810280.0,\n",
       " 2810280.0,\n",
       " 2810280.0,\n",
       " 186804.0,\n",
       " 2810280.0,\n",
       " 2810280.0,\n",
       " 2810280.0,\n",
       " None,\n",
       " 2810280.0,\n",
       " 2810280.0,\n",
       " 2810280.0,\n",
       " 2810280.0,\n",
       " 2810280.0,\n",
       " 2810280.0,\n",
       " 2810280.0,\n",
       " 2810280.0,\n",
       " None,\n",
       " 2810280.0,\n",
       " 2810280.0,\n",
       " 2810280.0,\n",
       " 2810280.0,\n",
       " 2810280.0,\n",
       " 2810280.0,\n",
       " 2810280.0,\n",
       " 2810280.0,\n",
       " 2810280.0,\n",
       " 2810280.0,\n",
       " 2810280.0,\n",
       " 2810280.0,\n",
       " 2810280.0,\n",
       " 2810280.0,\n",
       " None,\n",
       " 2810280.0,\n",
       " 2810280.0,\n",
       " 2810280.0,\n",
       " 2810280.0,\n",
       " 2810280.0,\n",
       " 2810280.0,\n",
       " 2810280.0,\n",
       " 2810280.0,\n",
       " 2810280.0,\n",
       " 2810281.0,\n",
       " 2810280.0,\n",
       " 2810280.0,\n",
       " 2810281.0,\n",
       " 2810280.0,\n",
       " 2810280.0,\n",
       " 2810281.0,\n",
       " 2810280.0,\n",
       " 2810280.0,\n",
       " 2810280.0,\n",
       " 2810280.0,\n",
       " 2810280.0,\n",
       " 2810280.0,\n",
       " 2810280.0,\n",
       " None,\n",
       " 2810281.0,\n",
       " 2810281.0,\n",
       " 2810280.0,\n",
       " 2810281.0,\n",
       " 2810280.0,\n",
       " 2810280.0,\n",
       " 2810281.0,\n",
       " 2810280.0,\n",
       " 2810280.0,\n",
       " 2810280.0,\n",
       " 2810280.0,\n",
       " 2810280.0,\n",
       " 2810280.0,\n",
       " 2810280.0,\n",
       " 2810280.0,\n",
       " 2810280.0,\n",
       " 2810280.0,\n",
       " 2810280.0,\n",
       " 2810280.0,\n",
       " 2810280.0,\n",
       " 2810280.0,\n",
       " 2810280.0,\n",
       " None,\n",
       " 2810280.0,\n",
       " None,\n",
       " 2810280.0,\n",
       " 2810280.0,\n",
       " None,\n",
       " 2810280.0,\n",
       " 2810280.0,\n",
       " 2810280.0,\n",
       " 2810280.0,\n",
       " 2810280.0,\n",
       " 2810280.0,\n",
       " None,\n",
       " 2810280.0,\n",
       " 2810280.0,\n",
       " 2810280.0,\n",
       " 2810280.0,\n",
       " 2810280.0,\n",
       " 2810280.0,\n",
       " None,\n",
       " 2810280.0,\n",
       " 2810280.0,\n",
       " 2810280.0,\n",
       " 2810280.0,\n",
       " 2810281.0,\n",
       " 2810280.0,\n",
       " 2810280.0,\n",
       " 2810280.0,\n",
       " 2810280.0,\n",
       " 186804.0,\n",
       " 2810280.0,\n",
       " 2810280.0,\n",
       " 2810280.0,\n",
       " 2810280.0,\n",
       " 2810280.0,\n",
       " 2810280.0,\n",
       " 2810280.0,\n",
       " 2810280.0,\n",
       " 2810280.0,\n",
       " 2810280.0,\n",
       " 2810280.0,\n",
       " 2810280.0,\n",
       " 2810280.0,\n",
       " 2810280.0,\n",
       " 2810281.0,\n",
       " 2810280.0,\n",
       " 2810280.0,\n",
       " 2810280.0,\n",
       " 2810280.0,\n",
       " None,\n",
       " 2810280.0,\n",
       " 2810280.0,\n",
       " 31979.0,\n",
       " 2810280.0,\n",
       " 2810280.0,\n",
       " 2810280.0,\n",
       " 2810280.0,\n",
       " 186804.0,\n",
       " 2810280.0,\n",
       " 2810280.0,\n",
       " 2810280.0,\n",
       " 2810280.0,\n",
       " 2810281.0,\n",
       " 2810280.0,\n",
       " 2810280.0,\n",
       " 2810280.0,\n",
       " 2810280.0,\n",
       " None,\n",
       " 2810280.0,\n",
       " 2810280.0,\n",
       " 2810280.0,\n",
       " 2810280.0,\n",
       " 2810280.0,\n",
       " 2810280.0,\n",
       " 2810280.0,\n",
       " 186804.0,\n",
       " 2810280.0,\n",
       " 2810280.0,\n",
       " 2810280.0,\n",
       " 2810280.0,\n",
       " 2810280.0,\n",
       " 2810281.0,\n",
       " 2810280.0,\n",
       " 2810280.0,\n",
       " 2810280.0,\n",
       " 2810280.0,\n",
       " 2810280.0,\n",
       " 2810280.0,\n",
       " 2810280.0,\n",
       " None,\n",
       " 2810280.0,\n",
       " 2810280.0,\n",
       " 2810280.0,\n",
       " None,\n",
       " None,\n",
       " 2810280.0,\n",
       " 2810280.0,\n",
       " 2810280.0,\n",
       " 2810280.0,\n",
       " 2810280.0,\n",
       " 2810281.0,\n",
       " 186804.0,\n",
       " 2810280.0,\n",
       " 2810280.0,\n",
       " 2810280.0,\n",
       " 2810280.0,\n",
       " 2810280.0,\n",
       " 2810280.0,\n",
       " 2810280.0,\n",
       " 2810280.0,\n",
       " 2810280.0,\n",
       " 2810280.0,\n",
       " 2810280.0,\n",
       " 2810280.0,\n",
       " 2810280.0,\n",
       " 2810281.0,\n",
       " 2810281.0,\n",
       " 2810280.0,\n",
       " 2810280.0,\n",
       " 2810281.0,\n",
       " 2810280.0,\n",
       " 2810280.0,\n",
       " 2810280.0,\n",
       " 2810280.0,\n",
       " 2810281.0,\n",
       " 2810280.0,\n",
       " 2810280.0,\n",
       " 2810280.0,\n",
       " 2810280.0,\n",
       " 2810280.0,\n",
       " 2810280.0,\n",
       " 2810281.0,\n",
       " 2810280.0,\n",
       " 2810280.0,\n",
       " 2810280.0,\n",
       " None,\n",
       " 2810280.0,\n",
       " 2810280.0,\n",
       " 2810280.0,\n",
       " 2810280.0,\n",
       " 186804.0,\n",
       " 2810281.0,\n",
       " 2810280.0,\n",
       " 2810280.0,\n",
       " 2810280.0,\n",
       " 2810281.0,\n",
       " 2810280.0,\n",
       " 2810281.0,\n",
       " 2810280.0,\n",
       " 2810280.0,\n",
       " 2810280.0,\n",
       " 2810280.0,\n",
       " 2810280.0,\n",
       " 2810280.0,\n",
       " 2810280.0,\n",
       " 2810280.0,\n",
       " 2810280.0,\n",
       " 2810280.0,\n",
       " 186804.0,\n",
       " 186804.0,\n",
       " 2810280.0,\n",
       " 2810280.0,\n",
       " 2810280.0,\n",
       " 2810280.0,\n",
       " 2810280.0,\n",
       " 2810280.0,\n",
       " 2810281.0,\n",
       " 2810281.0,\n",
       " 186804.0,\n",
       " 2810280.0,\n",
       " 2810280.0,\n",
       " 2810280.0,\n",
       " 2810280.0,\n",
       " 2810280.0,\n",
       " 2810280.0,\n",
       " 2810280.0,\n",
       " 2810280.0,\n",
       " 2810280.0,\n",
       " 2810280.0,\n",
       " 2810280.0,\n",
       " 2810280.0,\n",
       " 2810280.0,\n",
       " 2810280.0,\n",
       " 2810280.0,\n",
       " 2810280.0,\n",
       " 2810280.0,\n",
       " 2810280.0,\n",
       " 2810280.0,\n",
       " 2810280.0,\n",
       " 2810280.0,\n",
       " 2810280.0,\n",
       " 2810280.0,\n",
       " 2810280.0,\n",
       " 2810280.0,\n",
       " 2810280.0,\n",
       " 2810280.0,\n",
       " 2810280.0,\n",
       " 2810280.0,\n",
       " 2810280.0,\n",
       " 2810280.0,\n",
       " 2810280.0,\n",
       " 2810280.0,\n",
       " 2810281.0,\n",
       " 2810280.0,\n",
       " None,\n",
       " 2810280.0,\n",
       " 2810280.0,\n",
       " 2810280.0,\n",
       " 2810281.0,\n",
       " None,\n",
       " 2810281.0,\n",
       " None,\n",
       " 2810280.0,\n",
       " 2810280.0,\n",
       " 2810281.0,\n",
       " 2810280.0,\n",
       " 2810280.0,\n",
       " 2810280.0,\n",
       " 2810280.0,\n",
       " 2810280.0,\n",
       " 2810280.0,\n",
       " 2810280.0,\n",
       " 2810280.0,\n",
       " 2810280.0,\n",
       " 2810280.0,\n",
       " 2810280.0,\n",
       " 186804.0,\n",
       " 2810280.0,\n",
       " 2810280.0,\n",
       " 2810280.0,\n",
       " 2810280.0,\n",
       " 2810280.0,\n",
       " 2810280.0,\n",
       " 2810280.0,\n",
       " 2810280.0,\n",
       " 2810280.0,\n",
       " 2810280.0,\n",
       " 2810281.0,\n",
       " 2810280.0,\n",
       " 2810280.0,\n",
       " 2810280.0,\n",
       " 2810280.0,\n",
       " 2810280.0,\n",
       " 2810280.0,\n",
       " 2810280.0,\n",
       " 2810280.0,\n",
       " 2810281.0,\n",
       " 2810281.0,\n",
       " 2810280.0,\n",
       " 2810280.0,\n",
       " 2810280.0,\n",
       " 2810280.0,\n",
       " 186804.0,\n",
       " 2810280.0,\n",
       " 2810280.0,\n",
       " 2810280.0,\n",
       " 2810280.0,\n",
       " 2810281.0,\n",
       " 2810280.0,\n",
       " 2810280.0,\n",
       " 2810280.0,\n",
       " 2810280.0,\n",
       " 186804.0,\n",
       " 2810280.0,\n",
       " 2810281.0,\n",
       " 2810280.0,\n",
       " 2810280.0,\n",
       " 2810280.0,\n",
       " 2810280.0,\n",
       " 2810280.0,\n",
       " 2810280.0,\n",
       " 2810280.0,\n",
       " 2810280.0,\n",
       " 186804.0,\n",
       " 2810280.0,\n",
       " 2810280.0,\n",
       " 2810280.0,\n",
       " 2810280.0,\n",
       " 2810280.0,\n",
       " 2810281.0,\n",
       " 2810280.0,\n",
       " 2810280.0,\n",
       " 2810280.0,\n",
       " 2810280.0,\n",
       " 2810280.0,\n",
       " 2810280.0,\n",
       " 186804.0,\n",
       " None,\n",
       " 2810280.0,\n",
       " 2810281.0,\n",
       " None,\n",
       " 2810280.0,\n",
       " 186804.0,\n",
       " 2810280.0,\n",
       " 2810280.0,\n",
       " 2810280.0,\n",
       " 2810280.0,\n",
       " 2810280.0,\n",
       " 2810281.0,\n",
       " 2810280.0,\n",
       " 2810280.0,\n",
       " 186804.0,\n",
       " 2810280.0,\n",
       " 2810280.0,\n",
       " 2810280.0,\n",
       " 2810280.0,\n",
       " 2810281.0,\n",
       " 2810280.0,\n",
       " 2810280.0,\n",
       " None,\n",
       " 2810280.0,\n",
       " 2810280.0,\n",
       " 2810280.0,\n",
       " 2810280.0,\n",
       " 2810280.0,\n",
       " 2810281.0,\n",
       " 186804.0,\n",
       " 2810281.0,\n",
       " 2810280.0,\n",
       " 2810280.0,\n",
       " 2810281.0,\n",
       " 2810280.0,\n",
       " 2810280.0,\n",
       " 2810280.0,\n",
       " 2810280.0,\n",
       " 2810281.0,\n",
       " 2810281.0,\n",
       " 2810280.0,\n",
       " 2810280.0,\n",
       " 2810281.0,\n",
       " 2810281.0,\n",
       " 2810280.0,\n",
       " 2810280.0,\n",
       " 2810280.0,\n",
       " 2810280.0,\n",
       " None,\n",
       " 2810280.0,\n",
       " None,\n",
       " 2810280.0,\n",
       " 2810281.0,\n",
       " 2810280.0,\n",
       " 2810280.0,\n",
       " 2810280.0,\n",
       " 2810280.0,\n",
       " None,\n",
       " 2810280.0,\n",
       " 2810281.0,\n",
       " 2810280.0,\n",
       " None,\n",
       " 2810280.0,\n",
       " 2810280.0,\n",
       " 2810280.0,\n",
       " 186804.0,\n",
       " 2810280.0,\n",
       " 2810280.0,\n",
       " 2810280.0,\n",
       " 2810280.0,\n",
       " 2810280.0,\n",
       " 2810280.0,\n",
       " 2810281.0,\n",
       " 2810280.0,\n",
       " 186804.0,\n",
       " 2810280.0,\n",
       " 2810280.0,\n",
       " 2810280.0,\n",
       " 2810280.0,\n",
       " 2810280.0,\n",
       " 2810280.0,\n",
       " 2810281.0,\n",
       " None,\n",
       " 2810280.0,\n",
       " 2810280.0,\n",
       " 2810280.0,\n",
       " 2810280.0,\n",
       " 2810280.0,\n",
       " None,\n",
       " 2810280.0,\n",
       " 2810280.0,\n",
       " 2810280.0,\n",
       " 2810280.0,\n",
       " 2810280.0,\n",
       " 2810280.0,\n",
       " 2810281.0,\n",
       " 2810280.0,\n",
       " 2810280.0,\n",
       " 2810280.0,\n",
       " 2810280.0,\n",
       " 2810281.0,\n",
       " 2810280.0,\n",
       " 2810280.0,\n",
       " 2810280.0,\n",
       " 2810281.0,\n",
       " 2810280.0,\n",
       " 2810280.0,\n",
       " 2810280.0,\n",
       " 216572.0,\n",
       " 2810280.0,\n",
       " None,\n",
       " 2810280.0,\n",
       " 2810280.0,\n",
       " None,\n",
       " 2810280.0,\n",
       " 2810280.0,\n",
       " 2810280.0,\n",
       " 2810280.0,\n",
       " 2810280.0,\n",
       " 2810280.0,\n",
       " 2810280.0,\n",
       " 2810280.0,\n",
       " None,\n",
       " 2810280.0,\n",
       " 2810280.0,\n",
       " 2810280.0,\n",
       " 2810280.0,\n",
       " 2810281.0,\n",
       " 2810281.0,\n",
       " 2810280.0,\n",
       " 2810280.0,\n",
       " 2810280.0,\n",
       " 2810281.0,\n",
       " 2810280.0,\n",
       " 2810280.0,\n",
       " 2810280.0,\n",
       " 2810280.0,\n",
       " 2810280.0,\n",
       " 2810281.0,\n",
       " 2810280.0,\n",
       " 2810280.0,\n",
       " 2810280.0,\n",
       " 2810280.0,\n",
       " 2810281.0,\n",
       " 186804.0,\n",
       " 2810280.0,\n",
       " 2810280.0,\n",
       " 2810280.0,\n",
       " 2810280.0,\n",
       " 2810281.0,\n",
       " 2810280.0,\n",
       " 2810280.0,\n",
       " 2810280.0,\n",
       " 2810280.0,\n",
       " 2810280.0,\n",
       " 2810280.0,\n",
       " 2810280.0,\n",
       " 2810280.0,\n",
       " 2810280.0,\n",
       " 2810280.0,\n",
       " 2810280.0,\n",
       " 2810281.0,\n",
       " 2810280.0,\n",
       " 2810280.0,\n",
       " 2810280.0,\n",
       " 2810280.0,\n",
       " 2810280.0,\n",
       " 2810280.0,\n",
       " 2810280.0,\n",
       " 2810280.0,\n",
       " 2810280.0,\n",
       " 2810280.0,\n",
       " None,\n",
       " ...]"
      ]
     },
     "execution_count": 79,
     "metadata": {},
     "output_type": "execute_result"
    }
   ],
   "source": [
    "prediction"
   ]
  },
  {
   "cell_type": "code",
   "execution_count": 43,
   "metadata": {},
   "outputs": [
    {
     "data": {
      "text/html": [
       "<div>\n",
       "<style scoped>\n",
       "    .dataframe tbody tr th:only-of-type {\n",
       "        vertical-align: middle;\n",
       "    }\n",
       "\n",
       "    .dataframe tbody tr th {\n",
       "        vertical-align: top;\n",
       "    }\n",
       "\n",
       "    .dataframe thead th {\n",
       "        text-align: right;\n",
       "    }\n",
       "</style>\n",
       "<table border=\"1\" class=\"dataframe\">\n",
       "  <thead>\n",
       "    <tr style=\"text-align: right;\">\n",
       "      <th></th>\n",
       "      <th>Unnamed: 0</th>\n",
       "      <th>accession</th>\n",
       "      <th>ambiguous_bases</th>\n",
       "      <th>checkm_completeness</th>\n",
       "      <th>checkm_contamination</th>\n",
       "      <th>checkm_marker_count</th>\n",
       "      <th>checkm_marker_lineage</th>\n",
       "      <th>checkm_marker_set_count</th>\n",
       "      <th>checkm_strain_heterogeneity</th>\n",
       "      <th>coding_bases</th>\n",
       "      <th>...</th>\n",
       "      <th>ssu_silva_blast_perc_identity</th>\n",
       "      <th>ssu_silva_blast_subject_id</th>\n",
       "      <th>ssu_silva_taxonomy</th>\n",
       "      <th>total_gap_length</th>\n",
       "      <th>trna_aa_count</th>\n",
       "      <th>trna_count</th>\n",
       "      <th>trna_selenocysteine_count</th>\n",
       "      <th>ncbi_genus_taxid</th>\n",
       "      <th>genus_taxid</th>\n",
       "      <th>species_taxid</th>\n",
       "    </tr>\n",
       "  </thead>\n",
       "  <tbody>\n",
       "    <tr>\n",
       "      <th>0</th>\n",
       "      <td>2</td>\n",
       "      <td>RS_GCF_000730125.1</td>\n",
       "      <td>30</td>\n",
       "      <td>100.00</td>\n",
       "      <td>0.92</td>\n",
       "      <td>476</td>\n",
       "      <td>f__Bifidobacteriaceae (UID1462)</td>\n",
       "      <td>217</td>\n",
       "      <td>0.0</td>\n",
       "      <td>2212698</td>\n",
       "      <td>...</td>\n",
       "      <td>100</td>\n",
       "      <td>CP008885.1576966.1578495</td>\n",
       "      <td>Bacteria;Actinobacteriota;Actinobacteria;Bifid...</td>\n",
       "      <td>619</td>\n",
       "      <td>19</td>\n",
       "      <td>55</td>\n",
       "      <td>0</td>\n",
       "      <td>1678.0</td>\n",
       "      <td>1678.0</td>\n",
       "      <td>216816</td>\n",
       "    </tr>\n",
       "    <tr>\n",
       "      <th>1</th>\n",
       "      <td>4</td>\n",
       "      <td>RS_GCF_000468955.1</td>\n",
       "      <td>0</td>\n",
       "      <td>100.00</td>\n",
       "      <td>0.00</td>\n",
       "      <td>472</td>\n",
       "      <td>o__Lactobacillales (UID543)</td>\n",
       "      <td>265</td>\n",
       "      <td>0.0</td>\n",
       "      <td>2107260</td>\n",
       "      <td>...</td>\n",
       "      <td>99.935</td>\n",
       "      <td>CP003157.2105633.2107180</td>\n",
       "      <td>Bacteria;Firmicutes;Bacilli;Lactobacillales;St...</td>\n",
       "      <td>0</td>\n",
       "      <td>19</td>\n",
       "      <td>60</td>\n",
       "      <td>0</td>\n",
       "      <td>1357.0</td>\n",
       "      <td>1357.0</td>\n",
       "      <td>1359</td>\n",
       "    </tr>\n",
       "    <tr>\n",
       "      <th>2</th>\n",
       "      <td>22</td>\n",
       "      <td>RS_GCF_001078445.1</td>\n",
       "      <td>7</td>\n",
       "      <td>99.32</td>\n",
       "      <td>0.00</td>\n",
       "      <td>340</td>\n",
       "      <td>o__Clostridiales (UID1342)</td>\n",
       "      <td>177</td>\n",
       "      <td>0.0</td>\n",
       "      <td>4662609</td>\n",
       "      <td>...</td>\n",
       "      <td>99.804</td>\n",
       "      <td>CP015399.4748579.4750121</td>\n",
       "      <td>Bacteria;Firmicutes;Clostridia;Lachnospirales;...</td>\n",
       "      <td>32463</td>\n",
       "      <td>19</td>\n",
       "      <td>77</td>\n",
       "      <td>1</td>\n",
       "      <td>2719313.0</td>\n",
       "      <td>2719313.0</td>\n",
       "      <td>1531</td>\n",
       "    </tr>\n",
       "    <tr>\n",
       "      <th>3</th>\n",
       "      <td>44</td>\n",
       "      <td>RS_GCF_000273155.1</td>\n",
       "      <td>0</td>\n",
       "      <td>99.26</td>\n",
       "      <td>0.00</td>\n",
       "      <td>492</td>\n",
       "      <td>o__Bacteroidales (UID2657)</td>\n",
       "      <td>269</td>\n",
       "      <td>0.0</td>\n",
       "      <td>4834627</td>\n",
       "      <td>...</td>\n",
       "      <td>99.672</td>\n",
       "      <td>AP006841.4735744.4737280</td>\n",
       "      <td>Bacteria;Bacteroidota;Bacteroidia;Bacteroidale...</td>\n",
       "      <td>14319</td>\n",
       "      <td>19</td>\n",
       "      <td>83</td>\n",
       "      <td>0</td>\n",
       "      <td>816.0</td>\n",
       "      <td>816.0</td>\n",
       "      <td>817</td>\n",
       "    </tr>\n",
       "    <tr>\n",
       "      <th>4</th>\n",
       "      <td>50</td>\n",
       "      <td>RS_GCF_000009925.1</td>\n",
       "      <td>0</td>\n",
       "      <td>99.26</td>\n",
       "      <td>0.00</td>\n",
       "      <td>492</td>\n",
       "      <td>o__Bacteroidales (UID2657)</td>\n",
       "      <td>269</td>\n",
       "      <td>0.0</td>\n",
       "      <td>4719009</td>\n",
       "      <td>...</td>\n",
       "      <td>100</td>\n",
       "      <td>AP006841.4527043.4528579</td>\n",
       "      <td>Bacteria;Bacteroidota;Bacteroidia;Bacteroidale...</td>\n",
       "      <td>0</td>\n",
       "      <td>19</td>\n",
       "      <td>74</td>\n",
       "      <td>0</td>\n",
       "      <td>816.0</td>\n",
       "      <td>816.0</td>\n",
       "      <td>817</td>\n",
       "    </tr>\n",
       "    <tr>\n",
       "      <th>...</th>\n",
       "      <td>...</td>\n",
       "      <td>...</td>\n",
       "      <td>...</td>\n",
       "      <td>...</td>\n",
       "      <td>...</td>\n",
       "      <td>...</td>\n",
       "      <td>...</td>\n",
       "      <td>...</td>\n",
       "      <td>...</td>\n",
       "      <td>...</td>\n",
       "      <td>...</td>\n",
       "      <td>...</td>\n",
       "      <td>...</td>\n",
       "      <td>...</td>\n",
       "      <td>...</td>\n",
       "      <td>...</td>\n",
       "      <td>...</td>\n",
       "      <td>...</td>\n",
       "      <td>...</td>\n",
       "      <td>...</td>\n",
       "      <td>...</td>\n",
       "    </tr>\n",
       "    <tr>\n",
       "      <th>19813</th>\n",
       "      <td>394902</td>\n",
       "      <td>GB_GCA_930989685.1</td>\n",
       "      <td>0</td>\n",
       "      <td>97.96</td>\n",
       "      <td>0.68</td>\n",
       "      <td>261</td>\n",
       "      <td>o__Clostridiales (UID1212)</td>\n",
       "      <td>147</td>\n",
       "      <td>0.0</td>\n",
       "      <td>1974955</td>\n",
       "      <td>...</td>\n",
       "      <td>none</td>\n",
       "      <td>none</td>\n",
       "      <td>none</td>\n",
       "      <td>0</td>\n",
       "      <td>18</td>\n",
       "      <td>41</td>\n",
       "      <td>0</td>\n",
       "      <td>216851.0</td>\n",
       "      <td>216851.0</td>\n",
       "      <td>259315</td>\n",
       "    </tr>\n",
       "    <tr>\n",
       "      <th>19814</th>\n",
       "      <td>394904</td>\n",
       "      <td>GB_GCA_934668345.1</td>\n",
       "      <td>0</td>\n",
       "      <td>68.55</td>\n",
       "      <td>0.00</td>\n",
       "      <td>211</td>\n",
       "      <td>p__Actinobacteria (UID2112)</td>\n",
       "      <td>124</td>\n",
       "      <td>0.0</td>\n",
       "      <td>1143151</td>\n",
       "      <td>...</td>\n",
       "      <td>none</td>\n",
       "      <td>none</td>\n",
       "      <td>none</td>\n",
       "      <td>0</td>\n",
       "      <td>18</td>\n",
       "      <td>40</td>\n",
       "      <td>1</td>\n",
       "      <td>102106.0</td>\n",
       "      <td>102106.0</td>\n",
       "      <td>165190</td>\n",
       "    </tr>\n",
       "    <tr>\n",
       "      <th>19815</th>\n",
       "      <td>394914</td>\n",
       "      <td>GB_GCA_945900725.1</td>\n",
       "      <td>0</td>\n",
       "      <td>92.79</td>\n",
       "      <td>0.68</td>\n",
       "      <td>229</td>\n",
       "      <td>k__Bacteria (UID2982)</td>\n",
       "      <td>147</td>\n",
       "      <td>0.0</td>\n",
       "      <td>3994946</td>\n",
       "      <td>...</td>\n",
       "      <td>none</td>\n",
       "      <td>none</td>\n",
       "      <td>none</td>\n",
       "      <td>0</td>\n",
       "      <td>18</td>\n",
       "      <td>37</td>\n",
       "      <td>1</td>\n",
       "      <td>239934.0</td>\n",
       "      <td>239934.0</td>\n",
       "      <td>239935</td>\n",
       "    </tr>\n",
       "    <tr>\n",
       "      <th>19816</th>\n",
       "      <td>394919</td>\n",
       "      <td>GB_GCA_021625385.1</td>\n",
       "      <td>0</td>\n",
       "      <td>80.87</td>\n",
       "      <td>0.89</td>\n",
       "      <td>263</td>\n",
       "      <td>o__Clostridiales (UID1212)</td>\n",
       "      <td>149</td>\n",
       "      <td>50.0</td>\n",
       "      <td>1358322</td>\n",
       "      <td>...</td>\n",
       "      <td>none</td>\n",
       "      <td>none</td>\n",
       "      <td>none</td>\n",
       "      <td>310</td>\n",
       "      <td>9</td>\n",
       "      <td>16</td>\n",
       "      <td>0</td>\n",
       "      <td>459786.0</td>\n",
       "      <td>459786.0</td>\n",
       "      <td>1945593</td>\n",
       "    </tr>\n",
       "    <tr>\n",
       "      <th>19817</th>\n",
       "      <td>394920</td>\n",
       "      <td>GB_GCA_022640815.1</td>\n",
       "      <td>0</td>\n",
       "      <td>95.12</td>\n",
       "      <td>3.37</td>\n",
       "      <td>464</td>\n",
       "      <td>f__Bifidobacteriaceae (UID1458)</td>\n",
       "      <td>220</td>\n",
       "      <td>0.0</td>\n",
       "      <td>2288483</td>\n",
       "      <td>...</td>\n",
       "      <td>none</td>\n",
       "      <td>none</td>\n",
       "      <td>none</td>\n",
       "      <td>0</td>\n",
       "      <td>19</td>\n",
       "      <td>42</td>\n",
       "      <td>0</td>\n",
       "      <td>1678.0</td>\n",
       "      <td>1678.0</td>\n",
       "      <td>2172043</td>\n",
       "    </tr>\n",
       "  </tbody>\n",
       "</table>\n",
       "<p>19818 rows × 114 columns</p>\n",
       "</div>"
      ],
      "text/plain": [
       "       Unnamed: 0           accession  ambiguous_bases  checkm_completeness  \\\n",
       "0               2  RS_GCF_000730125.1               30               100.00   \n",
       "1               4  RS_GCF_000468955.1                0               100.00   \n",
       "2              22  RS_GCF_001078445.1                7                99.32   \n",
       "3              44  RS_GCF_000273155.1                0                99.26   \n",
       "4              50  RS_GCF_000009925.1                0                99.26   \n",
       "...           ...                 ...              ...                  ...   \n",
       "19813      394902  GB_GCA_930989685.1                0                97.96   \n",
       "19814      394904  GB_GCA_934668345.1                0                68.55   \n",
       "19815      394914  GB_GCA_945900725.1                0                92.79   \n",
       "19816      394919  GB_GCA_021625385.1                0                80.87   \n",
       "19817      394920  GB_GCA_022640815.1                0                95.12   \n",
       "\n",
       "       checkm_contamination  checkm_marker_count  \\\n",
       "0                      0.92                  476   \n",
       "1                      0.00                  472   \n",
       "2                      0.00                  340   \n",
       "3                      0.00                  492   \n",
       "4                      0.00                  492   \n",
       "...                     ...                  ...   \n",
       "19813                  0.68                  261   \n",
       "19814                  0.00                  211   \n",
       "19815                  0.68                  229   \n",
       "19816                  0.89                  263   \n",
       "19817                  3.37                  464   \n",
       "\n",
       "                 checkm_marker_lineage  checkm_marker_set_count  \\\n",
       "0      f__Bifidobacteriaceae (UID1462)                      217   \n",
       "1          o__Lactobacillales (UID543)                      265   \n",
       "2           o__Clostridiales (UID1342)                      177   \n",
       "3           o__Bacteroidales (UID2657)                      269   \n",
       "4           o__Bacteroidales (UID2657)                      269   \n",
       "...                                ...                      ...   \n",
       "19813       o__Clostridiales (UID1212)                      147   \n",
       "19814      p__Actinobacteria (UID2112)                      124   \n",
       "19815            k__Bacteria (UID2982)                      147   \n",
       "19816       o__Clostridiales (UID1212)                      149   \n",
       "19817  f__Bifidobacteriaceae (UID1458)                      220   \n",
       "\n",
       "       checkm_strain_heterogeneity  coding_bases  ...  \\\n",
       "0                              0.0       2212698  ...   \n",
       "1                              0.0       2107260  ...   \n",
       "2                              0.0       4662609  ...   \n",
       "3                              0.0       4834627  ...   \n",
       "4                              0.0       4719009  ...   \n",
       "...                            ...           ...  ...   \n",
       "19813                          0.0       1974955  ...   \n",
       "19814                          0.0       1143151  ...   \n",
       "19815                          0.0       3994946  ...   \n",
       "19816                         50.0       1358322  ...   \n",
       "19817                          0.0       2288483  ...   \n",
       "\n",
       "       ssu_silva_blast_perc_identity  ssu_silva_blast_subject_id  \\\n",
       "0                                100    CP008885.1576966.1578495   \n",
       "1                             99.935    CP003157.2105633.2107180   \n",
       "2                             99.804    CP015399.4748579.4750121   \n",
       "3                             99.672    AP006841.4735744.4737280   \n",
       "4                                100    AP006841.4527043.4528579   \n",
       "...                              ...                         ...   \n",
       "19813                           none                        none   \n",
       "19814                           none                        none   \n",
       "19815                           none                        none   \n",
       "19816                           none                        none   \n",
       "19817                           none                        none   \n",
       "\n",
       "                                      ssu_silva_taxonomy  total_gap_length  \\\n",
       "0      Bacteria;Actinobacteriota;Actinobacteria;Bifid...               619   \n",
       "1      Bacteria;Firmicutes;Bacilli;Lactobacillales;St...                 0   \n",
       "2      Bacteria;Firmicutes;Clostridia;Lachnospirales;...             32463   \n",
       "3      Bacteria;Bacteroidota;Bacteroidia;Bacteroidale...             14319   \n",
       "4      Bacteria;Bacteroidota;Bacteroidia;Bacteroidale...                 0   \n",
       "...                                                  ...               ...   \n",
       "19813                                               none                 0   \n",
       "19814                                               none                 0   \n",
       "19815                                               none                 0   \n",
       "19816                                               none               310   \n",
       "19817                                               none                 0   \n",
       "\n",
       "       trna_aa_count trna_count trna_selenocysteine_count ncbi_genus_taxid  \\\n",
       "0                 19         55                         0           1678.0   \n",
       "1                 19         60                         0           1357.0   \n",
       "2                 19         77                         1        2719313.0   \n",
       "3                 19         83                         0            816.0   \n",
       "4                 19         74                         0            816.0   \n",
       "...              ...        ...                       ...              ...   \n",
       "19813             18         41                         0         216851.0   \n",
       "19814             18         40                         1         102106.0   \n",
       "19815             18         37                         1         239934.0   \n",
       "19816              9         16                         0         459786.0   \n",
       "19817             19         42                         0           1678.0   \n",
       "\n",
       "      genus_taxid species_taxid  \n",
       "0          1678.0        216816  \n",
       "1          1357.0          1359  \n",
       "2       2719313.0          1531  \n",
       "3           816.0           817  \n",
       "4           816.0           817  \n",
       "...           ...           ...  \n",
       "19813    216851.0        259315  \n",
       "19814    102106.0        165190  \n",
       "19815    239934.0        239935  \n",
       "19816    459786.0       1945593  \n",
       "19817      1678.0       2172043  \n",
       "\n",
       "[19818 rows x 114 columns]"
      ]
     },
     "execution_count": 43,
     "metadata": {},
     "output_type": "execute_result"
    }
   ],
   "source": [
    "metadata"
   ]
  },
  {
   "cell_type": "code",
   "execution_count": 51,
   "metadata": {},
   "outputs": [],
   "source": [
    "bool_matrix = np.zeros((len(bool_signature), num_kmers), dtype=bool)\n",
    "\n",
    "for i, genus in enumerate(bool_signature):\n",
    "    bool_matrix[i, :] = bool_signature[genus]\n",
    "    "
   ]
  },
  {
   "cell_type": "code",
   "execution_count": 52,
   "metadata": {},
   "outputs": [],
   "source": [
    "kmer_count = []\n",
    "uninformative_kmer_count = 0\n",
    "for i in range(num_kmers):\n",
    "    kmer_count.append(bool_matrix[:, i].sum())\n",
    "    if kmer_count[-1] > 5:\n",
    "        uninformative_kmer_count += 1\n",
    "\n",
    "kmer_count = np.array(kmer_count)"
   ]
  },
  {
   "cell_type": "code",
   "execution_count": 57,
   "metadata": {},
   "outputs": [
    {
     "data": {
      "text/plain": [
       "879569"
      ]
     },
     "execution_count": 57,
     "metadata": {},
     "output_type": "execute_result"
    }
   ],
   "source": [
    "filter = np.logical_and(kmer_count > 0, kmer_count <= 1)\n",
    "filter.sum()"
   ]
  },
  {
   "cell_type": "code",
   "execution_count": 54,
   "metadata": {},
   "outputs": [
    {
     "data": {
      "text/plain": [
       "<Axes: ylabel='Count'>"
      ]
     },
     "execution_count": 54,
     "metadata": {},
     "output_type": "execute_result"
    },
    {
     "data": {
      "image/png": "[encoded data removed]",
      "text/plain": [
       "<Figure size 640x480 with 1 Axes>"
      ]
     },
     "metadata": {},
     "output_type": "display_data"
    }
   ],
   "source": [
    "import seaborn\n",
    "\n",
    "seaborn.histplot(kmer_count)"
   ]
  },
  {
   "cell_type": "code",
   "execution_count": 58,
   "metadata": {},
   "outputs": [
    {
     "name": "stderr",
     "output_type": "stream",
     "text": [
      "0it [00:00, ?it/s]"
     ]
    },
    {
     "name": "stdout",
     "output_type": "stream",
     "text": [
      "288 8663 ====\n",
      "186804.0 0.2847222222222222\n"
     ]
    },
    {
     "name": "stderr",
     "output_type": "stream",
     "text": [
      "1it [00:00,  4.32it/s]"
     ]
    },
    {
     "name": "stdout",
     "output_type": "stream",
     "text": [
      "[186804.0]\n",
      "103 2129 ====\n",
      "2810280.0 0.3106796116504854\n"
     ]
    },
    {
     "name": "stderr",
     "output_type": "stream",
     "text": [
      "2it [00:00,  4.59it/s]"
     ]
    },
    {
     "name": "stdout",
     "output_type": "stream",
     "text": [
      "[2810280.0]\n",
      "145 3852 ====\n",
      "2810280.0 0.2206896551724138\n",
      "186804.0 0.23448275862068965\n"
     ]
    },
    {
     "name": "stderr",
     "output_type": "stream",
     "text": [
      "3it [00:00,  4.41it/s]"
     ]
    },
    {
     "name": "stdout",
     "output_type": "stream",
     "text": [
      "[2810280.0, 186804.0]\n",
      "223 6186 ====\n",
      "186804.0 0.20179372197309417\n"
     ]
    },
    {
     "name": "stderr",
     "output_type": "stream",
     "text": [
      "4it [00:00,  4.41it/s]"
     ]
    },
    {
     "name": "stdout",
     "output_type": "stream",
     "text": [
      "[186804.0]\n",
      "22 790 ====\n",
      "2810280.0 0.2727272727272727\n",
      "186804.0 0.4090909090909091\n"
     ]
    },
    {
     "name": "stderr",
     "output_type": "stream",
     "text": [
      "5it [00:01,  4.43it/s]"
     ]
    },
    {
     "name": "stdout",
     "output_type": "stream",
     "text": [
      "[2810280.0, 186804.0]\n",
      "165 3464 ====\n"
     ]
    },
    {
     "name": "stderr",
     "output_type": "stream",
     "text": [
      "7it [00:01,  4.59it/s]"
     ]
    },
    {
     "name": "stdout",
     "output_type": "stream",
     "text": [
      "[]\n",
      "21 497 ====\n",
      "[]\n"
     ]
    },
    {
     "name": "stderr",
     "output_type": "stream",
     "text": [
      "8it [00:01,  4.65it/s]"
     ]
    },
    {
     "name": "stdout",
     "output_type": "stream",
     "text": [
      "190 4043 ====\n",
      "186804.0 0.22631578947368422\n",
      "[186804.0]\n"
     ]
    },
    {
     "name": "stderr",
     "output_type": "stream",
     "text": [
      "9it [00:01,  4.82it/s]"
     ]
    },
    {
     "name": "stdout",
     "output_type": "stream",
     "text": [
      "104 2121 ====\n",
      "2810280.0 0.2403846153846154\n",
      "[2810280.0]\n",
      "59 1687 ====\n"
     ]
    },
    {
     "name": "stderr",
     "output_type": "stream",
     "text": [
      "10it [00:02,  4.67it/s]"
     ]
    },
    {
     "name": "stdout",
     "output_type": "stream",
     "text": [
      "2810280.0 0.2542372881355932\n",
      "[2810280.0]\n",
      "437 9355 ====\n"
     ]
    },
    {
     "name": "stderr",
     "output_type": "stream",
     "text": [
      "11it [00:02,  4.57it/s]"
     ]
    },
    {
     "name": "stdout",
     "output_type": "stream",
     "text": [
      "186804.0 0.2242562929061785\n",
      "[186804.0]\n",
      "133 3978 ====\n"
     ]
    },
    {
     "name": "stderr",
     "output_type": "stream",
     "text": [
      "12it [00:02,  4.50it/s]"
     ]
    },
    {
     "name": "stdout",
     "output_type": "stream",
     "text": [
      "186804.0 0.20300751879699247\n",
      "[186804.0]\n",
      "50 2082 ====\n"
     ]
    },
    {
     "name": "stderr",
     "output_type": "stream",
     "text": [
      "13it [00:02,  4.46it/s]"
     ]
    },
    {
     "name": "stdout",
     "output_type": "stream",
     "text": [
      "186804.0 0.48\n",
      "[186804.0]\n",
      "45 1004 ====\n"
     ]
    },
    {
     "name": "stderr",
     "output_type": "stream",
     "text": [
      "14it [00:03,  4.46it/s]"
     ]
    },
    {
     "name": "stdout",
     "output_type": "stream",
     "text": [
      "[]\n",
      "23 539 ====\n"
     ]
    },
    {
     "name": "stderr",
     "output_type": "stream",
     "text": [
      "15it [00:03,  4.41it/s]"
     ]
    },
    {
     "name": "stdout",
     "output_type": "stream",
     "text": [
      "[]\n",
      "47 1683 ====\n",
      "186804.0 0.2553191489361702\n"
     ]
    },
    {
     "name": "stderr",
     "output_type": "stream",
     "text": [
      "16it [00:03,  4.42it/s]"
     ]
    },
    {
     "name": "stdout",
     "output_type": "stream",
     "text": [
      "[186804.0]\n",
      "142 3710 ====\n"
     ]
    },
    {
     "name": "stderr",
     "output_type": "stream",
     "text": [
      "17it [00:03,  4.39it/s]"
     ]
    },
    {
     "name": "stdout",
     "output_type": "stream",
     "text": [
      "[]\n",
      "16 620 ====\n",
      "1300.0 0.25\n",
      "186804.0 0.25\n"
     ]
    },
    {
     "name": "stderr",
     "output_type": "stream",
     "text": [
      "18it [00:04,  4.27it/s]"
     ]
    },
    {
     "name": "stdout",
     "output_type": "stream",
     "text": [
      "[1300.0, 186804.0]\n",
      "35 496 ====\n",
      "1300.0 0.2571428571428571\n"
     ]
    },
    {
     "name": "stderr",
     "output_type": "stream",
     "text": [
      "19it [00:04,  4.31it/s]"
     ]
    },
    {
     "name": "stdout",
     "output_type": "stream",
     "text": [
      "[1300.0]\n",
      "177 4048 ====\n"
     ]
    },
    {
     "name": "stderr",
     "output_type": "stream",
     "text": [
      "20it [00:04,  4.32it/s]"
     ]
    },
    {
     "name": "stdout",
     "output_type": "stream",
     "text": [
      "[]\n",
      "342 5747 ====\n"
     ]
    },
    {
     "name": "stderr",
     "output_type": "stream",
     "text": [
      "20it [00:04,  4.23it/s]"
     ]
    },
    {
     "name": "stdout",
     "output_type": "stream",
     "text": [
      "[]\n"
     ]
    },
    {
     "name": "stderr",
     "output_type": "stream",
     "text": [
      "\n"
     ]
    }
   ],
   "source": [
    "from Bio import SeqIO\n",
    "from tqdm import tqdm\n",
    "prediction = []\n",
    "\n",
    "i = 0\n",
    "\n",
    "for record in tqdm(SeqIO.parse(\"/mnt/c/Users/guzh/Downloads/sampled_reads.fastq\", \"fastq\")):\n",
    "    #print(record.seq)\n",
    "    record_signature = sg.to_signature([str(record.seq)], data_type=bool) & filter\n",
    "    print(record_signature.sum(), len(record.seq), \"====\")\n",
    "\n",
    "    best_similiarity = 0\n",
    "    genus_prediction = []\n",
    "    for genus in bool_signature:\n",
    "        similarity = (record_signature & bool_signature[genus]).sum() / record_signature.sum()\n",
    "        if similarity > 0.2:\n",
    "            genus_prediction.append(genus)\n",
    "            print(genus, similarity)\n",
    "            #best_similiarity = similarity\n",
    "    \n",
    "    print(genus_prediction)\n",
    "    \n",
    "    prediction.append(genus_prediction)\n",
    "    i += 1\n",
    "    if i > 20:\n",
    "        break"
   ]
  },
  {
   "cell_type": "code",
   "execution_count": 27,
   "metadata": {},
   "outputs": [
    {
     "data": {
      "text/plain": [
       "array([False, False, False, ..., False, False, False])"
      ]
     },
     "execution_count": 27,
     "metadata": {},
     "output_type": "execute_result"
    }
   ],
   "source": [
    "filter"
   ]
  },
  {
   "cell_type": "code",
   "execution_count": null,
   "metadata": {},
   "outputs": [],
   "source": []
  }
 ],
 "metadata": {
  "kernelspec": {
   "display_name": "Python 3",
   "language": "python",
   "name": "python3"
  },
  "language_info": {
   "codemirror_mode": {
    "name": "ipython",
    "version": 3
   },
   "file_extension": ".py",
   "mimetype": "text/x-python",
   "name": "python",
   "nbconvert_exporter": "python",
   "pygments_lexer": "ipython3",
   "version": "3.10.12"
  }
 },
 "nbformat": 4,
 "nbformat_minor": 2
}
